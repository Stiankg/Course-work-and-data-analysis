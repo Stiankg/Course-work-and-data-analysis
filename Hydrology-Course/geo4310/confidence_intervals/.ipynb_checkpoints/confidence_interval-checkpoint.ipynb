{
 "cells": [
  {
   "cell_type": "markdown",
   "metadata": {},
   "source": [
    "# Confidence interval \n"
   ]
  },
  {
   "cell_type": "markdown",
   "metadata": {},
   "source": [
    "This exercise is due ....... Please save this notebook as .ipynb file and upload it to the folder \"GEO4310/Resources/Exercises/Hand-in of exercises\" in Fronter. The report should answer all questions given in the exercise text and contain the relevant plots and output. For each python command given in this notebook, write a comment (a line starting with #) to demonstrate that you understand what it does.\n",
    "##### Name:-\n",
    "##### Date :-"
   ]
  },
  {
   "cell_type": "markdown",
   "metadata": {},
   "source": [
    "##### Question 1.\n",
    "A sample of 20 random observations gave a mean of 145 and a variance of 30. What is the 95 % confidence interval for the mean: \n",
    "##### a) if the estimated variance is 30\n",
    "\n",
    "to use t-distribution scipy.stats.t.ppf($t_{a/2, df}$)\n",
    "\n",
    "\n",
    "First Import the function "
   ]
  },
  {
   "cell_type": "code",
   "execution_count": 1,
   "metadata": {
    "collapsed": false
   },
   "outputs": [],
   "source": [
    "import scipy.stats\n",
    "from __future__ import division \n",
    "\n",
    "#for lower percentile in t-distribution, the code should be\n",
    "#lower_percentile = scipy.stats.t.ppf( a/2, N-1)                  \n",
    "#Where a is the level of significance i.e 0.05"
   ]
  },
  {
   "cell_type": "markdown",
   "metadata": {},
   "source": [
    "##### b) if the true variance is 30\n",
    "\n",
    "Note: If the variance is known then you have to use the  normal distribution  scipy.stats.norm.ppf ($z_{1-a/2}$)"
   ]
  },
  {
   "cell_type": "code",
   "execution_count": null,
   "metadata": {
    "collapsed": true
   },
   "outputs": [],
   "source": []
  },
  {
   "cell_type": "markdown",
   "metadata": {},
   "source": [
    "##### c) if  a) and b) are different, what is the reason?"
   ]
  },
  {
   "cell_type": "code",
   "execution_count": null,
   "metadata": {
    "collapsed": true
   },
   "outputs": [],
   "source": []
  },
  {
   "cell_type": "markdown",
   "metadata": {},
   "source": [
    "##### d) 95 % confidence interval for the variance\n",
    "\n",
    "Test of variance (Chi-Square)\n",
    "\n",
    "Import module given below:\n",
    "\n",
    "from scipy.stats import chi2\n",
    "\n",
    "Hint: for upper percentile\n",
    "\n",
    "chi2.ppf(1-a/2, df= N-1)  \n"
   ]
  },
  {
   "cell_type": "code",
   "execution_count": null,
   "metadata": {
    "collapsed": true
   },
   "outputs": [],
   "source": []
  },
  {
   "cell_type": "markdown",
   "metadata": {},
   "source": [
    "##### Question 2.\n",
    "\n",
    "a) A hydrologist wants to determine the mean groundwater depth for a research site. Previous studies show that the mean depth is around 40 meters and standard deviation is 10 meters. She wants to test if this is correct. How many samples should she take in order to be 95%- sure that the estimated mean groundwater depth will not differ more than 5 meters.\n",
    "\n",
    "Hint: We assume that the distribution is normal, so we use scipy.stats.norm.ppf((1-a)/2) where (1-a) is (100-95)% = 5%. Here, we use a two-sided statistical test, so we divide by two"
   ]
  },
  {
   "cell_type": "code",
   "execution_count": null,
   "metadata": {
    "collapsed": true
   },
   "outputs": [],
   "source": []
  },
  {
   "cell_type": "markdown",
   "metadata": {},
   "source": [
    "b) A candidate running for president wants to know how many percent of all people will vote \n",
    "for him? He knows (hopes) that he will get around 40% percent and he is satisfied if the error \n",
    "in the estimation is less than 5%-units with a probability of 0.95. How many people must be \n",
    "included in the test poll?\n",
    "\n",
    "Hint Normal distribution\n",
    "scipy.stats.norm.ppf(0.975)"
   ]
  },
  {
   "cell_type": "markdown",
   "metadata": {},
   "source": [
    "##### Question 3.\n",
    "In a river station, the annual mean discharge and standard deviation calculated from a 20 year sample data are 14.5 mm and 4.7 mm, respectively. Assume the annual discharge is normally distributed. Test the hypothesis that the population mean annual discharge is 16.4 mm. (α =5 %)"
   ]
  },
  {
   "cell_type": "code",
   "execution_count": 2,
   "metadata": {
    "collapsed": true
   },
   "outputs": [],
   "source": [
    "from __future__ import division\n",
    "import numpy as np\n",
    "\n",
    "#Hint:  two tail p-value \n",
    "#stats.t.ppf(1- (0.05)/2, df) \n",
    "#where df is the degree of freedom"
   ]
  },
  {
   "cell_type": "markdown",
   "metadata": {},
   "source": [
    "##### Question 4.\n",
    "As above, but test the hypothesis that the population mean annual discharge is 16.4 mm with an alternative hypothesis that the mean annual discharge is less than 16.4 mm. (do not forget to state your assumptions)"
   ]
  },
  {
   "cell_type": "code",
   "execution_count": null,
   "metadata": {
    "collapsed": true
   },
   "outputs": [],
   "source": []
  },
  {
   "cell_type": "markdown",
   "metadata": {},
   "source": [
    "##### Question 5.\n",
    "As above, but test the hypothesis that the population mean annual discharge is 16.4 mm with an alternative hypothesis that the mean annual discharge is larger than 16.4 mm. (do not forget to state your assumptions)"
   ]
  },
  {
   "cell_type": "code",
   "execution_count": null,
   "metadata": {
    "collapsed": true
   },
   "outputs": [],
   "source": []
  },
  {
   "cell_type": "markdown",
   "metadata": {},
   "source": [
    "##### Question 6.\n",
    "In Nassau on the Bahamas precipitation has been measured during two periods. The yearly amount of precipitation was \n",
    "\n",
    "1872 – 1890 (19 years): x¯ = 1346 mm, s = 333 mm \n",
    "1896 – 1919 (24 years): x¯ = 1152 mm, s = 262 mm \n",
    "\n",
    "##### a) Is the difference between the mean values of the two periods significant? What is/are your assumptions?\n",
    "\n",
    "\n"
   ]
  },
  {
   "cell_type": "code",
   "execution_count": 1,
   "metadata": {
    "collapsed": false
   },
   "outputs": [],
   "source": []
  },
  {
   "cell_type": "markdown",
   "metadata": {},
   "source": [
    "##### b) Is the difference between the variances of the two periods significant? \tWhat \tis/are your assumptions?"
   ]
  },
  {
   "cell_type": "code",
   "execution_count": null,
   "metadata": {
    "collapsed": true
   },
   "outputs": [],
   "source": []
  },
  {
   "cell_type": "markdown",
   "metadata": {},
   "source": [
    "##### Question 7.\n",
    "The data from 1879-1998 can be found in the file columbia_y.dat (format: year, mean Q, max Q, min Q). Q is in cf/s. The drainage area is 237000 square miles. (it may be a good idea to multiply the runoff values by a conversion factor to get mm/year, 1 foot=0.305 m, 1 mile = 1609 m).\n",
    "\n",
    "a) Draw observed and expected (assuming normal distribution) frequencies for the max Q data (~10 classes). "
   ]
  },
  {
   "cell_type": "code",
   "execution_count": null,
   "metadata": {
    "collapsed": true
   },
   "outputs": [],
   "source": []
  },
  {
   "cell_type": "markdown",
   "metadata": {},
   "source": [
    "b) Perform both the χ2 and the Kolmogorov-Smirnov test to answer: Which of the following    candidate distributions fits the data best at 5% significant level? Normal, Log-normal, Pearson III."
   ]
  }
 ],
 "metadata": {
  "anaconda-cloud": {},
  "kernelspec": {
   "display_name": "Python [Root]",
   "language": "python",
   "name": "Python [Root]"
  },
  "language_info": {
   "codemirror_mode": {
    "name": "ipython",
    "version": 3
   },
   "file_extension": ".py",
   "mimetype": "text/x-python",
   "name": "python",
   "nbconvert_exporter": "python",
   "pygments_lexer": "ipython3",
   "version": "3.5.2"
  }
 },
 "nbformat": 4,
 "nbformat_minor": 0
}
