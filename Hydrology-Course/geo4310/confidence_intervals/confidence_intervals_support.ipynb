{
"cells": [
{
"cell_type": "markdown",
"metadata": {},
"source": [
"# Function for t-test (Q.N. 6A)"
]
},
{
"cell_type": "code",
"execution_count": 19,
"metadata": {
"collapsed": false
},
"outputs": [],
"source": [
"import math\n",
"import numpy as np\n",
"import scipy.stats\n",
"\n",
"#H0 : µ1 − µ2 = δ \n",
"#Ha : µ1 − µ2 != δ\n",
"def welch_t_test(mu1, s1, N1, mu2, s2, N2):\n",
" # Construct arrays to make calculations more succint.\n",
" N_i = np.array([N1, N2])\n",
" dof_i = N_i - 1\n",
" v_i = np.array([s1, s2]) ** 2\n",
" # Calculate t-stat, degrees of freedom, use scipy to find p-value.\n",
" t = (mu1 - mu2) / np.sqrt(np.sum(v_i / N_i))\n",
" dof = (np.sum(v_i / N_i) ** 2) / np.sum((v_i ** 2) / ((N_i ** 2) * dof_i))\n",
" p = stats.distributions.t.sf(np.abs(t), dof) * 2\n",
" return t\n",
"\n",
"#Where\n",
"#N1 = Number of sample in series one\n",
"#mu1= sample mean of series one \n",
"#s1 = sample variance of series one \n",
"#N2 = Number of sample in series two\n",
"#mu2= sample mean of series two\n",
"#s2 = sample variance of series two\n",
"\n",
"#ts = welch_t_test(mu1, s1, N1, mu2, s2, N2) # test statistics"
]
},
{
"cell_type": "code",
"execution_count": null,
"metadata": {
"collapsed": true
},
"outputs": [],
"source": []
},
{
"cell_type": "markdown",
"metadata": {},
"source": [
"# To find observed frequency from given data "
]
},
{
"cell_type": "code",
"execution_count": 1,
"metadata": {
"collapsed": false
},
"outputs": [],
"source": [
"from __future__ import division\n",
"import pandas as pd\n",
"data= pd.read_table('columbia_y.dat',header=None,names=['year','mean','max','min','nan','nan'])\n",
"dis = data['max']\n",
"#converting the discharge unit from cf/s to mm/year by multipling 0.001458296\n",
"dis *= 0.001458296 #converting cf per sec to mm per year\n",
"#Remove data at the last row with NaN value\n",
"dis = pd.Series(dis[:-1])"
]
},
{
"cell_type": "code",
"execution_count": 41,
"metadata": {
"collapsed": false
},
"outputs": [],
"source": [
"import math\n",
"import numpy as np\n",
"\n",
"def Fre(dis,U,L,I,C):\n",
" freq = np.array([])\n",
" low = (pd.DataFrame(np.linspace(L, U-I, num=C)))\n",
" up = (np.linspace(U, L+I, num=C))\n",
" UP = (pd.DataFrame(np.sort(up)))\n",
" low.columns = ['low_class']\n",
" low['upper_class'] = UP\n",
" for i in np.arange(C):\n",
" if U<= L+(I*C):\n",
    "            fre = np.array(dis.between(L,(L+I)).sum())\n",
    "            L= L+I       \n",
    "            freq = pd.DataFrame(np.append(freq,fre))\n",
    "            low['fre'] = freq     \n",
    "    return low    \n"
   ]
  },
  {
   "cell_type": "code",
   "execution_count": 42,
   "metadata": {
    "collapsed": false
   },
   "outputs": [
    {
     "data": {
      "text/html": [
       "<div>\n",
       "<table border=\"1\" class=\"dataframe\">\n",
       "  <thead>\n",
       "    <tr style=\"text-align: right;\">\n",
       "      <th></th>\n",
       "      <th>low_class</th>\n",
       "      <th>upper_class</th>\n",
       "      <th>fre</th>\n",
       "    </tr>\n",
       "  </thead>\n",
       "  <tbody>\n",
       "    <tr>\n",
       "      <th>0</th>\n",
       "      <td>300.0</td>\n",
       "      <td>450.0</td>\n",
       "      <td>12.0</td>\n",
       "    </tr>\n",
       "    <tr>\n",
       "      <th>1</th>\n",
       "      <td>450.0</td>\n",
       "      <td>600.0</td>\n",
       "      <td>18.0</td>\n",
       "    </tr>\n",
       "    <tr>\n",
       "      <th>2</th>\n",
       "      <td>600.0</td>\n",
       "      <td>750.0</td>\n",
       "      <td>24.0</td>\n",
       "    </tr>\n",
       "    <tr>\n",
       "      <th>3</th>\n",
       "      <td>750.0</td>\n",
       "      <td>900.0</td>\n",
       "      <td>29.0</td>\n",
       "    </tr>\n",
       "    <tr>\n",
       "      <th>4</th>\n",
       "      <td>900.0</td>\n",
       "      <td>1050.0</td>\n",
       "      <td>20.0</td>\n",
       "    </tr>\n",
       "    <tr>\n",
       "      <th>5</th>\n",
       "      <td>1050.0</td>\n",
       "      <td>1200.0</td>\n",
       "      <td>12.0</td>\n",
       "    </tr>\n",
       "    <tr>\n",
       "      <th>6</th>\n",
       "      <td>1200.0</td>\n",
       "      <td>1350.0</td>\n",
       "      <td>3.0</td>\n",
       "    </tr>\n",
       "    <tr>\n",
       "      <th>7</th>\n",
       "      <td>1350.0</td>\n",
       "      <td>1500.0</td>\n",
       "      <td>1.0</td>\n",
       "    </tr>\n",
       "    <tr>\n",
       "      <th>8</th>\n",
       "      <td>1500.0</td>\n",
       "      <td>1650.0</td>\n",
       "      <td>0.0</td>\n",
       "    </tr>\n",
       "    <tr>\n",
       "      <th>9</th>\n",
       "      <td>1650.0</td>\n",
       "      <td>1800.0</td>\n",
       "      <td>1.0</td>\n",
       "    </tr>\n",
       "  </tbody>\n",
       "</table>\n",
       "</div>"
      ],
      "text/plain": [
       "   low_class  upper_class   fre\n",
       "0      300.0        450.0  12.0\n",
       "1      450.0        600.0  18.0\n",
       "2      600.0        750.0  24.0\n",
       "3      750.0        900.0  29.0\n",
       "4      900.0       1050.0  20.0\n",
       "5     1050.0       1200.0  12.0\n",
       "6     1200.0       1350.0   3.0\n",
       "7     1350.0       1500.0   1.0\n",
       "8     1500.0       1650.0   0.0\n",
       "9     1650.0       1800.0   1.0"
      ]
     },
     "execution_count": 42,
     "metadata": {},
     "output_type": "execute_result"
    }
   ],
   "source": [
    "#dis = discharge data\n",
    "# U = upper class interval\n",
    "#L lower class interval\n",
    "#I = class interval\n",
    "#C = number of classes\n",
    "\n",
    "table = Fre(dis,1800,300,150,10) \n",
    "table"
   ]
  },
  {
   "cell_type": "code",
   "execution_count": null,
   "metadata": {
    "collapsed": true
   },
   "outputs": [],
   "source": [
    "for i in tab.values:\n",
    "    exp = .....state your formula for calculating expected frequency"
   ]
  },
  {
   "cell_type": "code",
   "execution_count": null,
   "metadata": {
    "collapsed": true
   },
   "outputs": [],
   "source": []
  }
 ],
 "metadata": {
  "kernelspec": {
   "display_name": "Python [Root]",
   "language": "python",
   "name": "Python [Root]"
  },
  "language_info": {
   "codemirror_mode": {
    "name": "ipython",
    "version": 3
   },
   "file_extension": ".py",
   "mimetype": "text/x-python",
   "name": "python",
   "nbconvert_exporter": "python",
   "pygments_lexer": "ipython3",
   "version": "3.5.2"
  }
 },
 "nbformat": 4,
 "nbformat_minor": 0
}
