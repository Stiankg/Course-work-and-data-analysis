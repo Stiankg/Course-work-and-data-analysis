{
 "cells": [
  {
   "cell_type": "markdown",
   "metadata": {},
   "source": [
    "# Frequency Analysis\n",
    "\n",
    "\n",
    "This exercise is due September ........ Please save this notebook as .ipynb file and upload it to the folder \"GEO4310/Resources/Exercises/Hand-in of exercises\" in Fronter. The report should answer all questions given in the exercise text and contain the relevant plots and output. For each python command given in this notebook, write a comment (a line starting with #) to demonstrate that you understand what it does."
   ]
  },
  {
   "cell_type": "markdown",
   "metadata": {},
   "source": [
    "#### Question 1:\n",
    "\n",
    "Vägverket (the Swedish Road Administration) plans to build a new bridge and they ask you to provide some information about the frequency and magnitude of the discharges in the river. Of course, you are a very careful consultant, so you are going to apply different statistical methods. Yearly peak flows can be found in the file Qyearly.dat.\n",
    "\n",
    "##### 1) Calculate the magnitude of a 100-year flood by using \n",
    "A) Graphic method:\n",
    "\n",
    "(i) Compute the empirical probability for a certain flow to be exceeded, P(X>=xm), using the Weibull equation\n",
    "\n",
    "$P(X>=xm) = \\frac{m}{n+1}$...................(1) \n",
    "\n",
    "where m is the rank number and n is the number of years.\n",
    "\n",
    "(ii) plot $P(X>x_m) \\text{ against } Q_{max}$ on the normal probability paper and fit a linear line by hand.\n",
    "\n",
    "(iii) read $Q_{T = 100}$ from the plot\n",
    "\n",
    "\n",
    "B) Analytical methods assuming the yearly peak flow follows the\n",
    "\n",
    "i) Normal distribution\n",
    "\n",
    "ii) Log-normal distribution : - Do this by two methods:\n",
    "        \n",
    "        1) transform the data into lognormal and find mean and standard deviation\n",
    "        2) apply the formula on page62. in the compendium (2013).\n",
    "iii) Extreme-value type I distribution (Gumble)\n",
    "\n",
    "iv) Pearson III distribution\n",
    "\n",
    "v) Log-Pearson III distribution\n",
    "\n",
    "Use\n",
    "\n",
    "$Q_T = \\bar{Q} + K_T . S_Q$.........................(2)\n",
    "\n",
    "$ K_T$ (for normal distribution and Pearson distribution) can be obtained from tables, for Extreme value type I (Gumbel) distribution the equation is\n",
    "\n",
    "$ K_T = K_{T} = \\frac{\\sqrt{6}}{\\pi } \\left \\{ 0.5772 + \\text{ln}\\left [ \\text{ln}\\left ( \\frac{T}{T-1} \\right ) \\right ] \\right \\}$.................(3)"
   ]
  },
  {
   "cell_type": "markdown",
   "metadata": {},
   "source": [
    "#### Hint:\n",
    "Construct a table as shown in below and complete the table to answer the questions:  \n",
    "\n",
    "Year|Q(m³/s)|Sort (from samaller to larger)|Rank no|Weibull probability|\n",
    "--- |---   |---|---|--\n",
    "1924| 99.1 |.. |.. |..\n",
    "1925|79.2  |.. |.. |..\n",
    "    \n",
    "    \n",
    "For table:\n",
    "\n",
    "1) Read the table by using **pd.read_table('Qyearly.dat')**\n",
    "\n",
    "2) Sort the discharge by using the function sorted(value)\n",
    "\n",
    "3) Assign the rank by using the **np.range(1,38,1)** that means generating the value from 1 to 38 at interval of 1.\n",
    "\n",
    "4) use **scipy.stats.norm.ppf(p)** for finding the table value of **z**. Where P is the probability.\n",
    "\n",
    "5) For converting the value in lognormal use **np.log(value)**\n",
    "\n",
    "6) In python **np.log** is **ln**, whereas **np.log10** is your standard base **10log**\n",
    "\n",
    "7) Skewness can be calculated by **scipy.stats.skew(value)**\n",
    "\n"
   ]
  },
  {
   "cell_type": "markdown",
   "metadata": {},
   "source": [
    "#### 2) Calculate the probability that the annual peak flood is larger than 80 m³/s for any given year. (assume normal distribution)"
   ]
  },
  {
   "cell_type": "markdown",
   "metadata": {},
   "source": [
    "#### 3) In order to be 90% sure that a design flood is not exceeded in a 50 year period (design life), what shall be the design return period?"
   ]
  },
  {
   "cell_type": "markdown",
   "metadata": {},
   "source": [
    "#### 4) Calculate the magnitude of the flow that with a probability of 0.9 is not exceeded in 5 years. (assume normal distribution)\n",
    "(use mean and standard deviation from previous calculation)"
   ]
  },
  {
   "cell_type": "markdown",
   "metadata": {},
   "source": [
    "#### 5)\n",
    "**a) Define and explain the return period.**"
   ]
  },
  {
   "cell_type": "markdown",
   "metadata": {},
   "source": [
    "##### b) In a small brook, we have estimated that the discharge 5 m³/s corresponds to the flow that is exceeded with a return period of 10 years. What is the probability that this value is not exceeded five years in a row?"
   ]
  },
  {
   "cell_type": "markdown",
   "metadata": {},
   "source": [
    "##### c) For a different river, the relationship between the duration of periods without precipitation, t (days) and the lowest low-flow is given by this equation,  $Q_t = 25.0 \\text{ exp}(-t/20)$ [m$^3$/s],  (the recession of the flow) t is a stochastic variable that can be described with a Gumbel $F(t) = \\text{exp}(-\\text{exp}(-a(t-u)))$with the parameters $u$ = 18 and $a$ = 0.150. What is the probability that $Q_t$ reaches a lower value than 10 m$^3$/s?"
   ]
  },
  {
   "cell_type": "code",
   "execution_count": null,
   "metadata": {
    "collapsed": true
   },
   "outputs": [],
   "source": []
  }
 ],
 "metadata": {
  "anaconda-cloud": {},
  "kernelspec": {
   "display_name": "Python [Root]",
   "language": "python",
   "name": "Python [Root]"
  },
  "language_info": {
   "codemirror_mode": {
    "name": "ipython",
    "version": 3
   },
   "file_extension": ".py",
   "mimetype": "text/x-python",
   "name": "python",
   "nbconvert_exporter": "python",
   "pygments_lexer": "ipython3",
   "version": "3.5.2"
  }
 },
 "nbformat": 4,
 "nbformat_minor": 0
}
