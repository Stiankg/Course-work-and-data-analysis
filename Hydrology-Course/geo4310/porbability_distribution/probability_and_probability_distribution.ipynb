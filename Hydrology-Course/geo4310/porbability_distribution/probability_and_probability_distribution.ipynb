{
 "cells": [
  {
   "cell_type": "markdown",
   "metadata": {},
   "source": [
    "# Basic concepts on random variables and Probability   "
   ]
  },
  {
   "cell_type": "markdown",
   "metadata": {},
   "source": [
    "This exercise is due .......... Please save this notebook as .ipynb file and upload it to the folder \"GEO4310/Resources/Exercises/Hand-in of exercises\" in Fronter. The report should answer all questions given in the exercise text and contain the relevant plots and output. For each python command given in this notebook, write a comment (a line starting with #) to demonstrate that you understand what it does.\n",
    "\n",
    "##### Name:-\n",
    "##### Date:-"
   ]
  },
  {
   "cell_type": "markdown",
   "metadata": {},
   "source": [
    "### Part I: Daily precipitation in Uppsala(1981-1991)\n",
    "\n",
    "Observed daily precipitation in Uppsala (1981 -1991) is available in the file P_Uppsala.dat\n",
    "(columns are year, month, day and p[mm/day])\n",
    "\n",
    "Note: pandas is a data analysis tools for python. So before writing the codes you need to import pandas modules.\n",
    "To read this file in to python, write"
   ]
  },
  {
   "cell_type": "code",
   "execution_count": 1,
   "metadata": {
    "collapsed": false
   },
   "outputs": [],
   "source": [
    "import pandas as pd\n",
    "precip_daily = pd.read_table('P_Uppsala.dat')\n"
   ]
  },
  {
   "cell_type": "markdown",
   "metadata": {},
   "source": [
    "    precip_daily \tis the name of the object. You may choose another name, but avoid the following sings: space,-, +, *, /, \\, ^, ‘, “.  Separate words using the underscore (_) or dot (.), \n",
    "    The = is the assignment variable in python.\n",
    "    read_table()\tis a function to read data from file. Arguments are separated with comma (,)\n",
    "    'P_Uppsala.dat'\tis the file that you would like to read.\n",
    "    header = None\tmeans that there is no header names and data is read from first row"
   ]
  },
  {
   "cell_type": "markdown",
   "metadata": {},
   "source": [
    "To look at the first row of your file, type:"
   ]
  },
  {
   "cell_type": "code",
   "execution_count": 2,
   "metadata": {
    "collapsed": false
   },
   "outputs": [
    {
     "data": {
      "text/plain": [
       "Index(['1981', '1', '1.1', '1.5'], dtype='object')"
      ]
     },
     "execution_count": 2,
     "metadata": {},
     "output_type": "execute_result"
    }
   ],
   "source": [
    "precip_daily.columns"
   ]
  },
  {
   "cell_type": "markdown",
   "metadata": {},
   "source": [
    "We observe that the first row consists of the following: [u'1981', u'1', u'1.1', u'1.5']\n",
    "The reason is that the columns do not have any names. We can assign the header names by reading the file again and adding meaningful names to the columns, and run the same command we get the following:"
   ]
  },
  {
   "cell_type": "code",
   "execution_count": 3,
   "metadata": {
    "collapsed": false
   },
   "outputs": [
    {
     "data": {
      "text/plain": [
       "Index(['year', 'month', 'day', 'prec'], dtype='object')"
      ]
     },
     "execution_count": 3,
     "metadata": {},
     "output_type": "execute_result"
    }
   ],
   "source": [
    "precip_daily=pd.read_table(\"P_Uppsala.dat\",header=None,names=['year','month','day','prec'])\n",
    "precip_daily.columns"
   ]
  },
  {
   "cell_type": "markdown",
   "metadata": {},
   "source": [
    "precip_daily is the name of the object. \n",
    "You may choose another name, but avoid the following sings: space,-, +, *, /, \\, ^, ‘,“. \n",
    "Separate words using the underscore (_) or (.). \n",
    "The = sign is the assignment variable in python.\n",
    "\n",
    "read_table() is a function to read data from file. \n",
    "Note that arguments are separated with a comma (,). \n",
    "\n",
    "'P_Uppsala.dat' is the file that you would like to read.\n",
    "\n",
    "header = None means that there is no header names and data is read from first row."
   ]
  },
  {
   "cell_type": "markdown",
   "metadata": {},
   "source": [
    "For calculating yearly total from 'precip'_daily data"
   ]
  },
  {
   "cell_type": "code",
   "execution_count": 5,
   "metadata": {
    "collapsed": false
   },
   "outputs": [
    {
     "data": {
      "text/plain": [
       "year\n",
       "1981    892.5\n",
       "1982    754.9\n",
       "1983    846.6\n",
       "1984    750.9\n",
       "1985    698.5\n",
       "1986    895.2\n",
       "1987    599.2\n",
       "1988    792.5\n",
       "1989    513.4\n",
       "1990    814.2\n",
       "1991    732.3\n",
       "Name: prec, dtype: float64"
      ]
     },
     "execution_count": 5,
     "metadata": {},
     "output_type": "execute_result"
    }
   ],
   "source": [
    "yearly_total = precip_daily.groupby('year', axis = 0) ['prec'].sum()\n",
    "yearly_total"
   ]
  },
  {
   "cell_type": "markdown",
   "metadata": {},
   "source": [
    "#### Question No 1.\n",
    "From monthly data (file P_uppmonth1.dat): compute for each month (column wise) mean, median, mode, standard deviation,\n",
    "coefficient of variation, minimum and maximum and plot these values to show the annual variation."
   ]
  },
  {
   "cell_type": "code",
   "execution_count": 6,
   "metadata": {
    "collapsed": false,
    "scrolled": false
   },
   "outputs": [
    {
     "data": {
      "text/plain": [
       "Index(['year', 'Jan', 'Feb', 'Mar', 'Apr', 'May', 'Jun', 'Jul', 'Aug', 'Sep',\n",
       "       'Oct', 'Nov', 'Dec'],\n",
       "      dtype='object')"
      ]
     },
     "execution_count": 6,
     "metadata": {},
     "output_type": "execute_result"
    }
   ],
   "source": [
    "precip_mon = pd.read_table('P_uppmonth1.dat')\n",
    "precip_mon.columns"
   ]
  },
  {
   "cell_type": "code",
   "execution_count": 7,
   "metadata": {
    "collapsed": false
   },
   "outputs": [
    {
     "data": {
      "text/html": [
       "<div>\n",
       "<table border=\"1\" class=\"dataframe\">\n",
       "  <thead>\n",
       "    <tr style=\"text-align: right;\">\n",
       "      <th></th>\n",
       "      <th>year</th>\n",
       "      <th>Jan</th>\n",
       "      <th>Feb</th>\n",
       "      <th>Mar</th>\n",
       "      <th>Apr</th>\n",
       "      <th>May</th>\n",
       "      <th>Jun</th>\n",
       "      <th>Jul</th>\n",
       "      <th>Aug</th>\n",
       "      <th>Sep</th>\n",
       "      <th>Oct</th>\n",
       "      <th>Nov</th>\n",
       "      <th>Dec</th>\n",
       "    </tr>\n",
       "  </thead>\n",
       "  <tbody>\n",
       "    <tr>\n",
       "      <th>0</th>\n",
       "      <td>1981</td>\n",
       "      <td>32</td>\n",
       "      <td>26</td>\n",
       "      <td>62</td>\n",
       "      <td>22</td>\n",
       "      <td>23</td>\n",
       "      <td>98</td>\n",
       "      <td>80</td>\n",
       "      <td>163</td>\n",
       "      <td>13</td>\n",
       "      <td>122</td>\n",
       "      <td>144</td>\n",
       "      <td>109</td>\n",
       "    </tr>\n",
       "    <tr>\n",
       "      <th>1</th>\n",
       "      <td>1982</td>\n",
       "      <td>42</td>\n",
       "      <td>30</td>\n",
       "      <td>54</td>\n",
       "      <td>50</td>\n",
       "      <td>192</td>\n",
       "      <td>37</td>\n",
       "      <td>52</td>\n",
       "      <td>77</td>\n",
       "      <td>48</td>\n",
       "      <td>46</td>\n",
       "      <td>74</td>\n",
       "      <td>52</td>\n",
       "    </tr>\n",
       "    <tr>\n",
       "      <th>2</th>\n",
       "      <td>1983</td>\n",
       "      <td>78</td>\n",
       "      <td>10</td>\n",
       "      <td>107</td>\n",
       "      <td>46</td>\n",
       "      <td>36</td>\n",
       "      <td>105</td>\n",
       "      <td>80</td>\n",
       "      <td>25</td>\n",
       "      <td>188</td>\n",
       "      <td>58</td>\n",
       "      <td>36</td>\n",
       "      <td>78</td>\n",
       "    </tr>\n",
       "    <tr>\n",
       "      <th>3</th>\n",
       "      <td>1984</td>\n",
       "      <td>72</td>\n",
       "      <td>29</td>\n",
       "      <td>34</td>\n",
       "      <td>11</td>\n",
       "      <td>29</td>\n",
       "      <td>97</td>\n",
       "      <td>67</td>\n",
       "      <td>51</td>\n",
       "      <td>145</td>\n",
       "      <td>114</td>\n",
       "      <td>51</td>\n",
       "      <td>51</td>\n",
       "    </tr>\n",
       "    <tr>\n",
       "      <th>4</th>\n",
       "      <td>1985</td>\n",
       "      <td>83</td>\n",
       "      <td>37</td>\n",
       "      <td>42</td>\n",
       "      <td>69</td>\n",
       "      <td>23</td>\n",
       "      <td>25</td>\n",
       "      <td>104</td>\n",
       "      <td>50</td>\n",
       "      <td>76</td>\n",
       "      <td>53</td>\n",
       "      <td>74</td>\n",
       "      <td>63</td>\n",
       "    </tr>\n",
       "    <tr>\n",
       "      <th>5</th>\n",
       "      <td>1986</td>\n",
       "      <td>50</td>\n",
       "      <td>12</td>\n",
       "      <td>69</td>\n",
       "      <td>51</td>\n",
       "      <td>77</td>\n",
       "      <td>39</td>\n",
       "      <td>121</td>\n",
       "      <td>234</td>\n",
       "      <td>56</td>\n",
       "      <td>45</td>\n",
       "      <td>54</td>\n",
       "      <td>89</td>\n",
       "    </tr>\n",
       "    <tr>\n",
       "      <th>6</th>\n",
       "      <td>1987</td>\n",
       "      <td>23</td>\n",
       "      <td>28</td>\n",
       "      <td>22</td>\n",
       "      <td>4</td>\n",
       "      <td>55</td>\n",
       "      <td>77</td>\n",
       "      <td>92</td>\n",
       "      <td>122</td>\n",
       "      <td>65</td>\n",
       "      <td>34</td>\n",
       "      <td>54</td>\n",
       "      <td>24</td>\n",
       "    </tr>\n",
       "    <tr>\n",
       "      <th>7</th>\n",
       "      <td>1988</td>\n",
       "      <td>72</td>\n",
       "      <td>64</td>\n",
       "      <td>40</td>\n",
       "      <td>37</td>\n",
       "      <td>41</td>\n",
       "      <td>51</td>\n",
       "      <td>106</td>\n",
       "      <td>173</td>\n",
       "      <td>36</td>\n",
       "      <td>69</td>\n",
       "      <td>38</td>\n",
       "      <td>66</td>\n",
       "    </tr>\n",
       "    <tr>\n",
       "      <th>8</th>\n",
       "      <td>1989</td>\n",
       "      <td>9</td>\n",
       "      <td>28</td>\n",
       "      <td>51</td>\n",
       "      <td>55</td>\n",
       "      <td>38</td>\n",
       "      <td>42</td>\n",
       "      <td>11</td>\n",
       "      <td>68</td>\n",
       "      <td>23</td>\n",
       "      <td>74</td>\n",
       "      <td>55</td>\n",
       "      <td>59</td>\n",
       "    </tr>\n",
       "    <tr>\n",
       "      <th>9</th>\n",
       "      <td>1990</td>\n",
       "      <td>74</td>\n",
       "      <td>79</td>\n",
       "      <td>56</td>\n",
       "      <td>46</td>\n",
       "      <td>30</td>\n",
       "      <td>25</td>\n",
       "      <td>128</td>\n",
       "      <td>42</td>\n",
       "      <td>153</td>\n",
       "      <td>79</td>\n",
       "      <td>60</td>\n",
       "      <td>42</td>\n",
       "    </tr>\n",
       "    <tr>\n",
       "      <th>10</th>\n",
       "      <td>1991</td>\n",
       "      <td>59</td>\n",
       "      <td>29</td>\n",
       "      <td>41</td>\n",
       "      <td>24</td>\n",
       "      <td>78</td>\n",
       "      <td>142</td>\n",
       "      <td>54</td>\n",
       "      <td>124</td>\n",
       "      <td>71</td>\n",
       "      <td>27</td>\n",
       "      <td>47</td>\n",
       "      <td>37</td>\n",
       "    </tr>\n",
       "  </tbody>\n",
       "</table>\n",
       "</div>"
      ],
      "text/plain": [
       "    year  Jan  Feb  Mar  Apr  May  Jun  Jul  Aug  Sep  Oct  Nov  Dec\n",
       "0   1981   32   26   62   22   23   98   80  163   13  122  144  109\n",
       "1   1982   42   30   54   50  192   37   52   77   48   46   74   52\n",
       "2   1983   78   10  107   46   36  105   80   25  188   58   36   78\n",
       "3   1984   72   29   34   11   29   97   67   51  145  114   51   51\n",
       "4   1985   83   37   42   69   23   25  104   50   76   53   74   63\n",
       "5   1986   50   12   69   51   77   39  121  234   56   45   54   89\n",
       "6   1987   23   28   22    4   55   77   92  122   65   34   54   24\n",
       "7   1988   72   64   40   37   41   51  106  173   36   69   38   66\n",
       "8   1989    9   28   51   55   38   42   11   68   23   74   55   59\n",
       "9   1990   74   79   56   46   30   25  128   42  153   79   60   42\n",
       "10  1991   59   29   41   24   78  142   54  124   71   27   47   37"
      ]
     },
     "execution_count": 7,
     "metadata": {},
     "output_type": "execute_result"
    }
   ],
   "source": [
    "precip_mon"
   ]
  },
  {
   "cell_type": "markdown",
   "metadata": {},
   "source": [
    "To calculate annual sum from monthly data sets"
   ]
  },
  {
   "cell_type": "code",
   "execution_count": 8,
   "metadata": {
    "collapsed": false
   },
   "outputs": [],
   "source": [
    "annual_sum =precip_mon.set_index('year').sum(axis=1)\n"
   ]
  },
  {
   "cell_type": "markdown",
   "metadata": {},
   "source": [
    "Note: if you dont want to keep the year info for each sum then ' data.drop('year', axis=1).sum(axis=1)'\n",
    "\n",
    "Statistical calculation becomes easier when defining dataframe. We can define dataframe in the following way:"
   ]
  },
  {
   "cell_type": "code",
   "execution_count": 9,
   "metadata": {
    "collapsed": true
   },
   "outputs": [],
   "source": [
    "mon_df = pd.DataFrame(precip_mon, columns = precip_mon.columns[1:])"
   ]
  },
  {
   "cell_type": "markdown",
   "metadata": {
    "collapsed": true
   },
   "source": [
    "Note: giving the arguments columns = precip_mon.columns[1:], will define data frame from one onward i.e it will exclude year.\n",
    "\n",
    "To find the monthly means, write,"
   ]
  },
  {
   "cell_type": "code",
   "execution_count": 10,
   "metadata": {
    "collapsed": false
   },
   "outputs": [],
   "source": [
    "mon_mean = mon_df.mean(axis = 0)"
   ]
  },
  {
   "cell_type": "markdown",
   "metadata": {},
   "source": [
    "If you wish to round off the answer to the same number of decimals as the monthly data, type:"
   ]
  },
  {
   "cell_type": "code",
   "execution_count": 11,
   "metadata": {
    "collapsed": true
   },
   "outputs": [],
   "source": [
    "mon_mean = mon_df.mean(axis = 0).round(0)"
   ]
  },
  {
   "cell_type": "markdown",
   "metadata": {},
   "source": [
    "Plotting the data in python, you need to import module matplotlib.pyplot, to import write:"
   ]
  },
  {
   "cell_type": "code",
   "execution_count": 12,
   "metadata": {
    "collapsed": false
   },
   "outputs": [],
   "source": [
    "%matplotlib inline \n",
    "\n",
    "#The first call, matplotlib inline, is only for the online notebook, it should not be there\n",
    "#if you write scripts/programs locally on youre own computer\n",
    "\n",
    "#import matplotlib.pyplot as plt \n",
    "#mon_mean['Jan':'Dec'].plot()\n",
    "#plt.xlabel('Month')\n",
    "#plt.ylabel('Mean precipitation (mm)')\n",
    "#plt.title('Annual variation in mean precipitation')\n",
    "#plt.show()"
   ]
  },
  {
   "cell_type": "markdown",
   "metadata": {},
   "source": [
    "Note: If you wish to change line type, colour and marker style then you have to write:"
   ]
  },
  {
   "cell_type": "code",
   "execution_count": 13,
   "metadata": {
    "collapsed": false
   },
   "outputs": [],
   "source": [
    "#plt.plot(mon_mean['Jan':'Dec'], linestyle=\"dashed\", marker=\"o\", color=\"green\") #This line gives the new format\n",
    "#plt.xlabel('Month')\n",
    "#plt.ylabel('Mean precipitation (mm)')\n",
    "#plt.title('Annual variation in mean precipitation')\n",
    "#plt.show()\n"
   ]
  },
  {
   "cell_type": "markdown",
   "metadata": {},
   "source": [
    "Showing annual variation in different parameters by making one plot.\n",
    "\n",
    "Hint: First you need to join the data sets (i.e. mean, median, max and min) after calculations. You can join datasets by writing:"
   ]
  },
  {
   "cell_type": "code",
   "execution_count": 14,
   "metadata": {
    "collapsed": false
   },
   "outputs": [],
   "source": [
    "#all_stats = pd.concat([mon_mean, mon_median, mon_min, mon_max], axis = 1)\n",
    "#all_stats['Jan':'Dec'].plot()\n",
    "#plt.legend(['mean', 'median', 'min', 'max'], loc='upper left')\n",
    "#plt.xlabel('Month')\n",
    "#plt.ylabel('Precipitation[mm]')\n",
    "#plt.title('Annual variation in precipitation')\n",
    "#plt.show()"
   ]
  },
  {
   "cell_type": "markdown",
   "metadata": {},
   "source": [
    "#### Question No 2.\n",
    "For daily data (file P_Uppsala.dat): Calculate the probability for daily precipitation that\n",
    "\n",
    "1. Equal zero \n",
    "2. more than zero \n",
    "3. more than 10 mm\n",
    "4. more than 10 mm for days with precipitation\n",
    "\n",
    "To answer these questions, we need to use following logical operators."
   ]
  },
  {
   "cell_type": "markdown",
   "metadata": {},
   "source": [
    "||||\n",
    "------------ | ------------- | ------------ | -------------\n",
    "< | less than | == | exactly equal to\n",
    "<= | less than or equal to | != | not equal to \n",
    "    \\> | greater than | x $\\text{|}$ y  | x OR y\n",
    "\\>= |greater than or equal to | x & y | x and y"
   ]
  },
  {
   "cell_type": "markdown",
   "metadata": {},
   "source": [
    "For example: probability that the precipitation equals to to zero can be calculated by:\n",
    "\n",
    "(Total numbers of zero events / number to events)*100\n",
    "\n",
    "To use division in python, import the function below:"
   ]
  },
  {
   "cell_type": "code",
   "execution_count": 15,
   "metadata": {
    "collapsed": false
   },
   "outputs": [],
   "source": [
    "from __future__ import division\n",
    "daily_zero = sum(x==0 for x in precip_daily['prec'])\n",
    "nuumber_of_events = len(precip_daily['prec'])"
   ]
  },
  {
   "cell_type": "markdown",
   "metadata": {},
   "source": [
    "Note: In above code we have calculated the probability equals to zero by:\n",
    "        \n",
    "(Total numbers of zero events / number of events )*100"
   ]
  },
  {
   "cell_type": "markdown",
   "metadata": {
    "collapsed": true
   },
   "source": [
    "#### Question No 3.\n",
    "From the daily data, calculate:\n",
    "    \n",
    "1) maximum 1-day, 3-day and 5-day average rainfall amount, and state the date/period. "
   ]
  },
  {
   "cell_type": "markdown",
   "metadata": {},
   "source": [
    "##### Hint: For one day maximum precipitation with date"
   ]
  },
  {
   "cell_type": "code",
   "execution_count": 16,
   "metadata": {
    "collapsed": false
   },
   "outputs": [],
   "source": [
    "odmax = precip_daily[precip_daily['prec']==precip_daily['prec'].max()] \n"
   ]
  },
  {
   "cell_type": "markdown",
   "metadata": {},
   "source": [
    "If the data are in column 'prec' then we can find out the maximum by sorting in ascending order"
   ]
  },
  {
   "cell_type": "code",
   "execution_count": 17,
   "metadata": {
    "collapsed": false
   },
   "outputs": [
    {
     "name": "stderr",
     "output_type": "stream",
     "text": [
      "/home/bikas/anaconda3/lib/python3.5/site-packages/ipykernel/__main__.py:1: FutureWarning: sort(columns=....) is deprecated, use sort_values(by=.....)\n",
      "  if __name__ == '__main__':\n"
     ]
    }
   ],
   "source": [
    "odmax = precip_daily.sort(['prec'],ascending = False).head(1)\n"
   ]
  },
  {
   "cell_type": "markdown",
   "metadata": {},
   "source": [
    "Or we can also calculate one day maximum by"
   ]
  },
  {
   "cell_type": "code",
   "execution_count": 19,
   "metadata": {
    "collapsed": false
   },
   "outputs": [],
   "source": [
    "odmax = precip_daily['prec'].max() # [Note: it will only show maximum value i.e with out date]\n",
    "#print \"Prec=%.1f\" % odmax #The %.1f tells to print the value in odmax with one decimal point for a float number"
   ]
  },
  {
   "cell_type": "markdown",
   "metadata": {},
   "source": [
    "##### Hint: Maximum 3 day average rainfall"
   ]
  },
  {
   "cell_type": "code",
   "execution_count": 20,
   "metadata": {
    "collapsed": false
   },
   "outputs": [
    {
     "name": "stderr",
     "output_type": "stream",
     "text": [
      "/home/bikas/anaconda3/lib/python3.5/site-packages/ipykernel/__main__.py:1: FutureWarning: pd.rolling_mean is deprecated for Series and will be removed in a future version, replace with \n",
      "\tSeries.rolling(center=False,window=3).mean()\n",
      "  if __name__ == '__main__':\n"
     ]
    }
   ],
   "source": [
    "precip_daily['mv']=pd.rolling_mean(precip_daily['prec'], 3)\n",
    "max_3d_avg = precip_daily[precip_daily['mv']==precip_daily['mv'].max()]\n",
    "\n",
    "\n",
    "#Precip_daily['mv'] inserting the column name 'mv' in to data series precip_daily\n",
    "#pd.rolling_mean calculating moving average from module pandas\n",
    "#3 is the number of average days\n"
   ]
  },
  {
   "cell_type": "markdown",
   "metadata": {},
   "source": [
    "Similarly calculate for 5 days maximum average."
   ]
  },
  {
   "cell_type": "markdown",
   "metadata": {},
   "source": [
    "#### Question No 4.\n",
    "Length of the maximum dry-spell days and the maximum wet-spell days of daily rainfall.\n",
    "\n",
    "To calculate maximum dry-spell days according to month"
   ]
  },
  {
   "cell_type": "code",
   "execution_count": 21,
   "metadata": {
    "collapsed": false
   },
   "outputs": [],
   "source": [
    "def func(group): return (group.prec != 0).astype(int).cumsum().value_counts().values[0] - 1\n",
    "max_D_S = precip_daily.groupby(['year','month']).apply(func)\n",
    "\n",
    "#To find maximum dry spell days\n",
    "#print \"Maximum dry spell days = %d \" % max_D_S.max()\n",
    "# To find date of maximum dry spell date\n",
    "# max_D_S.idxmax()"
   ]
  },
  {
   "cell_type": "code",
   "execution_count": 22,
   "metadata": {
    "collapsed": false
   },
   "outputs": [
    {
     "data": {
      "text/plain": [
       "(1981, 5)"
      ]
     },
     "execution_count": 22,
     "metadata": {},
     "output_type": "execute_result"
    }
   ],
   "source": [
    "max_D_S.idxmax()"
   ]
  },
  {
   "cell_type": "markdown",
   "metadata": {},
   "source": [
    "Note: There might be continuous longer dry-spell periods starting from one month and ending in next month, in this case we group by yearly only and see the longer dry-spell by the following ways"
   ]
  },
  {
   "cell_type": "code",
   "execution_count": 23,
   "metadata": {
    "collapsed": false
   },
   "outputs": [],
   "source": [
    "yearly_dry_day = precip_daily.groupby(['year']).apply(func)"
   ]
  },
  {
   "cell_type": "markdown",
   "metadata": {},
   "source": [
    "Similarly calculate for wet spell\n",
    "\n",
    "[Note: when you group by month also then you will get different result because, the rainy days starting form one month and ending in next month so the result is different.]"
   ]
  },
  {
   "cell_type": "markdown",
   "metadata": {},
   "source": [
    "### Part II. About probability and frequency."
   ]
  },
  {
   "cell_type": "markdown",
   "metadata": {},
   "source": [
    "The depth of clarity of Lake Tahoe was measured at several different places with the results in inches is available on the file Tahoe.dat"
   ]
  },
  {
   "cell_type": "markdown",
   "metadata": {},
   "source": [
    "1. Plot the histogram (relative frequency) with class intervals of length 5.\n",
    "2. Plot the cumulative relative frequency and estimate Prob(D≤40)≈? and Prob(15≤D≤30) ≈?"
   ]
  },
  {
   "cell_type": "code",
   "execution_count": 24,
   "metadata": {
    "collapsed": false
   },
   "outputs": [],
   "source": [
    "#First read and check the data\n",
    "\n",
    "tahoe = pd.read_table('Tahoe.dat')"
   ]
  },
  {
   "cell_type": "code",
   "execution_count": 25,
   "metadata": {
    "collapsed": false
   },
   "outputs": [],
   "source": [
    "data_types = tahoe.dtypes # to know about data types"
   ]
  },
  {
   "cell_type": "markdown",
   "metadata": {},
   "source": [
    "There are two columns one is with data and other is without data so exclude the column having without data.\n",
    "So we can define dataframe by this way, "
   ]
  },
  {
   "cell_type": "code",
   "execution_count": 26,
   "metadata": {
    "collapsed": false
   },
   "outputs": [],
   "source": [
    "#first assign the headers name\n",
    "tahoe = pd.read_table('Tahoe.dat', header = None, names = ['depth','nan'])\n",
    "\n",
    "#define dataframe\n",
    "df_tahoe= pd.DataFrame(tahoe['depth'])\n",
    "\n",
    "# Plot relative histogram\n",
    "#plt.hist(df_tahoe['depth'], bins= 8, normed = True)"
   ]
  },
  {
   "cell_type": "markdown",
   "metadata": {},
   "source": [
    "Define x-label, y-label, and title of the figure. [ Note: If you want to plot regular histogram then just give the command plt.hist(df['depth'])]. For plotting cumulative frequency change to cumulative instead of normed."
   ]
  },
  {
   "cell_type": "markdown",
   "metadata": {},
   "source": [
    "Calculate from above data that the probability that the depth of lake is\n",
    "\n",
    "1. more than 40 inch\n",
    "2. In between 15 to 30 inch\n",
    "\n",
    "Hint: for problem 2 use between function like 'between(15,30)'"
   ]
  },
  {
   "cell_type": "markdown",
   "metadata": {},
   "source": [
    "### Part III. The frequency function for a continuous stochastic variable is shown below. Solve the problems analytically."
   ]
  },
  {
   "cell_type": "markdown",
   "metadata": {},
   "source": [
    "$$\n",
    "f(x) = \\left\\{\n",
    "        \\begin{array}{ll}\n",
    "            cx^2 & \\quad 0 < x < 1 \\\\\n",
    "            0 & \\quad \\text{otherwise}\n",
    "        \\end{array}\n",
    "    \\right.\n",
    "$$"
   ]
  },
  {
   "cell_type": "markdown",
   "metadata": {},
   "source": [
    "1. Find the value for c so that f(x) becomes a density function. Use that F(x) = 1\n",
    "2. Calculate Prob(x < 0), Prob(x = 0.5), Prob(x > 1), Prob(0<=x<=0.5) and Prob(0<x< 0.5)\n",
    "3. Find the distribution function, F(x)\n",
    "4. Find the median\n",
    "5. Find the mode\n",
    "6. Calculate the expectation, E(x)\n",
    "7. Calculate the variance, var(x)"
   ]
  }
 ],
 "metadata": {
  "anaconda-cloud": {},
  "kernelspec": {
   "display_name": "Python [Root]",
   "language": "python",
   "name": "Python [Root]"
  },
  "language_info": {
   "codemirror_mode": {
    "name": "ipython",
    "version": 3
   },
   "file_extension": ".py",
   "mimetype": "text/x-python",
   "name": "python",
   "nbconvert_exporter": "python",
   "pygments_lexer": "ipython3",
   "version": "3.5.2"
  }
 },
 "nbformat": 4,
 "nbformat_minor": 0
}
