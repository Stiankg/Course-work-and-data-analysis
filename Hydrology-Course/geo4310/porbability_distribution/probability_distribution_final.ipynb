{
 "cells": [
  {
   "cell_type": "markdown",
   "metadata": {},
   "source": [
    "# Basic concepts on random variables and probability  distribution\n",
    "\n",
    "\n",
    "\n"
   ]
  },
  {
   "cell_type": "markdown",
   "metadata": {},
   "source": [
    "**Introduction**\n",
    "\n",
    "*Learning objectives for this lesson*\n",
    "\n",
    "Upon completion of this lesson, you should be able to:\n",
    "\n",
    "    distinguish between discrete and continuous random variables\n",
    "\n",
    "    explain the difference between population, parameter, sample, and statistic\n",
    "\n",
    "    determine if a given value represents a population parameter or sample statistic\n",
    "\n",
    "    find probabilities associated with a discrete probability distribution\n",
    "\n",
    "    compute the mean and variance of a discrete probability distribution\n",
    "\n",
    "    find probabilities associated with a binomial distribution\n",
    "\n",
    "    determine the standard error for the sample proportion and sample mean\n",
    "\n",
    "    "
   ]
  },
  {
   "cell_type": "markdown",
   "metadata": {},
   "source": [
    "**Question No 1**\n",
    "\n",
    "From monthly data (file P_uppmonth1.dat): compute for each month (column wise) mean, median, mode, standard deviation, coefficient of variation, minimum and maximum and plot these values to show the annual variation."
   ]
  },
  {
   "cell_type": "code",
   "execution_count": null,
   "metadata": {
    "collapsed": true
   },
   "outputs": [],
   "source": []
  },
  {
   "cell_type": "markdown",
   "metadata": {},
   "source": [
    "**Question No 2**\n",
    "\n",
    "For daily data (file P_Uppsala.dat): Calculate the probability for daily precipitation that\n",
    "\n",
    "1. Equal zero\n",
    "2. more than zero\n",
    "3. more than 10 mm\n",
    "4. more than 10 mm for days with precipitation\n"
   ]
  },
  {
   "cell_type": "code",
   "execution_count": null,
   "metadata": {
    "collapsed": true
   },
   "outputs": [],
   "source": []
  },
  {
   "cell_type": "markdown",
   "metadata": {},
   "source": [
    "#### Question No 3.\n",
    "\n",
    "From the daily data, calculate:\n",
    "    \n",
    "1) maximum 1-day, 3-day and 5-day average rainfall amount, and state the date/period. "
   ]
  },
  {
   "cell_type": "code",
   "execution_count": null,
   "metadata": {
    "collapsed": true
   },
   "outputs": [],
   "source": []
  },
  {
   "cell_type": "markdown",
   "metadata": {},
   "source": [
    "#### Question No 4.\n",
    "\n",
    "1. Calculate the maximum dry-spell days and the maximum wet-spell days of daily rainfall.\n",
    "\n"
   ]
  },
  {
   "cell_type": "code",
   "execution_count": null,
   "metadata": {
    "collapsed": true
   },
   "outputs": [],
   "source": []
  },
  {
   "cell_type": "markdown",
   "metadata": {},
   "source": [
    "#### Question No 5\n",
    "\n",
    "The depth of clarity of Lake Tahoe was measured at several different places with the results in inches is available on the file Tahoe.dat\n",
    "\n",
    "1. Plot the histogram (relative frequency) with class intervals of length 5.\n",
    "2. Plot the cumulative relative frequency and estimate Prob(D≤40)≈? and Prob(15≤D≤30) ≈?"
   ]
  },
  {
   "cell_type": "code",
   "execution_count": null,
   "metadata": {
    "collapsed": true
   },
   "outputs": [],
   "source": []
  },
  {
   "cell_type": "markdown",
   "metadata": {},
   "source": [
    "#### Question No 6\n",
    "\n",
    "Calculate from the given data (Thoe.dat) that the probability that the depth of lake is\n",
    "\n",
    "1. more than 40 inch\n",
    "2. In between 15 to 30 inch"
   ]
  },
  {
   "cell_type": "code",
   "execution_count": null,
   "metadata": {
    "collapsed": true
   },
   "outputs": [],
   "source": []
  },
  {
   "cell_type": "markdown",
   "metadata": {},
   "source": [
    "####  Question No 7\n",
    "\n",
    "The frequency function for a continuous stochastic variable is shown below. Solve the problems analytically\n",
    "\n",
    "$$\n",
    "f(x) = \\left\\{\n",
    "        \\begin{array}{ll}\n",
    "            cx^2 & \\quad 0 < x < 1 \\\\\n",
    "            0 & \\quad \\text{otherwise}\n",
    "        \\end{array}\n",
    "    \\right.\n",
    "$$\n",
    "\n",
    "\n",
    "1. Find the value for c so that f(x) becomes a density function. Use that F(x) = 1\n",
    "2. Calculate Prob(x < 0), Prob(x = 0.5), Prob(x > 1), Prob(0<=x<=0.5) and Prob(0<x< 0.5)\n",
    "3. Find the distribution function, F(x)\n",
    "4. Find the median\n",
    "5. Find the mode\n",
    "6. Calculate the expectation, E(x)\n",
    "7. Calculate the variance, var(x)"
   ]
  },
  {
   "cell_type": "markdown",
   "metadata": {
    "collapsed": true
   },
   "source": [
    "#### Question 1.\n",
    "The number of rainy days in July and August at a meteorological station is given in the table below.\n",
    "\n",
    "\n",
    "Year|1|2|3|4|5|6|7|8|9|10|\n",
    "-|-|-|-|-|-|-|-|-|-|-|\n",
    "July| 10 |15|17 |8||9|19|14|20|4\n",
    "August|4|9|8|3|0|10|12|2|8|6\n",
    "\n",
    "##### a ) Use the Hypergeometric, Binomial and Poisson distributions to calculate \n",
    "1) What is the probability of 10 rainy days in each of the months of July and August? \n",
    "\n",
    "2) What is the probability of 20 rainy days in the 2 month period? \n",
    "\n",
    "Note: if you wish to use factorial function then you have to import the module 'math' by the command 'import math' then write:\n",
    "\n",
    "math.factorial(x)\n",
    "\n",
    "\n",
    "###### Hint: Hypergeometric function: \n",
    "import scipy.stats\n",
    "\n",
    "from scipy.stats import hypergeom\n",
    "\n",
    "hypergeom.pmf(x, N, n, k) \n",
    "\n",
    "where,\n",
    "\n",
    "k is the number of \"successes\" in the population\n",
    "\n",
    "x is the number of \"successes\" in the sample\n",
    "\n",
    "N is the size of the population\n",
    "\n",
    "n is the number sampled"
   ]
  },
  {
   "cell_type": "markdown",
   "metadata": {},
   "source": [
    "###### Binomial distribution use\n",
    "from scipy.stats import binom\n",
    "\n",
    "binom.pmf(x,n,p)\n",
    "\n",
    "where,\n",
    "\n",
    "p is the probability of obtaining exactly x successes\n"
   ]
  },
  {
   "cell_type": "markdown",
   "metadata": {},
   "source": [
    "###### Poisson Distribution\n",
    "from scipy.stats import poisson\n",
    "\n",
    "poisson.pmf(x, λ)\n",
    "\n",
    "Note:  λ =p*n"
   ]
  },
  {
   "cell_type": "code",
   "execution_count": 1,
   "metadata": {
    "collapsed": true
   },
   "outputs": [],
   "source": [
    "###### b) Which assumptions in each method are likely violated by this problem?"
   ]
  },
  {
   "cell_type": "code",
   "execution_count": 2,
   "metadata": {
    "collapsed": true
   },
   "outputs": [],
   "source": [
    "###### c) What is the probability that the sixth rainy day of August occurs on 30 August?"
   ]
  },
  {
   "cell_type": "markdown",
   "metadata": {},
   "source": [
    "##### Question 2\n",
    "Some politician (who obviously did not go a statistic course) tells the public that the town will be\n",
    "well prepared to tackle the problems associated with a 10-year flood and that there is nothing to\n",
    "worry about for the next 9 years. In 10th year, when the flood will occur as he says, the local\n",
    "flood protection authority will have prepared everything. Compute the probability that the\n",
    "politician actually is right and that the 10-year flood occurs in tenth year for the first time."
   ]
  },
  {
   "cell_type": "markdown",
   "metadata": {},
   "source": [
    "##### Question 3\n",
    "Assume that the annual maxima discharges in a river station are normally distributed with a mean\n",
    "of 75 m 3 /s and a standard deviation of 10 m 3 /s. What is the probability for any given year to have\n",
    "a maximum flow that is\n",
    "\n",
    "a) less than 70 m 3 /s?\n",
    "\n",
    "b) larger than 95 m 3 /s?\n",
    "\n",
    "c) between 60 and 80 m 3 /s?\n",
    "\n",
    "d) What is the flow with 90 % chance to not exceed?\n",
    "\n",
    "e) What is the flow with 80 % chance to exceed?\n",
    "\n",
    "f) In which interval (centred on the mean) would 50 % of the flows fall?\n",
    "\n",
    "You may use the following  functions to find the probability/quantile of our distribution:\n"
   ]
  },
  {
   "cell_type": "code",
   "execution_count": 3,
   "metadata": {
    "collapsed": true
   },
   "outputs": [],
   "source": [
    "#scipy.stats.norm(mean, sd).cdf(quantile)\t\t# where quantile is a discharge \n",
    "#scipy.stats.norm(mean, sd).ppf(percentile)\t#where percentile is a percentage"
   ]
  },
  {
   "cell_type": "markdown",
   "metadata": {},
   "source": [
    "##### Question 4\n",
    "Plot the individual terms of the Poisson distribution for λ  = 3. Approximate the Poisson by the normal and plot the normal approximations on the same graph. Optional: Do the same but with λ = 8."
   ]
  }
 ],
 "metadata": {
  "kernelspec": {
   "display_name": "Python [Root]",
   "language": "python",
   "name": "Python [Root]"
  },
  "language_info": {
   "codemirror_mode": {
    "name": "ipython",
    "version": 3
   },
   "file_extension": ".py",
   "mimetype": "text/x-python",
   "name": "python",
   "nbconvert_exporter": "python",
   "pygments_lexer": "ipython3",
   "version": "3.5.2"
  }
 },
 "nbformat": 4,
 "nbformat_minor": 0
}
