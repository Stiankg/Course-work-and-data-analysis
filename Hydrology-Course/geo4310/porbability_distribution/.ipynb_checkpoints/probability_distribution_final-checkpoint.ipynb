{
 "cells": [
  {
   "cell_type": "markdown",
   "metadata": {},
   "source": [
    "# Basic concepts on random variables and probability  distribution\n",
    "\n",
    "\n",
    "\n"
   ]
  },
  {
   "cell_type": "markdown",
   "metadata": {},
   "source": [
    "Introduction\n",
    "\n",
    "Learning objectives for this lesson\n",
    "\n",
    "Upon completion of this lesson, you should be able to:\n",
    "\n",
    "distinguish between discrete and continuous random variables\n",
    "explain the difference between population, parameter, sample, and statistic\n",
    "determine if a given value represents a population parameter or sample statistic\n",
    "find probabilities associated with a discrete probability distribution\n",
    "compute the mean and variance of a discrete probability distribution\n",
    "find probabilities associated with a binomial distribution\n",
    "find probabilities associated with a normal probability distribution using the standard normal table\n",
    "determine the standard error for the sample proportion and sample mean\n",
    "apply the Central Limit Theorem properly to a set of continuous data"
   ]
  },
  {
   "cell_type": "markdown",
   "metadata": {},
   "source": [
    "#### Name:-\n",
    "#### Date:-"
   ]
  },
  {
   "cell_type": "markdown",
   "metadata": {},
   "source": [
    "**Question No 1**\n",
    "\n",
    "From monthly data (file P_uppmonth1.dat): compute for each month (column wise) mean, median, mode, standard deviation, coefficient of variation, minimum and maximum and plot these values to show the annual variation."
   ]
  },
  {
   "cell_type": "code",
   "execution_count": null,
   "metadata": {
    "collapsed": true
   },
   "outputs": [],
   "source": []
  },
  {
   "cell_type": "markdown",
   "metadata": {},
   "source": [
    "**Question No 2**\n",
    "\n",
    "For daily data (file P_Uppsala.dat): Calculate the probability for daily precipitation that\n",
    "\n",
    "1. Equal zero\n",
    "2. more than zero\n",
    "3. more than 10 mm\n",
    "4. more than 10 mm for days with precipitation\n"
   ]
  },
  {
   "cell_type": "code",
   "execution_count": null,
   "metadata": {
    "collapsed": true
   },
   "outputs": [],
   "source": []
  },
  {
   "cell_type": "markdown",
   "metadata": {},
   "source": [
    "#### Question No 3.\n",
    "\n",
    "From the daily data, calculate:\n",
    "    \n",
    "1) maximum 1-day, 3-day and 5-day average rainfall amount, and state the date/period. "
   ]
  },
  {
   "cell_type": "code",
   "execution_count": null,
   "metadata": {
    "collapsed": true
   },
   "outputs": [],
   "source": []
  },
  {
   "cell_type": "markdown",
   "metadata": {},
   "source": [
    "#### Question No 4.\n",
    "\n",
    "1. Calculate the maximum dry-spell days and the maximum wet-spell days of daily rainfall.\n",
    "\n"
   ]
  },
  {
   "cell_type": "code",
   "execution_count": null,
   "metadata": {
    "collapsed": true
   },
   "outputs": [],
   "source": []
  },
  {
   "cell_type": "markdown",
   "metadata": {},
   "source": [
    "#### Question No 5\n",
    "\n",
    "The depth of clarity of Lake Tahoe was measured at several different places with the results in inches is available on the file Tahoe.dat\n",
    "\n",
    "1. Plot the histogram (relative frequency) with class intervals of length 5.\n",
    "2. Plot the cumulative relative frequency and estimate Prob(D≤40)≈? and Prob(15≤D≤30) ≈?"
   ]
  },
  {
   "cell_type": "code",
   "execution_count": null,
   "metadata": {
    "collapsed": true
   },
   "outputs": [],
   "source": []
  },
  {
   "cell_type": "markdown",
   "metadata": {},
   "source": [
    "#### Question No 6\n",
    "\n",
    "Calculate from the given data (Thoe.dat) that the probability that the depth of lake is\n",
    "\n",
    "1. more than 40 inch\n",
    "2. In between 15 to 30 inch"
   ]
  },
  {
   "cell_type": "code",
   "execution_count": null,
   "metadata": {
    "collapsed": true
   },
   "outputs": [],
   "source": []
  },
  {
   "cell_type": "markdown",
   "metadata": {},
   "source": [
    "####  Question No 7\n",
    "\n",
    "The frequency function for a continuous stochastic variable is shown below. Solve the problems analytically\n",
    "\n",
    "$$\n",
    "f(x) = \\left\\{\n",
    "        \\begin{array}{ll}\n",
    "            cx^2 & \\quad 0 < x < 1 \\\\\n",
    "            0 & \\quad \\text{otherwise}\n",
    "        \\end{array}\n",
    "    \\right.\n",
    "$$\n",
    "\n",
    "\n",
    "1. Find the value for c so that f(x) becomes a density function. Use that F(x) = 1\n",
    "2. Calculate Prob(x < 0), Prob(x = 0.5), Prob(x > 1), Prob(0<=x<=0.5) and Prob(0<x< 0.5)\n",
    "3. Find the distribution function, F(x)\n",
    "4. Find the median\n",
    "5. Find the mode\n",
    "6. Calculate the expectation, E(x)\n",
    "7. Calculate the variance, var(x)"
   ]
  },
  {
   "cell_type": "code",
   "execution_count": null,
   "metadata": {
    "collapsed": true
   },
   "outputs": [],
   "source": []
  }
 ],
 "metadata": {
  "kernelspec": {
   "display_name": "Python [Root]",
   "language": "python",
   "name": "Python [Root]"
  },
  "language_info": {
   "codemirror_mode": {
    "name": "ipython",
    "version": 3
   },
   "file_extension": ".py",
   "mimetype": "text/x-python",
   "name": "python",
   "nbconvert_exporter": "python",
   "pygments_lexer": "ipython3",
   "version": "3.5.2"
  }
 },
 "nbformat": 4,
 "nbformat_minor": 0
}
