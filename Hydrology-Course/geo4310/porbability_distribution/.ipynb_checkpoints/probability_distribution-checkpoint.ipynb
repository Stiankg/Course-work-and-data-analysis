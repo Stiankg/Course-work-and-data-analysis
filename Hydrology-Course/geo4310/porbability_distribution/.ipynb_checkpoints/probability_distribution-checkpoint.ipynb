{
 "cells": [
  {
   "cell_type": "markdown",
   "metadata": {},
   "source": [
    "# Probability distributions\n",
    "\n",
    "\n"
   ]
  },
  {
   "cell_type": "markdown",
   "metadata": {},
   "source": [
    "This exercise is due September 16, 2016. Please save this notebook as a .pdf and .ipynb file and upload both files to the folder \"GEO4310/Resources/Exercises/Hand-in of exercises\" in Fronter. The report should answer all questions given in the exercise text and contain the relevant plots and output. For each python command given in this notebook, write a comment (a line starting with #) to demonstrate that you understand what it does.\n",
    "##### Name:-\n",
    "##### Date :-"
   ]
  },
  {
   "cell_type": "markdown",
   "metadata": {},
   "source": [
    "#### Question 1.\n",
    "The number of rainy days in July and August at a meteorological station is given in the table below.\n",
    "\n",
    "\n",
    "Year|1|2|3|4|5|6|7|8|9|10|\n",
    "-|-|-|-|-|-|-|-|-|-|-|\n",
    "July| 10 |15|17 |8||9|19|14|20|4\n",
    "August|4|9|8|3|0|10|12|2|8|6\n",
    "\n",
    "##### a ) Use the Hypergeometric, Binomial and Poisson distributions to calculate \n",
    "1) What is the probability of 10 rainy days in each of the months of July and August? \n",
    "\n",
    "2) What is the probability of 20 rainy days in the 2 month period? \n",
    "\n",
    "Note: if you wish to use factorial function then you have to import the module 'math' by the command 'import math' then write:\n",
    "\n",
    "math.factorial(x)\n"
   ]
  },
  {
   "cell_type": "markdown",
   "metadata": {},
   "source": [
    "###### Hint (python): Hypergeometric function: \n",
    "import scipy.stats\n",
    "\n",
    "from scipy.stats import hypergeom\n",
    "\n",
    "hypergeom.pmf(x, N, n, k) \n",
    "\n",
    "where,\n",
    "\n",
    "k is the number of \"successes\" in the population\n",
    "\n",
    "x is the number of \"successes\" in the sample\n",
    "\n",
    "N is the size of the population\n",
    "\n",
    "n is the number sampled"
   ]
  },
  {
   "cell_type": "code",
   "execution_count": null,
   "metadata": {
    "collapsed": true
   },
   "outputs": [],
   "source": []
  },
  {
   "cell_type": "markdown",
   "metadata": {},
   "source": [
    "###### Binomial distribution use\n",
    "from scipy.stats import binom\n",
    "\n",
    "binom.pmf(x,n,p)\n",
    "\n",
    "where,\n",
    "\n",
    "p is the probability of obtaining exactly x successes\n"
   ]
  },
  {
   "cell_type": "code",
   "execution_count": null,
   "metadata": {
    "collapsed": true
   },
   "outputs": [],
   "source": []
  },
  {
   "cell_type": "markdown",
   "metadata": {},
   "source": [
    "###### Poisson Distribution\n",
    "from scipy.stats import poisson\n",
    "\n",
    "poisson.pmf(x, λ)\n",
    "\n",
    "Note:  λ =p*n\n"
   ]
  },
  {
   "cell_type": "code",
   "execution_count": null,
   "metadata": {
    "collapsed": true
   },
   "outputs": [],
   "source": []
  },
  {
   "cell_type": "markdown",
   "metadata": {},
   "source": [
    "###### b) Which assumptions in each method are likely violated by this problem?"
   ]
  },
  {
   "cell_type": "code",
   "execution_count": null,
   "metadata": {
    "collapsed": true
   },
   "outputs": [],
   "source": []
  },
  {
   "cell_type": "markdown",
   "metadata": {},
   "source": [
    "###### c) What is the probability that the sixth rainy day of August occurs on 30 August?"
   ]
  },
  {
   "cell_type": "code",
   "execution_count": null,
   "metadata": {
    "collapsed": true
   },
   "outputs": [],
   "source": []
  },
  {
   "cell_type": "markdown",
   "metadata": {},
   "source": [
    "##### Question 2\n",
    "Some politician (who obviously did not go a statistic course) tells the public that the town will be\n",
    "well prepared to tackle the problems associated with a 10-year flood and that there is nothing to\n",
    "worry about for the next 9 years. In 10th year, when the flood will occur as he says, the local\n",
    "flood protection authority will have prepared everything. Compute the probability that the\n",
    "politician actually is right and that the 10-year flood occurs in tenth year for the first time."
   ]
  },
  {
   "cell_type": "code",
   "execution_count": null,
   "metadata": {
    "collapsed": true
   },
   "outputs": [],
   "source": []
  },
  {
   "cell_type": "markdown",
   "metadata": {},
   "source": [
    "##### Question 3\n",
    "Assume that the annual maxima discharges in a river station are normally distributed with a mean\n",
    "of 75 m 3 /s and a standard deviation of 10 m 3 /s. What is the probability for any given year to have\n",
    "a maximum flow that is\n",
    "\n",
    "a) less than 70 m 3 /s?\n",
    "\n",
    "b) larger than 95 m 3 /s?\n",
    "\n",
    "c) between 60 and 80 m 3 /s?\n",
    "\n",
    "d) What is the flow with 90 % chance to not exceed?\n",
    "\n",
    "e) What is the flow with 80 % chance to exceed?\n",
    "\n",
    "f) In which interval (centred on the mean) would 50 % of the flows fall?\n",
    "\n",
    "You may use the following  functions to find the probability/quantile of our distribution:\n"
   ]
  },
  {
   "cell_type": "code",
   "execution_count": 2,
   "metadata": {
    "collapsed": false
   },
   "outputs": [],
   "source": [
    "#scipy.stats.norm(mean, sd).cdf(quantile)\t\t# where quantile is a discharge \n",
    "#scipy.stats.norm(mean, sd).ppf(percentile)\t#where percentile is a percentage"
   ]
  },
  {
   "cell_type": "markdown",
   "metadata": {},
   "source": [
    "##### Question 4\n",
    "Plot the individual terms of the Poisson distribution for λ  = 3. Approximate the Poisson by the normal and plot the normal approximations on the same graph. Optional: Do the same but with λ = 8."
   ]
  },
  {
   "cell_type": "code",
   "execution_count": null,
   "metadata": {
    "collapsed": true
   },
   "outputs": [],
   "source": []
  }
 ],
 "metadata": {
  "anaconda-cloud": {},
  "kernelspec": {
   "display_name": "Python [Root]",
   "language": "python",
   "name": "Python [Root]"
  },
  "language_info": {
   "codemirror_mode": {
    "name": "ipython",
    "version": 3
   },
   "file_extension": ".py",
   "mimetype": "text/x-python",
   "name": "python",
   "nbconvert_exporter": "python",
   "pygments_lexer": "ipython3",
   "version": "3.5.2"
  }
 },
 "nbformat": 4,
 "nbformat_minor": 0
}
