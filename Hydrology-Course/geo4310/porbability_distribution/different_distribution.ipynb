{
 "cells": [
  {
   "cell_type": "markdown",
   "metadata": {},
   "source": [
    "**Discrete Distribution**\n",
    "\n",
    "1) Hypergeometric distribution\n",
    "\n",
    "2) Bionimal distribution\n",
    "\n",
    "3) Poisson distribution\n",
    "\n",
    "4) Geometric distribution\n",
    "\n",
    "5) Negative binomial distribution"
   ]
  },
  {
   "cell_type": "code",
   "execution_count": null,
   "metadata": {
    "collapsed": false
   },
   "outputs": [],
   "source": []
  },
  {
   "cell_type": "code",
   "execution_count": null,
   "metadata": {
    "collapsed": true
   },
   "outputs": [],
   "source": []
  },
  {
   "cell_type": "markdown",
   "metadata": {},
   "source": [
    "**1) Hypergeometric distribution**\n",
    "\n",
    "Assumption (compendium 2013, pp34)\n",
    "\n",
    "1. There is a population of N items divided into two groups (success or failure), k of which are belonging to one group (“success”) and N-k of which are belonging to another group (“failure”).\n",
    "\n",
    "2. A random sample (without replacement) of n items is taken from the N items.\n",
    "\n",
    "3. Probability of getting k successes (elements with property K) in n trials?\n",
    "\n",
    "\n",
    "# $P(X = k) = \\frac{\\binom{K}{k}\\binom{N-K}{n-k}}{\\binom{N}{n}}$\n",
    "\n",
    "# where $\\binom{K}{k} = \\frac{K!}{k! (K-k)!}$"
   ]
  },
  {
   "cell_type": "code",
   "execution_count": null,
   "metadata": {
    "collapsed": true
   },
   "outputs": [],
   "source": []
  },
  {
   "cell_type": "markdown",
   "metadata": {},
   "source": [
    "**Binomial distribution:** \n",
    "\n",
    "\n",
    "Assumptions for binomial distribution:\n",
    "\n",
    "  1. There are N trials, each classifiable as “success” or “failure”.\n",
    "\n",
    "    \n",
    "  2. The trials are independent (draw a sample with replacement, which is different from hypergeometric. The probability of success, p, is constant from trial to trial.)\n",
    "\n",
    "    \n",
    "  3. Probability of getting x successes (elements with property k) in n trials?\n",
    "  \n",
    "  # $P = \\binom{N}{x}p^x (1-p)^{N-x}$\n",
    "  \n",
    "  \n",
    " ## where $\\binom{N}{x} = \\frac{N!}{x! (N-x)!}$\n",
    " \n",
    " e.g. What is the probability of a 10 year flood will occur once in 10 years?"
   ]
  },
  {
   "cell_type": "code",
   "execution_count": null,
   "metadata": {
    "collapsed": true
   },
   "outputs": [],
   "source": []
  },
  {
   "cell_type": "markdown",
   "metadata": {},
   "source": [
    "**Geometric distribution**\n",
    "\n",
    "Similar to the Binomial distribution, but now we are interested in the probability of first success.\n",
    "\n",
    "1. There are n trials, each classifiable as “success” or “failure”.\n",
    "\n",
    "\n",
    "2. The trials are independent. (draw a sample with replacement, which is different from hypergeometric. The probability of success, p, is constant from trial to trial.)\n",
    "\n",
    "\n",
    "3. What is the probability the 1st success occurs on the xth trial.\n",
    "\n",
    "\n",
    "\n",
    "e.g.:\n",
    "\n",
    "\n",
    "flip a coin until you get a head\n",
    "\n",
    "\n",
    "Roll a die unitl you get a 3"
   ]
  },
  {
   "cell_type": "code",
   "execution_count": null,
   "metadata": {
    "collapsed": true
   },
   "outputs": [],
   "source": []
  },
  {
   "cell_type": "markdown",
   "metadata": {},
   "source": [
    "**Negative binomial distribution**\n",
    "\n",
    "1. There are n trials, each classifiable as “success” or “failure”.\n",
    "\n",
    "2. The trials are independent (draw a sample with replacement, which is different from\n",
    "hypergeometric). The probability of success, p, is constant from trial to trial.)\n",
    "\n",
    "3. The probability that the kth success occurs on the x th trial (x > k) is given by the negative\n",
    "binomial distribution.\n",
    "\n",
    "The function is given by:\n",
    "\n",
    "\n",
    "# $f_x (x; k,p) = \\binom{x-1}{k-1}p^kq^{x-k}$\n",
    "\n",
    "\n",
    "\n"
   ]
  },
  {
   "cell_type": "code",
   "execution_count": null,
   "metadata": {
    "collapsed": true
   },
   "outputs": [],
   "source": []
  },
  {
   "cell_type": "markdown",
   "metadata": {},
   "source": [
    "**Poisson distribution**\n",
    "\n",
    "Poisson distribution is the limiting case of a binomial distribution which aries when n and p are intependent:\n",
    "and when n tends to be very large and p tends to be very small while their product np tends to be a finite value.\n",
    "\n",
    "\n",
    "\n",
    "# $f_x = (x ; \\lambda) = \\frac{e^{-\\lambda} \\lambda^x}{x!}$ \n",
    "\n",
    "\n",
    "where x = 0 ,1,2,3 etc.\n",
    "\n",
    "\n"
   ]
  },
  {
   "cell_type": "code",
   "execution_count": null,
   "metadata": {
    "collapsed": true
   },
   "outputs": [],
   "source": []
  }
 ],
 "metadata": {
  "anaconda-cloud": {},
  "kernelspec": {
   "display_name": "Python [Root]",
   "language": "python",
   "name": "Python [Root]"
  },
  "language_info": {
   "codemirror_mode": {
    "name": "ipython",
    "version": 3
   },
   "file_extension": ".py",
   "mimetype": "text/x-python",
   "name": "python",
   "nbconvert_exporter": "python",
   "pygments_lexer": "ipython3",
   "version": "3.5.2"
  }
 },
 "nbformat": 4,
 "nbformat_minor": 0
}
