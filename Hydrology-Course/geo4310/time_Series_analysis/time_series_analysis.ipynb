{
 "cells": [
  {
   "cell_type": "markdown",
   "metadata": {},
   "source": [
    "# Time series analysis and stochastic modelling \n",
    "\n",
    "##### Date: 2016-11-11"
   ]
  },
  {
   "cell_type": "markdown",
   "metadata": {},
   "source": [
    "### Question 1: Time series analysis"
   ]
  },
  {
   "cell_type": "markdown",
   "metadata": {},
   "source": [
    "The annual mean runoff data in a station are given in the file Qyearlymean.txt.\n",
    "\n",
    "1. Investigate if there is a trend using linear regression method  for $\\alpha$ =10%.\n",
    "2. If the trend is significant, remove the trend from the data series.\n",
    "3. Calculate and plot the autocorrelation $\\rho_k$ and 95% confidence limits for time shifts, k, up to 5 years. Check up to which time lag is the $\\rho_k$ significant. "
   ]
  },
  {
   "cell_type": "markdown",
   "metadata": {},
   "source": [
    "#### Test for significance of b"
   ]
  },
  {
   "cell_type": "markdown",
   "metadata": {},
   "source": [
    "$X_i = a + bT_i$\n",
    "\n",
    "$H_o$: b = 0; $H_a$: $b \\neq 0$\n",
    "\n",
    "Test statistic $t = \\frac{b-o}{s_b}$\n",
    "\n",
    "$H_o$ is rejected if $|t| \\geq t_{1-\\alpha/2,n-2}$ i.e. b is significantally different from zero."
   ]
  },
  {
   "cell_type": "markdown",
   "metadata": {},
   "source": [
    "Where\n",
    "\n",
    "$s_b = \\sqrt{\\frac{S^2}{\\sum_{t=1}^{n} (T_i - \\bar{T})^2}}$ and $S^2 = \\frac{\\sum_{i=1}^{n}(\\chi_i - \\hat{\\chi}_i)^2}{n-2}$ $ \\ \\ \\ \\ $ (1)\n",
    "\n",
    "Where, $\\chi_i \\space and \\space \\hat{\\chi}_i $ are the observed and estimated hydrologic variable."
   ]
  },
  {
   "cell_type": "markdown",
   "metadata": {},
   "source": [
    "The equation for autocorrelation coefficient, $\\rho_k$ is given as\n",
    "\n",
    "$\\rho_k = \\frac{Cov(X_t,X_{t+k})}{Var(X_t)} = \\frac{\\frac{1}{n-1}\\sum_{t=1}^{n-k}(X_t - \\bar{X})(X_{t+k}-\\bar{X})}{\\frac{1}{n-1}\\sum_{t=1}^{n}(X_t-\\bar{X})^2}$ $\\ \\ \\ \\ $ (2)"
   ]
  },
  {
   "cell_type": "markdown",
   "metadata": {},
   "source": [
    "#### Test the significance of $\\rho_k$\n",
    "\n",
    "(Please follow Compendium page no 141.)"
   ]
  },
  {
   "cell_type": "markdown",
   "metadata": {},
   "source": [
    "$l = \\frac{(-1-z_{1-\\alpha/2}\\sqrt{n-2})}{n-1}$\n",
    "\n",
    "and \n",
    "\n",
    "$u = \\frac{(-1+z_{1-\\alpha/2}\\sqrt{n-2})}{n-1}$\n",
    "\n",
    "$H_o$: $\\rho_k = 0$; $H_a$: $\\rho_k \\neq 0$\n",
    "\n",
    "If the calculated $\\rho_k$ falls outside these confidence limits, then the hypothesis is rejected, i.e., $\\rho_k$ is significant for significant level $\\alpha$ and time lag k."
   ]
  },
  {
   "cell_type": "markdown",
   "metadata": {},
   "source": [
    "### Question 2: Stochastic models for stationary time series"
   ]
  },
  {
   "cell_type": "markdown",
   "metadata": {},
   "source": [
    "**Fit the first order Markov model for annual data (after the removal of trend if there is any)**\n",
    "\n",
    "$X_{t+1} = \\mu + \\beta_{1}(X_t-\\mu) + \\epsilon_{t+1}$ $ \\ \\ \\ \\  $ (3)"
   ]
  },
  {
   "cell_type": "markdown",
   "metadata": {},
   "source": [
    "Parameter estimation:\n",
    "\n",
    "$\\hat{\\beta}_1 = \\rho_1$ where $\\rho_1$ is calculated using equation (2).\n",
    "\n",
    "$\\hat{\\sigma}_{\\epsilon}^2 = \\sigma_x^2(1-\\hat{\\beta}_1^2)$ where $\\sigma_x^2 = \\frac{\\sum_{i=1}^{n}(\\chi_i - \\bar{\\chi}_i)^2}{n-1}$\n",
    "\n",
    "and\n",
    "\n",
    "$\\hat{\\mu} = \\bar{x} = \\frac{1}{n}\\sum_{i=1}^{n}x_i$\n",
    "\n",
    "equation (3) becomes\n",
    "\n",
    "$x_t = \\hat{\\mu}_x + \\hat{\\beta}_1(x_{t-1}-\\hat{\\mu}_x) + z_t\\sigma_x\\sqrt{1-\\hat{\\beta}_1^2}$ $\\ \\ \\ \\ $ (4)"
   ]
  },
  {
   "cell_type": "markdown",
   "metadata": {},
   "source": [
    "#### Procedure of using equation (4):"
   ]
  },
  {
   "cell_type": "markdown",
   "metadata": {},
   "source": [
    "1. Estimate $\\mu_x$, $\\sigma_x$, and $\\beta_1$ and substitute them in (4)\n",
    "2. Generate random $z_t$ series which is from a N(0,1) distribution.\n",
    "3. Use the 1959’s value as initial value and simulate for the period 1960-1991\n",
    "4. Compare the simulated time series with the observed time series. (Plot two time series in the same graph, calculate and compare the statistics of the two series, i.e. mean, standard deviation, $\\rho_1$ and $\\rho_2$, etc.,\n",
    "5. Use AR(1) model to simulate  100 samples each has 33 years, calculate the mean values of the statistics (average, standard deviation, r1) from the 100 samples and compare them with the statistics calculated from observed 33 years data series\n",
    "\n",
    "(note: the difference of steps (4) and (5) is that in step (4) one simulation sample is compared with the observed data, while in step (5) the mean values of 100 samples are compared with the observed values)"
   ]
  },
  {
   "cell_type": "markdown",
   "metadata": {},
   "source": [
    "### Question 3: Stochastic model for non-stationary time series"
   ]
  },
  {
   "cell_type": "markdown",
   "metadata": {},
   "source": [
    "Adapt a stochastic model to monthly discharge COLUMBIA_M1.txt.\n",
    "\n",
    "1. Fit the Thomas-Fiering Model to the data and simulate the monthly discharge from January 1949 to December 1975 using the value of December 1948 as the initial value. Plot the simulated and observed data on the same graph and compare the statistics of the two data series\n",
    "2. Simulate the 100-year discharge series from 1976 to 2075 using the value of December 1975 as initial value and compare the statistics of the simulated data series with the observed data series."
   ]
  },
  {
   "cell_type": "markdown",
   "metadata": {},
   "source": [
    "The Thomas-Fiering Model is given as:\n",
    "\n",
    "$\\hat{q}_{j+1,i} = \\bar{q}_{j+1} + b_j(q_{j,i}- \\bar{q_j}) + z_{j+1,i}\\cdot s_{j+1}\\sqrt{1-r_j^2}$ $\\ \\ \\ \\ $ (1)\n",
    "\n",
    "Where i = year, j = month, and z is a random series with N(0, 1).  "
   ]
  },
  {
   "cell_type": "markdown",
   "metadata": {},
   "source": [
    "#### Calculation procedure:"
   ]
  },
  {
   "cell_type": "markdown",
   "metadata": {},
   "source": [
    "(a) The mean flow: $\\bar{q}_j = \\frac{1}{n}\\sum_i q_{j,i}$, $\\ \\ \\ \\ $ where $i = \\{j, 12+j,24+j,\\cdots\\}$\n",
    "\n",
    "(b) The standard deviation: $S_j = \\sqrt{\\frac{\\sum_i (q_{j,i}-\\bar{q}_j)^2}{n-1}}$\n",
    "\n",
    "(c) the correlation coefficient with flow in the next month,\n",
    "\n",
    "$r_j = \\frac{\\sum_i (q_{j,i}-\\bar{q}_j)(q_{j+1,i}-\\bar{q}_{j+1})}{\\sqrt{\\sum_i (q_{j,i}-\\bar{q}_j)^2\\sum_i(q_{j+1,i}-\\bar{q}_{j+1})^2}}$\n",
    "\n",
    "(d) the slope of the regression equation relating the month’s flow to flow in the preceding month:\n",
    "\n",
    "$b_j = r_j\\frac{S_{j+1}}{S_j}$\n",
    "\n"
   ]
  },
  {
   "cell_type": "code",
   "execution_count": null,
   "metadata": {
    "collapsed": true
   },
   "outputs": [],
   "source": []
  }
 ],
 "metadata": {
  "anaconda-cloud": {},
  "kernelspec": {
   "display_name": "Python [Root]",
   "language": "python",
   "name": "Python [Root]"
  },
  "language_info": {
   "codemirror_mode": {
    "name": "ipython",
    "version": 3
   },
   "file_extension": ".py",
   "mimetype": "text/x-python",
   "name": "python",
   "nbconvert_exporter": "python",
   "pygments_lexer": "ipython3",
   "version": "3.5.2"
  }
 },
 "nbformat": 4,
 "nbformat_minor": 0
}
