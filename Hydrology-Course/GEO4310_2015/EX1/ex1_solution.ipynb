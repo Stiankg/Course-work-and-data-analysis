{
 "cells": [
  {
   "cell_type": "markdown",
   "metadata": {},
   "source": [
    "#Solutions 1: Basic concepts on random variables and Probability, GEO4310\n",
    "\n",
    "Author: Bikas C. Bhattarai\n",
    "\n",
    "Date: August, 2015\n",
    "\n",
    "\n",
    "#### Daily precipitation in Uppsala (1981-1991)\n",
    "\n",
    "In this exercise we will analyze daily precipitation in Uppsala from 1981 to 1991. First, we read the relevant files in to Python. A data file `P_Uppsala.dat` is available, and we will load it using the excellent pandas package for Python.\n",
    "\n",
    "Open daily precipitation data and adding names to the columns\n"
   ]
  },
  {
   "cell_type": "code",
   "execution_count": 183,
   "metadata": {
    "collapsed": false
   },
   "outputs": [],
   "source": [
    "#first a few administrative issues\n",
    "%matplotlib inline\n",
    "import pandas as pd\n",
    "import numpy as np\n",
    "import matplotlib.pyplot as plt"
   ]
  },
  {
   "cell_type": "code",
   "execution_count": 141,
   "metadata": {
    "collapsed": false
   },
   "outputs": [
    {
     "data": {
      "text/html": [
       "<div style=\"max-height:1000px;max-width:1500px;overflow:auto;\">\n",
       "<table border=\"1\" class=\"dataframe\">\n",
       "  <thead>\n",
       "    <tr style=\"text-align: right;\">\n",
       "      <th></th>\n",
       "      <th>year</th>\n",
       "      <th>month</th>\n",
       "      <th>day</th>\n",
       "      <th>prec</th>\n",
       "    </tr>\n",
       "  </thead>\n",
       "  <tbody>\n",
       "    <tr>\n",
       "      <th>count</th>\n",
       "      <td> 4017.000000</td>\n",
       "      <td> 4017.000000</td>\n",
       "      <td> 4017.00000</td>\n",
       "      <td> 4017.000000</td>\n",
       "    </tr>\n",
       "    <tr>\n",
       "      <th>mean</th>\n",
       "      <td> 1986.000000</td>\n",
       "      <td>    6.523774</td>\n",
       "      <td>   15.72716</td>\n",
       "      <td>    2.063779</td>\n",
       "    </tr>\n",
       "    <tr>\n",
       "      <th>std</th>\n",
       "      <td>    3.162199</td>\n",
       "      <td>    3.448901</td>\n",
       "      <td>    8.80014</td>\n",
       "      <td>    5.012016</td>\n",
       "    </tr>\n",
       "    <tr>\n",
       "      <th>min</th>\n",
       "      <td> 1981.000000</td>\n",
       "      <td>    1.000000</td>\n",
       "      <td>    1.00000</td>\n",
       "      <td>    0.000000</td>\n",
       "    </tr>\n",
       "    <tr>\n",
       "      <th>25%</th>\n",
       "      <td> 1983.000000</td>\n",
       "      <td>    4.000000</td>\n",
       "      <td>    8.00000</td>\n",
       "      <td>    0.000000</td>\n",
       "    </tr>\n",
       "    <tr>\n",
       "      <th>50%</th>\n",
       "      <td> 1986.000000</td>\n",
       "      <td>    7.000000</td>\n",
       "      <td>   16.00000</td>\n",
       "      <td>    0.000000</td>\n",
       "    </tr>\n",
       "    <tr>\n",
       "      <th>75%</th>\n",
       "      <td> 1989.000000</td>\n",
       "      <td>   10.000000</td>\n",
       "      <td>   23.00000</td>\n",
       "      <td>    1.900000</td>\n",
       "    </tr>\n",
       "    <tr>\n",
       "      <th>max</th>\n",
       "      <td> 1991.000000</td>\n",
       "      <td>   12.000000</td>\n",
       "      <td>   31.00000</td>\n",
       "      <td>  136.600000</td>\n",
       "    </tr>\n",
       "  </tbody>\n",
       "</table>\n",
       "</div>"
      ],
      "text/plain": [
       "              year        month         day         prec\n",
       "count  4017.000000  4017.000000  4017.00000  4017.000000\n",
       "mean   1986.000000     6.523774    15.72716     2.063779\n",
       "std       3.162199     3.448901     8.80014     5.012016\n",
       "min    1981.000000     1.000000     1.00000     0.000000\n",
       "25%    1983.000000     4.000000     8.00000     0.000000\n",
       "50%    1986.000000     7.000000    16.00000     0.000000\n",
       "75%    1989.000000    10.000000    23.00000     1.900000\n",
       "max    1991.000000    12.000000    31.00000   136.600000"
      ]
     },
     "execution_count": 141,
     "metadata": {},
     "output_type": "execute_result"
    }
   ],
   "source": [
    "# now read the file and let's just take a quick look\n",
    "precip_daily = pd.read_table('P_Uppsala.dat', header=None, names=['year', 'month', 'day', 'prec'])\n",
    "precip_daily.describe()"
   ]
  },
  {
   "cell_type": "markdown",
   "metadata": {},
   "source": [
    "From the output we can see that each record (year, month, day, prec) or what you may think of as a row, has 4017 entries. The descriptive statistics for each column is shown. Let's take a look at the data types:"
   ]
  },
  {
   "cell_type": "code",
   "execution_count": 142,
   "metadata": {
    "collapsed": false
   },
   "outputs": [
    {
     "data": {
      "text/plain": [
       "year       int64\n",
       "month      int64\n",
       "day        int64\n",
       "prec     float64\n",
       "dtype: object"
      ]
     },
     "execution_count": 142,
     "metadata": {},
     "output_type": "execute_result"
    }
   ],
   "source": [
    "precip_daily.dtypes"
   ]
  },
  {
   "cell_type": "markdown",
   "metadata": {},
   "source": [
    "So we see that even though the describe function outputs float values, are dtypes are in fact ints for year, month, day. This is good, as it takes less memory. Pandas figured this out automatically when reading in the data, though we could have defined it:\n",
    "\n"
   ]
  },
  {
   "cell_type": "code",
   "execution_count": 143,
   "metadata": {
    "collapsed": false
   },
   "outputs": [],
   "source": [
    "precip_daily = pd.read_table('P_Uppsala.dat', header=None, names=['year', 'month', 'day', 'prec'], \n",
    "dtype={'year':np.int64, 'month':np.int64, 'day':np.int64, 'prec':np.float64})"
   ]
  },
  {
   "cell_type": "markdown",
   "metadata": {},
   "source": [
    "There are many other options for reading from text files, and reading data in general. Become familiar with the various features (and power!) of pandas to handle getting data into your workflow.\n",
    "\n",
    "###Calculating yearly total precipitation\n",
    "We're going to use some of the features of the `pandas.dataframe` to calculate the yearly precipitation. In generally, for every year we have to sum the daily data. We could do this by looping over all the unique years that are in the precip_daily data:"
   ]
  },
  {
   "cell_type": "code",
   "execution_count": 144,
   "metadata": {
    "collapsed": false
   },
   "outputs": [
    {
     "data": {
      "text/plain": [
       "{1981, 1982, 1983, 1984, 1985, 1986, 1987, 1988, 1989, 1990, 1991}"
      ]
     },
     "execution_count": 144,
     "metadata": {},
     "output_type": "execute_result"
    }
   ],
   "source": [
    "years = set(precip_daily.year)\n",
    "years"
   ]
  },
  {
   "cell_type": "markdown",
   "metadata": {},
   "source": [
    "But there is a much more efficient mechanism built in to pandas; the `groupby` function. This groups data by one of the columns of data in the data frame:"
   ]
  },
  {
   "cell_type": "code",
   "execution_count": 145,
   "metadata": {
    "collapsed": false
   },
   "outputs": [
    {
     "data": {
      "text/plain": [
       "year\n",
       "1981    892.5\n",
       "1982    754.9\n",
       "1983    846.6\n",
       "1984    750.9\n",
       "1985    698.5\n",
       "1986    895.2\n",
       "1987    599.2\n",
       "1988    792.5\n",
       "1989    513.4\n",
       "1990    814.2\n",
       "1991    732.3\n",
       "Name: prec, dtype: float64"
      ]
     },
     "execution_count": 145,
     "metadata": {},
     "output_type": "execute_result"
    }
   ],
   "source": [
    "precip_annual = precip_daily.groupby('year')['prec'].sum()\n",
    "precip_annual"
   ]
  },
  {
   "cell_type": "markdown",
   "metadata": {},
   "source": [
    "Let's take a closer look at what we're doing here. The `groupby` function applies a function to a grouping. The grouping is either defined by a function (which can be passed as the first argument) or a column index. Compare the following:"
   ]
  },
  {
   "cell_type": "code",
   "execution_count": 146,
   "metadata": {
    "collapsed": false
   },
   "outputs": [
    {
     "name": "stdout",
     "output_type": "stream",
     "text": [
      "year\n",
      "1981    892.5\n",
      "1982    754.9\n",
      "1983    846.6\n",
      "1984    750.9\n",
      "1985    698.5\n",
      "1986    895.2\n",
      "1987    599.2\n",
      "1988    792.5\n",
      "1989    513.4\n",
      "1990    814.2\n",
      "1991    732.3\n",
      "Name: prec, dtype: float64\n",
      "      month   day   prec\n",
      "year                    \n",
      "1981   2382  5738  892.5\n",
      "1982   2382  5738  754.9\n",
      "1983   2382  5738  846.6\n",
      "1984   2384  5767  750.9\n",
      "1985   2382  5738  698.5\n",
      "1986   2382  5738  895.2\n",
      "1987   2382  5738  599.2\n",
      "1988   2384  5767  792.5\n",
      "1989   2382  5738  513.4\n",
      "1990   2382  5738  814.2\n",
      "1991   2382  5738  732.3\n"
     ]
    }
   ],
   "source": [
    "precip_annual = precip_daily.groupby('year')['prec'].sum()\n",
    "print precip_annual\n",
    "\n",
    "grouped = precip_daily.groupby('year').sum()\n",
    "print grouped"
   ]
  },
  {
   "cell_type": "markdown",
   "metadata": {},
   "source": [
    "In the first case, the groupby function returns just the sum of the 'prec' column, after grouping by the years. In the second case, the function returns the sum of all the columns grouped by years. We want the first case."
   ]
  },
  {
   "cell_type": "markdown",
   "metadata": {},
   "source": [
    "We can carry this on to obtain monthly data as well:"
   ]
  },
  {
   "cell_type": "code",
   "execution_count": 147,
   "metadata": {
    "collapsed": false
   },
   "outputs": [
    {
     "name": "stdout",
     "output_type": "stream",
     "text": [
      "year  month\n",
      "1981  1         32.1\n",
      "      2         26.2\n",
      "      3         61.8\n",
      "      4         22.2\n",
      "      5         22.5\n",
      "      6         98.4\n",
      "      7         79.8\n",
      "      8        162.5\n",
      "      9         12.6\n",
      "      10       121.5\n",
      "      11       144.1\n",
      "      12       108.8\n",
      "1982  1         41.8\n",
      "      2         30.3\n",
      "      3         54.3\n",
      "...\n",
      "1990  10        79.4\n",
      "      11        59.7\n",
      "      12        42.4\n",
      "1991  1         58.5\n",
      "      2         29.3\n",
      "      3         40.5\n",
      "      4         23.8\n",
      "      5         77.5\n",
      "      6        142.3\n",
      "      7         53.8\n",
      "      8        124.1\n",
      "      9         71.2\n",
      "      10        26.8\n",
      "      11        47.4\n",
      "      12        37.1\n",
      "Name: prec, Length: 132, dtype: float64\n",
      "<class 'pandas.core.series.Series'>\n"
     ]
    }
   ],
   "source": [
    "precip_monthly = precip_daily.groupby(['year', 'month']) ['prec'].sum()\n",
    "print precip_monthly\n",
    "print type(precip_monthly)"
   ]
  },
  {
   "cell_type": "markdown",
   "metadata": {},
   "source": [
    "This is quite powerful for data management, and it is all optimized to use underlying C code. There may be faster solutions, but overall it will suit your data management and timeseries analysis needs.\n",
    "\n",
    "Maybe this format is not optimal, however, or you would like to write out the data to a table in a .csv file. This can be easily achieved by using some features of the returned `pandas.Series`:"
   ]
  },
  {
   "cell_type": "code",
   "execution_count": 148,
   "metadata": {
    "collapsed": false,
    "scrolled": true
   },
   "outputs": [
    {
     "name": "stdout",
     "output_type": "stream",
     "text": [
      "month    1     2      3     4      5      6      7      8      9      10  \\\n",
      "year                                                                       \n",
      "1981   32.1  26.2   61.8  22.2   22.5   98.4   79.8  162.5   12.6  121.5   \n",
      "1982   41.8  30.3   54.3  49.9  191.8   37.4   51.5   77.4   48.3   45.8   \n",
      "1983   77.6   9.9  106.6  46.1   35.7  105.3   80.0   25.4  187.8   58.3   \n",
      "1984   71.8  28.8   34.2  10.7   28.8   96.9   67.4   51.1  145.0  114.0   \n",
      "1985   82.5  37.2   42.1  68.5   23.4   24.9  103.7   50.4   76.3   53.0   \n",
      "1986   50.3  12.1   68.8  50.9   76.6   39.3  120.5  234.0   55.9   44.5   \n",
      "1987   22.5  27.9   21.7   4.3   54.7   77.4   92.4  121.7   65.1   33.6   \n",
      "1988   71.8  63.9   40.4  36.7   41.2   51.2  106.0  172.9   35.6   69.0   \n",
      "1989    9.2  28.1   50.7  54.8   37.9   41.5   11.2   68.0   23.4   74.4   \n",
      "1990   74.0  78.5   56.3  46.2   29.8   25.2  128.3   41.9  152.5   79.4   \n",
      "1991   58.5  29.3   40.5  23.8   77.5  142.3   53.8  124.1   71.2   26.8   \n",
      "\n",
      "month     11     12  \n",
      "year                 \n",
      "1981   144.1  108.8  \n",
      "1982    74.0   52.4  \n",
      "1983    36.1   77.8  \n",
      "1984    50.8   51.4  \n",
      "1985    73.8   62.7  \n",
      "1986    53.8   88.5  \n",
      "1987    53.5   24.4  \n",
      "1988    37.8   66.0  \n",
      "1989    54.9   59.3  \n",
      "1990    59.7   42.4  \n",
      "1991    47.4   37.1  \n",
      "<class 'pandas.core.frame.DataFrame'>\n"
     ]
    }
   ],
   "source": [
    "#we may want it as a table/dataframe\n",
    "monthly = precip_monthly.unstack().head(11)\n",
    "print monthly\n",
    "print type(monthly)"
   ]
  },
  {
   "cell_type": "markdown",
   "metadata": {},
   "source": [
    "If you want to export data in to .csv format then\n",
    "\n",
    "monthly_ppt.to_csv('monthly.csv', index = 1, header = 1)"
   ]
  },
  {
   "cell_type": "markdown",
   "metadata": {},
   "source": [
    "Woking from monthly data\n",
    "Open monthly precipitation data given in working folder"
   ]
  },
  {
   "cell_type": "code",
   "execution_count": 149,
   "metadata": {
    "collapsed": true
   },
   "outputs": [],
   "source": [
    "precip_mon = pd.read_table('P_uppmonth1.dat')"
   ]
  },
  {
   "cell_type": "markdown",
   "metadata": {},
   "source": [
    "##### 1.1 Compute for each month: mean, median, mode, standard deviation, coefficient of variation, minimum and maximum. Plot these values to show the annual variation.\n",
    "\n",
    "To calculate the yearly sum of the precipitation\n",
    "\n"
   ]
  },
  {
   "cell_type": "code",
   "execution_count": 150,
   "metadata": {
    "collapsed": false
   },
   "outputs": [
    {
     "data": {
      "text/plain": [
       "year\n",
       "1981    894\n",
       "1982    754\n",
       "1983    847\n",
       "1984    751\n",
       "1985    699\n",
       "1986    897\n",
       "1987    600\n",
       "1988    793\n",
       "1989    513\n",
       "1990    814\n",
       "1991    733\n",
       "dtype: int64"
      ]
     },
     "execution_count": 150,
     "metadata": {},
     "output_type": "execute_result"
    }
   ],
   "source": [
    "annual_sum= precip_mon.set_index('year').sum(axis=1) \n",
    "annual_sum"
   ]
  },
  {
   "cell_type": "markdown",
   "metadata": {},
   "source": [
    "If you dont want to keep the year info for each sum then"
   ]
  },
  {
   "cell_type": "code",
   "execution_count": 151,
   "metadata": {
    "collapsed": false
   },
   "outputs": [
    {
     "data": {
      "text/plain": [
       "0     894\n",
       "1     754\n",
       "2     847\n",
       "3     751\n",
       "4     699\n",
       "5     897\n",
       "6     600\n",
       "7     793\n",
       "8     513\n",
       "9     814\n",
       "10    733\n",
       "dtype: int64"
      ]
     },
     "execution_count": 151,
     "metadata": {},
     "output_type": "execute_result"
    }
   ],
   "source": [
    "precip_mon.drop('year', axis=1).sum(axis=1)"
   ]
  },
  {
   "cell_type": "markdown",
   "metadata": {},
   "source": [
    "Statistical calculation becomes easier when defining dataframe. We can define data frame in the following way:"
   ]
  },
  {
   "cell_type": "code",
   "execution_count": 152,
   "metadata": {
    "collapsed": false
   },
   "outputs": [
    {
     "data": {
      "text/html": [
       "<div style=\"max-height:1000px;max-width:1500px;overflow:auto;\">\n",
       "<table border=\"1\" class=\"dataframe\">\n",
       "  <thead>\n",
       "    <tr style=\"text-align: right;\">\n",
       "      <th></th>\n",
       "      <th>Jan</th>\n",
       "      <th>Feb</th>\n",
       "      <th>Mar</th>\n",
       "      <th>Apr</th>\n",
       "      <th>May</th>\n",
       "      <th>Jun</th>\n",
       "      <th>Jul</th>\n",
       "      <th>Aug</th>\n",
       "      <th>Sep</th>\n",
       "      <th>Oct</th>\n",
       "      <th>Nov</th>\n",
       "      <th>Dec</th>\n",
       "    </tr>\n",
       "  </thead>\n",
       "  <tbody>\n",
       "    <tr>\n",
       "      <th>0 </th>\n",
       "      <td> 32</td>\n",
       "      <td> 26</td>\n",
       "      <td>  62</td>\n",
       "      <td> 22</td>\n",
       "      <td>  23</td>\n",
       "      <td>  98</td>\n",
       "      <td>  80</td>\n",
       "      <td> 163</td>\n",
       "      <td>  13</td>\n",
       "      <td> 122</td>\n",
       "      <td> 144</td>\n",
       "      <td> 109</td>\n",
       "    </tr>\n",
       "    <tr>\n",
       "      <th>1 </th>\n",
       "      <td> 42</td>\n",
       "      <td> 30</td>\n",
       "      <td>  54</td>\n",
       "      <td> 50</td>\n",
       "      <td> 192</td>\n",
       "      <td>  37</td>\n",
       "      <td>  52</td>\n",
       "      <td>  77</td>\n",
       "      <td>  48</td>\n",
       "      <td>  46</td>\n",
       "      <td>  74</td>\n",
       "      <td>  52</td>\n",
       "    </tr>\n",
       "    <tr>\n",
       "      <th>2 </th>\n",
       "      <td> 78</td>\n",
       "      <td> 10</td>\n",
       "      <td> 107</td>\n",
       "      <td> 46</td>\n",
       "      <td>  36</td>\n",
       "      <td> 105</td>\n",
       "      <td>  80</td>\n",
       "      <td>  25</td>\n",
       "      <td> 188</td>\n",
       "      <td>  58</td>\n",
       "      <td>  36</td>\n",
       "      <td>  78</td>\n",
       "    </tr>\n",
       "    <tr>\n",
       "      <th>3 </th>\n",
       "      <td> 72</td>\n",
       "      <td> 29</td>\n",
       "      <td>  34</td>\n",
       "      <td> 11</td>\n",
       "      <td>  29</td>\n",
       "      <td>  97</td>\n",
       "      <td>  67</td>\n",
       "      <td>  51</td>\n",
       "      <td> 145</td>\n",
       "      <td> 114</td>\n",
       "      <td>  51</td>\n",
       "      <td>  51</td>\n",
       "    </tr>\n",
       "    <tr>\n",
       "      <th>4 </th>\n",
       "      <td> 83</td>\n",
       "      <td> 37</td>\n",
       "      <td>  42</td>\n",
       "      <td> 69</td>\n",
       "      <td>  23</td>\n",
       "      <td>  25</td>\n",
       "      <td> 104</td>\n",
       "      <td>  50</td>\n",
       "      <td>  76</td>\n",
       "      <td>  53</td>\n",
       "      <td>  74</td>\n",
       "      <td>  63</td>\n",
       "    </tr>\n",
       "    <tr>\n",
       "      <th>5 </th>\n",
       "      <td> 50</td>\n",
       "      <td> 12</td>\n",
       "      <td>  69</td>\n",
       "      <td> 51</td>\n",
       "      <td>  77</td>\n",
       "      <td>  39</td>\n",
       "      <td> 121</td>\n",
       "      <td> 234</td>\n",
       "      <td>  56</td>\n",
       "      <td>  45</td>\n",
       "      <td>  54</td>\n",
       "      <td>  89</td>\n",
       "    </tr>\n",
       "    <tr>\n",
       "      <th>6 </th>\n",
       "      <td> 23</td>\n",
       "      <td> 28</td>\n",
       "      <td>  22</td>\n",
       "      <td>  4</td>\n",
       "      <td>  55</td>\n",
       "      <td>  77</td>\n",
       "      <td>  92</td>\n",
       "      <td> 122</td>\n",
       "      <td>  65</td>\n",
       "      <td>  34</td>\n",
       "      <td>  54</td>\n",
       "      <td>  24</td>\n",
       "    </tr>\n",
       "    <tr>\n",
       "      <th>7 </th>\n",
       "      <td> 72</td>\n",
       "      <td> 64</td>\n",
       "      <td>  40</td>\n",
       "      <td> 37</td>\n",
       "      <td>  41</td>\n",
       "      <td>  51</td>\n",
       "      <td> 106</td>\n",
       "      <td> 173</td>\n",
       "      <td>  36</td>\n",
       "      <td>  69</td>\n",
       "      <td>  38</td>\n",
       "      <td>  66</td>\n",
       "    </tr>\n",
       "    <tr>\n",
       "      <th>8 </th>\n",
       "      <td>  9</td>\n",
       "      <td> 28</td>\n",
       "      <td>  51</td>\n",
       "      <td> 55</td>\n",
       "      <td>  38</td>\n",
       "      <td>  42</td>\n",
       "      <td>  11</td>\n",
       "      <td>  68</td>\n",
       "      <td>  23</td>\n",
       "      <td>  74</td>\n",
       "      <td>  55</td>\n",
       "      <td>  59</td>\n",
       "    </tr>\n",
       "    <tr>\n",
       "      <th>9 </th>\n",
       "      <td> 74</td>\n",
       "      <td> 79</td>\n",
       "      <td>  56</td>\n",
       "      <td> 46</td>\n",
       "      <td>  30</td>\n",
       "      <td>  25</td>\n",
       "      <td> 128</td>\n",
       "      <td>  42</td>\n",
       "      <td> 153</td>\n",
       "      <td>  79</td>\n",
       "      <td>  60</td>\n",
       "      <td>  42</td>\n",
       "    </tr>\n",
       "    <tr>\n",
       "      <th>10</th>\n",
       "      <td> 59</td>\n",
       "      <td> 29</td>\n",
       "      <td>  41</td>\n",
       "      <td> 24</td>\n",
       "      <td>  78</td>\n",
       "      <td> 142</td>\n",
       "      <td>  54</td>\n",
       "      <td> 124</td>\n",
       "      <td>  71</td>\n",
       "      <td>  27</td>\n",
       "      <td>  47</td>\n",
       "      <td>  37</td>\n",
       "    </tr>\n",
       "  </tbody>\n",
       "</table>\n",
       "</div>"
      ],
      "text/plain": [
       "    Jan  Feb  Mar  Apr  May  Jun  Jul  Aug  Sep  Oct  Nov  Dec\n",
       "0    32   26   62   22   23   98   80  163   13  122  144  109\n",
       "1    42   30   54   50  192   37   52   77   48   46   74   52\n",
       "2    78   10  107   46   36  105   80   25  188   58   36   78\n",
       "3    72   29   34   11   29   97   67   51  145  114   51   51\n",
       "4    83   37   42   69   23   25  104   50   76   53   74   63\n",
       "5    50   12   69   51   77   39  121  234   56   45   54   89\n",
       "6    23   28   22    4   55   77   92  122   65   34   54   24\n",
       "7    72   64   40   37   41   51  106  173   36   69   38   66\n",
       "8     9   28   51   55   38   42   11   68   23   74   55   59\n",
       "9    74   79   56   46   30   25  128   42  153   79   60   42\n",
       "10   59   29   41   24   78  142   54  124   71   27   47   37"
      ]
     },
     "execution_count": 152,
     "metadata": {},
     "output_type": "execute_result"
    }
   ],
   "source": [
    "mon_df = pd.DataFrame(precip_mon, columns = precip_mon.columns[1:])\n",
    "mon_df"
   ]
  },
  {
   "cell_type": "markdown",
   "metadata": {},
   "source": [
    "##### To calculate monthly mean"
   ]
  },
  {
   "cell_type": "code",
   "execution_count": 153,
   "metadata": {
    "collapsed": false
   },
   "outputs": [
    {
     "data": {
      "text/plain": [
       "Jan     54.0\n",
       "Feb     33.8\n",
       "Mar     52.5\n",
       "Apr     37.7\n",
       "May     56.5\n",
       "Jun     67.1\n",
       "Jul     81.4\n",
       "Aug    102.6\n",
       "Sep     79.5\n",
       "Oct     65.5\n",
       "Nov     62.5\n",
       "Dec     60.9\n",
       "dtype: float64"
      ]
     },
     "execution_count": 153,
     "metadata": {},
     "output_type": "execute_result"
    }
   ],
   "source": [
    "mon_mean = mon_df.mean(axis=0).round(1)\n",
    "mon_mean"
   ]
  },
  {
   "cell_type": "markdown",
   "metadata": {},
   "source": [
    "##### To calculate Monthly Median"
   ]
  },
  {
   "cell_type": "code",
   "execution_count": 154,
   "metadata": {
    "collapsed": false
   },
   "outputs": [
    {
     "data": {
      "text/plain": [
       "Jan    59\n",
       "Feb    29\n",
       "Mar    51\n",
       "Apr    46\n",
       "May    38\n",
       "Jun    51\n",
       "Jul    80\n",
       "Aug    77\n",
       "Sep    65\n",
       "Oct    58\n",
       "Nov    54\n",
       "Dec    59\n",
       "dtype: float64"
      ]
     },
     "execution_count": 154,
     "metadata": {},
     "output_type": "execute_result"
    }
   ],
   "source": [
    "mon_median = mon_df.median(axis = 0)\n",
    "mon_median"
   ]
  },
  {
   "cell_type": "markdown",
   "metadata": {},
   "source": [
    "##### Monthly Maximum precipitation"
   ]
  },
  {
   "cell_type": "code",
   "execution_count": 155,
   "metadata": {
    "collapsed": false
   },
   "outputs": [
    {
     "data": {
      "text/plain": [
       "Jan     83\n",
       "Feb     79\n",
       "Mar    107\n",
       "Apr     69\n",
       "May    192\n",
       "Jun    142\n",
       "Jul    128\n",
       "Aug    234\n",
       "Sep    188\n",
       "Oct    122\n",
       "Nov    144\n",
       "Dec    109\n",
       "dtype: int64"
      ]
     },
     "execution_count": 155,
     "metadata": {},
     "output_type": "execute_result"
    }
   ],
   "source": [
    "mon_max = mon_df.max(axis = 0)\n",
    "mon_max"
   ]
  },
  {
   "cell_type": "markdown",
   "metadata": {},
   "source": [
    "##### Monthly min precipitation"
   ]
  },
  {
   "cell_type": "code",
   "execution_count": 156,
   "metadata": {
    "collapsed": false
   },
   "outputs": [
    {
     "data": {
      "text/plain": [
       "Jan     9\n",
       "Feb    10\n",
       "Mar    22\n",
       "Apr     4\n",
       "May    23\n",
       "Jun    25\n",
       "Jul    11\n",
       "Aug    25\n",
       "Sep    13\n",
       "Oct    27\n",
       "Nov    36\n",
       "Dec    24\n",
       "dtype: int64"
      ]
     },
     "execution_count": 156,
     "metadata": {},
     "output_type": "execute_result"
    }
   ],
   "source": [
    "mon_min = mon_df.min(axis=0)\n",
    "mon_min"
   ]
  },
  {
   "cell_type": "markdown",
   "metadata": {},
   "source": [
    "##### Monthly Mode"
   ]
  },
  {
   "cell_type": "code",
   "execution_count": 157,
   "metadata": {
    "collapsed": false,
    "scrolled": true
   },
   "outputs": [
    {
     "data": {
      "text/html": [
       "<div style=\"max-height:1000px;max-width:1500px;overflow:auto;\">\n",
       "<table border=\"1\" class=\"dataframe\">\n",
       "  <thead>\n",
       "    <tr style=\"text-align: right;\">\n",
       "      <th></th>\n",
       "      <th>Jan</th>\n",
       "      <th>Feb</th>\n",
       "      <th>Mar</th>\n",
       "      <th>Apr</th>\n",
       "      <th>May</th>\n",
       "      <th>Jun</th>\n",
       "      <th>Jul</th>\n",
       "      <th>Aug</th>\n",
       "      <th>Sep</th>\n",
       "      <th>Oct</th>\n",
       "      <th>Nov</th>\n",
       "      <th>Dec</th>\n",
       "    </tr>\n",
       "  </thead>\n",
       "  <tbody>\n",
       "    <tr>\n",
       "      <th>0</th>\n",
       "      <td> 72</td>\n",
       "      <td> 28</td>\n",
       "      <td>NaN</td>\n",
       "      <td> 46</td>\n",
       "      <td> 23</td>\n",
       "      <td> 25</td>\n",
       "      <td> 80</td>\n",
       "      <td>NaN</td>\n",
       "      <td>NaN</td>\n",
       "      <td>NaN</td>\n",
       "      <td> 54</td>\n",
       "      <td>NaN</td>\n",
       "    </tr>\n",
       "    <tr>\n",
       "      <th>1</th>\n",
       "      <td>NaN</td>\n",
       "      <td> 29</td>\n",
       "      <td>NaN</td>\n",
       "      <td>NaN</td>\n",
       "      <td>NaN</td>\n",
       "      <td>NaN</td>\n",
       "      <td>NaN</td>\n",
       "      <td>NaN</td>\n",
       "      <td>NaN</td>\n",
       "      <td>NaN</td>\n",
       "      <td> 74</td>\n",
       "      <td>NaN</td>\n",
       "    </tr>\n",
       "  </tbody>\n",
       "</table>\n",
       "</div>"
      ],
      "text/plain": [
       "   Jan  Feb  Mar  Apr  May  Jun  Jul  Aug  Sep  Oct  Nov  Dec\n",
       "0   72   28  NaN   46   23   25   80  NaN  NaN  NaN   54  NaN\n",
       "1  NaN   29  NaN  NaN  NaN  NaN  NaN  NaN  NaN  NaN   74  NaN"
      ]
     },
     "execution_count": 157,
     "metadata": {},
     "output_type": "execute_result"
    }
   ],
   "source": [
    "mon_mode = mon_df.mode(axis = 0)\n",
    "mon_mode"
   ]
  },
  {
   "cell_type": "code",
   "execution_count": null,
   "metadata": {
    "collapsed": true
   },
   "outputs": [],
   "source": []
  },
  {
   "cell_type": "markdown",
   "metadata": {},
   "source": [
    "##### Monthly standard deviation"
   ]
  },
  {
   "cell_type": "code",
   "execution_count": 158,
   "metadata": {
    "collapsed": false
   },
   "outputs": [
    {
     "data": {
      "text/plain": [
       "Jan    24.7\n",
       "Feb    20.5\n",
       "Mar    22.4\n",
       "Apr    20.1\n",
       "May    48.9\n",
       "Jun    38.9\n",
       "Jul    34.3\n",
       "Aug    66.1\n",
       "Sep    57.3\n",
       "Oct    30.5\n",
       "Nov    29.6\n",
       "Dec    24.3\n",
       "dtype: float64"
      ]
     },
     "execution_count": 158,
     "metadata": {},
     "output_type": "execute_result"
    }
   ],
   "source": [
    "mon_std = mon_df.std(axis=0).round(1)\n",
    "mon_std"
   ]
  },
  {
   "cell_type": "markdown",
   "metadata": {},
   "source": [
    "##### Coefficient of Variation"
   ]
  },
  {
   "cell_type": "code",
   "execution_count": 159,
   "metadata": {
    "collapsed": false
   },
   "outputs": [
    {
     "data": {
      "text/plain": [
       "array([ 0.4,  0.6,  0.4,  0.5,  0.8,  0.6,  0.4,  0.6,  0.7,  0.4,  0.5,\n",
       "        0.4])"
      ]
     },
     "execution_count": 159,
     "metadata": {},
     "output_type": "execute_result"
    }
   ],
   "source": [
    "import scipy.stats as ss\n",
    "\n",
    "mon_cv= ss.variation(mon_df, axis=0).round(1)\n",
    "mon_cv"
   ]
  },
  {
   "cell_type": "markdown",
   "metadata": {},
   "source": [
    "##### Showing the annual variation by making plots\n",
    "\n",
    "plot several parameters (mean, median, max, min) in one plot.\n",
    "\n",
    "Join the data sets (i.e. mean, median, max and min)"
   ]
  },
  {
   "cell_type": "code",
   "execution_count": 160,
   "metadata": {
    "collapsed": false
   },
   "outputs": [
    {
     "data": {
      "image/png": "[encoded data removed]",
      "text/plain": [
       "<matplotlib.figure.Figure at 0x7fb3591e8490>"
      ]
     },
     "metadata": {},
     "output_type": "display_data"
    }
   ],
   "source": [
    "import matplotlib.pyplot as plt\n",
    "all_stats = pd.concat([mon_mean,mon_median,mon_min,mon_max], axis = 1)\n",
    "all_stats['Jan':'Dec'].plot()\n",
    "plt.legend(['mean', 'median', 'min', 'max'], loc='upper left') \n",
    "plt.xlabel('Month') \n",
    "plt.ylabel('Precipitation[mm]') \n",
    "plt.title('Annual variation in precipitation') \n",
    "plt.show()"
   ]
  },
  {
   "cell_type": "markdown",
   "metadata": {},
   "source": [
    "##### Ploting standard deviation"
   ]
  },
  {
   "cell_type": "code",
   "execution_count": 161,
   "metadata": {
    "collapsed": false
   },
   "outputs": [
    {
     "data": {
      "image/png": "[encoded data removed]",
      "text/plain": [
       "<matplotlib.figure.Figure at 0x7fb35914af50>"
      ]
     },
     "metadata": {},
     "output_type": "display_data"
    }
   ],
   "source": [
    "plt.plot(mon_std[0:12], linestyle=\"dashed\", marker=\"o\", color=\"green\") \n",
    "plt.title('Annual variation in standard variation') \n",
    "plt.ylabel('stdev') \n",
    "plt.xlabel('Month') \n",
    "plt.show() "
   ]
  },
  {
   "cell_type": "markdown",
   "metadata": {},
   "source": [
    "##### Plotting coefficient of variation (CoV)"
   ]
  },
  {
   "cell_type": "code",
   "execution_count": 162,
   "metadata": {
    "collapsed": false
   },
   "outputs": [
    {
     "data": {
      "image/png": "[encoded data removed]",
      "text/plain": [
       "<matplotlib.figure.Figure at 0x7fb359073690>"
      ]
     },
     "metadata": {},
     "output_type": "display_data"
    }
   ],
   "source": [
    "plt.plot(mon_cv[0:12], linestyle=\"dashed\", marker=\"o\", color=\"red\")\n",
    "plt.title('Annual variation in coefficient of variation') \n",
    "plt.ylabel('coeff. of var.')\n",
    "plt.xlabel('Month')\n",
    "plt.show()\n"
   ]
  },
  {
   "cell_type": "markdown",
   "metadata": {},
   "source": [
    "##### 1.2 Calculate the probability for daily precipitation that :\n",
    "\n",
    "1) Equal zero \n",
    "\n",
    "2) More than zero\n",
    "\n",
    "3) More than 10 mm and \n",
    "\n",
    "4) More than 10 mm for the days with precipitation.\n",
    "\n",
    "##### 1. Equals to zero\n",
    "\n",
    "Probability of daily precipitation that equal zero is found by divide the number of days with zero precipitation by total number of days in the period.\n"
   ]
  },
  {
   "cell_type": "code",
   "execution_count": 163,
   "metadata": {
    "collapsed": false
   },
   "outputs": [
    {
     "name": "stdout",
     "output_type": "stream",
     "text": [
      "Probability of daily precipitation that equals to zero events = 52.8 \n"
     ]
    }
   ],
   "source": [
    "from __future__ import division\n",
    "total_no_of_zero_events = sum(x==0 for x in precip_daily['prec'])\n",
    "total_no_of_days_with_prec = sum(x>=0 for x in precip_daily['prec'])\n",
    "probability_of_zero_events = (total_no_of_zero_events / total_no_of_days_with_prec*100)\n",
    "print 'Probability of daily precipitation that equals to zero events = %.1f ' % (probability_of_zero_events)"
   ]
  },
  {
   "cell_type": "markdown",
   "metadata": {},
   "source": [
    "##### 2. More than zero\n",
    "\n",
    "Probability of daily precipitation more than zero is calculated by divide the number of days with precipitation by total number of days in the period."
   ]
  },
  {
   "cell_type": "code",
   "execution_count": 164,
   "metadata": {
    "collapsed": false
   },
   "outputs": [
    {
     "name": "stdout",
     "output_type": "stream",
     "text": [
      "Probability of daily precipitation that equals to more than zero= 47.2 \n"
     ]
    }
   ],
   "source": [
    "probability_more_than_zero = (sum(x>0 for x in precip_daily['prec'])/sum(x>=0 for x in precip_daily['prec']))*100\n",
    "\n",
    "print 'Probability of daily precipitation that equals to more than zero= %.1f ' % (probability_more_than_zero)"
   ]
  },
  {
   "cell_type": "markdown",
   "metadata": {},
   "source": [
    "or alternatively, since the probability of daily precipitation more than zero, and the probability of daily precipitation equal zero is mutually exclusive, the probability of daily precipitation more then zero is found by subtracting the probability of daily precipitation equal zero.\n",
    "\n",
    "P(X>0) = 1-52.8\n",
    "\n",
    "= 47.2"
   ]
  },
  {
   "cell_type": "markdown",
   "metadata": {},
   "source": [
    "##### 3. More than 10 mm"
   ]
  },
  {
   "cell_type": "code",
   "execution_count": 165,
   "metadata": {
    "collapsed": false
   },
   "outputs": [
    {
     "name": "stdout",
     "output_type": "stream",
     "text": [
      "Probability of daily precipitation that more than 10 mm = 5.8 \n"
     ]
    }
   ],
   "source": [
    "more_than_10 = (sum(x>10 for x in precip_daily['prec'])/sum(x>=0 for x in precip_daily['prec']))*100\n",
    "\n",
    "print 'Probability of daily precipitation that more than 10 mm = %.1f ' % (more_than_10)"
   ]
  },
  {
   "cell_type": "markdown",
   "metadata": {},
   "source": [
    "Note: if you write x >= 10 then it will also count the value of 10 (i.e inclusive function and the value becomes   5.9497)"
   ]
  },
  {
   "cell_type": "markdown",
   "metadata": {},
   "source": [
    "##### 4.  More than 10 mm for the day with precipitation"
   ]
  },
  {
   "cell_type": "code",
   "execution_count": 166,
   "metadata": {
    "collapsed": false
   },
   "outputs": [
    {
     "name": "stdout",
     "output_type": "stream",
     "text": [
      "Probability of daily precipitation that more than 10 mm  for the day with precipitation = 12.2\n"
     ]
    }
   ],
   "source": [
    "more_than_10_with_ppt = (sum(x>10 for x in precip_daily['prec'])/sum(x>0 for x in precip_daily['prec']))*100\n",
    "\n",
    "print 'Probability of daily precipitation that more than 10 mm  for the day with precipitation = %.1f' % (more_than_10_with_ppt)"
   ]
  },
  {
   "cell_type": "markdown",
   "metadata": {},
   "source": [
    "##### 1.3 From the daily data, calculate the maximum 1-day, 3-day and 5-day average rainfall amount, and state the date/period"
   ]
  },
  {
   "cell_type": "markdown",
   "metadata": {},
   "source": [
    "##### One day maximum precipitation with date"
   ]
  },
  {
   "cell_type": "code",
   "execution_count": 167,
   "metadata": {
    "collapsed": false
   },
   "outputs": [
    {
     "data": {
      "text/html": [
       "<div style=\"max-height:1000px;max-width:1500px;overflow:auto;\">\n",
       "<table border=\"1\" class=\"dataframe\">\n",
       "  <thead>\n",
       "    <tr style=\"text-align: right;\">\n",
       "      <th></th>\n",
       "      <th>year</th>\n",
       "      <th>month</th>\n",
       "      <th>day</th>\n",
       "      <th>prec</th>\n",
       "    </tr>\n",
       "  </thead>\n",
       "  <tbody>\n",
       "    <tr>\n",
       "      <th>505</th>\n",
       "      <td> 1982</td>\n",
       "      <td> 5</td>\n",
       "      <td> 21</td>\n",
       "      <td> 136.6</td>\n",
       "    </tr>\n",
       "  </tbody>\n",
       "</table>\n",
       "</div>"
      ],
      "text/plain": [
       "     year  month  day   prec\n",
       "505  1982      5   21  136.6"
      ]
     },
     "execution_count": 167,
     "metadata": {},
     "output_type": "execute_result"
    }
   ],
   "source": [
    "odmax = precip_daily[precip_daily['prec']==precip_daily['prec'].max()]\n",
    "odmax"
   ]
  },
  {
   "cell_type": "markdown",
   "metadata": {},
   "source": [
    "If the data are in column then we can find out by"
   ]
  },
  {
   "cell_type": "code",
   "execution_count": 168,
   "metadata": {
    "collapsed": false
   },
   "outputs": [
    {
     "data": {
      "text/html": [
       "<div style=\"max-height:1000px;max-width:1500px;overflow:auto;\">\n",
       "<table border=\"1\" class=\"dataframe\">\n",
       "  <thead>\n",
       "    <tr style=\"text-align: right;\">\n",
       "      <th></th>\n",
       "      <th>year</th>\n",
       "      <th>month</th>\n",
       "      <th>day</th>\n",
       "      <th>prec</th>\n",
       "    </tr>\n",
       "  </thead>\n",
       "  <tbody>\n",
       "    <tr>\n",
       "      <th>505</th>\n",
       "      <td> 1982</td>\n",
       "      <td> 5</td>\n",
       "      <td> 21</td>\n",
       "      <td> 136.6</td>\n",
       "    </tr>\n",
       "  </tbody>\n",
       "</table>\n",
       "</div>"
      ],
      "text/plain": [
       "     year  month  day   prec\n",
       "505  1982      5   21  136.6"
      ]
     },
     "execution_count": 168,
     "metadata": {},
     "output_type": "execute_result"
    }
   ],
   "source": [
    "odmax = precip_daily.sort(['prec'],ascending = False).head(1)\n",
    "odmax"
   ]
  },
  {
   "cell_type": "markdown",
   "metadata": {},
   "source": [
    "or we can also calculate one day maximum by"
   ]
  },
  {
   "cell_type": "code",
   "execution_count": 169,
   "metadata": {
    "collapsed": false
   },
   "outputs": [
    {
     "data": {
      "text/plain": [
       "136.6"
      ]
     },
     "execution_count": 169,
     "metadata": {},
     "output_type": "execute_result"
    }
   ],
   "source": [
    "odmax = precip_daily['prec'].max()  \n",
    "round(odmax,1)                         ##[ Note: it will only show maximum value i.e with out date]"
   ]
  },
  {
   "cell_type": "markdown",
   "metadata": {},
   "source": [
    "Hence, the maximum 1-day rainfall amount in Uppsala between 1981 and 1991 is 136.6 on the 21.05.1982."
   ]
  },
  {
   "cell_type": "markdown",
   "metadata": {},
   "source": [
    "##### Maximum 3 day average rainfall "
   ]
  },
  {
   "cell_type": "code",
   "execution_count": 170,
   "metadata": {
    "collapsed": true
   },
   "outputs": [],
   "source": [
    "df = pd.read_table('P_Uppsala.dat', sep='\\s+', header = None, names = ['year','month','day','prec'])"
   ]
  },
  {
   "cell_type": "code",
   "execution_count": 171,
   "metadata": {
    "collapsed": false
   },
   "outputs": [
    {
     "data": {
      "text/html": [
       "<div style=\"max-height:1000px;max-width:1500px;overflow:auto;\">\n",
       "<table border=\"1\" class=\"dataframe\">\n",
       "  <thead>\n",
       "    <tr style=\"text-align: right;\">\n",
       "      <th></th>\n",
       "      <th>year</th>\n",
       "      <th>month</th>\n",
       "      <th>day</th>\n",
       "      <th>prec</th>\n",
       "      <th>mv</th>\n",
       "    </tr>\n",
       "  </thead>\n",
       "  <tbody>\n",
       "    <tr>\n",
       "      <th>507</th>\n",
       "      <td> 1982</td>\n",
       "      <td> 5</td>\n",
       "      <td> 23</td>\n",
       "      <td> 5.6</td>\n",
       "      <td> 47.4</td>\n",
       "    </tr>\n",
       "  </tbody>\n",
       "</table>\n",
       "</div>"
      ],
      "text/plain": [
       "     year  month  day  prec    mv\n",
       "507  1982      5   23   5.6  47.4"
      ]
     },
     "execution_count": 171,
     "metadata": {},
     "output_type": "execute_result"
    }
   ],
   "source": [
    "df['mv']=pd.rolling_mean(df['prec'], 3)\n",
    "\n",
    "df[df['mv']==df['mv'].max()]\n"
   ]
  },
  {
   "cell_type": "markdown",
   "metadata": {},
   "source": [
    "Maximum 3-day rainfall amount in Uppsala is 47.4 mm  on 23.05.1982"
   ]
  },
  {
   "cell_type": "markdown",
   "metadata": {},
   "source": [
    "##### Maximum 5 day average rainfall "
   ]
  },
  {
   "cell_type": "code",
   "execution_count": 172,
   "metadata": {
    "collapsed": false
   },
   "outputs": [
    {
     "data": {
      "text/html": [
       "<div style=\"max-height:1000px;max-width:1500px;overflow:auto;\">\n",
       "<table border=\"1\" class=\"dataframe\">\n",
       "  <thead>\n",
       "    <tr style=\"text-align: right;\">\n",
       "      <th></th>\n",
       "      <th>year</th>\n",
       "      <th>month</th>\n",
       "      <th>day</th>\n",
       "      <th>prec</th>\n",
       "      <th>mv</th>\n",
       "      <th>mv5</th>\n",
       "    </tr>\n",
       "  </thead>\n",
       "  <tbody>\n",
       "    <tr>\n",
       "      <th>508</th>\n",
       "      <td> 1982</td>\n",
       "      <td> 5</td>\n",
       "      <td> 24</td>\n",
       "      <td> 6.4</td>\n",
       "      <td> 4</td>\n",
       "      <td> 29.72</td>\n",
       "    </tr>\n",
       "    <tr>\n",
       "      <th>509</th>\n",
       "      <td> 1982</td>\n",
       "      <td> 5</td>\n",
       "      <td> 25</td>\n",
       "      <td> 0.0</td>\n",
       "      <td> 4</td>\n",
       "      <td> 29.72</td>\n",
       "    </tr>\n",
       "  </tbody>\n",
       "</table>\n",
       "</div>"
      ],
      "text/plain": [
       "     year  month  day  prec  mv    mv5\n",
       "508  1982      5   24   6.4   4  29.72\n",
       "509  1982      5   25   0.0   4  29.72"
      ]
     },
     "execution_count": 172,
     "metadata": {},
     "output_type": "execute_result"
    }
   ],
   "source": [
    "df['mv5']=pd.rolling_mean(df['prec'], 5)\n",
    "df[df['mv5']==df['mv5'].max()]"
   ]
  },
  {
   "cell_type": "markdown",
   "metadata": {},
   "source": [
    "Maximum 5-day rainfall amount in Uppsala is 29.72 mm  happens in two different periods,  24.05.1982 and 25.05.1982"
   ]
  },
  {
   "cell_type": "markdown",
   "metadata": {},
   "source": [
    "##### 1.4 length of the maximum dry-spell days and the maximum wet-spell days of daily rainfall\n",
    "\n",
    "To calculate maximum dry-spell days according to month"
   ]
  },
  {
   "cell_type": "code",
   "execution_count": 173,
   "metadata": {
    "collapsed": false
   },
   "outputs": [
    {
     "data": {
      "text/plain": [
       "22"
      ]
     },
     "execution_count": 173,
     "metadata": {},
     "output_type": "execute_result"
    }
   ],
   "source": [
    "df = pd.read_table('P_Uppsala.dat', sep='\\s+', header = None, names = ['year','month','day','prec'])\n",
    "\n",
    "def func(group): return (group.prec != 0).astype(int).cumsum().value_counts().values[0] - 1 \n",
    "\n",
    "df1= df.groupby(['year','month']).apply(func)\n",
    "df1.max() "
   ]
  },
  {
   "cell_type": "code",
   "execution_count": 174,
   "metadata": {
    "collapsed": false
   },
   "outputs": [
    {
     "data": {
      "text/plain": [
       "(1981, 5)"
      ]
     },
     "execution_count": 174,
     "metadata": {},
     "output_type": "execute_result"
    }
   ],
   "source": [
    "df1.idxmax()"
   ]
  },
  {
   "cell_type": "markdown",
   "metadata": {},
   "source": [
    "Hence, the maximum dry-spell is 22 in May, 1981"
   ]
  },
  {
   "cell_type": "markdown",
   "metadata": {},
   "source": [
    "Note: There might be continuous longer dry-spell periods starting from one month and ending in next month, in this case we have to change the code slightly"
   ]
  },
  {
   "cell_type": "code",
   "execution_count": 175,
   "metadata": {
    "collapsed": false
   },
   "outputs": [
    {
     "data": {
      "text/plain": [
       "year\n",
       "1981    22\n",
       "1982    15\n",
       "1983    22\n",
       "1984    12\n",
       "1985    14\n",
       "1986     9\n",
       "1987    15\n",
       "1988    11\n",
       "1989    22\n",
       "1990    19\n",
       "1991    12\n",
       "dtype: int64"
      ]
     },
     "execution_count": 175,
     "metadata": {},
     "output_type": "execute_result"
    }
   ],
   "source": [
    "df2= df.groupby(['year']).apply(func)\n",
    "df2"
   ]
  },
  {
   "cell_type": "markdown",
   "metadata": {},
   "source": [
    "Hence in 1981, 1983 and 1989 have the same dry-spell of 22."
   ]
  },
  {
   "cell_type": "markdown",
   "metadata": {},
   "source": [
    "##### To calculate maximum wet-spell days according to month"
   ]
  },
  {
   "cell_type": "code",
   "execution_count": 176,
   "metadata": {
    "collapsed": false
   },
   "outputs": [
    {
     "data": {
      "text/plain": [
       "year\n",
       "1981     9\n",
       "1982    10\n",
       "1983    16\n",
       "1984    14\n",
       "1985    13\n",
       "1986    13\n",
       "1987    18\n",
       "1988    23\n",
       "1989     9\n",
       "1990    10\n",
       "1991    12\n",
       "dtype: int64"
      ]
     },
     "execution_count": 176,
     "metadata": {},
     "output_type": "execute_result"
    }
   ],
   "source": [
    "def func(group): \n",
    "        return (group.prec == 0).astype(int).cumsum()[group.prec != 0].value_counts().iloc[0] \n",
    "\n",
    "df2= df.groupby(['year']).apply(func)\n",
    "df2"
   ]
  },
  {
   "cell_type": "markdown",
   "metadata": {},
   "source": [
    "[Note: when you group by month also then you will get different result because, the rainy days starting form one month and ending in next month so the result is different.]"
   ]
  },
  {
   "cell_type": "markdown",
   "metadata": {},
   "source": [
    "Hence, Maximum wet-spell days in Uppsala from 1981 to 1991 is 23 on 1988."
   ]
  },
  {
   "cell_type": "markdown",
   "metadata": {},
   "source": [
    "### part II\n",
    "\n",
    "In this section we will work on Tahoe lake data.\n",
    "Read the data which is provided"
   ]
  },
  {
   "cell_type": "code",
   "execution_count": 177,
   "metadata": {
    "collapsed": true
   },
   "outputs": [],
   "source": [
    "tahoe = pd.read_table('Tahoe.dat',sep='\\s+', header = None, names = ['depth','nan'])\n"
   ]
  },
  {
   "cell_type": "markdown",
   "metadata": {},
   "source": [
    "Define dataframe"
   ]
  },
  {
   "cell_type": "code",
   "execution_count": 178,
   "metadata": {
    "collapsed": false
   },
   "outputs": [],
   "source": [
    "df= pd.DataFrame(tahoe['depth'])\n"
   ]
  },
  {
   "cell_type": "markdown",
   "metadata": {},
   "source": [
    "Note: If you want to plot regular histogram then just give the command plt.hist(df['depth'])\n"
   ]
  },
  {
   "cell_type": "markdown",
   "metadata": {},
   "source": [
    "##### Plot relative histogram"
   ]
  },
  {
   "cell_type": "code",
   "execution_count": 179,
   "metadata": {
    "collapsed": false
   },
   "outputs": [
    {
     "data": {
      "image/png": "[encoded data removed]",
      "text/plain": [
       "<matplotlib.figure.Figure at 0x7fb3594e8990>"
      ]
     },
     "metadata": {},
     "output_type": "display_data"
    }
   ],
   "source": [
    "plt.hist(df['depth'], bins= 8, normed = True) \n",
    "plt.ylabel('density')\n",
    "plt.xlabel('Depth of Clarity (in)')\n",
    "plt.title('Lake Tahoe')\n",
    "plt.show()"
   ]
  },
  {
   "cell_type": "markdown",
   "metadata": {},
   "source": [
    "##### Plot cumulative relative frequency"
   ]
  },
  {
   "cell_type": "code",
   "execution_count": 180,
   "metadata": {
    "collapsed": false
   },
   "outputs": [
    {
     "data": {
      "text/plain": [
       "<matplotlib.text.Text at 0x7fb35938d750>"
      ]
     },
     "execution_count": 180,
     "metadata": {},
     "output_type": "execute_result"
    },
    {
     "data": {
      "image/png": "[encoded data removed]",
      "text/plain": [
       "<matplotlib.figure.Figure at 0x7fb358f41190>"
      ]
     },
     "metadata": {},
     "output_type": "display_data"
    }
   ],
   "source": [
    "plt.hist(df['depth'], bins= 10,  cumulative = True)\n",
    "plt.xlabel('cumm depth of Clarity (in)')\n",
    "plt.ylabel('frequency')\n",
    "plt.title('Lake Tahoe')\n",
    "plt.ylabel('frequency')"
   ]
  },
  {
   "cell_type": "markdown",
   "metadata": {},
   "source": [
    "##### Calculate the probability that the depth of lake more than 40 inch."
   ]
  },
  {
   "cell_type": "code",
   "execution_count": 181,
   "metadata": {
    "collapsed": false
   },
   "outputs": [
    {
     "name": "stdout",
     "output_type": "stream",
     "text": [
      "Probability that the depth of lake is more than 40 inch = 50.0 \n"
     ]
    }
   ],
   "source": [
    "prob_more_than_40 = (sum(x>40 for x in df['depth'])/sum(x>=0 for x in df['depth']))*100\n",
    "\n",
    "print 'Probability that the depth of lake is more than 40 inch = %.1f '  % (prob_more_than_40)"
   ]
  },
  {
   "cell_type": "markdown",
   "metadata": {},
   "source": [
    "##### Calculate the probability that the depth of lake in between 15 to 40 inch."
   ]
  },
  {
   "cell_type": "code",
   "execution_count": 182,
   "metadata": {
    "collapsed": false
   },
   "outputs": [
    {
     "name": "stdout",
     "output_type": "stream",
     "text": [
      "Probability that the depth of lake is in between 13 to 40 inch = 26.67 \n"
     ]
    }
   ],
   "source": [
    "Probability_betwee_15_30 = (df['depth'].between(15,30).sum()/(df['depth'].count()))*100\n",
    "\n",
    "print 'Probability that the depth of lake is in between 13 to 40 inch = %.2f '  % (Probability_betwee_15_30)"
   ]
  },
  {
   "cell_type": "markdown",
   "metadata": {},
   "source": [
    "### Part III \n",
    "\n",
    "##### The frequency function for a continuous stochastic variable is shown below. Solve the problems analytically.\n",
    "\n",
    "$$\n",
    "f(x) = \\left\\{\n",
    "        \\begin{array}{ll}\n",
    "            cx^2 & \\quad 0 < x < 1 \\\\\n",
    "            0 & \\quad \\text{otherwise}\n",
    "        \\end{array}\n",
    "    \\right.\n",
    "$$\n",
    "\n",
    "1. Find the value for c so that f(x) becomes a density function. \n",
    "2. Calculate Prob(x < 0), Prob(x = 0.5), Prob(x > 1), Prob(0<=x<=0.5) and Prob(0<x< 0.5)\n",
    "3. Find the distribution function, F(x)\n",
    "4. Find the median\n",
    "5. Find the mode\n",
    "6. Calculate the expectation, E(x)\n",
    "7. Calculate the variance, var(x)"
   ]
  },
  {
   "cell_type": "markdown",
   "metadata": {},
   "source": [
    "#### 1. Find the value for c so that f(x) becomes a density function\n",
    "\n",
    "To find the probability density function f d (x), one has to integrate f (x) from 0 and 1. This integral is equal to 1 as it shall be a density function."
   ]
  },
  {
   "cell_type": "markdown",
   "metadata": {},
   "source": [
    "$\\int_{-\\infty }^{\\infty }f_{d}(dt)$ = $\\int_{0}^{1} ct²(dt)$ = 1\n",
    "\n",
    "\n",
    "= $ \\frac{ct³}{3}|_{0}^{1} $\n",
    "\n",
    "= $ \\frac{1³c}{3}$ - $ \\frac{0³c}{3}$ = 1\n",
    "\n",
    "c = 3\n",
    "\n",
    "That means, the density function is\n",
    "\n"
   ]
  },
  {
   "cell_type": "markdown",
   "metadata": {},
   "source": [
    "$$\n",
    "f(x) = \\left\\{\n",
    "        \\begin{array}{ll}\n",
    "            3x^2 & \\quad 0 < x < 1 \\\\\n",
    "            0 & \\quad \\text{otherwise}\n",
    "        \\end{array}\n",
    "    \\right.\n",
    "$$\n",
    "\n"
   ]
  },
  {
   "cell_type": "markdown",
   "metadata": {},
   "source": [
    "##### 2. Calculate Prob(x < 0), Prob(x = 0.5), Prob(x > 1), Prob(0<=x<=0.5) and Prob(0<x< 0.5)\n",
    "\n",
    "P rob(x < 0) = 0\n",
    "\n",
    "P rob(x = 0.5) = F (0.5) − F (0.5) = 0\n",
    "\n",
    "P rob(x > 1) = 0\n",
    "\n",
    "P (0 ≤ x ≤ 0.5) = F (0.5) − F (0) = 0.125\n",
    "\n",
    "P (0 < x < 0.5) = F (0.5) − F (0) = 0.125"
   ]
  },
  {
   "cell_type": "markdown",
   "metadata": {},
   "source": [
    "##### 3. Find the distribution function, F(x)\n",
    "\n",
    "The distribution function is defined as the integral of the density function.\n",
    "\n",
    "$ F(x) =  F(x) = x³ for 0<x<1 $"
   ]
  },
  {
   "cell_type": "markdown",
   "metadata": {},
   "source": [
    "##### 4. find the median"
   ]
  },
  {
   "cell_type": "markdown",
   "metadata": {},
   "source": [
    "The median for a continuous data is defined as\n",
    "\n",
    "$\\int_{-\\infty }^{\\mu_{md} }f_{x}(dx)$ = $\\int_{\\mu_{md}}^{\\infty} f_{x}(dx)$ = 0.5\n",
    "\n",
    "which means, the median $\\mu_{md}$ is that value, which divides the density function into two parts having equal areas of 2 1 each. For the given function, one obtains:\n",
    "\n",
    "$\\int_{0 }^{\\mu_{md} }3x²(dx)$ = $\\int_{\\mu_{md}}^{1} 3x²(dx)$ = 0.5\n",
    "\n",
    "$ x³|_{\\mu_{md}}^{1} $ = 0.5\n",
    "\n",
    "1³ - $\\mu_{md}^{3}$ = 0.5 \n",
    " \n",
    "$\\mu_{md}$ = $\\sqrt[3]{1-0.5}$\n",
    " \n",
    " \n",
    "$\\mu_{md}$ = 0.7937\n",
    "\n",
    "Therefore the median of the analysed density function is $\\mu_{md}$ = 0.7937."
   ]
  },
  {
   "cell_type": "markdown",
   "metadata": {},
   "source": [
    "##### 5. find the mode\n",
    "\n",
    "The function has no mode. For continuous variables the mode is defined as the maximum of the function. As this function has a discontinuity at the point, where it seems to have its maximum (at x = 1), one cannot calculate the derivation at that specific point. That means, $ \\frac{df(1)}{dx}$, the first derivation, is not defined."
   ]
  },
  {
   "cell_type": "markdown",
   "metadata": {},
   "source": [
    "##### 6. Calculate the expectation, E(x)\n",
    "\n",
    "$ E(X) = \\int_{0 }^{1} x f(x)dx =  \\int_{0 }^{1} x 3x² dx   =  \\frac{3}{4}$"
   ]
  },
  {
   "cell_type": "markdown",
   "metadata": {},
   "source": [
    "##### 7. Calculate the variance, var(x)\n",
    "\n",
    "$ V(X) = E(X²) − (EX)²$\n",
    "\n",
    "First, calculating E(X²)\n",
    "\n",
    "$ E(X²) = \\int_{0 }^{1} x²  3x² dx  = \\int_{0 }^{1} 3x⁴ dx $\n",
    "\n",
    "$ \\left |\\frac{3x⁵}{5}  \\right |_{0}^{1} = \\frac{3}{5}$ \n",
    "\n",
    "Then we can calculate $V(X)$\n",
    "\n",
    "$V(X) = \\frac{3}{5} -(\\frac{3}{5})^2 $\n",
    "\n",
    "$V(X)= \\frac{3}{80}$"
   ]
  }
 ],
 "metadata": {
  "kernelspec": {
   "display_name": "Python 2",
   "language": "python",
   "name": "python2"
  },
  "language_info": {
   "codemirror_mode": {
    "name": "ipython",
    "version": 2
   },
   "file_extension": ".py",
   "mimetype": "text/x-python",
   "name": "python",
   "nbconvert_exporter": "python",
   "pygments_lexer": "ipython2",
   "version": "2.7.10"
  }
 },
 "nbformat": 4,
 "nbformat_minor": 0
}
