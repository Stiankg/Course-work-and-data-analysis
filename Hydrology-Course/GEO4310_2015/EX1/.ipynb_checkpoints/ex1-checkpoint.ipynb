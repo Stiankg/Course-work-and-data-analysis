{
 "cells": [
  {
   "cell_type": "markdown",
   "metadata": {},
   "source": [
    "# Exercise1: Basic concepts on random variables and Probability   "
   ]
  },
  {
   "cell_type": "markdown",
   "metadata": {},
   "source": [
    "This exercise is due September 14, 2015. Please save this notebook as a .pdf and .ipynb file and upload both files to the folder \"GEO4310/Resources/Exercises/Hand-in of exercises\" in Fronter. The report should answer all questions given in the exercise text and contain the relevant plots and output. For each python command given in this notebook, write a comment (a line starting with #) to demonstrate that you understand what it does.\n",
    "\n",
    "#####Name:-\n",
    "#####Date:-"
   ]
  },
  {
   "cell_type": "markdown",
   "metadata": {},
   "source": [
    "### Part I: Daily precipitation in Uppsala(1981-1991)\n",
    "\n",
    "Observed daily precipitation in Uppsala (1981 -1991) is available in the file P_Uppsala.dat\n",
    "(columns are year, month, day and p[mm/day])\n",
    "\n",
    "Note: pandas is a data analysis tools for python. So before writing the codes you need to import pandas modules.\n",
    "To read this file in to python, write"
   ]
  },
  {
   "cell_type": "code",
   "execution_count": 2,
   "metadata": {
    "collapsed": false
   },
   "outputs": [],
   "source": [
    "import pandas as pd\n",
    "precip_daily=pd.read_table(\"P_Uppsala.dat\",header=None,names=['year','month','day','prec'])\n"
   ]
  },
  {
   "cell_type": "markdown",
   "metadata": {},
   "source": [
    "For calculating yearly total from 'precip'_daily data"
   ]
  },
  {
   "cell_type": "code",
   "execution_count": 7,
   "metadata": {
    "collapsed": false
   },
   "outputs": [
    {
     "data": {
      "text/plain": [
       "year\n",
       "1981    892.5\n",
       "1982    754.9\n",
       "1983    846.6\n",
       "1984    750.9\n",
       "1985    698.5\n",
       "1986    895.2\n",
       "1987    599.2\n",
       "1988    792.5\n",
       "1989    513.4\n",
       "1990    814.2\n",
       "1991    732.3\n",
       "Name: prec, dtype: float64"
      ]
     },
     "execution_count": 7,
     "metadata": {},
     "output_type": "execute_result"
    }
   ],
   "source": [
    "yearly_total = precip_daily.groupby('year', axis = 0) ['prec'].sum()\n",
    "yearly_total"
   ]
  },
  {
   "cell_type": "markdown",
   "metadata": {},
   "source": [
    "####Question No 1.\n",
    "From monthly data (file P_uppmonth1.dat): compute for each month (column wise) mean, median, mode, standard deviation,\n",
    "coefficient of variation, minimum and maximum and plot these values to show the annual variation."
   ]
  },
  {
   "cell_type": "code",
   "execution_count": 5,
   "metadata": {
    "collapsed": false
   },
   "outputs": [
    {
     "data": {
      "text/plain": [
       "Index([u'year', u'Jan', u'Feb', u'Mar', u'Apr', u'May', u'Jun', u'Jul', u'Aug', u'Sep', u'Oct', u'Nov', u'Dec'], dtype='object')"
      ]
     },
     "execution_count": 5,
     "metadata": {},
     "output_type": "execute_result"
    }
   ],
   "source": [
    "precip_mon = pd.read_table('P_uppmonth1.dat')\n",
    "precip_mon.columns"
   ]
  },
  {
   "cell_type": "markdown",
   "metadata": {},
   "source": [
    "To calculate annual sum from monthly data sets"
   ]
  },
  {
   "cell_type": "code",
   "execution_count": 27,
   "metadata": {
    "collapsed": false
   },
   "outputs": [],
   "source": [
    "annual_sum =precip_mon.set_index('year').sum(axis=1)\n"
   ]
  },
  {
   "cell_type": "markdown",
   "metadata": {},
   "source": [
    "Note: if you dont want to keep the year info for each sum then ' data.drop('year', axis=1).sum(axis=1)'\n",
    "\n",
    "Statistical calculation becomes easier when defining dataframe. We can define dataframe in the following way:"
   ]
  },
  {
   "cell_type": "code",
   "execution_count": 7,
   "metadata": {
    "collapsed": true
   },
   "outputs": [],
   "source": [
    "mon_df = pd.DataFrame(precip_mon, columns = precip_mon.columns[1:])"
   ]
  },
  {
   "cell_type": "markdown",
   "metadata": {
    "collapsed": true
   },
   "source": [
    "Note: giving the arguments columns = precip_mon.columns[1:], will define data frame from one onward i.e it will exclude year.\n",
    "\n",
    "To find the monthly means, write,"
   ]
  },
  {
   "cell_type": "code",
   "execution_count": 8,
   "metadata": {
    "collapsed": false
   },
   "outputs": [],
   "source": [
    "mon_mean = mon_df.mean(axis = 0)"
   ]
  },
  {
   "cell_type": "markdown",
   "metadata": {},
   "source": [
    "If you wish to round off the answer to the same number of decimals as the monthly data, type:"
   ]
  },
  {
   "cell_type": "code",
   "execution_count": 9,
   "metadata": {
    "collapsed": true
   },
   "outputs": [],
   "source": [
    "mon_mean = mon_df.mean(axis = 0).round(0)"
   ]
  },
  {
   "cell_type": "markdown",
   "metadata": {},
   "source": [
    "Plotting the data in python, you need to import module matplotlib.pyplot, to import write:"
   ]
  },
  {
   "cell_type": "code",
   "execution_count": 30,
   "metadata": {
    "collapsed": false
   },
   "outputs": [],
   "source": [
    "%matplotlib inline \n",
    "\n",
    "#The first call, matplotlib inline, is only for the online notebook, it should not be there\n",
    "#if you write scripts/programs locally on youre own computer\n",
    "\n",
    "#import matplotlib.pyplot as plt \n",
    "#mon_mean['Jan':'Dec'].plot()\n",
    "#plt.xlabel('Month')\n",
    "#plt.ylabel('Mean precipitation (mm)')\n",
    "#plt.title('Annual variation in mean precipitation')\n",
    "#plt.show()"
   ]
  },
  {
   "cell_type": "markdown",
   "metadata": {},
   "source": [
    "Note: If you wish to change line type, colour and marker style then you have to write:"
   ]
  },
  {
   "cell_type": "code",
   "execution_count": 31,
   "metadata": {
    "collapsed": false
   },
   "outputs": [],
   "source": [
    "#plt.plot(mon_mean['Jan':'Dec'], linestyle=\"dashed\", marker=\"o\", color=\"green\") #This line gives the new format\n",
    "#plt.xlabel('Month')\n",
    "#plt.ylabel('Mean precipitation (mm)')\n",
    "#plt.title('Annual variation in mean precipitation')\n",
    "#plt.show()\n"
   ]
  },
  {
   "cell_type": "markdown",
   "metadata": {},
   "source": [
    "Showing annual variation in different parameters by making one plot.\n",
    "\n",
    "Hint: First you need to join the data sets (i.e. mean, median, max and min) after calculations. You can join datasets by writing:"
   ]
  },
  {
   "cell_type": "code",
   "execution_count": 29,
   "metadata": {
    "collapsed": false
   },
   "outputs": [],
   "source": [
    "#all_stats = pd.concat([mon_mean, mon_median, mon_min, mon_max], axis = 1)\n",
    "#all_stats['Jan':'Dec'].plot()\n",
    "#plt.legend(['mean', 'median', 'min', 'max'], loc='upper left')\n",
    "#plt.xlabel('Month')\n",
    "#plt.ylabel('Precipitation[mm]')\n",
    "#plt.title('Annual variation in precipitation')\n",
    "#plt.show()"
   ]
  },
  {
   "cell_type": "markdown",
   "metadata": {},
   "source": [
    "####Question No 2.\n",
    "For daily data (file P_Uppsala.dat): Calculate the probability for daily precipitation that\n",
    "\n",
    "1. Equal zero \n",
    "2. more than zero \n",
    "3. more than 10 mm\n",
    "4. more than 10 mm for days with precipitation\n",
    "\n",
    "To answer these questions, we need to use following logical operators."
   ]
  },
  {
   "cell_type": "markdown",
   "metadata": {},
   "source": [
    "||||\n",
    "------------ | ------------- | ------------ | -------------\n",
    "< | less than | == | exactly equal to\n",
    "<= | less than or equal to | != | not equal to \n",
    "    \\> | greater than | x $\\text{|}$ y  | x OR y\n",
    "\\>= |greater than or equal to | x & y | x and y"
   ]
  },
  {
   "cell_type": "markdown",
   "metadata": {},
   "source": [
    "For example: probability that the precipitation equals to to zero can be calculated by:\n",
    "\n",
    "(Total numbers of zero events / number to events)*100\n",
    "\n",
    "To use division in python, import the function below:"
   ]
  },
  {
   "cell_type": "code",
   "execution_count": 11,
   "metadata": {
    "collapsed": false
   },
   "outputs": [],
   "source": [
    "from __future__ import division\n",
    "daily_zero = sum(x==0 for x in precip_daily['prec'])\n",
    "nuumber_of_events = len(precip_daily['prec'])"
   ]
  },
  {
   "cell_type": "markdown",
   "metadata": {},
   "source": [
    "Note: In above code we have calculated the probability equals to zero by:\n",
    "        \n",
    "(Total numbers of zero events / number of events )*100"
   ]
  },
  {
   "cell_type": "markdown",
   "metadata": {
    "collapsed": true
   },
   "source": [
    "#### Question No 3.\n",
    "From the daily data, calculate:\n",
    "    \n",
    "1) maximum 1-day, 3-day and 5-day average rainfall amount, and state the date/period. "
   ]
  },
  {
   "cell_type": "markdown",
   "metadata": {},
   "source": [
    "#####Hint: For one day maximum precipitation with date"
   ]
  },
  {
   "cell_type": "code",
   "execution_count": 25,
   "metadata": {
    "collapsed": false
   },
   "outputs": [],
   "source": [
    "odmax = precip_daily[precip_daily['prec']==precip_daily['prec'].max()] \n"
   ]
  },
  {
   "cell_type": "markdown",
   "metadata": {},
   "source": [
    "If the data are in column 'prec' then we can find out the maximum by sorting in ascending order"
   ]
  },
  {
   "cell_type": "code",
   "execution_count": 26,
   "metadata": {
    "collapsed": false
   },
   "outputs": [],
   "source": [
    "odmax = precip_daily.sort(['prec'],ascending = False).head(1)\n"
   ]
  },
  {
   "cell_type": "markdown",
   "metadata": {},
   "source": [
    "Or we can also calculate one day maximum by"
   ]
  },
  {
   "cell_type": "code",
   "execution_count": 14,
   "metadata": {
    "collapsed": false
   },
   "outputs": [
    {
     "name": "stdout",
     "output_type": "stream",
     "text": [
      "Prec=136.6\n"
     ]
    }
   ],
   "source": [
    "odmax = precip_daily['prec'].max() # [Note: it will only show maximum value i.e with out date]\n",
    "print \"Prec=%.1f\" % odmax #The %.1f tells to print the value in odmax with one decimal point for a float number"
   ]
  },
  {
   "cell_type": "markdown",
   "metadata": {},
   "source": [
    "##### Hint: Maximum 3 day average rainfall"
   ]
  },
  {
   "cell_type": "code",
   "execution_count": 32,
   "metadata": {
    "collapsed": false
   },
   "outputs": [],
   "source": [
    "precip_daily['mv']=pd.rolling_mean(precip_daily['prec'], 3)\n",
    "max_3d_avg = precip_daily[precip_daily['mv']==precip_daily['mv'].max()]\n",
    "\n",
    "\n",
    "#Precip_daily['mv'] inserting the column name 'mv' in to data series precip_daily\n",
    "#pd.rolling_mean calculating moving average from module pandas\n",
    "#3 is the number of average days\n"
   ]
  },
  {
   "cell_type": "markdown",
   "metadata": {},
   "source": [
    "Similarly calculate for 5 days maximum average."
   ]
  },
  {
   "cell_type": "markdown",
   "metadata": {},
   "source": [
    "#### Question No 4.\n",
    "Length of the maximum dry-spell days and the maximum wet-spell days of daily rainfall.\n",
    "\n",
    "To calculate maximum dry-spell days according to month"
   ]
  },
  {
   "cell_type": "code",
   "execution_count": 33,
   "metadata": {
    "collapsed": false
   },
   "outputs": [],
   "source": [
    "def func(group): return (group.prec != 0).astype(int).cumsum().value_counts().values[0] - 1\n",
    "max_D_S = precip_daily.groupby(['year','month']).apply(func)\n",
    "\n",
    "#To find maximum dry spell days\n",
    "#print \"Maximum dry spell days = %d \" % max_D_S.max()\n",
    "# To find date of maximum dry spell date\n",
    "# max_D_S.idxmax()"
   ]
  },
  {
   "cell_type": "markdown",
   "metadata": {},
   "source": [
    "Note: There might be continuous longer dry-spell periods starting from one month and ending in next month, in this case we group by yearly only and see the longer dry-spell by the following ways"
   ]
  },
  {
   "cell_type": "code",
   "execution_count": 23,
   "metadata": {
    "collapsed": false
   },
   "outputs": [],
   "source": [
    "yearly_dry_day = precip_daily.groupby(['year']).apply(func)"
   ]
  },
  {
   "cell_type": "markdown",
   "metadata": {},
   "source": [
    "Similarly calculate for wet spell\n",
    "\n",
    "[Note: when you group by month also then you will get different result because, the rainy days starting form one month and ending in next month so the result is different.]"
   ]
  },
  {
   "cell_type": "markdown",
   "metadata": {},
   "source": [
    "### Part II. About probability and frequency."
   ]
  },
  {
   "cell_type": "markdown",
   "metadata": {},
   "source": [
    "The depth of clarity of Lake Tahoe was measured at several different places with the results in inches is available on the file Tahoe.dat"
   ]
  },
  {
   "cell_type": "markdown",
   "metadata": {},
   "source": [
    "1. Plot the histogram (relative frequency) with class intervals of length 5.\n",
    "2. Plot the cumulative relative frequency and estimate Prob(D≤40)≈? and Prob(15≤D≤30) ≈?"
   ]
  },
  {
   "cell_type": "code",
   "execution_count": 34,
   "metadata": {
    "collapsed": false
   },
   "outputs": [],
   "source": [
    "#First read and check the data\n",
    "\n",
    "tahoe = pd.read_table('Tahoe.dat')"
   ]
  },
  {
   "cell_type": "code",
   "execution_count": 36,
   "metadata": {
    "collapsed": false
   },
   "outputs": [],
   "source": [
    "data_types = tahoe.dtypes # to know about data types"
   ]
  },
  {
   "cell_type": "markdown",
   "metadata": {},
   "source": [
    "There are two columns one is with data and other is without data so exclude the column having without data.\n",
    "So we can define dataframe by this way, "
   ]
  },
  {
   "cell_type": "code",
   "execution_count": 22,
   "metadata": {
    "collapsed": false
   },
   "outputs": [],
   "source": [
    "#first assign the headers name\n",
    "tahoe = pd.read_table('Tahoe.dat', header = None, names = ['depth','nan'])\n",
    "\n",
    "#define dataframe\n",
    "df_tahoe= pd.DataFrame(tahoe['depth'])\n",
    "\n",
    "# Plot relative histogram\n",
    "#plt.hist(df_tahoe['depth'], bins= 8, normed = True)"
   ]
  },
  {
   "cell_type": "markdown",
   "metadata": {},
   "source": [
    "Define x-label, y-label, and title of the figure. [ Note: If you want to plot regular histogram then just give the command plt.hist(df['depth'])]. For plotting cumulative frequency change to cumulative instead of normed."
   ]
  },
  {
   "cell_type": "markdown",
   "metadata": {},
   "source": [
    "Calculate from above data that the probability that the depth of lake is\n",
    "\n",
    "1. more than 40 inch\n",
    "2. In between 15 to 30 inch\n",
    "\n",
    "Hint: for problem 2 use between function like 'between(15,30)'"
   ]
  },
  {
   "cell_type": "markdown",
   "metadata": {},
   "source": [
    "### Part III. The frequency function for a continuous stochastic variable is shown below. Solve the problems analytically."
   ]
  },
  {
   "cell_type": "markdown",
   "metadata": {},
   "source": [
    "$$\n",
    "f(x) = \\left\\{\n",
    "        \\begin{array}{ll}\n",
    "            cx^2 & \\quad 0 < x < 1 \\\\\n",
    "            0 & \\quad \\text{otherwise}\n",
    "        \\end{array}\n",
    "    \\right.\n",
    "$$"
   ]
  },
  {
   "cell_type": "markdown",
   "metadata": {},
   "source": [
    "1. Find the value for c so that f(x) becomes a density function. Use that F(x) = 1\n",
    "2. Calculate Prob(x < 0), Prob(x = 0.5), Prob(x > 1), Prob(0<=x<=0.5) and Prob(0<x< 0.5)\n",
    "3. Find the distribution function, F(x)\n",
    "4. Find the median\n",
    "5. Find the mode\n",
    "6. Calculate the expectation, E(x)\n",
    "7. Calculate the variance, var(x)"
   ]
  }
 ],
 "metadata": {
  "kernelspec": {
   "display_name": "Python 2",
   "language": "python",
   "name": "python2"
  },
  "language_info": {
   "codemirror_mode": {
    "name": "ipython",
    "version": 2
   },
   "file_extension": ".py",
   "mimetype": "text/x-python",
   "name": "python",
   "nbconvert_exporter": "python",
   "pygments_lexer": "ipython2",
   "version": "2.7.10"
  }
 },
 "nbformat": 4,
 "nbformat_minor": 0
}
