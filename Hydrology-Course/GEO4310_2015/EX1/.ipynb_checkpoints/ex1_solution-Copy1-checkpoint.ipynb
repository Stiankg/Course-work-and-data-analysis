{
 "cells": [
  {
   "cell_type": "markdown",
   "metadata": {},
   "source": [
    "### Solutions 1: Basic concepts on random variables and Probability, GEO4310\n",
    "\n",
    "Author: Bikas C. Bhattarai\n",
    "\n",
    "Date: August, 2015\n",
    "\n",
    "##### Part I: Daily precipitation in Uppsala(1981-1991)\n",
    "\n",
    "Observed daily precipitation in Uppsala (1981 -1991) is available in the file P_Uppsala.dat (columns are year, month, day and p[mm/day])\n"
   ]
  },
  {
   "cell_type": "code",
   "execution_count": 187,
   "metadata": {
    "collapsed": false
   },
   "outputs": [],
   "source": [
    "#Import modules\n",
    "%matplotlib inline\n",
    "import pandas as pd\n",
    "import numpy as np\n",
    "import matplotlib.pyplot as plt\n",
    "from __future__ import division"
   ]
  },
  {
   "cell_type": "code",
   "execution_count": 213,
   "metadata": {
    "collapsed": false,
    "scrolled": true
   },
   "outputs": [
    {
     "data": {
      "text/plain": [
       "8.150970878096675"
      ]
     },
     "execution_count": 213,
     "metadata": {},
     "output_type": "execute_result"
    }
   ],
   "source": [
    "# Reading the data precipitation data table and assigning the respective headers to each columns\n",
    "precip_daily = pd.read_table('P_Uppsala.dat', header=None, names=['year', 'month', 'day', 'prec'])\n",
    "prec = precip_daily['prec']\n",
    "Cv = prec.std()/prec.mean()\n",
    "import scipy.stats as stats\n",
    "stats.skew(prec)\n"
   ]
  },
  {
   "cell_type": "markdown",
   "metadata": {},
   "source": [
    "#### Question No 1. From monthly data (file P_uppmonth1.dat): compute for each month (column wise) mean, median, mode, standard deviation, coefficient of variation, minimum and maximum and plot these values to show the annual variation."
   ]
  },
  {
   "cell_type": "code",
   "execution_count": 186,
   "metadata": {
    "collapsed": false
   },
   "outputs": [
    {
     "data": {
      "text/html": [
       "<div>\n",
       "<table border=\"1\" class=\"dataframe\">\n",
       "  <thead>\n",
       "    <tr style=\"text-align: right;\">\n",
       "      <th></th>\n",
       "      <th>Jan</th>\n",
       "      <th>Feb</th>\n",
       "      <th>Mar</th>\n",
       "      <th>Apr</th>\n",
       "      <th>May</th>\n",
       "      <th>Jun</th>\n",
       "      <th>Jul</th>\n",
       "      <th>Aug</th>\n",
       "      <th>Sep</th>\n",
       "      <th>Oct</th>\n",
       "      <th>Nov</th>\n",
       "      <th>Dec</th>\n",
       "    </tr>\n",
       "  </thead>\n",
       "  <tbody>\n",
       "    <tr>\n",
       "      <th>0</th>\n",
       "      <td>32</td>\n",
       "      <td>26</td>\n",
       "      <td>62</td>\n",
       "      <td>22</td>\n",
       "      <td>23</td>\n",
       "      <td>98</td>\n",
       "      <td>80</td>\n",
       "      <td>163</td>\n",
       "      <td>13</td>\n",
       "      <td>122</td>\n",
       "      <td>144</td>\n",
       "      <td>109</td>\n",
       "    </tr>\n",
       "    <tr>\n",
       "      <th>1</th>\n",
       "      <td>42</td>\n",
       "      <td>30</td>\n",
       "      <td>54</td>\n",
       "      <td>50</td>\n",
       "      <td>192</td>\n",
       "      <td>37</td>\n",
       "      <td>52</td>\n",
       "      <td>77</td>\n",
       "      <td>48</td>\n",
       "      <td>46</td>\n",
       "      <td>74</td>\n",
       "      <td>52</td>\n",
       "    </tr>\n",
       "    <tr>\n",
       "      <th>2</th>\n",
       "      <td>78</td>\n",
       "      <td>10</td>\n",
       "      <td>107</td>\n",
       "      <td>46</td>\n",
       "      <td>36</td>\n",
       "      <td>105</td>\n",
       "      <td>80</td>\n",
       "      <td>25</td>\n",
       "      <td>188</td>\n",
       "      <td>58</td>\n",
       "      <td>36</td>\n",
       "      <td>78</td>\n",
       "    </tr>\n",
       "  </tbody>\n",
       "</table>\n",
       "</div>"
      ],
      "text/plain": [
       "   Jan  Feb  Mar  Apr  May  Jun  Jul  Aug  Sep  Oct  Nov  Dec\n",
       "0   32   26   62   22   23   98   80  163   13  122  144  109\n",
       "1   42   30   54   50  192   37   52   77   48   46   74   52\n",
       "2   78   10  107   46   36  105   80   25  188   58   36   78"
      ]
     },
     "execution_count": 186,
     "metadata": {},
     "output_type": "execute_result"
    }
   ],
   "source": [
    "precip_mon = pd.read_table('P_uppmonth1.dat')\n",
    "\n",
    "# To calculate the yearly sum of the precipitation\n",
    "annual_sum= precip_mon.set_index('year').sum(axis=1) \n",
    "\n",
    "# Define the dataframe and drop the first column\n",
    "mon_df = pd.DataFrame(precip_mon, columns = precip_mon.columns[1:])\n",
    "mon_df.head(3)"
   ]
  },
  {
   "cell_type": "markdown",
   "metadata": {},
   "source": [
    "**Calculating monthly statistics from monthly data**"
   ]
  },
  {
   "cell_type": "code",
   "execution_count": 44,
   "metadata": {
    "collapsed": false
   },
   "outputs": [],
   "source": [
    "# Calculating monthly mean\n",
    "mon_mean = mon_df.mean(axis=0).round(0)\n",
    "# Calculating monthly median\n",
    "mon_median = mon_df.median(axis = 0)\n",
    "# Calculating monthly maximum precipitation\n",
    "mon_max = mon_df.max(axis = 0)\n",
    "# Calculating monthly minimum precipitation\n",
    "mon_min = mon_df.min(axis=0)"
   ]
  },
  {
   "cell_type": "code",
   "execution_count": 99,
   "metadata": {
    "collapsed": false
   },
   "outputs": [
    {
     "data": {
      "text/html": [
       "<div>\n",
       "<table border=\"1\" class=\"dataframe\">\n",
       "  <thead>\n",
       "    <tr style=\"text-align: right;\">\n",
       "      <th></th>\n",
       "      <th>Jan</th>\n",
       "      <th>Feb</th>\n",
       "      <th>Mar</th>\n",
       "      <th>Apr</th>\n",
       "      <th>May</th>\n",
       "      <th>Jun</th>\n",
       "      <th>Jul</th>\n",
       "      <th>Aug</th>\n",
       "      <th>Sep</th>\n",
       "      <th>Oct</th>\n",
       "      <th>Nov</th>\n",
       "      <th>Dec</th>\n",
       "    </tr>\n",
       "  </thead>\n",
       "  <tbody>\n",
       "    <tr>\n",
       "      <th>mon_mean</th>\n",
       "      <td>54</td>\n",
       "      <td>34</td>\n",
       "      <td>53</td>\n",
       "      <td>38</td>\n",
       "      <td>57</td>\n",
       "      <td>67</td>\n",
       "      <td>81</td>\n",
       "      <td>103</td>\n",
       "      <td>79</td>\n",
       "      <td>66</td>\n",
       "      <td>62</td>\n",
       "      <td>61</td>\n",
       "    </tr>\n",
       "    <tr>\n",
       "      <th>mon_median</th>\n",
       "      <td>59</td>\n",
       "      <td>29</td>\n",
       "      <td>51</td>\n",
       "      <td>46</td>\n",
       "      <td>38</td>\n",
       "      <td>51</td>\n",
       "      <td>80</td>\n",
       "      <td>77</td>\n",
       "      <td>65</td>\n",
       "      <td>58</td>\n",
       "      <td>54</td>\n",
       "      <td>59</td>\n",
       "    </tr>\n",
       "    <tr>\n",
       "      <th>mon_min</th>\n",
       "      <td>9</td>\n",
       "      <td>10</td>\n",
       "      <td>22</td>\n",
       "      <td>4</td>\n",
       "      <td>23</td>\n",
       "      <td>25</td>\n",
       "      <td>11</td>\n",
       "      <td>25</td>\n",
       "      <td>13</td>\n",
       "      <td>27</td>\n",
       "      <td>36</td>\n",
       "      <td>24</td>\n",
       "    </tr>\n",
       "    <tr>\n",
       "      <th>mon_max</th>\n",
       "      <td>83</td>\n",
       "      <td>79</td>\n",
       "      <td>107</td>\n",
       "      <td>69</td>\n",
       "      <td>192</td>\n",
       "      <td>142</td>\n",
       "      <td>128</td>\n",
       "      <td>234</td>\n",
       "      <td>188</td>\n",
       "      <td>122</td>\n",
       "      <td>144</td>\n",
       "      <td>109</td>\n",
       "    </tr>\n",
       "  </tbody>\n",
       "</table>\n",
       "</div>"
      ],
      "text/plain": [
       "            Jan  Feb  Mar  Apr  May  Jun  Jul  Aug  Sep  Oct  Nov  Dec\n",
       "mon_mean     54   34   53   38   57   67   81  103   79   66   62   61\n",
       "mon_median   59   29   51   46   38   51   80   77   65   58   54   59\n",
       "mon_min       9   10   22    4   23   25   11   25   13   27   36   24\n",
       "mon_max      83   79  107   69  192  142  128  234  188  122  144  109"
      ]
     },
     "execution_count": 99,
     "metadata": {},
     "output_type": "execute_result"
    }
   ],
   "source": [
    "# merge different statistics in to one matrix\n",
    "all_stats = pd.concat([mon_mean,mon_median,mon_min,mon_max], axis = 1,)\n",
    "# Defining dataframe to the matrix \n",
    "all_stats = pd.DataFrame(all_stats )\n",
    "# Assigning the respective columns name \n",
    "all_stats.columns = ['mon_mean','mon_median','mon_min','mon_max']\n",
    "#displaying the dataframe as transpose position\n",
    "all_stats.T"
   ]
  },
  {
   "cell_type": "markdown",
   "metadata": {},
   "source": [
    "**Making plot for this statistics**"
   ]
  },
  {
   "cell_type": "code",
   "execution_count": 183,
   "metadata": {
    "collapsed": false,
    "scrolled": true
   },
   "outputs": [
    {
     "data": {
      "image/png": "[encoded data removed]",
      "text/plain": [
       "<matplotlib.figure.Figure at 0x7f18996f9790>"
      ]
     },
     "metadata": {},
     "output_type": "display_data"
    }
   ],
   "source": [
    "all_stats['Jan':'Dec'].plot(figsize=(12,5))\n",
    "plt.xlabel('Month', size = 16) \n",
    "plt.ylabel('Precipitation[mm]', size = 16) \n",
    "plt.title('Annual variation in precipitation', size = 18) \n",
    "plt.legend()\n",
    "plt.show()"
   ]
  },
  {
   "cell_type": "markdown",
   "metadata": {},
   "source": [
    "**Conclusion:** From the above table and graph, maximum and mean precipitation observed in August while minimun precipitationin observed in April. So from this statistics we can say that, April is the driest month and August is the most wettest month during this observation preiod."
   ]
  },
  {
   "cell_type": "markdown",
   "metadata": {},
   "source": [
    "##### Calculating Monthly Mode"
   ]
  },
  {
   "cell_type": "code",
   "execution_count": 157,
   "metadata": {
    "collapsed": false,
    "scrolled": true
   },
   "outputs": [
    {
     "data": {
      "text/html": [
       "<div style=\"max-height:1000px;max-width:1500px;overflow:auto;\">\n",
       "<table border=\"1\" class=\"dataframe\">\n",
       "  <thead>\n",
       "    <tr style=\"text-align: right;\">\n",
       "      <th></th>\n",
       "      <th>Jan</th>\n",
       "      <th>Feb</th>\n",
       "      <th>Mar</th>\n",
       "      <th>Apr</th>\n",
       "      <th>May</th>\n",
       "      <th>Jun</th>\n",
       "      <th>Jul</th>\n",
       "      <th>Aug</th>\n",
       "      <th>Sep</th>\n",
       "      <th>Oct</th>\n",
       "      <th>Nov</th>\n",
       "      <th>Dec</th>\n",
       "    </tr>\n",
       "  </thead>\n",
       "  <tbody>\n",
       "    <tr>\n",
       "      <th>0</th>\n",
       "      <td> 72</td>\n",
       "      <td> 28</td>\n",
       "      <td>NaN</td>\n",
       "      <td> 46</td>\n",
       "      <td> 23</td>\n",
       "      <td> 25</td>\n",
       "      <td> 80</td>\n",
       "      <td>NaN</td>\n",
       "      <td>NaN</td>\n",
       "      <td>NaN</td>\n",
       "      <td> 54</td>\n",
       "      <td>NaN</td>\n",
       "    </tr>\n",
       "    <tr>\n",
       "      <th>1</th>\n",
       "      <td>NaN</td>\n",
       "      <td> 29</td>\n",
       "      <td>NaN</td>\n",
       "      <td>NaN</td>\n",
       "      <td>NaN</td>\n",
       "      <td>NaN</td>\n",
       "      <td>NaN</td>\n",
       "      <td>NaN</td>\n",
       "      <td>NaN</td>\n",
       "      <td>NaN</td>\n",
       "      <td> 74</td>\n",
       "      <td>NaN</td>\n",
       "    </tr>\n",
       "  </tbody>\n",
       "</table>\n",
       "</div>"
      ],
      "text/plain": [
       "   Jan  Feb  Mar  Apr  May  Jun  Jul  Aug  Sep  Oct  Nov  Dec\n",
       "0   72   28  NaN   46   23   25   80  NaN  NaN  NaN   54  NaN\n",
       "1  NaN   29  NaN  NaN  NaN  NaN  NaN  NaN  NaN  NaN   74  NaN"
      ]
     },
     "execution_count": 157,
     "metadata": {},
     "output_type": "execute_result"
    }
   ],
   "source": [
    "mon_mode = mon_df.mode(axis = 0)\n",
    "mon_mode"
   ]
  },
  {
   "cell_type": "markdown",
   "metadata": {},
   "source": [
    "**Conclusion:** From this table, November and Feburary are bimodal months because in Feburary and in November, the two numbers are frequently occured."
   ]
  },
  {
   "cell_type": "markdown",
   "metadata": {},
   "source": [
    "##### Monthly standard deviation"
   ]
  },
  {
   "cell_type": "code",
   "execution_count": 130,
   "metadata": {
    "collapsed": false
   },
   "outputs": [
    {
     "data": {
      "text/html": [
       "<div>\n",
       "<table border=\"1\" class=\"dataframe\">\n",
       "  <thead>\n",
       "    <tr style=\"text-align: right;\">\n",
       "      <th></th>\n",
       "      <th>Jan</th>\n",
       "      <th>Feb</th>\n",
       "      <th>Mar</th>\n",
       "      <th>Apr</th>\n",
       "      <th>May</th>\n",
       "      <th>Jun</th>\n",
       "      <th>Jul</th>\n",
       "      <th>Aug</th>\n",
       "      <th>Sep</th>\n",
       "      <th>Oct</th>\n",
       "      <th>Nov</th>\n",
       "      <th>Dec</th>\n",
       "    </tr>\n",
       "  </thead>\n",
       "  <tbody>\n",
       "    <tr>\n",
       "      <th>std</th>\n",
       "      <td>24.7</td>\n",
       "      <td>20.5</td>\n",
       "      <td>22.4</td>\n",
       "      <td>20.1</td>\n",
       "      <td>48.9</td>\n",
       "      <td>38.9</td>\n",
       "      <td>34.3</td>\n",
       "      <td>66.1</td>\n",
       "      <td>57.3</td>\n",
       "      <td>30.5</td>\n",
       "      <td>29.6</td>\n",
       "      <td>24.3</td>\n",
       "    </tr>\n",
       "  </tbody>\n",
       "</table>\n",
       "</div>"
      ],
      "text/plain": [
       "      Jan   Feb   Mar   Apr   May   Jun   Jul   Aug   Sep   Oct   Nov   Dec\n",
       "std  24.7  20.5  22.4  20.1  48.9  38.9  34.3  66.1  57.3  30.5  29.6  24.3"
      ]
     },
     "execution_count": 130,
     "metadata": {},
     "output_type": "execute_result"
    }
   ],
   "source": [
    "mon_std = pd.DataFrame(mon_df.std(axis=0).round(1))\n",
    "#assigning column name\n",
    "mon_std.columns = ['std']\n",
    "# displaying data in transpose view\n",
    "mon_std.T                      "
   ]
  },
  {
   "cell_type": "code",
   "execution_count": 181,
   "metadata": {
    "collapsed": false,
    "scrolled": false
   },
   "outputs": [
    {
     "data": {
      "image/png": "[encoded data removed]",
      "text/plain": [
       "<matplotlib.figure.Figure at 0x7f1898b03190>"
      ]
     },
     "metadata": {},
     "output_type": "display_data"
    }
   ],
   "source": [
    "#Making plot for standard deviation\n",
    "#Assigning x and y value for a plot\n",
    "x = range(12)\n",
    "y = mon_std['std']\n",
    "my_xticks = ['Jan','Feb','Mar','Apr','May','Jun','Jul','Aug','Sep','Oct','Nov','Dec']\n",
    "plt.xticks(x, my_xticks)\n",
    "plt.plot(x, y, 'r-o')\n",
    "plt.grid(True)\n",
    "plt.title('Annual variation in standard variation',size = 14) \n",
    "plt.ylabel('stdev', size = 14) \n",
    "plt.xlabel('Month', size = 14)\n",
    "plt.show()"
   ]
  },
  {
   "cell_type": "markdown",
   "metadata": {},
   "source": [
    "**Conclusion:** Here, the monthly standard deviation for August is higher than all other months, indicating the higher variablility during this month. In Feburary and April, the standard deviation is low, indicating lower variation during these months."
   ]
  },
  {
   "cell_type": "markdown",
   "metadata": {},
   "source": [
    "##### Monthly coefficient of  variation\n",
    "\n",
    "Another way to describe the variation of in a data by calculating the coefficient of variation. \n",
    "\n",
    "$C_v = \\frac{s_x}{\\bar{x}}$\n",
    "\n",
    "Hence it is unit free quantity. It helps us to understand relative variability and is useful to compare variability within datasets having different mean values."
   ]
  },
  {
   "cell_type": "code",
   "execution_count": 214,
   "metadata": {
    "collapsed": false
   },
   "outputs": [
    {
     "data": {
      "text/html": [
       "<div>\n",
       "<table border=\"1\" class=\"dataframe\">\n",
       "  <thead>\n",
       "    <tr style=\"text-align: right;\">\n",
       "      <th></th>\n",
       "      <th>Jan</th>\n",
       "      <th>Feb</th>\n",
       "      <th>Mar</th>\n",
       "      <th>Apr</th>\n",
       "      <th>May</th>\n",
       "      <th>Jun</th>\n",
       "      <th>Jul</th>\n",
       "      <th>Aug</th>\n",
       "      <th>Sep</th>\n",
       "      <th>Oct</th>\n",
       "      <th>Nov</th>\n",
       "      <th>Dec</th>\n",
       "    </tr>\n",
       "  </thead>\n",
       "  <tbody>\n",
       "    <tr>\n",
       "      <th>C_v</th>\n",
       "      <td>0.44</td>\n",
       "      <td>0.58</td>\n",
       "      <td>0.41</td>\n",
       "      <td>0.51</td>\n",
       "      <td>0.83</td>\n",
       "      <td>0.55</td>\n",
       "      <td>0.4</td>\n",
       "      <td>0.61</td>\n",
       "      <td>0.69</td>\n",
       "      <td>0.44</td>\n",
       "      <td>0.45</td>\n",
       "      <td>0.38</td>\n",
       "    </tr>\n",
       "  </tbody>\n",
       "</table>\n",
       "</div>"
      ],
      "text/plain": [
       "      Jan   Feb   Mar   Apr   May   Jun  Jul   Aug   Sep   Oct   Nov   Dec\n",
       "C_v  0.44  0.58  0.41  0.51  0.83  0.55  0.4  0.61  0.69  0.44  0.45  0.38"
      ]
     },
     "execution_count": 214,
     "metadata": {},
     "output_type": "execute_result"
    }
   ],
   "source": [
    "import scipy.stats as ss\n",
    "mon_cv = pd.DataFrame(ss.variation(mon_df, axis=0).round(2))\n",
    "#Assigninng column name\n",
    "mon_cv.columns = ['C_v']\n",
    "#Assigning index name\n",
    "mon_cv.index = ['Jan','Feb','Mar','Apr','May','Jun','Jul','Aug','Sep','Oct','Nov','Dec']\n",
    "#displaying data in transpose view\n",
    "mon_cv.T "
   ]
  },
  {
   "cell_type": "code",
   "execution_count": 215,
   "metadata": {
    "collapsed": false
   },
   "outputs": [
    {
     "data": {
      "image/png": "[encoded data removed]",
      "text/plain": [
       "<matplotlib.figure.Figure at 0x7f1886f62f90>"
      ]
     },
     "metadata": {},
     "output_type": "display_data"
    }
   ],
   "source": [
    "#Making plot for standard deviation\n",
    "#Assigning x and y value for a plot\n",
    "x = range(12)\n",
    "y = mon_cv['C_v']\n",
    "my_xticks = ['Jan','Feb','Mar','Apr','May','Jun','Jul','Aug','Sep','Oct','Nov','Dec']\n",
    "plt.xticks(x, my_xticks)\n",
    "plt.plot(x, y, 'g-o')\n",
    "plt.grid(True)\n",
    "plt.title('Annual variation in coefficient of variation',size = 14) \n",
    "plt.ylabel('C_v', size = 14) \n",
    "plt.ylim(0,1)\n",
    "plt.xlabel('Month', size = 14)\n",
    "plt.show()"
   ]
  },
  {
   "cell_type": "markdown",
   "metadata": {},
   "source": [
    "**Conclusion:** Feburary and April, that had the lowest standard deviation, do not have the lowest coefficient of variation. This is because the these months are the driest months. August, the wettest month, had the highest standard deviation but has the third highest coefficient of variation. The two highest coefficients of variability are in May and September, indicating higher variability relative to the mean in those months.  "
   ]
  },
  {
   "cell_type": "markdown",
   "metadata": {},
   "source": [
    "##### 1.2 Calculate the probability for daily precipitation that :\n",
    "\n",
    "1) Equal zero \n",
    "\n",
    "2) More than zero\n",
    "\n",
    "3) More than 10 mm and \n",
    "\n",
    "4) More than 10 mm for the days with precipitation.\n",
    "\n",
    "##### 1. Equals to zero\n",
    "\n",
    "Probability of daily precipitation that equal zero is found by divide the number of days with zero precipitation by total number of days in the period.\n"
   ]
  },
  {
   "cell_type": "code",
   "execution_count": 216,
   "metadata": {
    "collapsed": false
   },
   "outputs": [
    {
     "name": "stdout",
     "output_type": "stream",
     "text": [
      "Probability = 52.8 \n"
     ]
    }
   ],
   "source": [
    "total_no_of_zero_events = sum(x==0 for x in precip_daily['prec'])\n",
    "total_no_of_days_with_prec = sum(x>=0 for x in precip_daily['prec'])\n",
    "probability_of_zero_events = (total_no_of_zero_events / total_no_of_days_with_prec*100)\n",
    "print 'Probability = %.1f ' % (probability_of_zero_events)"
   ]
  },
  {
   "cell_type": "markdown",
   "metadata": {},
   "source": [
    "Hence, the probability of daily precipitation that equals to zero events is 52.8%."
   ]
  },
  {
   "cell_type": "markdown",
   "metadata": {},
   "source": [
    "##### 2. More than zero\n",
    "\n",
    "Probability of daily precipitation more than zero is calculated by divide the number of days with precipitation by total number of days in the period."
   ]
  },
  {
   "cell_type": "code",
   "execution_count": 218,
   "metadata": {
    "collapsed": false
   },
   "outputs": [
    {
     "name": "stdout",
     "output_type": "stream",
     "text": [
      "Probability = 47.2 \n"
     ]
    }
   ],
   "source": [
    "probability_more_than_zero = (sum(x>0 for x in precip_daily['prec'])/sum(x>=0 for x in precip_daily['prec']))*100\n",
    "\n",
    "print 'Probability = %.1f ' % (probability_more_than_zero)"
   ]
  },
  {
   "cell_type": "markdown",
   "metadata": {},
   "source": [
    "Probability of daily precipitation that equals to more than zero is 47.2 %."
   ]
  },
  {
   "cell_type": "markdown",
   "metadata": {},
   "source": [
    "or alternatively, since the probability of daily precipitation more than zero, and the probability of daily precipitation equal zero is mutually exclusive, the probability of daily precipitation more then zero is found by subtracting the probability of daily precipitation equal zero.\n",
    "\n",
    "P(X>0) = 1-52.8\n",
    "\n",
    "= 47.2\n",
    "\n",
    "So the probability of daily precipitation that equals to more than zero is 47.2%."
   ]
  },
  {
   "cell_type": "markdown",
   "metadata": {},
   "source": [
    "##### 3. More than 10 mm"
   ]
  },
  {
   "cell_type": "code",
   "execution_count": 219,
   "metadata": {
    "collapsed": false
   },
   "outputs": [
    {
     "name": "stdout",
     "output_type": "stream",
     "text": [
      "Probability = 5.8 \n"
     ]
    }
   ],
   "source": [
    "more_than_10 = (sum(x>10 for x in precip_daily['prec'])/sum(x>=0 for x in precip_daily['prec']))*100\n",
    "print 'Probability = %.1f ' % (more_than_10)"
   ]
  },
  {
   "cell_type": "markdown",
   "metadata": {},
   "source": [
    "Probability of daily precipitation that more than 10 mm is 5.8%."
   ]
  },
  {
   "cell_type": "markdown",
   "metadata": {},
   "source": [
    "Note: if you write x >= 10 then it will also count the value of 10 (i.e inclusive function and the value becomes   5.9497)"
   ]
  },
  {
   "cell_type": "markdown",
   "metadata": {},
   "source": [
    "##### 4.  More than 10 mm for the day with precipitation"
   ]
  },
  {
   "cell_type": "code",
   "execution_count": 221,
   "metadata": {
    "collapsed": false
   },
   "outputs": [
    {
     "name": "stdout",
     "output_type": "stream",
     "text": [
      "Probability = 12.2\n"
     ]
    }
   ],
   "source": [
    "more_than_10_with_ppt = (sum(x>10 for x in precip_daily['prec'])/sum(x>0 for x in precip_daily['prec']))*100\n",
    "\n",
    "print 'Probability = %.1f' % (more_than_10_with_ppt)"
   ]
  },
  {
   "cell_type": "markdown",
   "metadata": {},
   "source": [
    "Probability of daily precipitation that more than 10 mm for the day with precipitatio is 12.2%."
   ]
  },
  {
   "cell_type": "markdown",
   "metadata": {},
   "source": [
    "##### 1.3 From the daily data, calculate the maximum 1-day, 3-day and 5-day average rainfall amount, and state the date/period"
   ]
  },
  {
   "cell_type": "markdown",
   "metadata": {},
   "source": [
    "##### One day maximum precipitation with date"
   ]
  },
  {
   "cell_type": "code",
   "execution_count": 222,
   "metadata": {
    "collapsed": false
   },
   "outputs": [
    {
     "data": {
      "text/html": [
       "<div>\n",
       "<table border=\"1\" class=\"dataframe\">\n",
       "  <thead>\n",
       "    <tr style=\"text-align: right;\">\n",
       "      <th></th>\n",
       "      <th>year</th>\n",
       "      <th>month</th>\n",
       "      <th>day</th>\n",
       "      <th>prec</th>\n",
       "    </tr>\n",
       "  </thead>\n",
       "  <tbody>\n",
       "    <tr>\n",
       "      <th>505</th>\n",
       "      <td>1982</td>\n",
       "      <td>5</td>\n",
       "      <td>21</td>\n",
       "      <td>136.6</td>\n",
       "    </tr>\n",
       "  </tbody>\n",
       "</table>\n",
       "</div>"
      ],
      "text/plain": [
       "     year  month  day   prec\n",
       "505  1982      5   21  136.6"
      ]
     },
     "execution_count": 222,
     "metadata": {},
     "output_type": "execute_result"
    }
   ],
   "source": [
    "odmax = precip_daily.sort(['prec'],ascending = False).head(1)\n",
    "odmax"
   ]
  },
  {
   "cell_type": "markdown",
   "metadata": {},
   "source": [
    "Hence, the maximum 1-day rainfall amount in Uppsala between 1981 and 1991 is 136.6 on the 21.05.1982."
   ]
  },
  {
   "cell_type": "markdown",
   "metadata": {},
   "source": [
    "##### Maximum 3 day average rainfall "
   ]
  },
  {
   "cell_type": "code",
   "execution_count": 224,
   "metadata": {
    "collapsed": true
   },
   "outputs": [],
   "source": [
    "df = pd.read_table('P_Uppsala.dat', sep='\\s+', header = None, names = ['year','month','day','prec'])"
   ]
  },
  {
   "cell_type": "code",
   "execution_count": 225,
   "metadata": {
    "collapsed": false
   },
   "outputs": [
    {
     "data": {
      "text/html": [
       "<div>\n",
       "<table border=\"1\" class=\"dataframe\">\n",
       "  <thead>\n",
       "    <tr style=\"text-align: right;\">\n",
       "      <th></th>\n",
       "      <th>year</th>\n",
       "      <th>month</th>\n",
       "      <th>day</th>\n",
       "      <th>prec</th>\n",
       "      <th>mv</th>\n",
       "    </tr>\n",
       "  </thead>\n",
       "  <tbody>\n",
       "    <tr>\n",
       "      <th>507</th>\n",
       "      <td>1982</td>\n",
       "      <td>5</td>\n",
       "      <td>23</td>\n",
       "      <td>5.6</td>\n",
       "      <td>47.4</td>\n",
       "    </tr>\n",
       "  </tbody>\n",
       "</table>\n",
       "</div>"
      ],
      "text/plain": [
       "     year  month  day  prec    mv\n",
       "507  1982      5   23   5.6  47.4"
      ]
     },
     "execution_count": 225,
     "metadata": {},
     "output_type": "execute_result"
    }
   ],
   "source": [
    "df['mv']=pd.rolling_mean(df['prec'], 3)\n",
    "\n",
    "df[df['mv']==df['mv'].max()]"
   ]
  },
  {
   "cell_type": "markdown",
   "metadata": {},
   "source": [
    "Maximum 3-day rainfall amount in Uppsala is 47.4 mm  on 23.05.1982"
   ]
  },
  {
   "cell_type": "markdown",
   "metadata": {},
   "source": [
    "##### Maximum 5 day average rainfall "
   ]
  },
  {
   "cell_type": "code",
   "execution_count": 172,
   "metadata": {
    "collapsed": false
   },
   "outputs": [
    {
     "data": {
      "text/html": [
       "<div style=\"max-height:1000px;max-width:1500px;overflow:auto;\">\n",
       "<table border=\"1\" class=\"dataframe\">\n",
       "  <thead>\n",
       "    <tr style=\"text-align: right;\">\n",
       "      <th></th>\n",
       "      <th>year</th>\n",
       "      <th>month</th>\n",
       "      <th>day</th>\n",
       "      <th>prec</th>\n",
       "      <th>mv</th>\n",
       "      <th>mv5</th>\n",
       "    </tr>\n",
       "  </thead>\n",
       "  <tbody>\n",
       "    <tr>\n",
       "      <th>508</th>\n",
       "      <td> 1982</td>\n",
       "      <td> 5</td>\n",
       "      <td> 24</td>\n",
       "      <td> 6.4</td>\n",
       "      <td> 4</td>\n",
       "      <td> 29.72</td>\n",
       "    </tr>\n",
       "    <tr>\n",
       "      <th>509</th>\n",
       "      <td> 1982</td>\n",
       "      <td> 5</td>\n",
       "      <td> 25</td>\n",
       "      <td> 0.0</td>\n",
       "      <td> 4</td>\n",
       "      <td> 29.72</td>\n",
       "    </tr>\n",
       "  </tbody>\n",
       "</table>\n",
       "</div>"
      ],
      "text/plain": [
       "     year  month  day  prec  mv    mv5\n",
       "508  1982      5   24   6.4   4  29.72\n",
       "509  1982      5   25   0.0   4  29.72"
      ]
     },
     "execution_count": 172,
     "metadata": {},
     "output_type": "execute_result"
    }
   ],
   "source": [
    "df['mv5']=pd.rolling_mean(df['prec'], 5)\n",
    "df[df['mv5']==df['mv5'].max()]"
   ]
  },
  {
   "cell_type": "markdown",
   "metadata": {},
   "source": [
    "Maximum 5-day rainfall amount in Uppsala is 29.72 mm  happens in two different periods,  24.05.1982 and 25.05.1982"
   ]
  },
  {
   "cell_type": "markdown",
   "metadata": {},
   "source": [
    "##### 1.4 length of the maximum dry-spell days and the maximum wet-spell days of daily rainfall\n",
    "\n",
    "To calculate maximum dry-spell days according to month"
   ]
  },
  {
   "cell_type": "code",
   "execution_count": 229,
   "metadata": {
    "collapsed": false
   },
   "outputs": [
    {
     "data": {
      "text/plain": [
       "22"
      ]
     },
     "execution_count": 229,
     "metadata": {},
     "output_type": "execute_result"
    }
   ],
   "source": [
    "df = pd.read_table('P_Uppsala.dat', sep='\\s+', header = None, names = ['year','month','day','prec'])\n",
    "\n",
    "def func(group): return (group.prec != 0).astype(int).cumsum().value_counts().values[0] - 1 \n",
    "\n",
    "df1= df.groupby(['year','month']).apply(func)\n",
    "df1.max() "
   ]
  },
  {
   "cell_type": "code",
   "execution_count": 230,
   "metadata": {
    "collapsed": false
   },
   "outputs": [
    {
     "data": {
      "text/plain": [
       "(1981, 5)"
      ]
     },
     "execution_count": 230,
     "metadata": {},
     "output_type": "execute_result"
    }
   ],
   "source": [
    "df1.idxmax()"
   ]
  },
  {
   "cell_type": "markdown",
   "metadata": {},
   "source": [
    "Hence, the maximum dry-spell is 22 in May, 1981"
   ]
  },
  {
   "cell_type": "markdown",
   "metadata": {},
   "source": [
    "Note: There might be continuous longer dry-spell periods starting from one month and ending in next month, in this case we have to change the code slightly"
   ]
  },
  {
   "cell_type": "code",
   "execution_count": 233,
   "metadata": {
    "collapsed": false
   },
   "outputs": [
    {
     "data": {
      "text/html": [
       "<div>\n",
       "<table border=\"1\" class=\"dataframe\">\n",
       "  <thead>\n",
       "    <tr style=\"text-align: right;\">\n",
       "      <th>year</th>\n",
       "      <th>1981</th>\n",
       "      <th>1982</th>\n",
       "      <th>1983</th>\n",
       "      <th>1984</th>\n",
       "      <th>1985</th>\n",
       "      <th>1986</th>\n",
       "      <th>1987</th>\n",
       "      <th>1988</th>\n",
       "      <th>1989</th>\n",
       "      <th>1990</th>\n",
       "      <th>1991</th>\n",
       "    </tr>\n",
       "  </thead>\n",
       "  <tbody>\n",
       "    <tr>\n",
       "      <th>0</th>\n",
       "      <td>22</td>\n",
       "      <td>15</td>\n",
       "      <td>22</td>\n",
       "      <td>12</td>\n",
       "      <td>14</td>\n",
       "      <td>9</td>\n",
       "      <td>15</td>\n",
       "      <td>11</td>\n",
       "      <td>22</td>\n",
       "      <td>19</td>\n",
       "      <td>12</td>\n",
       "    </tr>\n",
       "  </tbody>\n",
       "</table>\n",
       "</div>"
      ],
      "text/plain": [
       "year  1981  1982  1983  1984  1985  1986  1987  1988  1989  1990  1991\n",
       "0       22    15    22    12    14     9    15    11    22    19    12"
      ]
     },
     "execution_count": 233,
     "metadata": {},
     "output_type": "execute_result"
    }
   ],
   "source": [
    "df2= df.groupby(['year']).apply(func)\n",
    "df2 = pd.DataFrame(df2)\n",
    "df2.T"
   ]
  },
  {
   "cell_type": "markdown",
   "metadata": {},
   "source": [
    "Hence in 1981, 1983 and 1989 have the same dry-spell of 22."
   ]
  },
  {
   "cell_type": "markdown",
   "metadata": {},
   "source": [
    "##### To calculate maximum wet-spell days according to month"
   ]
  },
  {
   "cell_type": "code",
   "execution_count": 237,
   "metadata": {
    "collapsed": false
   },
   "outputs": [
    {
     "data": {
      "text/html": [
       "<div>\n",
       "<table border=\"1\" class=\"dataframe\">\n",
       "  <thead>\n",
       "    <tr style=\"text-align: right;\">\n",
       "      <th>year</th>\n",
       "      <th>1981</th>\n",
       "      <th>1982</th>\n",
       "      <th>1983</th>\n",
       "      <th>1984</th>\n",
       "      <th>1985</th>\n",
       "      <th>1986</th>\n",
       "      <th>1987</th>\n",
       "      <th>1988</th>\n",
       "      <th>1989</th>\n",
       "      <th>1990</th>\n",
       "      <th>1991</th>\n",
       "    </tr>\n",
       "  </thead>\n",
       "  <tbody>\n",
       "    <tr>\n",
       "      <th>0</th>\n",
       "      <td>9</td>\n",
       "      <td>10</td>\n",
       "      <td>16</td>\n",
       "      <td>14</td>\n",
       "      <td>13</td>\n",
       "      <td>13</td>\n",
       "      <td>18</td>\n",
       "      <td>23</td>\n",
       "      <td>9</td>\n",
       "      <td>10</td>\n",
       "      <td>12</td>\n",
       "    </tr>\n",
       "  </tbody>\n",
       "</table>\n",
       "</div>"
      ],
      "text/plain": [
       "year  1981  1982  1983  1984  1985  1986  1987  1988  1989  1990  1991\n",
       "0        9    10    16    14    13    13    18    23     9    10    12"
      ]
     },
     "execution_count": 237,
     "metadata": {},
     "output_type": "execute_result"
    }
   ],
   "source": [
    "def func(group): \n",
    "        return (group.prec == 0).astype(int).cumsum()[group.prec != 0].value_counts().iloc[0] \n",
    "\n",
    "df2= df.groupby(['year']).apply(func)\n",
    "df2 = pd.DataFrame(df2)\n",
    "df2.T"
   ]
  },
  {
   "cell_type": "markdown",
   "metadata": {},
   "source": [
    "[Note: when you group by month also then you will get different result because, the rainy days starting form one month and ending in next month so the result is different.]"
   ]
  },
  {
   "cell_type": "markdown",
   "metadata": {},
   "source": [
    "Hence, Maximum wet-spell days in Uppsala from 1981 to 1991 is 23 on 1988."
   ]
  },
  {
   "cell_type": "markdown",
   "metadata": {},
   "source": [
    "### part II\n",
    "\n",
    "In this section we will work on Tahoe lake data.\n",
    "Read the data which is provided"
   ]
  },
  {
   "cell_type": "code",
   "execution_count": 177,
   "metadata": {
    "collapsed": true
   },
   "outputs": [],
   "source": [
    "tahoe = pd.read_table('Tahoe.dat',sep='\\s+', header = None, names = ['depth','nan'])\n"
   ]
  },
  {
   "cell_type": "markdown",
   "metadata": {},
   "source": [
    "Define dataframe"
   ]
  },
  {
   "cell_type": "code",
   "execution_count": 178,
   "metadata": {
    "collapsed": false
   },
   "outputs": [],
   "source": [
    "df= pd.DataFrame(tahoe['depth'])\n"
   ]
  },
  {
   "cell_type": "markdown",
   "metadata": {},
   "source": [
    "Note: If you want to plot regular histogram then just give the command plt.hist(df['depth'])\n"
   ]
  },
  {
   "cell_type": "markdown",
   "metadata": {},
   "source": [
    "##### Plot relative histogram"
   ]
  },
  {
   "cell_type": "code",
   "execution_count": 179,
   "metadata": {
    "collapsed": false
   },
   "outputs": [
    {
     "data": {
      "image/png": "[encoded data removed]",
      "text/plain": [
       "<matplotlib.figure.Figure at 0x7fb3594e8990>"
      ]
     },
     "metadata": {},
     "output_type": "display_data"
    }
   ],
   "source": [
    "plt.hist(df['depth'], bins= 8, normed = True) \n",
    "plt.ylabel('density')\n",
    "plt.xlabel('Depth of Clarity (in)')\n",
    "plt.title('Lake Tahoe')\n",
    "plt.show()"
   ]
  },
  {
   "cell_type": "markdown",
   "metadata": {},
   "source": [
    "##### Plot cumulative relative frequency"
   ]
  },
  {
   "cell_type": "code",
   "execution_count": 180,
   "metadata": {
    "collapsed": false
   },
   "outputs": [
    {
     "data": {
      "text/plain": [
       "<matplotlib.text.Text at 0x7fb35938d750>"
      ]
     },
     "execution_count": 180,
     "metadata": {},
     "output_type": "execute_result"
    },
    {
     "data": {
      "image/png": "[encoded data removed]",
      "text/plain": [
       "<matplotlib.figure.Figure at 0x7fb358f41190>"
      ]
     },
     "metadata": {},
     "output_type": "display_data"
    }
   ],
   "source": [
    "plt.hist(df['depth'], bins= 10,  cumulative = True)\n",
    "plt.xlabel('cumm depth of Clarity (in)')\n",
    "plt.ylabel('frequency')\n",
    "plt.title('Lake Tahoe')\n",
    "plt.ylabel('frequency')"
   ]
  },
  {
   "cell_type": "markdown",
   "metadata": {},
   "source": [
    "##### Calculate the probability that the depth of lake more than 40 inch."
   ]
  },
  {
   "cell_type": "code",
   "execution_count": 181,
   "metadata": {
    "collapsed": false
   },
   "outputs": [
    {
     "name": "stdout",
     "output_type": "stream",
     "text": [
      "Probability that the depth of lake is more than 40 inch = 50.0 \n"
     ]
    }
   ],
   "source": [
    "prob_more_than_40 = (sum(x>40 for x in df['depth'])/sum(x>=0 for x in df['depth']))*100\n",
    "\n",
    "print 'Probability that the depth of lake is more than 40 inch = %.1f '  % (prob_more_than_40)"
   ]
  },
  {
   "cell_type": "markdown",
   "metadata": {},
   "source": [
    "##### Calculate the probability that the depth of lake in between 15 to 40 inch."
   ]
  },
  {
   "cell_type": "code",
   "execution_count": 182,
   "metadata": {
    "collapsed": false
   },
   "outputs": [
    {
     "name": "stdout",
     "output_type": "stream",
     "text": [
      "Probability that the depth of lake is in between 13 to 40 inch = 26.67 \n"
     ]
    }
   ],
   "source": [
    "Probability_betwee_15_30 = (df['depth'].between(15,30).sum()/(df['depth'].count()))*100\n",
    "\n",
    "print 'Probability that the depth of lake is in between 13 to 40 inch = %.2f '  % (Probability_betwee_15_30)"
   ]
  },
  {
   "cell_type": "markdown",
   "metadata": {},
   "source": [
    "### Part III \n",
    "\n",
    "##### The frequency function for a continuous stochastic variable is shown below. Solve the problems analytically.\n",
    "\n",
    "$$\n",
    "f(x) = \\left\\{\n",
    "        \\begin{array}{ll}\n",
    "            cx^2 & \\quad 0 < x < 1 \\\\\n",
    "            0 & \\quad \\text{otherwise}\n",
    "        \\end{array}\n",
    "    \\right.\n",
    "$$\n",
    "\n",
    "1. Find the value for c so that f(x) becomes a density function. \n",
    "2. Calculate Prob(x < 0), Prob(x = 0.5), Prob(x > 1), Prob(0<=x<=0.5) and Prob(0<x< 0.5)\n",
    "3. Find the distribution function, F(x)\n",
    "4. Find the median\n",
    "5. Find the mode\n",
    "6. Calculate the expectation, E(x)\n",
    "7. Calculate the variance, var(x)"
   ]
  },
  {
   "cell_type": "markdown",
   "metadata": {},
   "source": [
    "#### 1. Find the value for c so that f(x) becomes a density function\n",
    "\n",
    "To find the probability density function f d (x), one has to integrate f (x) from 0 and 1. This integral is equal to 1 as it shall be a density function."
   ]
  },
  {
   "cell_type": "markdown",
   "metadata": {},
   "source": [
    "$\\int_{-\\infty }^{\\infty }f_{d}(dt)$ = $\\int_{0}^{1} ct²(dt)$ = 1\n",
    "\n",
    "\n",
    "= $ \\frac{ct³}{3}|_{0}^{1} $\n",
    "\n",
    "= $ \\frac{1³c}{3}$ - $ \\frac{0³c}{3}$ = 1\n",
    "\n",
    "c = 3\n",
    "\n",
    "That means, the density function is\n",
    "\n"
   ]
  },
  {
   "cell_type": "markdown",
   "metadata": {},
   "source": [
    "$$\n",
    "f(x) = \\left\\{\n",
    "        \\begin{array}{ll}\n",
    "            3x^2 & \\quad 0 < x < 1 \\\\\n",
    "            0 & \\quad \\text{otherwise}\n",
    "        \\end{array}\n",
    "    \\right.\n",
    "$$\n",
    "\n"
   ]
  },
  {
   "cell_type": "markdown",
   "metadata": {},
   "source": [
    "##### 2. Calculate Prob(x < 0), Prob(x = 0.5), Prob(x > 1), Prob(0<=x<=0.5) and Prob(0<x< 0.5)\n",
    "\n",
    "P rob(x < 0) = 0\n",
    "\n",
    "P rob(x = 0.5) = F (0.5) − F (0.5) = 0\n",
    "\n",
    "P rob(x > 1) = 0\n",
    "\n",
    "P (0 ≤ x ≤ 0.5) = F (0.5) − F (0) = 0.125\n",
    "\n",
    "P (0 < x < 0.5) = F (0.5) − F (0) = 0.125"
   ]
  },
  {
   "cell_type": "markdown",
   "metadata": {},
   "source": [
    "##### 3. Find the distribution function, F(x)\n",
    "\n",
    "The distribution function is defined as the integral of the density function.\n",
    "\n",
    "$ F(x) =  F(x) = x³ for 0<x<1 $"
   ]
  },
  {
   "cell_type": "markdown",
   "metadata": {},
   "source": [
    "##### 4. find the median"
   ]
  },
  {
   "cell_type": "markdown",
   "metadata": {},
   "source": [
    "The median for a continuous data is defined as\n",
    "\n",
    "$\\int_{-\\infty }^{\\mu_{md} }f_{x}(dx)$ = $\\int_{\\mu_{md}}^{\\infty} f_{x}(dx)$ = 0.5\n",
    "\n",
    "which means, the median $\\mu_{md}$ is that value, which divides the density function into two parts having equal areas of 2 1 each. For the given function, one obtains:\n",
    "\n",
    "$\\int_{0 }^{\\mu_{md} }3x²(dx)$ = $\\int_{\\mu_{md}}^{1} 3x²(dx)$ = 0.5\n",
    "\n",
    "$ x³|_{\\mu_{md}}^{1} $ = 0.5\n",
    "\n",
    "1³ - $\\mu_{md}^{3}$ = 0.5 \n",
    " \n",
    "$\\mu_{md}$ = $\\sqrt[3]{1-0.5}$\n",
    " \n",
    " \n",
    "$\\mu_{md}$ = 0.7937\n",
    "\n",
    "Therefore the median of the analysed density function is $\\mu_{md}$ = 0.7937."
   ]
  },
  {
   "cell_type": "markdown",
   "metadata": {},
   "source": [
    "##### 5. find the mode\n",
    "\n",
    "The function has no mode. For continuous variables the mode is defined as the maximum of the function. As this function has a discontinuity at the point, where it seems to have its maximum (at x = 1), one cannot calculate the derivation at that specific point. That means, $ \\frac{df(1)}{dx}$, the first derivation, is not defined."
   ]
  },
  {
   "cell_type": "markdown",
   "metadata": {},
   "source": [
    "##### 6. Calculate the expectation, E(x)\n",
    "\n",
    "$ E(X) = \\int_{0 }^{1} x f(x)dx =  \\int_{0 }^{1} x 3x² dx   =  \\frac{3}{4}$"
   ]
  },
  {
   "cell_type": "markdown",
   "metadata": {},
   "source": [
    "##### 7. Calculate the variance, var(x)\n",
    "\n",
    "$ V(X) = E(X²) − (EX)²$\n",
    "\n",
    "First, calculating E(X²)\n",
    "\n",
    "$ E(X²) = \\int_{0 }^{1} x²  3x² dx  = \\int_{0 }^{1} 3x⁴ dx $\n",
    "\n",
    "$ \\left |\\frac{3x⁵}{5}  \\right |_{0}^{1} = \\frac{3}{5}$ \n",
    "\n",
    "Then we can calculate $V(X)$\n",
    "\n",
    "$V(X) = \\frac{3}{5} -(\\frac{3}{5})^2 $\n",
    "\n",
    "$V(X)= \\frac{3}{80}$"
   ]
  }
 ],
 "metadata": {
  "kernelspec": {
   "display_name": "Python 2",
   "language": "python",
   "name": "python2"
  },
  "language_info": {
   "codemirror_mode": {
    "name": "ipython",
    "version": 2
   },
   "file_extension": ".py",
   "mimetype": "text/x-python",
   "name": "python",
   "nbconvert_exporter": "python",
   "pygments_lexer": "ipython2",
   "version": "2.7.10"
  }
 },
 "nbformat": 4,
 "nbformat_minor": 0
}
