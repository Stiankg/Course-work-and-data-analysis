{
 "cells": [
  {
   "cell_type": "markdown",
   "metadata": {},
   "source": [
    "## Exercise 3: Confidence interval and Hypothesis testing"
   ]
  },
  {
   "cell_type": "markdown",
   "metadata": {},
   "source": [
    "This exercise is due September 21, 2015. Please save this notebook as a .pdf and .ipynb file and upload both files to the folder \"GEO4310/Resources/Exercises/Hand-in of exercises\" in Fronter. The report should answer all questions given in the exercise text and contain the relevant plots and output. For each python command given in this notebook, write a comment (a line starting with #) to demonstrate that you understand what it does.\n",
    "\n",
    "#####Name:- Bikas Chandra Bhattarai\n",
    "#####Date :- 21 September 2015"
   ]
  },
  {
   "cell_type": "markdown",
   "metadata": {},
   "source": [
    "#####Question 1.\n",
    "A sample of 20 random observations gave a mean of 145 and a variance of 30. What is the 95 % confidence interval for the mean: \n",
    "\n",
    "#####a) if the estimated variance is 30\n",
    "\n",
    "For the calculation of the confidence interval one uses the following equations\n",
    "\n",
    "$ L = \\bar{x} - t_{1-\\tfrac{\\alpha }{2}};  N-1 * S_\\bar{X} $\n",
    "\n",
    "$ U = \\bar{x} + t_{1-\\tfrac{\\alpha }{2}};  N-1 * S_\\bar{X} $\n",
    "\n",
    "whereas L is the lower limit, U is the upper limit of the interval, $\\bar{x}$ is the mean of the sample, $S_\\bar{X}$ is the standard error of the sample and N is the total number of values in the sample. The test uses the t-Distribution, which is dependent on α and N, in that case 0.05 and 20, respectively.\n",
    "\n",
    "$ S_\\bar{X}  = \\frac{std}{\\sqrt{N}}$\n",
    "\n",
    "First the standard error of the sample mean is estimated from the sample standard deviation (std)\n"
   ]
  },
  {
   "cell_type": "code",
   "execution_count": 5,
   "metadata": {
    "collapsed": false
   },
   "outputs": [],
   "source": [
    "import math\n",
    "import numpy as np\n",
    "import scipy\n",
    "std = math.sqrt(30)    # standard deviation\n",
    "N = 20\n",
    "Sx = std/math.sqrt(N)  # Standard error\n",
    "alpha = 0.05\n",
    "mean = 145"
   ]
  },
  {
   "cell_type": "markdown",
   "metadata": {},
   "source": [
    "The value of $t_{1-\\tfrac{\\alpha }{2}}; N-1 $ can be calculated from python by using the function:\n",
    "\n",
    "scipy.stats.t.ppf((1-(alpha/2)), N-1)"
   ]
  },
  {
   "cell_type": "code",
   "execution_count": 6,
   "metadata": {
    "collapsed": false
   },
   "outputs": [
    {
     "name": "stdout",
     "output_type": "stream",
     "text": [
      "sample standard error             : 1.22\n",
      "sample standard deviation         : 5.48\n",
      "Confidence intervals are          : (142.4, 147.6)\n"
     ]
    }
   ],
   "source": [
    "U = mean + scipy.stats.t.ppf((1-(alpha/2)), N-1)* Sx\n",
    "L = mean - scipy.stats.t.ppf((1-(alpha/2)), N-1)* Sx\n",
    "\n",
    "print('sample standard error             : %.2f' % Sx)\n",
    "print('sample standard deviation         : %.2f' % std)\n",
    "print('Confidence intervals are          : (%.1f, %.1f)' % (L, U))"
   ]
  },
  {
   "cell_type": "markdown",
   "metadata": {},
   "source": [
    "That means, that the mean of the sample lies with a confidence of 95 % in the interval [142.4; 147.6] if the real variance is unknown."
   ]
  },
  {
   "cell_type": "markdown",
   "metadata": {},
   "source": [
    "##### b) if the true variance is 30\n",
    "\n",
    "In that case one assumes, that the variance calculated from the sample, is equal to the real variance of the population. In that case the z-Distribution is used, which depends on the parameter α = 0. 05. The calculation is the following:\n",
    "\n",
    "$ L = \\bar{x} - z_{1-\\tfrac{\\alpha }{2}};  * S_\\bar{X} $\n",
    "\n",
    "$ U = \\bar{x} + z_{1-\\tfrac{\\alpha }{2}};  * S_\\bar{X} $\n",
    "\n",
    "The value of $z_{1-\\tfrac{\\alpha }{2}}$ can be calculated from python by using the function:\n",
    "\n",
    "scipy.stats.norm.ppf((1-(alpha/2)))"
   ]
  },
  {
   "cell_type": "code",
   "execution_count": 7,
   "metadata": {
    "collapsed": false
   },
   "outputs": [
    {
     "name": "stdout",
     "output_type": "stream",
     "text": [
      "Confidence intervals are          : (142.6, 147.4)\n"
     ]
    }
   ],
   "source": [
    "u = mean + scipy.stats.norm.ppf((1-(alpha/2)))* Sx\n",
    "l = mean - scipy.stats.norm.ppf((1-(alpha/2)))* Sx\n",
    "\n",
    "print('Confidence intervals are          : (%.1f, %.1f)' % (l, u))"
   ]
  },
  {
   "cell_type": "markdown",
   "metadata": {},
   "source": [
    "The mean will be in the intervall [142.6; 147.4] with 95 % confidence if the calculated variance from the sample is equal to the variance of the population."
   ]
  },
  {
   "cell_type": "markdown",
   "metadata": {},
   "source": [
    "##### c) Are they different? In that case, why?"
   ]
  },
  {
   "cell_type": "markdown",
   "metadata": {
    "collapsed": true
   },
   "source": [
    "Yes they are different because we use t-test when the number of sample is higher then 30 and the variance is unknown.If the variance is unknown then the confidence interval is larger then with the test with know variance that is Z-test. \n"
   ]
  },
  {
   "cell_type": "markdown",
   "metadata": {},
   "source": [
    "##### d) 95 % confidence interval for the variance\n",
    "\n",
    "For this calculation, one assumes, that the mean μ is unknown. The statistic test uses the χ 2 -Distribution. Its defining parameters are in that case α = 0. 05 and n = 20. The used equations are the following:\n",
    "\n",
    "If xi ~ N(μ,σ² ) then (n-1)S²/σ² has the Chi-square distribution.\n",
    "\n",
    "$Prob(χ²_{α/2,n-1} < (n-1)\\frac{S_{x}^{2}}{\\sigma_{x}^{2}} < χ²_{1-α/2,n-1} )$\n",
    "\n",
    "where, \n",
    "\n",
    "$S_{x}^{2}$ = variance = 30\n",
    "\n",
    "\n",
    "from python \n",
    "\n",
    "$χ²_{α/2,N-1}$ = chi2.ppf((alpha/2), df= (N-1))\n",
    "\n",
    "$χ²_{1-α/2,N-1}$ = chi2.ppf((1-(alpha/2)), df = (N-1))\n",
    "\n",
    "$lower = \\frac{(N-1)*S_{x}^{2}}{χ²_{1-α/2,N-1}}$\n",
    "\n",
    "$upper = \\frac{(N-1)*S_{x}^{2}}{χ²_{α/2,N-1}}$\n",
    "\n",
    "so the lower and upper confidence interval for variance can be calculated as follow:\n"
   ]
  },
  {
   "cell_type": "code",
   "execution_count": 8,
   "metadata": {
    "collapsed": false
   },
   "outputs": [
    {
     "name": "stdout",
     "output_type": "stream",
     "text": [
      "Confidence intervals for variance are          : (17.4, 64.0)\n"
     ]
    }
   ],
   "source": [
    "from scipy.stats import chi2\n",
    "variance = 30\n",
    "upper = ((N-1)* variance)/chi2.ppf((alpha/2), df= (N-1))\n",
    "lower = ((N-1)* variance)/chi2.ppf((1-(alpha/2)), df = (N-1))\n",
    "print('Confidence intervals for variance are          : (%.1f, %.1f)' % (lower, upper))"
   ]
  },
  {
   "cell_type": "markdown",
   "metadata": {},
   "source": [
    "The variance lies with 95 % confidence in the interval [17.4; 64.00] if one assumes an unknown mean."
   ]
  },
  {
   "cell_type": "markdown",
   "metadata": {},
   "source": [
    "##### Question 2: \n",
    "\n",
    "a) A hydrologist wants to determine the mean groundwater depth for a research site. Previous studies show that the mean depth is around 40 meters and standard deviation is 10 meters. She wants to test if this is correct. How many samples should she take in order to be 95%- sure that the estimated mean groundwater depth will not differ more than 5 meters."
   ]
  },
  {
   "cell_type": "markdown",
   "metadata": {},
   "source": [
    "Margin of error,E = $Z_{α/2} * S_x $\n",
    "\n",
    "$S_x = \\frac{\\sigma}{\\sqrt{N}}$\n",
    "\n",
    "So, the sample size, $n = (\\frac{Z_{α/2}*\\sigma}{E})²$\n",
    "\n",
    "Here,\n",
    "\n",
    "alpha = 0.05\n",
    "\n",
    "Error (E) = 5 m\n",
    "\n",
    "standard deviation (sigma) = 10 m\n",
    "\n",
    "by using normal distribution table:"
   ]
  },
  {
   "cell_type": "code",
   "execution_count": 9,
   "metadata": {
    "collapsed": true
   },
   "outputs": [],
   "source": [
    "scipy.stats.norm.ppf(alpha/2)\n",
    "sigma = 10\n",
    "E = 5\n",
    "n = ((scipy.stats.norm.ppf(alpha/2)*sigma)/E)**2"
   ]
  },
  {
   "cell_type": "markdown",
   "metadata": {},
   "source": [
    "n = 15.36 ~ 16\n",
    "\n",
    "This value for n is now used for the t-Test:\n",
    "\n",
    "$t_{1-α/2,N-1} = t_{1-α/2,16}$\n",
    "\n",
    "and can be calculated from python:"
   ]
  },
  {
   "cell_type": "code",
   "execution_count": 10,
   "metadata": {
    "collapsed": true
   },
   "outputs": [],
   "source": [
    "t_value = scipy.stats.t.ppf((1-(alpha/2)), 15)"
   ]
  },
  {
   "cell_type": "markdown",
   "metadata": {},
   "source": [
    "So $n =  (\\frac{t-value * \\sigma}{E})²$"
   ]
  },
  {
   "cell_type": "code",
   "execution_count": 11,
   "metadata": {
    "collapsed": false
   },
   "outputs": [
    {
     "name": "stdout",
     "output_type": "stream",
     "text": [
      "Number of sample         : 18.17\n"
     ]
    }
   ],
   "source": [
    "n = ((t_value*sigma)/E)**2\n",
    "\n",
    "print('Number of sample         : %.2f' % n)"
   ]
  },
  {
   "cell_type": "markdown",
   "metadata": {},
   "source": [
    "As this is also an approximation, one can state, that the hydrologist has to take at least 18 samples."
   ]
  },
  {
   "cell_type": "markdown",
   "metadata": {},
   "source": [
    "b) A candidate running for president wants to know how many percent of all people will vote for him? He knows (hopes) that he will get around 40% percent and he is satisfied if the error in the estimation is less than 5%-units with a probability of 0.95. How many people must be included in the test poll?"
   ]
  },
  {
   "cell_type": "code",
   "execution_count": 12,
   "metadata": {
    "collapsed": false
   },
   "outputs": [
    {
     "name": "stdout",
     "output_type": "stream",
     "text": [
      "Number of people must included in is : 368.8\n"
     ]
    }
   ],
   "source": [
    "t = scipy.stats.norm.ppf(0.975)\n",
    "L = 35\t\t\t\t\t#Lower limit i.e 40-5\n",
    "U = 40\t\t\t\t\t#Upper limit\n",
    "p_40 = 40*(100-40)\n",
    "print ('Number of people must included in is : %.1f' %\n",
    "       (p_40/((U-L)/t)**2))"
   ]
  },
  {
   "cell_type": "markdown",
   "metadata": {},
   "source": [
    "The number of people must be included to the test poll is 369."
   ]
  },
  {
   "cell_type": "markdown",
   "metadata": {},
   "source": [
    "#####Question 3.\n",
    "In a river station, the annual mean discharge and standard deviation calculated from a 20 year sample data are 14.5 mm and 4.7 mm, respectively. Assume the annual discharge is normally distributed. Test the hypothesis that the population mean annual discharge is 16.4 mm. (α =5 %)"
   ]
  },
  {
   "cell_type": "markdown",
   "metadata": {},
   "source": [
    "As the sample size is just 20, one assumes the variance as unknown. Therefore one has to\n",
    "use the t-Test. The calculation with a confidence interval of 95 %, that means α = 0, 05,\n",
    "is the following:\n",
    "\n",
    "Test hypothesis are\n",
    "\n",
    "H0: mu = 16.4\n",
    "\n",
    "H1: mu $\\neq$  16.4\n",
    "\n",
    "The hypothesis H 0 is rejected if equ. (1) is true\n",
    "\n",
    "$|t| > t_{n−1;1− \\frac{\\alpha}{2}}$..................(1)\n",
    "\n",
    "And |t| is calculated by using equation (2)\n",
    "\n",
    "$ |t| = \\frac{\\bar{x}-\\mu}{s_x}* \\sqrt{n}$..............(2)\n",
    "\n",
    "where $s_x$ is the standard deviation\n",
    "$\\bar{x}$ is the  sample mean, $\\mu$ is the population mean"
   ]
  },
  {
   "cell_type": "code",
   "execution_count": 13,
   "metadata": {
    "collapsed": false
   },
   "outputs": [
    {
     "name": "stdout",
     "output_type": "stream",
     "text": [
      "t-statistic = 1.807885 pvalue = 2.093024\n"
     ]
    }
   ],
   "source": [
    "#Given\n",
    "import numpy as np\n",
    "from scipy import stats\n",
    "xbar = 14.5\n",
    "mu= 16.4\n",
    "sigma = 4.7\n",
    "n=20   \n",
    "df = n-1\n",
    "# calculating test statistics\n",
    "tt =  ((xbar - mu) / sigma)* np.sqrt(n)  \t\t# t-statistic for mean\n",
    "\n",
    "# calculating p-value from t-table by using the function from python\n",
    "pval = stats.t.ppf(1- (0.05)/2, df)  \t\t\t# two-sided pvalue at alpha = 0.05\n",
    "\n",
    "print 't-statistic = %f pvalue = %f' % (np.abs(tt), pval) #np.abs is for getting absolute value"
   ]
  },
  {
   "cell_type": "markdown",
   "metadata": {},
   "source": [
    "As equation (1) is a false statement, the hypothesis H0 is not rejected. That means that the\n",
    "mean discharge of the population can be 16.5 mm."
   ]
  },
  {
   "cell_type": "markdown",
   "metadata": {},
   "source": [
    "#####Question 4.\n",
    "As above, but test the hypothesis that the population mean annual discharge is 16.4 mm with an alternative hypothesis that the mean annual discharge is less than 16.4 mm. (do not forget to state your assumptions)"
   ]
  },
  {
   "cell_type": "markdown",
   "metadata": {},
   "source": [
    "This is a test on the mean with unknown variance, as the sample size is just 20. The calculation at a confidence interval of 95%, α = 0.05, is the following:\n",
    "\n",
    "H0 : μ = μ1 ;\n",
    "\n",
    "Ha : μ $\\neq$ μ2\n",
    "\n",
    "whereas μ1 = 16.4 mm and μ 2 = 14.5 mm. The hypothesis H0 is rejected if equ. (3) is\n",
    "true.\n",
    "\n",
    "$ μ_2 ≤ μ_1 − t_{n−1;1−α}* \\frac{s_x}{\\sqrt{n}}$..............(3)\n"
   ]
  },
  {
   "cell_type": "code",
   "execution_count": 14,
   "metadata": {
    "collapsed": false
   },
   "outputs": [
    {
     "name": "stdout",
     "output_type": "stream",
     "text": [
      "test statists: 14.5827645009\n",
      "mu2: 14.5\n"
     ]
    }
   ],
   "source": [
    "mu2 = 14.5\n",
    "mu1 = 16.4\n",
    "sigma = 4.7 \t# Standard deviation\n",
    "n=20\n",
    "\n",
    "# calculate by using equation 3\n",
    "print 'test statists:', mu1-(np.abs(stats.t.ppf(0.05, df))*(sigma/np.sqrt(n))) \n",
    "\n",
    "print 'mu2:', mu2"
   ]
  },
  {
   "cell_type": "markdown",
   "metadata": {},
   "source": [
    "As this is a true statement, the hypothesis H0 is rejected. That means, the population mean cannot have the value of 16.4 mm with a confidence niveau of 95 %. At least the population mean will be nearer to 14.5 mm"
   ]
  },
  {
   "cell_type": "markdown",
   "metadata": {},
   "source": [
    "#####Question 5.\n",
    "As above, but test the hypothesis that the population mean annual discharge is 16.4 mm with an alternative hypothesis that the mean annual discharge is larger than 16.4 mm. (do not forget to state your assumptions)"
   ]
  },
  {
   "cell_type": "markdown",
   "metadata": {},
   "source": [
    "H0: µ = 16.4 \n",
    "\n",
    "Ha: µ > 16.4\n",
    "\n",
    "if this statement is true then Ho is rejected: $ μ_2 \\geqslant  μ_1 + t_{n−1;1−α}* \\frac{s_x}{\\sqrt{n}}$...............(4)\n",
    "\n",
    "\n",
    "Assumption: We assume normal distribution and unknown variance since n is small\n",
    "\n",
    "\n"
   ]
  },
  {
   "cell_type": "code",
   "execution_count": 15,
   "metadata": {
    "collapsed": false
   },
   "outputs": [
    {
     "name": "stdout",
     "output_type": "stream",
     "text": [
      "test statists: 18.2172354991\n",
      "xbar: 14.5\n"
     ]
    }
   ],
   "source": [
    "\n",
    "xbar = 14.5\n",
    "mu= 16.4\n",
    "sigma = 4.7       \n",
    "n=20\n",
    "# calculate by using equation 3\n",
    "\n",
    "print 'test statists:', (mu + np.abs(stats.t.ppf(0.05, df))*(sigma/np.sqrt(n)))\n",
    "print 'xbar:', xbar"
   ]
  },
  {
   "cell_type": "markdown",
   "metadata": {},
   "source": [
    "14.5 mm is not equal to or larger than 18.2 mm. The null hypothesis is therefore not rejected."
   ]
  },
  {
   "cell_type": "markdown",
   "metadata": {},
   "source": [
    "#####Question 6.\n",
    "In Nassau on the Bahamas precipitation has been measured during two periods. The yearly amount of precipitation was \n",
    "\n",
    "1872 – 1890 (19 years): x¯ = 1346 mm, s = 333 mm \n",
    "1896 – 1919 (24 years): x¯ = 1152 mm, s = 262 mm \n",
    "\n",
    "#####a) Is the difference between the mean values of the two periods significant? What is/are your assumptions?\n",
    "\n",
    "\n",
    "Assumption: We assume normal distribution with unknown variance\n",
    "\n",
    "\n",
    "The hypothesis tested is, that there is no difference in the two values, which means δ = 0. The confidence\n",
    "interval will be 95 %, which means α = 0.05. \n",
    "\n",
    "Hypothesis:\n",
    "\n",
    "H0 : μ1 − μ2 = δ\n",
    "\n",
    "Ha : μ1 − μ2 = δ\n",
    "\n",
    "$|\\frac{\\bar{x_1}-\\bar{x_2}-δ}{\\sqrt{\\frac{s_1^{2}}{n_1}-\\frac{s_2^{2}}{n_2}}}| > \\frac{w_1 t_1+ w_2 t_2}{w_1+w_2}$..............(5)\n",
    "\n",
    "$w_1 = \\frac{s_1^{2}}{n_1}$\n",
    "\n",
    "$w_2 = \\frac{s_2^{2}}{n_2}$\n",
    "\n",
    "The hypothesis H0 will be rejected if equ. (5) is true."
   ]
  },
  {
   "cell_type": "code",
   "execution_count": 16,
   "metadata": {
    "collapsed": false
   },
   "outputs": [],
   "source": [
    "import scipy.stats as stats\n",
    "N1 = 19 \n",
    "mu1= 1346 \n",
    "s1 = 333 \n",
    "N2 = 24\n",
    "mu2= 1152\n",
    "s2 = 262\n",
    "\n",
    "def welch_t_test(mu1, s1, N1, mu2, s2, N2): \n",
    "   # Construct arrays to make calculations more succint.\n",
    "    N_i = np.array([N1, N2])\n",
    "    dof_i = N_i - 1\n",
    "    v_i = np.array([s1, s2]) ** 2\n",
    "    # Calculate t-stat, degrees of freedom, use scipy to find p-value.\n",
    "    t = (mu1 - mu2) / np.sqrt(np.sum(v_i / N_i))\n",
    "    dof = (np.sum(v_i / N_i) ** 2) / np.sum((v_i ** 2) / ((N_i ** 2) * dof_i))\n",
    "    p = stats.distributions.t.sf(np.abs(t), dof) * 2\n",
    "    return t\n",
    "\n",
    "ts = welch_t_test(mu1, s1, N1, mu2, s2, N2) # test statistics\n",
    "\n",
    "t1 = stats.t.ppf(1- (1-0.95)/2, 18)\n",
    "t2 = stats.t.ppf(1- (1-0.95)/2, 23)\n",
    "w1 = ((s1**2)/N1)\n",
    "w2 = ((s2**2)/N2)        \n",
    "ts1 = (w1*t1 + w2*t2)/(w1+w2)\n"
   ]
  },
  {
   "cell_type": "markdown",
   "metadata": {},
   "source": [
    "$|\\frac{\\bar{x_1}-\\bar{x_2}-δ}{\\sqrt{\\frac{s_1^{2}}{n_1}-\\frac{s_2^{2}}{n_2}}}|$ = 2.08037\n",
    "\n",
    "$\\frac{w_1 t_1+ w_2 t_2}{w_1+w_2}$ = 2.0903"
   ]
  },
  {
   "cell_type": "markdown",
   "metadata": {},
   "source": [
    "From equation 5:\n",
    "\n",
    "2.0803 > 2.0903\n",
    "\n",
    "This is a false statement, which means that H0 is not rejected and the difference is not significant at a confidence niveau of 95 %."
   ]
  },
  {
   "cell_type": "markdown",
   "metadata": {},
   "source": [
    "#####b) Is the difference between the variances of the two periods significant? \tWhat \tis/are your assumptions?"
   ]
  },
  {
   "cell_type": "markdown",
   "metadata": {},
   "source": [
    "To test the hypothesis that the sample variances of two normal distributed populations \n",
    "are equal, one uses the F -Test. As in the questions above one assumes that the confidence\n",
    "interval is equal to 95 %, α = 0.05 and that both samples are normally distributed.\n",
    "\n",
    "Test hypothesis are:\n",
    "\n",
    "H0 : $σ_1^{2} = σ_2^{2}$ ;\n",
    "\n",
    "H0 : $ σ_1^{2} \\neq  σ_2^{2}$\n",
    "\n",
    "The hypothesis H 0 is rejected if equ. (6) is true.\n",
    "\n",
    "$ F_c= \\frac{s_1^{2}}{s_2} > F_{1−α;n1 −1;n2 −1}$................(6)"
   ]
  },
  {
   "cell_type": "code",
   "execution_count": 20,
   "metadata": {
    "collapsed": false
   },
   "outputs": [
    {
     "name": "stdout",
     "output_type": "stream",
     "text": [
      "calculated value for F-test : 1.61542159548\n",
      "Table value for F-test      : 2.09\n"
     ]
    }
   ],
   "source": [
    "from __future__ import division\n",
    "N1 = 19 \n",
    "s1 = 333 \n",
    "N2 = 24\n",
    "s2 = 262\n",
    "alpha = 0.05\n",
    "         \n",
    "F = s1**2/s2**2\n",
    "\n",
    "ft = 2.09 # f 1-alpha, N1-1, N2-1,= 2.09\n",
    "\n",
    "print 'calculated value for F-test :',  F\n",
    "print  'Table value for F-test      :', ft"
   ]
  },
  {
   "cell_type": "markdown",
   "metadata": {},
   "source": [
    "As this statement is false on the basis of equation 6 and the hypothesis H0 cannot be rejected. The variance is not\n",
    "significant different if both samples can be considered as normally distributed."
   ]
  },
  {
   "cell_type": "markdown",
   "metadata": {},
   "source": [
    "#####Question 7.\n",
    "The data from 1879-1998 can be found in the file columbia_y.dat (format: year, mean Q, max Q, min Q). Q is in cf/s. The drainage area is 237000 square miles. (it may be a good idea to multiply the runoff values by a conversion factor to get mm/year, 1 foot=0.305 m, 1 mile = 1609 m).\n",
    "\n",
    "a) Draw observed and expected (assuming normal distribution) frequencies for the max Q data (~10 classes). "
   ]
  },
  {
   "cell_type": "code",
   "execution_count": 21,
   "metadata": {
    "collapsed": false,
    "scrolled": true
   },
   "outputs": [
    {
     "name": "stderr",
     "output_type": "stream",
     "text": [
      "/home/bikascb/anaconda/lib/python2.7/site-packages/IPython/kernel/__main__.py:16: SettingWithCopyWarning: \n",
      "A value is trying to be set on a copy of a slice from a DataFrame.\n",
      "Try using .loc[row_indexer,col_indexer] = value instead\n",
      "\n",
      "See the the caveats in the documentation: http://pandas.pydata.org/pandas-docs/stable/indexing.html#indexing-view-versus-copy\n"
     ]
    },
    {
     "data": {
      "image/png": "[encoded data removed]",
      "text/plain": [
       "<matplotlib.figure.Figure at 0x7fb40c040d50>"
      ]
     },
     "metadata": {},
     "output_type": "display_data"
    }
   ],
   "source": [
    "%matplotlib inline\n",
    "import numpy as np\n",
    "import pandas as pd\n",
    "import scipy\n",
    "from scipy import stats\n",
    "import matplotlib.pyplot as plt\n",
    "\n",
    "data= pd.read_table('columbia_y.dat',header=None,names=['year','mean','max','min','nan','nan'])\n",
    "\n",
    "#Deleating other columns which is not required in this calculation by using 'drop' function \n",
    "\n",
    "maximum = (data.drop(['nan','mean','min'],axis=1))\n",
    "\n",
    "#converting the discharge unit from cf/s to mm/year by multipling 0.001458296\n",
    "\n",
    "maximum['max'] *= 0.001458296 #converting cf per sec to mm per year\n",
    "\n",
    "#Remove data at the last row with NaN value\n",
    "\n",
    "maximum = maximum[:-1]\n",
    "\n",
    "#Calculating relative frequency from observed data sets by defining 10 classs intervals beginning with 300 mm/a in the first class and ending with 1800 mm/a in the last class. Upper and lower value for class are chosen on the basis of minimum and maximum value of maximum discharge in mm/year. \n",
    "\n",
    "relfreq,lowlim,binsize,extrapoints = stats.relfreq(maximum,numbins=10,defaultreallimits=(300,1800))\n",
    "\n",
    "#Calculating cumulative relative frequency\n",
    "\n",
    "cum_relfreq = np.cumsum(relfreq)\n",
    "\n",
    "Observed = pd.DataFrame(cum_relfreq)\n",
    "\n",
    "#Calculating Expected cumulative relative frequency\n",
    "\n",
    "# Calc the max and mean of the annual maximum discharges\n",
    "std= 257.6\n",
    "mean= 781.1\n",
    "\n",
    "def float_range(initVal, itemCount, step):\n",
    "    for x in xrange(itemCount):\n",
    "        yield initVal\n",
    "        initVal += step\n",
    "\n",
    "L=[x for x in float_range(300, 10, 150)]\n",
    "L=pd.DataFrame(L)\n",
    "U=[y for y in float_range(450, 10, 150)]\n",
    "U = pd.DataFrame(U)\n",
    "\n",
    "exp = scipy.stats.norm.cdf((U-mean)/std)-scipy.stats.norm.cdf((L-mean)/std)\n",
    "exp_cufre = np.cumsum(exp)\n",
    "\n",
    "Expected = pd.DataFrame(exp_cufre)\n",
    "\n",
    "\n",
    "plt.plot(Expected,color='r',marker=\"o\")\n",
    "plt.plot(Observed,color='b',marker=\"o\")\n",
    "plt.legend(['Expected', 'Observed'], loc='upper left') \n",
    "plt.xlabel('Class') \n",
    "plt.ylabel('Cumulative Relative Frequency') \n",
    "plt.show()"
   ]
  },
  {
   "cell_type": "markdown",
   "metadata": {},
   "source": [
    "#### Plot in lognormal distribution"
   ]
  },
  {
   "cell_type": "code",
   "execution_count": 56,
   "metadata": {
    "collapsed": false
   },
   "outputs": [
    {
     "data": {
      "text/plain": [
       "<matplotlib.text.Text at 0x7fb409409750>"
      ]
     },
     "execution_count": 56,
     "metadata": {},
     "output_type": "execute_result"
    },
    {
     "data": {
      "image/png": "[encoded data removed]",
      "text/plain": [
       "<matplotlib.figure.Figure at 0x7fb409af63d0>"
      ]
     },
     "metadata": {},
     "output_type": "display_data"
    }
   ],
   "source": [
    "# Take the logarithm of the annual maximum discharges to testing whether they are lognormal\n",
    "lognorm = np.log(maximum['max'])\n",
    "#print(lognorm)\n",
    "\n",
    "#Calculating relative frequency from observed data sets by defining 10 classs intervals beginning with 300 mm/a \n",
    "#in the first class and ending with 1800 mm/a in the last class. Upper and lower value for class are chosen\n",
    "#on the basis of minimum and maximum value of maximum discharge in mm/year. \n",
    "\n",
    "relfreq,lowlim,binsize,extrapoints = stats.relfreq(lognorm,numbins=10,defaultreallimits=(np.log(300),np.log(1800)))\n",
    "\n",
    "# Calculating standard deviation and mean\n",
    "\n",
    "std= np.std(lognorm)\n",
    "mean = np.mean(lognorm)\n",
    "#Calculating cumulative relative frequency\n",
    "\n",
    "cum_relfreq = np.cumsum(relfreq)\n",
    "Observed1 = pd.DataFrame(cum_relfreq)\n",
    "\n",
    "L = np.linspace(np.log(300), np.log(1650), num=10)\n",
    "U = np.linspace(np.log(450), np.log(1800), num=10)\n",
    "\n",
    "exp = scipy.stats.norm.cdf((U-mean)/std)-scipy.stats.norm.cdf((L-mean)/std)\n",
    "exp_cufre = np.cumsum(exp)\n",
    "\n",
    "Expected1 = pd.DataFrame(exp_cufre)\n",
    "\n",
    "\n",
    "plt.plot(Observed1,color='r',marker=\"o\")\n",
    "\n",
    "\n",
    "plt.plot(Expected1,color='g',marker=\"o\")\n",
    "\n",
    "plt.legend(['Observed', 'Expected'], loc='upper left') \n",
    "plt.xlabel('Class') \n",
    "plt.ylabel('Cumulative Relative Frequency') \n",
    "\n"
   ]
  },
  {
   "cell_type": "markdown",
   "metadata": {},
   "source": [
    "##### b) Perform both the χ2 and the Kolmogorov-Smirnov test to answer : Can the yearly mean runoff in the Columbia River at the Dalles, Oregon be asssumed to be normally distributed?"
   ]
  },
  {
   "cell_type": "markdown",
   "metadata": {},
   "source": [
    "### chi square test"
   ]
  },
  {
   "cell_type": "markdown",
   "metadata": {},
   "source": [
    "##### Defining the Hypothesis\n",
    "\n",
    "H0 : Mean Discharge is normally distributed\n",
    "\n",
    "Ha : Mean Discharge is not normally distributed"
   ]
  },
  {
   "cell_type": "code",
   "execution_count": 1,
   "metadata": {
    "collapsed": true
   },
   "outputs": [],
   "source": [
    "# Importing the required modules\n",
    "from collections import Counter\n",
    "import numpy as np\n",
    "import pandas as pd\n",
    "import scipy\n",
    "from scipy import stats\n",
    "from pandas import Series\n",
    "import matplotlib.pyplot as plt"
   ]
  },
  {
   "cell_type": "code",
   "execution_count": 2,
   "metadata": {
    "collapsed": false,
    "scrolled": true
   },
   "outputs": [],
   "source": [
    "# Reading the data table\n",
    "data = pd.read_table('columbia_y.dat',header=None,names=['year','mean','max','min','nan','nan'])\n",
    "\n",
    "#Selecting only mean from the datasets \n",
    "Q_mean = data['mean']\n",
    "#Defining dataframe\n",
    "\n",
    "Q_mean = pd.DataFrame(Q_mean)\n",
    "\n",
    "# Converting the mean discharge in mm per year \n",
    "\n",
    "Q_mean['mean'] *= 0.001458296\n",
    "\n",
    "#removing the NaN value at the bottom of datasets\n",
    "Q_mean = Q_mean[:-1]"
   ]
  },
  {
   "cell_type": "code",
   "execution_count": 3,
   "metadata": {
    "collapsed": false,
    "scrolled": true
   },
   "outputs": [
    {
     "name": "stdout",
     "output_type": "stream",
     "text": [
      "457.344958336\n",
      "172.234965672\n"
     ]
    }
   ],
   "source": [
    "#calculating mean maximum and minimum value from datasets\n",
    "print max(Q_mean['mean'])\n",
    "print min(Q_mean['mean'])"
   ]
  },
  {
   "cell_type": "markdown",
   "metadata": {},
   "source": [
    "First one has to group the data for the mean discharge in classes. In that case the class width is 30, starting with 170 in the first class and ending with 470 in the last class. This classification is chosen because the minimum and maximum values are 457.34 and 172.23 respectively.\n"
   ]
  },
  {
   "cell_type": "code",
   "execution_count": 53,
   "metadata": {
    "collapsed": false
   },
   "outputs": [],
   "source": [
    "# calculating the observedfrequency for each class\n",
    "a = scipy.stats.histogram(Q_mean, numbins=10, defaultlimits= (170, 470))\n",
    "\n",
    "# Here numbins = number of class, defaultlimits = lower and higher class value"
   ]
  },
  {
   "cell_type": "code",
   "execution_count": 27,
   "metadata": {
    "collapsed": false
   },
   "outputs": [],
   "source": [
    "#Creating the dataseries for frequency\n",
    "fre=Series(a)\n",
    "#Defining the dataframe for frequency\n",
    "df = pd.DataFrame(fre[0])"
   ]
  },
  {
   "cell_type": "markdown",
   "metadata": {},
   "source": [
    "From the frequency calculation, it is observed that the last three class has the frequency less then 3. As many statisticians recommend classes are combined if the expected number in a class is less than 3."
   ]
  },
  {
   "cell_type": "code",
   "execution_count": 28,
   "metadata": {
    "collapsed": true
   },
   "outputs": [],
   "source": [
    "#removing the last two class frequency\n",
    "df1 =df[:-2]"
   ]
  },
  {
   "cell_type": "code",
   "execution_count": 29,
   "metadata": {
    "collapsed": false,
    "scrolled": false
   },
   "outputs": [
    {
     "name": "stderr",
     "output_type": "stream",
     "text": [
      "/home/bikascb/anaconda/lib/python2.7/site-packages/IPython/kernel/__main__.py:4: SettingWithCopyWarning: \n",
      "A value is trying to be set on a copy of a slice from a DataFrame.\n",
      "Try using .loc[row_indexer,col_indexer] = value instead\n",
      "\n",
      "See the the caveats in the documentation: http://pandas.pydata.org/pandas-docs/stable/indexing.html#indexing-view-versus-copy\n",
      "/home/bikascb/anaconda/lib/python2.7/site-packages/pandas/core/frame.py:2114: SettingWithCopyWarning: \n",
      "A value is trying to be set on a copy of a slice from a DataFrame\n",
      "\n",
      "See the the caveats in the documentation: http://pandas.pydata.org/pandas-docs/stable/indexing.html#indexing-view-versus-copy\n",
      "  self.ix._setitem_with_indexer(key, value)\n",
      "/home/bikascb/anaconda/lib/python2.7/site-packages/pandas/core/frame.py:2102: SettingWithCopyWarning: \n",
      "A value is trying to be set on a copy of a slice from a DataFrame\n",
      "\n",
      "See the the caveats in the documentation: http://pandas.pydata.org/pandas-docs/stable/indexing.html#indexing-view-versus-copy\n",
      "  return self._setitem_slice(indexer, value)\n"
     ]
    }
   ],
   "source": [
    "# Adding 1 to the class 8 so that the total frequency becomes 3 which is equals to the sum of the \n",
    "#previous last three class\n",
    "\n",
    "df1[-1:] += 1"
   ]
  },
  {
   "cell_type": "code",
   "execution_count": 30,
   "metadata": {
    "collapsed": false,
    "scrolled": false
   },
   "outputs": [
    {
     "name": "stderr",
     "output_type": "stream",
     "text": [
      "/home/bikascb/anaconda/lib/python2.7/site-packages/IPython/kernel/__main__.py:2: SettingWithCopyWarning: \n",
      "A value is trying to be set on a copy of a slice from a DataFrame.\n",
      "Try using .loc[row_indexer,col_indexer] = value instead\n",
      "\n",
      "See the the caveats in the documentation: http://pandas.pydata.org/pandas-docs/stable/indexing.html#indexing-view-versus-copy\n",
      "  from IPython.kernel.zmq import kernelapp as app\n"
     ]
    }
   ],
   "source": [
    "# Add observed frequency to the dataframe table\n",
    "df1['freq'] = df1"
   ]
  },
  {
   "cell_type": "code",
   "execution_count": 31,
   "metadata": {
    "collapsed": false
   },
   "outputs": [],
   "source": [
    "# Defining the lower class intervals\n",
    "l = range(170,470,30)\n",
    "# it means lower class is 170 and higher class is 470 with equal interval of 30.\n",
    "#defining the dataframe for lower class\n",
    "l= pd.DataFrame(l)\n",
    "l = l[:8]"
   ]
  },
  {
   "cell_type": "code",
   "execution_count": 32,
   "metadata": {
    "collapsed": false,
    "scrolled": true
   },
   "outputs": [],
   "source": [
    "# Defining higher class intervals \n",
    "h = range(200,500,30)\n",
    "h = pd.DataFrame(h)\n",
    "h= h[:8]\n",
    "h[-1:] += 60\n"
   ]
  },
  {
   "cell_type": "markdown",
   "metadata": {},
   "source": [
    "Expected absolute frequency = $ [P(\\frac{U - mean}{std} - P(\\frac{L - mean}{std}]*n_{total}$--------------(1)\n",
    "\n",
    "formula for the $\\chi_c ^{2} =  \\sum_{j=1}^{n} \\frac{(O_j - E_j)^{2}}{E_j}$-----------------------(2)"
   ]
  },
  {
   "cell_type": "code",
   "execution_count": 33,
   "metadata": {
    "collapsed": false,
    "scrolled": true
   },
   "outputs": [
    {
     "name": "stdout",
     "output_type": "stream",
     "text": [
      "    0  freq        exp  chi_test\n",
      "0  13    13   5.876735  8.634200\n",
      "1  12    12  13.025190  0.080691\n",
      "2  14    14  21.403861  2.561087\n",
      "3  31    31  26.080180  0.928085\n",
      "4  23    23  23.564592  0.013527\n",
      "5  16    16  15.788090  0.002844\n",
      "6   8     8   7.842936  0.003145\n",
      "7   3     3   3.836038  0.182209\n",
      "Sum: 12.4058\n"
     ]
    },
    {
     "name": "stderr",
     "output_type": "stream",
     "text": [
      "/home/bikascb/anaconda/lib/python2.7/site-packages/IPython/kernel/__main__.py:9: SettingWithCopyWarning: \n",
      "A value is trying to be set on a copy of a slice from a DataFrame.\n",
      "Try using .loc[row_indexer,col_indexer] = value instead\n",
      "\n",
      "See the the caveats in the documentation: http://pandas.pydata.org/pandas-docs/stable/indexing.html#indexing-view-versus-copy\n",
      "/home/bikascb/anaconda/lib/python2.7/site-packages/IPython/kernel/__main__.py:13: SettingWithCopyWarning: \n",
      "A value is trying to be set on a copy of a slice from a DataFrame.\n",
      "Try using .loc[row_indexer,col_indexer] = value instead\n",
      "\n",
      "See the the caveats in the documentation: http://pandas.pydata.org/pandas-docs/stable/indexing.html#indexing-view-versus-copy\n"
     ]
    }
   ],
   "source": [
    "# Calculating standard deviation\n",
    "std = np.std(Q_mean['mean'])\n",
    "\n",
    "# calculating mean\n",
    "mean = np.mean(Q_mean['mean'])\n",
    "\n",
    "# calculating the expected absolute frequency by using the equation ---------(1)\n",
    "\n",
    "df1['exp'] = (scipy.stats.norm.cdf((h-mean)/std)-scipy.stats.norm.cdf((l-mean)/std))*120\n",
    "\n",
    "# calculating the chi-test statistics using the equation ------(2)\n",
    "\n",
    "df1['chi_test'] = (df1['freq']-df1['exp'])**2/df1['exp']\n",
    "\n",
    "print df1\n",
    "print('Sum: %.4f' %     sum(df1['chi_test']))"
   ]
  },
  {
   "cell_type": "code",
   "execution_count": 6,
   "metadata": {
    "collapsed": false
   },
   "outputs": [
    {
     "name": "stdout",
     "output_type": "stream",
     "text": [
      "54.1626210071\n",
      "279.824131458\n"
     ]
    }
   ],
   "source": [
    "# Calculating standard deviation\n",
    "std = np.std(Q_mean['mean'])\n",
    "\n",
    "# calculating mean\n",
    "mean = np.mean(Q_mean['mean'])\n",
    "\n",
    "\n",
    "print std\n",
    "\n",
    "print mean"
   ]
  },
  {
   "cell_type": "code",
   "execution_count": 9,
   "metadata": {
    "collapsed": false
   },
   "outputs": [
    {
     "data": {
      "text/plain": [
       "0.073529259609648359"
      ]
     },
     "execution_count": 9,
     "metadata": {},
     "output_type": "execute_result"
    }
   ],
   "source": [
    "scipy.stats.norm.cdf(-1.45)"
   ]
  },
  {
   "cell_type": "code",
   "execution_count": null,
   "metadata": {
    "collapsed": true
   },
   "outputs": [],
   "source": []
  },
  {
   "cell_type": "code",
   "execution_count": null,
   "metadata": {
    "collapsed": true
   },
   "outputs": [],
   "source": []
  },
  {
   "cell_type": "markdown",
   "metadata": {},
   "source": [
    "#### Chi squre value can be calculated from python by using the function below:\n",
    "\n",
    "$\\chi ^{2}_{0.95;k-p-1} $ \n",
    "\n",
    "Whereas k is the number of classes and p is the number of parameters of the specified distribution and the function becomes:\n",
    "\n",
    "$\\chi ^{2}_{0.95;8-2-1} $ = chi2.ppf(0.95, df= 5)\n",
    "\n"
   ]
  },
  {
   "cell_type": "code",
   "execution_count": 34,
   "metadata": {
    "collapsed": false
   },
   "outputs": [
    {
     "data": {
      "text/plain": [
       "11.070497693516351"
      ]
     },
     "execution_count": 34,
     "metadata": {},
     "output_type": "execute_result"
    }
   ],
   "source": [
    "from scipy.stats import chi2\n",
    "chi2.ppf(0.95, df= 5) "
   ]
  },
  {
   "cell_type": "markdown",
   "metadata": {},
   "source": [
    "Here, calculated chi-squre value (12.4058) is greater than the chi-squre table value (11.07049), therefore the hypothesis H0 is rejected, with a confidence intervals of 95 % and one can say that the mean discharge is not normally distributed."
   ]
  },
  {
   "cell_type": "markdown",
   "metadata": {},
   "source": [
    "##### Making plot for expected and observed frequency"
   ]
  },
  {
   "cell_type": "markdown",
   "metadata": {},
   "source": [
    "### Kolmogorov-Smirnov-Test"
   ]
  },
  {
   "cell_type": "markdown",
   "metadata": {},
   "source": [
    "##### H 0 : Mean Discharge ∼ N (μ; σ 2 )"
   ]
  },
  {
   "cell_type": "code",
   "execution_count": 35,
   "metadata": {
    "collapsed": false
   },
   "outputs": [
    {
     "name": "stderr",
     "output_type": "stream",
     "text": [
      "/home/bikascb/anaconda/lib/python2.7/site-packages/IPython/kernel/__main__.py:11: SettingWithCopyWarning: \n",
      "A value is trying to be set on a copy of a slice from a DataFrame.\n",
      "Try using .loc[row_indexer,col_indexer] = value instead\n",
      "\n",
      "See the the caveats in the documentation: http://pandas.pydata.org/pandas-docs/stable/indexing.html#indexing-view-versus-copy\n"
     ]
    }
   ],
   "source": [
    "%matplotlib inline\n",
    "from collections import Counter\n",
    "import numpy as np\n",
    "import pandas as pd\n",
    "import scipy\n",
    "from scipy import stats\n",
    "import matplotlib.pyplot as plt\n",
    "\n",
    "data = pd.read_table('columbia_y.dat',header=None,names=['year','mean','max','min','nan','nan'])\n",
    "Q_mean = (data.drop(['nan','max','min'],axis=1))\n",
    "Q_mean['mean'] *= 0.001458296\n",
    "Q_mean = Q_mean[:-1]\n",
    "Q_mean = Q_mean.drop(['year'] ,axis = 1)"
   ]
  },
  {
   "cell_type": "code",
   "execution_count": 39,
   "metadata": {
    "collapsed": false,
    "scrolled": true
   },
   "outputs": [
    {
     "data": {
      "text/html": [
       "<div style=\"max-height:1000px;max-width:1500px;overflow:auto;\">\n",
       "<table border=\"1\" class=\"dataframe\">\n",
       "  <thead>\n",
       "    <tr style=\"text-align: right;\">\n",
       "      <th></th>\n",
       "      <th>mean</th>\n",
       "      <th>sorted</th>\n",
       "      <th>m</th>\n",
       "      <th>FQ_ob</th>\n",
       "      <th>z</th>\n",
       "      <th>FQ_exp</th>\n",
       "      <th>D</th>\n",
       "    </tr>\n",
       "  </thead>\n",
       "  <tbody>\n",
       "    <tr>\n",
       "      <th>0</th>\n",
       "      <td> 352.836175</td>\n",
       "      <td> 172.234966</td>\n",
       "      <td> 1</td>\n",
       "      <td> 0.008333</td>\n",
       "      <td>-1.986410</td>\n",
       "      <td> 0.023494</td>\n",
       "      <td> 0.015161</td>\n",
       "    </tr>\n",
       "    <tr>\n",
       "      <th>1</th>\n",
       "      <td> 385.415966</td>\n",
       "      <td> 174.419493</td>\n",
       "      <td> 2</td>\n",
       "      <td> 0.016667</td>\n",
       "      <td>-1.946077</td>\n",
       "      <td> 0.025823</td>\n",
       "      <td> 0.009156</td>\n",
       "    </tr>\n",
       "    <tr>\n",
       "      <th>2</th>\n",
       "      <td> 367.820167</td>\n",
       "      <td> 175.637170</td>\n",
       "      <td> 3</td>\n",
       "      <td> 0.025000</td>\n",
       "      <td>-1.923595</td>\n",
       "      <td> 0.027203</td>\n",
       "      <td> 0.002203</td>\n",
       "    </tr>\n",
       "    <tr>\n",
       "      <th>3</th>\n",
       "      <td> 337.755937</td>\n",
       "      <td> 177.798365</td>\n",
       "      <td> 4</td>\n",
       "      <td> 0.033333</td>\n",
       "      <td>-1.883693</td>\n",
       "      <td> 0.029803</td>\n",
       "      <td> 0.003530</td>\n",
       "    </tr>\n",
       "    <tr>\n",
       "      <th>4</th>\n",
       "      <td> 309.416870</td>\n",
       "      <td> 187.707486</td>\n",
       "      <td> 5</td>\n",
       "      <td> 0.041667</td>\n",
       "      <td>-1.700742</td>\n",
       "      <td> 0.044496</td>\n",
       "      <td> 0.002829</td>\n",
       "    </tr>\n",
       "  </tbody>\n",
       "</table>\n",
       "</div>"
      ],
      "text/plain": [
       "         mean      sorted  m     FQ_ob         z    FQ_exp         D\n",
       "0  352.836175  172.234966  1  0.008333 -1.986410  0.023494  0.015161\n",
       "1  385.415966  174.419493  2  0.016667 -1.946077  0.025823  0.009156\n",
       "2  367.820167  175.637170  3  0.025000 -1.923595  0.027203  0.002203\n",
       "3  337.755937  177.798365  4  0.033333 -1.883693  0.029803  0.003530\n",
       "4  309.416870  187.707486  5  0.041667 -1.700742  0.044496  0.002829"
      ]
     },
     "execution_count": 39,
     "metadata": {},
     "output_type": "execute_result"
    }
   ],
   "source": [
    "std = np.std(Q_mean['mean'])\n",
    "m = np.mean(Q_mean['mean'])\n",
    "\n",
    "# constructing table for different calculation (compendium page 93)\n",
    "x = pd.DataFrame(Q_mean)\n",
    "x['sorted'] = sorted(Q_mean['mean'])\n",
    "x['m'] = range(1,121,1)\n",
    "x['FQ_ob']= x['m']/len(x)\n",
    "x['z'] = (x['sorted']-m)/std\n",
    "x['FQ_exp']= scipy.stats.norm.cdf(x['z'])\n",
    "x['D'] = np.abs(x['FQ_exp']-x['FQ_ob'])\n",
    "\n",
    "x.head()"
   ]
  },
  {
   "cell_type": "code",
   "execution_count": 37,
   "metadata": {
    "collapsed": false
   },
   "outputs": [
    {
     "data": {
      "text/plain": [
       "0.039328897564306173"
      ]
     },
     "execution_count": 37,
     "metadata": {},
     "output_type": "execute_result"
    }
   ],
   "source": [
    "x['D'].max()"
   ]
  },
  {
   "cell_type": "markdown",
   "metadata": {},
   "source": [
    "max |D| = 0.039328897564306173\n",
    "\n",
    "for $\\alpha = 0.05, n = 120, D_{critical} = D_{critical}= \\frac{1.36}{\\sqrt{n}}$\n",
    "\n",
    "http://dlc.erieri.com/onlinetextbook/index.cfm?fuseaction=textbook.appendix&FileName=Table7\n",
    "\n",
    "Here, $ max|D| \\geq  D_{critical}= \\frac{1.36}{\\sqrt{120}} = 0.1242$\n",
    "\n",
    "\n",
    "\n",
    "Which is a false statement and therefore the hypothesis H 0 is not rejected. That means, that with a confidence niveau of 95 % the mean discharge is normally distributed."
   ]
  },
  {
   "cell_type": "code",
   "execution_count": 38,
   "metadata": {
    "collapsed": false
   },
   "outputs": [
    {
     "data": {
      "text/plain": [
       "<matplotlib.text.Text at 0x7fb409b03990>"
      ]
     },
     "execution_count": 38,
     "metadata": {},
     "output_type": "execute_result"
    },
    {
     "data": {
      "image/png": "[encoded data removed]",
      "text/plain": [
       "<matplotlib.figure.Figure at 0x7fb42e52fd50>"
      ]
     },
     "metadata": {},
     "output_type": "display_data"
    }
   ],
   "source": [
    "\n",
    "plt.plot(x['FQ_ob'],x['sorted'],'--ro', x['FQ_exp'],x['sorted'], '--g^')\n",
    "plt.legend(['Obs', 'Exp'],loc='upper left')\n",
    "plt.xlabel('FQ_ob,  FQ_Exp') \n",
    "plt.ylabel('Q') \n"
   ]
  },
  {
   "cell_type": "code",
   "execution_count": null,
   "metadata": {
    "collapsed": true
   },
   "outputs": [],
   "source": []
  }
 ],
 "metadata": {
  "kernelspec": {
   "display_name": "Python 2",
   "language": "python",
   "name": "python2"
  },
  "language_info": {
   "codemirror_mode": {
    "name": "ipython",
    "version": 2
   },
   "file_extension": ".py",
   "mimetype": "text/x-python",
   "name": "python",
   "nbconvert_exporter": "python",
   "pygments_lexer": "ipython2",
   "version": "2.7.10"
  }
 },
 "nbformat": 4,
 "nbformat_minor": 0
}
