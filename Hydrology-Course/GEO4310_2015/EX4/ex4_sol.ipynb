{
 "cells": [
  {
   "cell_type": "code",
   "execution_count": 1,
   "metadata": {
    "collapsed": false
   },
   "outputs": [
    {
     "data": {
      "text/html": [
       "<style>\n",
       "table {float:left}\n",
       "</style>"
      ],
      "text/plain": [
       "<IPython.core.display.HTML object>"
      ]
     },
     "metadata": {},
     "output_type": "display_data"
    }
   ],
   "source": [
    "%%html\n",
    "<style>\n",
    "table {float:left}\n",
    "</style>"
   ]
  },
  {
   "cell_type": "markdown",
   "metadata": {},
   "source": [
    "# Exercise 4: Simple and multiple linear regression analysis\n",
    "\n",
    "##### Name: Bikas Chandra Bhattarai\n",
    "##### Date: 28 September, 2015\n",
    "\n",
    "### 1. Simple regression"
   ]
  },
  {
   "cell_type": "markdown",
   "metadata": {},
   "source": [
    "Temperature data for a certain month (November 1977) is available from Falun (Dalarna), Gävle (Gästrikland) and Knon (Värmland) (file: temp_falun.txt). For Falun the data series is not complete.\n",
    "\n",
    "We want to fill the missing data for Falun using the best correlated data set of the three possible data sets:"
   ]
  },
  {
   "cell_type": "markdown",
   "metadata": {},
   "source": [
    "1. Only the data from Gävle \n",
    "2. Only the data from Knon\n",
    "3. Both Gävle and Knon and the information about distances (Gävle-Falun $ =82$ km, Knon-Falun $ =110$ km)"
   ]
  },
  {
   "cell_type": "markdown",
   "metadata": {},
   "source": [
    "### Question1: Compute the correlation between Falun and (1), (2) and(3) and determine which one shall be used as the independent variable."
   ]
  },
  {
   "cell_type": "code",
   "execution_count": 2,
   "metadata": {
    "collapsed": true
   },
   "outputs": [],
   "source": [
    "# this allows plots to appear directly in the notebook\n",
    "%matplotlib inline\n",
    "import pandas as pd\n",
    "import numpy as np\n",
    "import scipy.stats\n",
    "from __future__ import division\n",
    "import matplotlib.pyplot as plt"
   ]
  },
  {
   "cell_type": "code",
   "execution_count": 3,
   "metadata": {
    "collapsed": false
   },
   "outputs": [
    {
     "data": {
      "text/html": [
       "<div style=\"max-height:1000px;max-width:1500px;overflow:auto;\">\n",
       "<table border=\"1\" class=\"dataframe\">\n",
       "  <thead>\n",
       "    <tr style=\"text-align: right;\">\n",
       "      <th></th>\n",
       "      <th>Day</th>\n",
       "      <th>T_Falun</th>\n",
       "      <th>T_Gavle</th>\n",
       "      <th>T_Knon</th>\n",
       "    </tr>\n",
       "  </thead>\n",
       "  <tbody>\n",
       "    <tr>\n",
       "      <th>0</th>\n",
       "      <td> 1</td>\n",
       "      <td> 8.2</td>\n",
       "      <td> 9.0</td>\n",
       "      <td> 6.5</td>\n",
       "    </tr>\n",
       "    <tr>\n",
       "      <th>1</th>\n",
       "      <td> 2</td>\n",
       "      <td> 6.4</td>\n",
       "      <td> 7.8</td>\n",
       "      <td> 4.8</td>\n",
       "    </tr>\n",
       "  </tbody>\n",
       "</table>\n",
       "</div>"
      ],
      "text/plain": [
       "   Day  T_Falun  T_Gavle  T_Knon\n",
       "0    1      8.2      9.0     6.5\n",
       "1    2      6.4      7.8     4.8"
      ]
     },
     "execution_count": 3,
     "metadata": {},
     "output_type": "execute_result"
    }
   ],
   "source": [
    "temp_data = pd.read_table('temp_falun.dat') #reading the table \n",
    "df_temp = pd.DataFrame(temp_data)       # Defining the dataframe\n",
    "df_temp.head(2) # printing the dataframe upto 3 rows only"
   ]
  },
  {
   "cell_type": "markdown",
   "metadata": {},
   "source": [
    "Calculating the third datasets from the temperature data of T_Gavle and T_Knon, by using the inverse distance weighting methods:\n",
    "\n",
    "The equation used for the calculation of third datasets is given in equation 1 given below: \n",
    "\n",
    "$T_{Gavle+Knon} = \\frac{\\left(\\frac{1}{82}\\right)^2}{\\left(\\frac{1}{82}\\right)^2 + \\left(\\frac{1}{110}\\right)^2}T_{Gavle} + \\frac{\\left(\\frac{1}{110}\\right)^2}{\\left(\\frac{1}{82}\\right)^2 + \\left(\\frac{1}{110}\\right)^2}T_{Knon}$...................(1)"
   ]
  },
  {
   "cell_type": "code",
   "execution_count": 4,
   "metadata": {
    "collapsed": false,
    "scrolled": false
   },
   "outputs": [
    {
     "data": {
      "text/html": [
       "<div style=\"max-height:1000px;max-width:1500px;overflow:auto;\">\n",
       "<table border=\"1\" class=\"dataframe\">\n",
       "  <thead>\n",
       "    <tr style=\"text-align: right;\">\n",
       "      <th></th>\n",
       "      <th>Day</th>\n",
       "      <th>T_Falun</th>\n",
       "      <th>T_Gavle</th>\n",
       "      <th>T_Knon</th>\n",
       "      <th>T_Galve_Knon</th>\n",
       "    </tr>\n",
       "  </thead>\n",
       "  <tbody>\n",
       "    <tr>\n",
       "      <th>0</th>\n",
       "      <td> 1</td>\n",
       "      <td> 8.2</td>\n",
       "      <td> 9.0</td>\n",
       "      <td> 6.5</td>\n",
       "      <td> 8.11</td>\n",
       "    </tr>\n",
       "    <tr>\n",
       "      <th>1</th>\n",
       "      <td> 2</td>\n",
       "      <td> 6.4</td>\n",
       "      <td> 7.8</td>\n",
       "      <td> 4.8</td>\n",
       "      <td> 6.73</td>\n",
       "    </tr>\n",
       "  </tbody>\n",
       "</table>\n",
       "</div>"
      ],
      "text/plain": [
       "   Day  T_Falun  T_Gavle  T_Knon  T_Galve_Knon\n",
       "0    1      8.2      9.0     6.5          8.11\n",
       "1    2      6.4      7.8     4.8          6.73"
      ]
     },
     "execution_count": 4,
     "metadata": {},
     "output_type": "execute_result"
    }
   ],
   "source": [
    "# Calculating the third datasets by using equation 1 and inserting the calculated data in to the dataframe.\n",
    "df_temp['T_Galve_Knon']= (((1/82)**2/((1/82)**2+(1/110)**2))* df_temp['T_Gavle'] + ((1/110)**2/((1/82)**2+(1/110)**2))* df_temp['T_Knon']).round(2)\n",
    "df_temp.head(2) # printing the dataframe upto 3 rows only"
   ]
  },
  {
   "cell_type": "code",
   "execution_count": 5,
   "metadata": {
    "collapsed": false
   },
   "outputs": [
    {
     "data": {
      "text/html": [
       "<div style=\"max-height:1000px;max-width:1500px;overflow:auto;\">\n",
       "<table border=\"1\" class=\"dataframe\">\n",
       "  <thead>\n",
       "    <tr style=\"text-align: right;\">\n",
       "      <th></th>\n",
       "      <th>Day</th>\n",
       "      <th>T_Falun</th>\n",
       "      <th>T_Gavle</th>\n",
       "      <th>T_Knon</th>\n",
       "      <th>T_Galve_Knon</th>\n",
       "    </tr>\n",
       "  </thead>\n",
       "  <tbody>\n",
       "    <tr>\n",
       "      <th>20</th>\n",
       "      <td> 21</td>\n",
       "      <td> -1</td>\n",
       "      <td>-2.0</td>\n",
       "      <td> -3.1</td>\n",
       "      <td> -2.39</td>\n",
       "    </tr>\n",
       "    <tr>\n",
       "      <th>21</th>\n",
       "      <td> 22</td>\n",
       "      <td>NaN</td>\n",
       "      <td> 0.1</td>\n",
       "      <td> -1.1</td>\n",
       "      <td> -0.33</td>\n",
       "    </tr>\n",
       "    <tr>\n",
       "      <th>22</th>\n",
       "      <td> 23</td>\n",
       "      <td>NaN</td>\n",
       "      <td>-6.2</td>\n",
       "      <td> -5.4</td>\n",
       "      <td> -5.91</td>\n",
       "    </tr>\n",
       "    <tr>\n",
       "      <th>23</th>\n",
       "      <td> 24</td>\n",
       "      <td>NaN</td>\n",
       "      <td> 0.5</td>\n",
       "      <td> -1.9</td>\n",
       "      <td> -0.36</td>\n",
       "    </tr>\n",
       "    <tr>\n",
       "      <th>24</th>\n",
       "      <td> 25</td>\n",
       "      <td>NaN</td>\n",
       "      <td>-1.9</td>\n",
       "      <td> -3.7</td>\n",
       "      <td> -2.54</td>\n",
       "    </tr>\n",
       "    <tr>\n",
       "      <th>25</th>\n",
       "      <td> 26</td>\n",
       "      <td>NaN</td>\n",
       "      <td>-6.4</td>\n",
       "      <td>-10.7</td>\n",
       "      <td> -7.94</td>\n",
       "    </tr>\n",
       "    <tr>\n",
       "      <th>26</th>\n",
       "      <td> 27</td>\n",
       "      <td>NaN</td>\n",
       "      <td>-7.6</td>\n",
       "      <td>-14.9</td>\n",
       "      <td>-10.21</td>\n",
       "    </tr>\n",
       "    <tr>\n",
       "      <th>27</th>\n",
       "      <td> 28</td>\n",
       "      <td>NaN</td>\n",
       "      <td> 0.9</td>\n",
       "      <td> -5.8</td>\n",
       "      <td> -1.49</td>\n",
       "    </tr>\n",
       "    <tr>\n",
       "      <th>28</th>\n",
       "      <td> 29</td>\n",
       "      <td>NaN</td>\n",
       "      <td> 0.5</td>\n",
       "      <td>-10.0</td>\n",
       "      <td> -3.25</td>\n",
       "    </tr>\n",
       "    <tr>\n",
       "      <th>29</th>\n",
       "      <td> 30</td>\n",
       "      <td>NaN</td>\n",
       "      <td>-1.2</td>\n",
       "      <td>-14.2</td>\n",
       "      <td> -5.84</td>\n",
       "    </tr>\n",
       "  </tbody>\n",
       "</table>\n",
       "</div>"
      ],
      "text/plain": [
       "    Day  T_Falun  T_Gavle  T_Knon  T_Galve_Knon\n",
       "20   21       -1     -2.0    -3.1         -2.39\n",
       "21   22      NaN      0.1    -1.1         -0.33\n",
       "22   23      NaN     -6.2    -5.4         -5.91\n",
       "23   24      NaN      0.5    -1.9         -0.36\n",
       "24   25      NaN     -1.9    -3.7         -2.54\n",
       "25   26      NaN     -6.4   -10.7         -7.94\n",
       "26   27      NaN     -7.6   -14.9        -10.21\n",
       "27   28      NaN      0.9    -5.8         -1.49\n",
       "28   29      NaN      0.5   -10.0         -3.25\n",
       "29   30      NaN     -1.2   -14.2         -5.84"
      ]
     },
     "execution_count": 5,
     "metadata": {},
     "output_type": "execute_result"
    }
   ],
   "source": [
    "#printing the lower 10 rows from datasest\n",
    "df_temp.tail(10)"
   ]
  },
  {
   "cell_type": "markdown",
   "metadata": {},
   "source": [
    "From this above table, there are no temperature observations in Falun for the days 22 – 30. Therefore there are gaps in the table for these days.\n",
    "\n",
    "For the calculation of these parameters only the data from the 1st until the 21st day are used. Otherwise it would not be comparable to the data from Falun."
   ]
  },
  {
   "cell_type": "code",
   "execution_count": 6,
   "metadata": {
    "collapsed": false
   },
   "outputs": [],
   "source": [
    "# removing the lower 9 rows and Day column from datasets\n",
    "df_temp_21 = df_temp[:-9].drop('Day',1) # :-9 is for removing lower 9 rows, and drop ('Day',1) is for removing Day column"
   ]
  },
  {
   "cell_type": "code",
   "execution_count": 7,
   "metadata": {
    "collapsed": false
   },
   "outputs": [
    {
     "name": "stdout",
     "output_type": "stream",
     "text": [
      "              T_Falun  T_Gavle  T_Knon  T_Galve_Knon\n",
      "T_Falun         1.000    0.984   0.970         0.993\n",
      "T_Gavle         0.984    1.000   0.937         0.991\n",
      "T_Knon          0.970    0.937   1.000         0.976\n",
      "T_Galve_Knon    0.993    0.991   0.976         1.000\n"
     ]
    }
   ],
   "source": [
    "# calculating the correlation between each temperature datasets\n",
    "df_corr = df_temp_21.corr()\n",
    "print np.round(df_corr,3)"
   ]
  },
  {
   "cell_type": "markdown",
   "metadata": {},
   "source": [
    "##### Conclusion:\n",
    "As the correlation coefficient $ r_{x;y} = 0, 9932$  of $T_{Falun}$ and $T_{Gävle+Knon}$ is highest, the combination of these two samples is best linearly correlated. Therefore $T_{Gävle+Knon}$ should be used as independent variable to calculate the temperature in Falun."
   ]
  },
  {
   "cell_type": "markdown",
   "metadata": {},
   "source": [
    "### Question2: Calculate the regression coefficients and how much of the variance is explained by the regression model, i.e. the R² values."
   ]
  },
  {
   "cell_type": "markdown",
   "metadata": {},
   "source": [
    "Simple linear regression equation can be written as in the following form:\n",
    "\n",
    "$y = a + b x $............(2)\n",
    "\n",
    "Where,\n",
    "\n",
    "$a$ is the intercept\n",
    "\n",
    "$b$ is the coefficient for x\n",
    "\n",
    "Together, $a$ and a are called the regression coefficients and can be calculated by using the python function described below:"
   ]
  },
  {
   "cell_type": "code",
   "execution_count": 8,
   "metadata": {
    "collapsed": false
   },
   "outputs": [
    {
     "name": "stdout",
     "output_type": "stream",
     "text": [
      "                            OLS Regression Results                            \n",
      "==============================================================================\n",
      "Dep. Variable:                T_Falun   R-squared:                       0.967\n",
      "Model:                            OLS   Adj. R-squared:                  0.966\n",
      "Method:                 Least Squares   F-statistic:                     564.5\n",
      "Date:                Mon, 28 Sep 2015   Prob (F-statistic):           1.36e-15\n",
      "Time:                        11:53:40   Log-Likelihood:                -25.683\n",
      "No. Observations:                  21   AIC:                             55.37\n",
      "Df Residuals:                      19   BIC:                             57.45\n",
      "Df Model:                           1                                         \n",
      "Covariance Type:            nonrobust                                         \n",
      "==============================================================================\n",
      "                 coef    std err          t      P>|t|      [95.0% Conf. Int.]\n",
      "------------------------------------------------------------------------------\n",
      "Intercept     -0.3989      0.222     -1.800      0.088        -0.863     0.065\n",
      "T_Gavle        0.9292      0.039     23.759      0.000         0.847     1.011\n",
      "==============================================================================\n",
      "Omnibus:                        2.569   Durbin-Watson:                   1.877\n",
      "Prob(Omnibus):                  0.277   Jarque-Bera (JB):                1.582\n",
      "Skew:                          -0.672   Prob(JB):                        0.453\n",
      "Kurtosis:                       3.031   Cond. No.                         6.72\n",
      "==============================================================================\n",
      "\n",
      "Warnings:\n",
      "[1] Standard Errors assume that the covariance matrix of the errors is correctly specified.\n"
     ]
    }
   ],
   "source": [
    "# Importing the statistical model\n",
    "import statsmodels.formula.api as smf\n",
    "\n",
    "# create a fitted model between T_Galun as dependent variable and T_Gavle as indipendent variable \n",
    "fg = smf.ols(formula='T_Falun ~ T_Gavle', data=df_temp_21).fit()\n",
    "\n",
    "#print summary statistics\n",
    "print(fg.summary())"
   ]
  },
  {
   "cell_type": "markdown",
   "metadata": {},
   "source": [
    "So the equation (2) becomes:\n",
    "    \n",
    "$y = -0.3989+0.9292*x$\n",
    "\n",
    "and the coefficient of determination (R² = 0.967)"
   ]
  },
  {
   "cell_type": "markdown",
   "metadata": {},
   "source": [
    "Linear regression equation for T_Falun as dependent variable and T_Knon as indipendent variables"
   ]
  },
  {
   "cell_type": "code",
   "execution_count": 9,
   "metadata": {
    "collapsed": false
   },
   "outputs": [
    {
     "name": "stdout",
     "output_type": "stream",
     "text": [
      "                            OLS Regression Results                            \n",
      "==============================================================================\n",
      "Dep. Variable:                T_Falun   R-squared:                       0.941\n",
      "Model:                            OLS   Adj. R-squared:                  0.938\n",
      "Method:                 Least Squares   F-statistic:                     301.9\n",
      "Date:                Mon, 28 Sep 2015   Prob (F-statistic):           4.04e-13\n",
      "Time:                        11:53:40   Log-Likelihood:                -31.960\n",
      "No. Observations:                  21   AIC:                             67.92\n",
      "Df Residuals:                      19   BIC:                             70.01\n",
      "Df Model:                           1                                         \n",
      "Covariance Type:            nonrobust                                         \n",
      "==============================================================================\n",
      "                 coef    std err          t      P>|t|      [95.0% Conf. Int.]\n",
      "------------------------------------------------------------------------------\n",
      "Intercept      1.2902      0.262      4.930      0.000         0.742     1.838\n",
      "T_Knon         0.8280      0.048     17.376      0.000         0.728     0.928\n",
      "==============================================================================\n",
      "Omnibus:                        4.658   Durbin-Watson:                   1.755\n",
      "Prob(Omnibus):                  0.097   Jarque-Bera (JB):                2.808\n",
      "Skew:                          -0.860   Prob(JB):                        0.246\n",
      "Kurtosis:                       3.500   Cond. No.                         5.66\n",
      "==============================================================================\n",
      "\n",
      "Warnings:\n",
      "[1] Standard Errors assume that the covariance matrix of the errors is correctly specified.\n"
     ]
    }
   ],
   "source": [
    "# create a fitted model between T_Galun as dependent variable and T_Knon as an indipendent variable \n",
    "fg = smf.ols(formula='T_Falun ~ T_Knon', data=df_temp_21).fit()\n",
    "#print summary statistics\n",
    "print(fg.summary())"
   ]
  },
  {
   "cell_type": "markdown",
   "metadata": {},
   "source": [
    "When T_Falun as dependent variable and T_Knon as an indipendent variable then the liear regression equation and coefficient of determination (R²) becomes:\n",
    "\n",
    "$y = 1.2902 +0.8280 *x$\n",
    "\n",
    "and the coefficient of determination (R² = 0.941)"
   ]
  },
  {
   "cell_type": "markdown",
   "metadata": {},
   "source": [
    "Linear regression equation for T_Falun as dependent variable and T_Galve_Knon as indipendent variables"
   ]
  },
  {
   "cell_type": "code",
   "execution_count": 10,
   "metadata": {
    "collapsed": false
   },
   "outputs": [
    {
     "name": "stdout",
     "output_type": "stream",
     "text": [
      "                            OLS Regression Results                            \n",
      "==============================================================================\n",
      "Dep. Variable:                T_Falun   R-squared:                       0.987\n",
      "Model:                            OLS   Adj. R-squared:                  0.986\n",
      "Method:                 Least Squares   F-statistic:                     1395.\n",
      "Date:                Mon, 28 Sep 2015   Prob (F-statistic):           3.00e-19\n",
      "Time:                        11:53:40   Log-Likelihood:                -16.387\n",
      "No. Observations:                  21   AIC:                             36.77\n",
      "Df Residuals:                      19   BIC:                             38.86\n",
      "Df Model:                           1                                         \n",
      "Covariance Type:            nonrobust                                         \n",
      "================================================================================\n",
      "                   coef    std err          t      P>|t|      [95.0% Conf. Int.]\n",
      "--------------------------------------------------------------------------------\n",
      "Intercept        0.1841      0.134      1.369      0.187        -0.097     0.466\n",
      "T_Galve_Knon     0.9176      0.025     37.353      0.000         0.866     0.969\n",
      "==============================================================================\n",
      "Omnibus:                        0.498   Durbin-Watson:                   1.813\n",
      "Prob(Omnibus):                  0.780   Jarque-Bera (JB):                0.040\n",
      "Skew:                           0.103   Prob(JB):                        0.980\n",
      "Kurtosis:                       3.059   Cond. No.                         6.12\n",
      "==============================================================================\n",
      "\n",
      "Warnings:\n",
      "[1] Standard Errors assume that the covariance matrix of the errors is correctly specified.\n"
     ]
    }
   ],
   "source": [
    "# create a fitted model between T_Galun as dependent variable and T_Galve_Knon as an indipendent variable \n",
    "fg = smf.ols(formula='T_Falun ~ T_Galve_Knon', data=df_temp_21).fit()\n",
    "#print summary statistics\n",
    "print(fg.summary())"
   ]
  },
  {
   "cell_type": "markdown",
   "metadata": {},
   "source": [
    "When T_Falun as dependent variable and T_Galve_Knon act as a an indipendent variable then the liear regression equation and coefficient of determination (R²) becomes:\n",
    "\n",
    "$y = 0.1841  +0.9176 *x$\n",
    "\n",
    "and the coefficient of determination (R² = 0.987)\n",
    "\n",
    "In summary:\n",
    "\n",
    "###### Table 1\n",
    "\n",
    "Dependent and indipendent variables|Linear Regression Equation|R² |\n",
    "--- |---   |---\n",
    "T_Falun as dependent, T_Gavle as an indipendent| $y = -0.3989+0.9292*x$| 0.967 \n",
    "T_Falun as dependent, T_Knon as an indipendent|$y = 1.2902 +0.8280 *x$  | 0.941\n",
    "T_Falun as dependent, T_Galve_Knon as an indipendent|$y = 0.1841  +0.9176 *x$  | 0.987"
   ]
  },
  {
   "cell_type": "markdown",
   "metadata": {},
   "source": [
    "##### Conclusion:\n",
    "\n",
    "It is clear from the Table 1 that the coefficient of determination (R²) for the linear regression model with T_Falun as dependent variable and T_Galve_Knon as an indipendent variable is highest so this model should be used as a model for predicting the missing temperature for the station T_Falun.\n"
   ]
  },
  {
   "cell_type": "markdown",
   "metadata": {},
   "source": [
    "### Question3: Test the significance of the regression coefficients\n",
    "\n",
    "From the above table 1, our selected regression model is $y = 0.1841  +0.9176 *x$ on the basis of good coefficient of determination.\n",
    "\n",
    "##### Table 2\n",
    "Coefficient|t_critical|P |[95.0% Conf. Int.]|\n",
    ":---:        |---|--|---\n",
    "a   |1.369|0.187  |-0.097-----0.466\n",
    "b   |37.353| 0.000|0.866-----0.969 "
   ]
  },
  {
   "cell_type": "markdown",
   "metadata": {},
   "source": [
    "##### Hypothesis test for **a** \n",
    "\n",
    "Now formulating the test hypothesis for the coefficients to test wheather the coefficients are significantly different or not and the test hypothesis can be formulated as given below:\n",
    "\n",
    "$H_0 : a = 0$\n",
    "\n",
    "$H_a : a \\neq 0$\n",
    "\n",
    "Now we have all the calculated statistics (from the summary statistics of best fit model) required for this test and are shown in table 2, where **t** is the calculated **t-value** and **p** is the probability\n",
    "\n",
    "**Testing approach 1:** \n",
    "\n",
    "Based on **t_critical value**\n",
    "\n",
    "If the $|t|> t_{critical}$, then $H_0$ is rejected\n",
    "\n",
    "From the table $t_{critical} = t_{1-\\frac{\\alpha }{2}}; n-1$ = 2.093\n",
    "\n",
    "Hence, $T_{critical}$ value is greater then **t** value so ${H_0}$ is not rejected \n",
    "\n",
    "**Approach 2:**\n",
    "\n",
    "Based on **P** value\n",
    "\n",
    "If the $p > \\alpha$ then $H_0$ is rejected\n",
    "\n",
    "Here, also P value (0.187) is not smaller than ($\\alpha = 0.05)$ so $H_0$ is not rejected\n",
    "\n",
    "**Approach 3:**\n",
    "\n",
    "Based on **confidence intervals**\n",
    "\n",
    "Since the conficence intervals is (-0.097 to 0**Testing approach 1:** \n",
    "\n",
    "Based on **t_critical value**\n",
    "\n",
    "If the $|t|> t_{critical}$, then $H_0$ is rejected\n",
    "\n",
    "From the table $t_{critical} = t_{1-\\frac{\\alpha }{2}}; n-1$ = 2.093\n",
    "\n",
    "Hence, $T_{critical}$ value is greater then **t** value so ${H_0}$ is not rejected \n",
    "\n",
    "**Approach 2:**\n",
    "\n",
    "Based on **P** value\n",
    "\n",
    "If the $p > \\alpha$ then $H_0$ is rejected\n",
    "\n",
    "Here, also P value (0.187) is not smaller than ($\\alpha = 0.05)$ so $H_0$ is not rejected\n",
    "\n",
    "**Approach 3:**\n",
    "\n",
    "Based on **confidence intervals**\n",
    "\n",
    "Since the conficence intervals is (-0.097 to 0.466) so there is a possibility that the value **0** should be within this confidence intervals.\n",
    "\n",
    "\n",
    "**Conclusion**\n",
    "\n",
    "From above all test it is clear that the $H_0$ is not rejected and concluded that the value of **a** is not signigicantly different from the value **0** at the 95% confidence interval."
   ]
  },
  {
   "cell_type": "markdown",
   "metadata": {},
   "source": [
    "##### Hypothesis test for **b** \n",
    "\n",
    "\n",
    "$H_0 : b = 0$\n",
    "\n",
    "$H_a : b \\neq 0$\n",
    "\n",
    "\n",
    "**Testing approach 1:** \n",
    "\n",
    "Based on **t_critical value**\n",
    "\n",
    "If the $|t|> t_{critical}$, then $H_0$ is rejected\n",
    "\n",
    "From the table $t_{critical} = t_{1-\\frac{\\alpha }{2}}; n-1$ = 2.093\n",
    "\n",
    "and |t| = 37.353\n",
    "\n",
    "Hence, $T_{critical}$ value is less then **|t|** value so ${H_0}$ is rejected \n",
    "\n",
    "**Approach 2:**\n",
    "\n",
    "Based on **P** value\n",
    "\n",
    "If the $p > \\alpha$ then $H_0$ is rejected\n",
    "\n",
    "Here, also P value (0.00) is smaller than ($\\alpha = 0.05)$ so $H_0$ is rejected\n",
    "\n",
    "**Approach 3:**\n",
    "\n",
    "Based on **confidence intervals**\n",
    "\n",
    "Since the conficence intervals is (0.866 to0.969) so there is no possibility that the value **0** lies within this confidence intervals, so $H_0$ is rejected\n",
    "\n",
    "**Conclusion**\n",
    "\n",
    "From the above test it is clear  that the $H_0$ is rejected and concluded that the value of **b** is signigicantly different from the value **0** at 95% confidence interval.\n"
   ]
  },
  {
   "cell_type": "markdown",
   "metadata": {},
   "source": [
    "### Question4: Plot the time series of the observed and calculated dependent variable including the extended values on the same graph"
   ]
  },
  {
   "cell_type": "markdown",
   "metadata": {},
   "source": [
    "From the above all possible regression analysis, the best fit model is obtained from the regression between T_Falun with T_Galve_Knon. Hence our model for the estimation becomes:\n",
    "\n",
    "$y = 0.1841  +0.9176 *x$ . By using this equation the missing data of T_Falun is estimated and plotted as follows:\n"
   ]
  },
  {
   "cell_type": "code",
   "execution_count": 11,
   "metadata": {
    "collapsed": false
   },
   "outputs": [],
   "source": [
    "# Estimating the temperature by using best fitted regression equation\n",
    "Estimated = (0.1841  +0.9176 * df_temp['T_Galve_Knon']).round(2)\n",
    "\n",
    "# Filling missing value for T_Falun and assigning the name T_Falun_Fill\n",
    "df_temp['T_Falun_Fill'] = df_temp['T_Falun'].fillna(Estimated)"
   ]
  },
  {
   "cell_type": "code",
   "execution_count": 12,
   "metadata": {
    "collapsed": false,
    "scrolled": true
   },
   "outputs": [
    {
     "name": "stdout",
     "output_type": "stream",
     "text": [
      "    Day  T_Falun  T_Gavle  T_Knon  T_Galve_Knon  T_Falun_Fill\n",
      "20   21       -1     -2.0    -3.1         -2.39         -1.00\n",
      "21   22      NaN      0.1    -1.1         -0.33         -0.12\n",
      "22   23      NaN     -6.2    -5.4         -5.91         -5.24\n",
      "23   24      NaN      0.5    -1.9         -0.36         -0.15\n",
      "24   25      NaN     -1.9    -3.7         -2.54         -2.15\n",
      "25   26      NaN     -6.4   -10.7         -7.94         -7.10\n",
      "26   27      NaN     -7.6   -14.9        -10.21         -9.18\n",
      "27   28      NaN      0.9    -5.8         -1.49         -1.18\n",
      "28   29      NaN      0.5   -10.0         -3.25         -2.80\n",
      "29   30      NaN     -1.2   -14.2         -5.84         -5.17\n"
     ]
    }
   ],
   "source": [
    "# Showing the lower part of dataframe with filling missing data\n",
    "print df_temp.tail(10)"
   ]
  },
  {
   "cell_type": "code",
   "execution_count": 21,
   "metadata": {
    "collapsed": false
   },
   "outputs": [
    {
     "data": {
      "text/plain": [
       "<matplotlib.text.Text at 0x7f6adb77b750>"
      ]
     },
     "execution_count": 21,
     "metadata": {},
     "output_type": "execute_result"
    },
    {
     "data": {
      "image/png": "[encoded data removed]",
      "text/plain": [
       "<matplotlib.figure.Figure at 0x7f6adb9aa490>"
      ]
     },
     "metadata": {},
     "output_type": "display_data"
    }
   ],
   "source": [
    "# Plotting Observed and an Estimated temperature for T_Falun\n",
    "plt.plot(df_temp['T_Falun_Fill'],'bo--')\n",
    "plt.plot(df_temp['T_Falun'], 'ro-')\n",
    "plt.plot(df_temp['T_Galve_Knon'],'go-')\n",
    "plt.legend(['Estimated', 'Observed','Temp_G_K'])\n",
    "plt.xlabel('Day', size = 15)\n",
    "plt.ylabel('Temperature', size = 15)"
   ]
  },
  {
   "cell_type": "markdown",
   "metadata": {
    "collapsed": true
   },
   "source": [
    "## 2. Multiple linear regression"
   ]
  },
  {
   "cell_type": "markdown",
   "metadata": {
    "collapsed": true
   },
   "source": [
    "a) In the file multidata.txt there are a number of numerical variables. Chose Y as dependent variable and x1, x2, x3 as independent variables. Perform a forward stepwise multiple regression and also a standard multiple regression. \n",
    "\n",
    "In a forward stepwise multiple regression, start with performing a simple regression using the independent variable which is best correlated with the dependent variable. Then add another independent variable, and make sure that this second independent variable should have the higher partial correlation with the dependent while the influence of the first independent variable is removed. Continue this procedure to see if the addition of a third independent variable will be helpful. In a standard multiple regression, all the independent variables are used in the regression model. By analysing the result of the regression, you could figure out if some independent variables do not significantly contribute to the regression. If there are any, remove them from the model and redo the regression with only the significant independent variables.\n",
    "\n",
    "b) Present in each case the $R^2$ values and the regression equations.\n",
    "\n",
    "c) In the forward stepwise method present also your F-test results (use $\\alpha$ = 5%)\n",
    "\n",
    "d) What are your conclusions?"
   ]
  },
  {
   "cell_type": "code",
   "execution_count": 14,
   "metadata": {
    "collapsed": false
   },
   "outputs": [
    {
     "data": {
      "text/html": [
       "<div style=\"max-height:1000px;max-width:1500px;overflow:auto;\">\n",
       "<table border=\"1\" class=\"dataframe\">\n",
       "  <thead>\n",
       "    <tr style=\"text-align: right;\">\n",
       "      <th></th>\n",
       "      <th>X1</th>\n",
       "      <th>X2</th>\n",
       "      <th>X3</th>\n",
       "      <th>Y</th>\n",
       "    </tr>\n",
       "  </thead>\n",
       "  <tbody>\n",
       "    <tr>\n",
       "      <th>0</th>\n",
       "      <td> 1</td>\n",
       "      <td> 2</td>\n",
       "      <td> 10</td>\n",
       "      <td>  5.077</td>\n",
       "    </tr>\n",
       "    <tr>\n",
       "      <th>1</th>\n",
       "      <td> 2</td>\n",
       "      <td> 2</td>\n",
       "      <td>  9</td>\n",
       "      <td> 32.330</td>\n",
       "    </tr>\n",
       "    <tr>\n",
       "      <th>2</th>\n",
       "      <td> 3</td>\n",
       "      <td> 3</td>\n",
       "      <td>  5</td>\n",
       "      <td> 65.140</td>\n",
       "    </tr>\n",
       "    <tr>\n",
       "      <th>3</th>\n",
       "      <td> 4</td>\n",
       "      <td> 4</td>\n",
       "      <td>  4</td>\n",
       "      <td> 47.270</td>\n",
       "    </tr>\n",
       "    <tr>\n",
       "      <th>4</th>\n",
       "      <td> 5</td>\n",
       "      <td> 2</td>\n",
       "      <td>  9</td>\n",
       "      <td> 80.570</td>\n",
       "    </tr>\n",
       "  </tbody>\n",
       "</table>\n",
       "</div>"
      ],
      "text/plain": [
       "   X1  X2  X3       Y\n",
       "0   1   2  10   5.077\n",
       "1   2   2   9  32.330\n",
       "2   3   3   5  65.140\n",
       "3   4   4   4  47.270\n",
       "4   5   2   9  80.570"
      ]
     },
     "execution_count": 14,
     "metadata": {},
     "output_type": "execute_result"
    }
   ],
   "source": [
    "multi = pd.read_table('multidata.txt') #reading in the data\n",
    "#defining the dataframe\n",
    "df = pd.DataFrame(multi)\n",
    "df.head()"
   ]
  },
  {
   "cell_type": "code",
   "execution_count": 15,
   "metadata": {
    "collapsed": false,
    "scrolled": true
   },
   "outputs": [
    {
     "data": {
      "text/html": [
       "<div style=\"max-height:1000px;max-width:1500px;overflow:auto;\">\n",
       "<table border=\"1\" class=\"dataframe\">\n",
       "  <thead>\n",
       "    <tr style=\"text-align: right;\">\n",
       "      <th></th>\n",
       "      <th>X1</th>\n",
       "      <th>X2</th>\n",
       "      <th>X3</th>\n",
       "      <th>Y</th>\n",
       "    </tr>\n",
       "  </thead>\n",
       "  <tbody>\n",
       "    <tr>\n",
       "      <th>X1</th>\n",
       "      <td> 1.000000</td>\n",
       "      <td>-0.048404</td>\n",
       "      <td>-0.142982</td>\n",
       "      <td> 0.624132</td>\n",
       "    </tr>\n",
       "    <tr>\n",
       "      <th>X2</th>\n",
       "      <td>-0.048404</td>\n",
       "      <td> 1.000000</td>\n",
       "      <td> 0.252610</td>\n",
       "      <td> 0.264732</td>\n",
       "    </tr>\n",
       "    <tr>\n",
       "      <th>X3</th>\n",
       "      <td>-0.142982</td>\n",
       "      <td> 0.252610</td>\n",
       "      <td> 1.000000</td>\n",
       "      <td> 0.586944</td>\n",
       "    </tr>\n",
       "    <tr>\n",
       "      <th>Y</th>\n",
       "      <td> 0.624132</td>\n",
       "      <td> 0.264732</td>\n",
       "      <td> 0.586944</td>\n",
       "      <td> 1.000000</td>\n",
       "    </tr>\n",
       "  </tbody>\n",
       "</table>\n",
       "</div>"
      ],
      "text/plain": [
       "          X1        X2        X3         Y\n",
       "X1  1.000000 -0.048404 -0.142982  0.624132\n",
       "X2 -0.048404  1.000000  0.252610  0.264732\n",
       "X3 -0.142982  0.252610  1.000000  0.586944\n",
       "Y   0.624132  0.264732  0.586944  1.000000"
      ]
     },
     "execution_count": 15,
     "metadata": {},
     "output_type": "execute_result"
    }
   ],
   "source": [
    "#calculating correlation between all\n",
    "multi.corr()"
   ]
  },
  {
   "cell_type": "markdown",
   "metadata": {},
   "source": [
    "From this table it is clear that the correlation between Y as a dependent variable and X1 as an indipendent variable have highest correlation coefficient after that Y with X3 have second highest correlation coefficient so\n",
    "the first regression equation becomes:\n"
   ]
  },
  {
   "cell_type": "code",
   "execution_count": 16,
   "metadata": {
    "collapsed": false,
    "scrolled": true
   },
   "outputs": [
    {
     "name": "stdout",
     "output_type": "stream",
     "text": [
      "                            OLS Regression Results                            \n",
      "==============================================================================\n",
      "Dep. Variable:                      Y   R-squared:                       0.390\n",
      "Model:                            OLS   Adj. R-squared:                  0.349\n",
      "Method:                 Least Squares   F-statistic:                     9.572\n",
      "Date:                Mon, 28 Sep 2015   Prob (F-statistic):            0.00741\n",
      "Time:                        11:53:41   Log-Likelihood:                -78.599\n",
      "No. Observations:                  17   AIC:                             161.2\n",
      "Df Residuals:                      15   BIC:                             162.9\n",
      "Df Model:                           1                                         \n",
      "Covariance Type:            nonrobust                                         \n",
      "==============================================================================\n",
      "                 coef    std err          t      P>|t|      [95.0% Conf. Int.]\n",
      "------------------------------------------------------------------------------\n",
      "Intercept      9.9956     14.461      0.691      0.500       -20.828    40.819\n",
      "X1            11.9826      3.873      3.094      0.007         3.727    20.238\n",
      "==============================================================================\n",
      "Omnibus:                        1.684   Durbin-Watson:                   1.963\n",
      "Prob(Omnibus):                  0.431   Jarque-Bera (JB):                1.377\n",
      "Skew:                           0.570   Prob(JB):                        0.502\n",
      "Kurtosis:                       2.198   Cond. No.                         8.98\n",
      "==============================================================================\n",
      "\n",
      "Warnings:\n",
      "[1] Standard Errors assume that the covariance matrix of the errors is correctly specified.\n"
     ]
    },
    {
     "name": "stderr",
     "output_type": "stream",
     "text": [
      "/home/bikascb/anaconda/lib/python2.7/site-packages/scipy/stats/stats.py:1233: UserWarning: kurtosistest only valid for n>=20 ... continuing anyway, n=17\n",
      "  int(n))\n"
     ]
    }
   ],
   "source": [
    "#calculating regression equation by using the ols function in python where, Y as dependent and X1 as an indipendent\n",
    "#variable.\n",
    "ols1 = smf.ols(formula='Y ~ X1', data=multi).fit()\n",
    "print ols1.summary()"
   ]
  },
  {
   "cell_type": "markdown",
   "metadata": {},
   "source": [
    "So the regression equation becomes:\n",
    "    \n",
    " $y=  9.9956+ 11.9826*x$ "
   ]
  },
  {
   "cell_type": "code",
   "execution_count": 17,
   "metadata": {
    "collapsed": false,
    "scrolled": true
   },
   "outputs": [
    {
     "name": "stdout",
     "output_type": "stream",
     "text": [
      "                            OLS Regression Results                            \n",
      "==============================================================================\n",
      "Dep. Variable:                      Y   R-squared:                       0.856\n",
      "Model:                            OLS   Adj. R-squared:                  0.836\n",
      "Method:                 Least Squares   F-statistic:                     41.72\n",
      "Date:                Mon, 28 Sep 2015   Prob (F-statistic):           1.26e-06\n",
      "Time:                        11:53:41   Log-Likelihood:                -66.303\n",
      "No. Observations:                  17   AIC:                             138.6\n",
      "Df Residuals:                      14   BIC:                             141.1\n",
      "Df Model:                           2                                         \n",
      "Covariance Type:            nonrobust                                         \n",
      "==============================================================================\n",
      "                 coef    std err          t      P>|t|      [95.0% Conf. Int.]\n",
      "------------------------------------------------------------------------------\n",
      "Intercept    -14.2231      8.102     -1.756      0.101       -31.600     3.154\n",
      "X1            13.8775      1.965      7.062      0.000         9.663    18.093\n",
      "X3             1.3498      0.200      6.744      0.000         0.921     1.779\n",
      "==============================================================================\n",
      "Omnibus:                        3.571   Durbin-Watson:                   1.930\n",
      "Prob(Omnibus):                  0.168   Jarque-Bera (JB):                1.468\n",
      "Skew:                           0.561   Prob(JB):                        0.480\n",
      "Kurtosis:                       3.901   Cond. No.                         54.3\n",
      "==============================================================================\n",
      "\n",
      "Warnings:\n",
      "[1] Standard Errors assume that the covariance matrix of the errors is correctly specified.\n"
     ]
    }
   ],
   "source": [
    "#calculating regression equation by using the ols function in python\n",
    "ols2 = smf.ols(formula='Y ~ X1 + X3', data=multi).fit()\n",
    "print ols2.summary()"
   ]
  },
  {
   "cell_type": "markdown",
   "metadata": {
    "collapsed": true
   },
   "source": [
    "In this case the equation becomes:\n",
    "$-14.2231+13.8775b+1.3498x$"
   ]
  },
  {
   "cell_type": "code",
   "execution_count": 18,
   "metadata": {
    "collapsed": false,
    "scrolled": true
   },
   "outputs": [
    {
     "name": "stdout",
     "output_type": "stream",
     "text": [
      "                            OLS Regression Results                            \n",
      "==============================================================================\n",
      "Dep. Variable:                      Y   R-squared:                       0.873\n",
      "Model:                            OLS   Adj. R-squared:                  0.844\n",
      "Method:                 Least Squares   F-statistic:                     29.81\n",
      "Date:                Mon, 28 Sep 2015   Prob (F-statistic):           4.27e-06\n",
      "Time:                        11:53:41   Log-Likelihood:                -65.247\n",
      "No. Observations:                  17   AIC:                             138.5\n",
      "Df Residuals:                      13   BIC:                             141.8\n",
      "Df Model:                           3                                         \n",
      "Covariance Type:            nonrobust                                         \n",
      "==============================================================================\n",
      "                 coef    std err          t      P>|t|      [95.0% Conf. Int.]\n",
      "------------------------------------------------------------------------------\n",
      "Intercept    -22.8259     10.270     -2.223      0.045       -45.013    -0.639\n",
      "X1            13.9098      1.917      7.257      0.000         9.769    18.051\n",
      "X2             3.8826      2.961      1.311      0.212        -2.514    10.279\n",
      "X3             1.2841      0.202      6.372      0.000         0.849     1.720\n",
      "==============================================================================\n",
      "Omnibus:                        2.908   Durbin-Watson:                   2.267\n",
      "Prob(Omnibus):                  0.234   Jarque-Bera (JB):                1.464\n",
      "Skew:                           0.709   Prob(JB):                        0.481\n",
      "Kurtosis:                       3.232   Cond. No.                         71.1\n",
      "==============================================================================\n",
      "\n",
      "Warnings:\n",
      "[1] Standard Errors assume that the covariance matrix of the errors is correctly specified.\n"
     ]
    }
   ],
   "source": [
    "#calculating the regression coefficient with Y as dependent and X1, X2 and X3 as indipendent variables.\n",
    "ols3 = smf.ols(formula='Y ~ X1 + X2 + X3', data=multi).fit()\n",
    "print ols3.summary()"
   ]
  },
  {
   "cell_type": "markdown",
   "metadata": {},
   "source": [
    "###### Table 3\n",
    "\n",
    "Dependent and indipendent variables| Regression Equation|R² |\n",
    "--- |---   |---\n",
    "Y as dependent, X1 as an indipendent| $y = 9.9956+11.9826*b$| 0.390\n",
    "Y as dependent, X1,X3 as an indipendent|$y = -14.2231 +13.8775 *b1+1.3498*b2$  | 0.856\n",
    "Y as dependent, X1,X2,X3 as an indipendent|$y = -22.8259  +13.9098 *b1+3.8826*b2+1.2841*b3$  | 0.873"
   ]
  },
  {
   "cell_type": "markdown",
   "metadata": {},
   "source": [
    "**Conclusion**\n",
    "\n",
    "From all above combination it is clear that the model with Y as a dependent variables and X1, X2 and X3 as an indipendent variables has high R² value so this is the best fitted model amongst others."
   ]
  },
  {
   "cell_type": "markdown",
   "metadata": {
    "collapsed": true
   },
   "source": [
    "### Perform the F- test (alpha = 0.05) for adding indipendent variables.\n",
    "\n",
    "#### Test for adding the third independent Variable (X3)\n",
    "\n",
    "F -Test for Testing the Significance By using the F -Test one can find out, whether adding a variable is significant or not.The test statistic is\n",
    "\n",
    "$F =  \\frac{1-R²_{n-1} (N-n-1)}{1-R²_{n} (N-n-2)}$---------------(3)\n",
    "\n",
    "whereas N is the number of data and n is the number of independent variables used. If $F > F_{1−α;N −n−1;N −n−2}$ , the addition of $X_n$ is significant. In the case of the three variables X1 , X3 and Y one obtaines at a significance level of α = 0.05\n",
    "\n",
    "Calculating the value of F by using equation 3, where\n",
    "\n",
    "$R²_{n-1}=0.390$\n",
    "\n",
    "$R²_n= 0.856$\n",
    "\n",
    "N = 17\n",
    "\n",
    "The calculation are done in the code cell below:"
   ]
  },
  {
   "cell_type": "code",
   "execution_count": 19,
   "metadata": {
    "collapsed": false
   },
   "outputs": [
    {
     "data": {
      "text/plain": [
       "4.56"
      ]
     },
     "execution_count": 19,
     "metadata": {},
     "output_type": "execute_result"
    }
   ],
   "source": [
    "round(((1-0.390)*14)/((1-0.856)*13),2)"
   ]
  },
  {
   "cell_type": "markdown",
   "metadata": {},
   "source": [
    "Here, \n",
    "\n",
    "$F = 4.56$\n",
    "\n",
    "$F _{0,95;14;13} = 2.55$\n",
    "\n",
    "**Conclusion:**\n",
    "Here, 4.56 > 2.55, which is a true statement. That means that adding X3 to the regression is significant."
   ]
  },
  {
   "cell_type": "markdown",
   "metadata": {},
   "source": [
    "### Test for adding the third independent Variable (X2)\n",
    "\n",
    "Again the F -test is performed to check whether adding the independent variable X2 to the regression is significant or not by using the same equation as above (α = 0, 05).\n",
    "\n",
    "$F > F_{0.95;13;12}$\n",
    "\n",
    "Calculating the value of F by using equation 3, where\n",
    "\n",
    "$R²_{n-1}=0.856$\n",
    "\n",
    "$R²_n= 0.873$\n",
    "\n",
    "N = 17\n",
    "\n",
    "The calculation are done in the code cell below:"
   ]
  },
  {
   "cell_type": "code",
   "execution_count": 20,
   "metadata": {
    "collapsed": false
   },
   "outputs": [
    {
     "data": {
      "text/plain": [
       "1.23"
      ]
     },
     "execution_count": 20,
     "metadata": {},
     "output_type": "execute_result"
    }
   ],
   "source": [
    "round(((1-0.856)*13)/((1-0.873)*12),2)"
   ]
  },
  {
   "cell_type": "markdown",
   "metadata": {},
   "source": [
    "**Conclusion:**\n",
    "As this is a false statement one can conclude, that adding X2 as a third independent variable to the regression is not significant. That means a regression with X1 and X3 as independent variables will be adequately exact."
   ]
  },
  {
   "cell_type": "code",
   "execution_count": null,
   "metadata": {
    "collapsed": true
   },
   "outputs": [],
   "source": []
  }
 ],
 "metadata": {
  "kernelspec": {
   "display_name": "Python 2",
   "language": "python",
   "name": "python2"
  },
  "language_info": {
   "codemirror_mode": {
    "name": "ipython",
    "version": 2
   },
   "file_extension": ".py",
   "mimetype": "text/x-python",
   "name": "python",
   "nbconvert_exporter": "python",
   "pygments_lexer": "ipython2",
   "version": "2.7.10"
  }
 },
 "nbformat": 4,
 "nbformat_minor": 0
}
