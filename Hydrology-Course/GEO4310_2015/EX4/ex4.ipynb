{
 "cells": [
  {
   "cell_type": "markdown",
   "metadata": {},
   "source": [
    "# Exercise 4: Simple and multiple linear regression analysis\n",
    "\n",
    "### 1. Simple regression"
   ]
  },
  {
   "cell_type": "markdown",
   "metadata": {},
   "source": [
    "Temperature data for a certain month (November 1977) is available from Falun (Dalarna), Gävle (Gästrikland) and Knon (Värmland) (file: temp_falun.txt). For Falun the data series is not complete.\n",
    "\n",
    "We want to fill the missing data for Falun using the best correlated data set of the three possible data sets:"
   ]
  },
  {
   "cell_type": "markdown",
   "metadata": {},
   "source": [
    "1. Only the data from Gävle \n",
    "2. Only the data from Knon\n",
    "3. Both Gävle and Knon and the information about distances (Gävle-Falun $ =82$ km, Knon-Falun $ =110$ km)"
   ]
  },
  {
   "cell_type": "markdown",
   "metadata": {},
   "source": [
    "Hint: inverse distance weighting method can be used to create the third dataset.\n",
    "\n",
    "$T_{Gavle+Knon} = \\frac{\\left(\\frac{1}{82}\\right)^2}{\\left(\\frac{1}{82}\\right)^2 + \\left(\\frac{1}{110}\\right)^2}T_{Gavle} + \\frac{\\left(\\frac{1}{110}\\right)^2}{\\left(\\frac{1}{82}\\right)^2 + \\left(\\frac{1}{110}\\right)^2}T_{Knon}$  (3)"
   ]
  },
  {
   "cell_type": "markdown",
   "metadata": {},
   "source": [
    "####Question1: Compute the correlation between Falun and (1), (2) and(3) and determine which one shall be used as the independent variable.\n",
    "\n",
    "####Question2: Calculate the regression coefficients and how much of the variance is explained by the regression model, i.e. the R^2 values.\n",
    "\n",
    "####Question3: Test the significance of the regression coefficients\n",
    "\n",
    "####Question4: Plot the time series of the observed and calculated dependent variable including the extended values on the same graph."
   ]
  },
  {
   "cell_type": "markdown",
   "metadata": {},
   "source": [
    "### Procedure:\n"
   ]
  },
  {
   "cell_type": "code",
   "execution_count": 17,
   "metadata": {
    "collapsed": false
   },
   "outputs": [],
   "source": [
    "## Import required modules\n",
    "# %matplotlib allows plots to appear directly in the notebook\n",
    "%matplotlib inline             \n",
    "import numpy as np              # required for basic calculations\n",
    "import pandas as pd             # required for data analysis (reading files)\n",
    "from scipy import stats         # required for statistics\n",
    "from __future__ import division # allows floating number division\n",
    "import matplotlib.pylab as plt  # required for plotting\n",
    "import statsmodels.formula.api as smf  # module to run ordinary least squares analysis"
   ]
  },
  {
   "cell_type": "markdown",
   "metadata": {},
   "source": [
    "1) Read the data file and define a dataframe\n",
    "\n",
    "2) Use inverse distance weighting method given in equation (1) to create the third datasets of $T_{Gavle+Knon}$.\n",
    "\n",
    "3) Note that there are no temperature observations in Falun for the days 22 – 30. Therefore there are gaps in the table for these days. For the calculation of these parameters use the data from the neighbouring stations.\n",
    "\n",
    "5) Calculate the correlation between two datasets by using the python function given below."
   ]
  },
  {
   "cell_type": "code",
   "execution_count": 65,
   "metadata": {
    "collapsed": false
   },
   "outputs": [],
   "source": [
    "# correlation between T_Falun and T_Gaie\n",
    "temp_data = pd.read_table('temp_falun.dat') #reading the table \n",
    "#defining the dataframe\n",
    "df = pd.DataFrame(temp_data)\n",
    "\n",
    "#look at the data:\n",
    "df.head()\n",
    "#print(df)\n",
    "#Calculating correlation between T_Falun and T_Gavle\n",
    "\n",
    "# r_F_G = np.corrcoef(df['T_Falun'], df['T_Gavle'])[0, 1]  # This line gives 'nan' because Falun contains missing data.\n",
    "# Therefore, calculate the correlation for the first 21 days only.\n",
    "r_F_G = np.corrcoef(df['T_Falun'][:-9], df['T_Gavle'][:-9])[0, 1] \n",
    "\n"
   ]
  },
  {
   "cell_type": "markdown",
   "metadata": {},
   "source": [
    "##### Simple Linear Regression\n",
    "Simple linear regression is an approach for predicting a quantitative response using a single feature (or \"predictor\" or \"input variable\"). It takes the following form:\n",
    "\n",
    "$y = \\alpha + \\beta x $\n",
    "\n",
    "What does each term represent?\n",
    "\n",
    "y is the response or the dependent variable\n",
    "\n",
    "x is the independent variable\n",
    "\n",
    "$\\alpha$ is the intercept\n",
    "\n",
    "$\\beta$ is the slope or the trend\n",
    "\n",
    "Together, $\\alpha$ and $\\beta$ are called the model coefficients. To create your model, you must find the values of these coefficients. And once we've learned these coefficients, we can use the model to predict temperature."
   ]
  },
  {
   "cell_type": "code",
   "execution_count": 19,
   "metadata": {
    "collapsed": false
   },
   "outputs": [],
   "source": [
    "# Requires import statsmodels.formula.api as smf\n",
    "\n",
    "# create a fitted model \n",
    "fg = smf.ols(formula='T_Falun ~ T_Gavle', data=df).fit()\n",
    "\n",
    "# print the coefficients\n",
    "# print(fg.params)\n",
    "# print summary statistics\n",
    "# print(fg.summary())"
   ]
  },
  {
   "cell_type": "markdown",
   "metadata": {},
   "source": [
    "When repeating the process for all three datasets, you will get three Linear Regression Models on the form:\n",
    "\n",
    "$ y = \\alpha + \\beta x$ \n",
    "\n",
    "(insert $\\alpha$ and $\\beta$ into the three models)\n",
    "\n",
    "##### Evaluating the Regression\n",
    "\n",
    "For the evaluation the coefficient of determination $R^2$ is used. It is defined as\n",
    "\n",
    "$ R^2 = \\frac{\\text{explained variance}}{\\text{total variance}} = $\n",
    "\n",
    "You'll find this value in the upper right corner of the summary table. Select the model with the highest $R^2$ for the next part of the analysis.\n",
    "\n",
    "\n",
    "### Using the Model for Prediction\n",
    "\n",
    "The missing data at Falun can be calculated from one of your three regression models (choose the best one). \n"
   ]
  },
  {
   "cell_type": "code",
   "execution_count": 56,
   "metadata": {
    "collapsed": false
   },
   "outputs": [
    {
     "ename": "NameError",
     "evalue": "name 'alpha' is not defined",
     "output_type": "error",
     "traceback": [
      "\u001b[1;31m---------------------------------------------------------------------------\u001b[0m",
      "\u001b[1;31mNameError\u001b[0m                                 Traceback (most recent call last)",
      "\u001b[1;32m<ipython-input-56-fe63c02bb790>\u001b[0m in \u001b[0;36m<module>\u001b[1;34m()\u001b[0m\n\u001b[0;32m      3\u001b[0m \u001b[1;33m\u001b[0m\u001b[0m\n\u001b[0;32m      4\u001b[0m \u001b[1;31m# Predecting temperature  data by using the linear regression model at T_Gavle:\u001b[0m\u001b[1;33m\u001b[0m\u001b[1;33m\u001b[0m\u001b[0m\n\u001b[1;32m----> 5\u001b[1;33m \u001b[0mT_f_G\u001b[0m \u001b[1;33m=\u001b[0m \u001b[0malpha\u001b[0m \u001b[1;33m+\u001b[0m \u001b[0mbeta\u001b[0m \u001b[1;33m*\u001b[0m \u001b[0mT_Gavle\u001b[0m \u001b[1;31m# insert appropriate values for alpha and beta, and replace T_Gavle if necessary.\u001b[0m\u001b[1;33m\u001b[0m\u001b[0m\n\u001b[0m\u001b[0;32m      6\u001b[0m \u001b[1;33m\u001b[0m\u001b[0m\n\u001b[0;32m      7\u001b[0m \u001b[1;31m#plotting the complete time series from the regression model against Falun which contains missing data:\u001b[0m\u001b[1;33m\u001b[0m\u001b[1;33m\u001b[0m\u001b[0m\n",
      "\u001b[1;31mNameError\u001b[0m: name 'alpha' is not defined"
     ]
    }
   ],
   "source": [
    "# Creating new DataFrame of the temperature at Gavle. Note that we need all 30 values in this task. \n",
    "T_Gavle = df['T_Gavle']\n",
    "\n",
    "# Predecting temperature  data by using the linear regression model at T_Gavle:\n",
    "T_f_G = alpha + beta * T_Gavle # insert appropriate values for alpha and beta, and replace T_Gavle if necessary.\n",
    "\n",
    "#plotting the complete time series from the regression model against Falun which contains missing data:\n",
    "#plt.plot(T_f_G)\n",
    "#plt.plot(df['T_Falun'])\n",
    "#plt.legend(['T_f_G', 'T_Falun'])"
   ]
  },
  {
   "cell_type": "markdown",
   "metadata": {
    "collapsed": true
   },
   "source": [
    "### 2. Multiple linear regression"
   ]
  },
  {
   "cell_type": "markdown",
   "metadata": {
    "collapsed": true
   },
   "source": [
    "a) In the file multidata.txt there are a number of numerical variables. Chose Y as dependent variable and x1, x2, x3 as independent variables. Perform a forward stepwise multiple regression and also a standard multiple regression. \n",
    "\n",
    "In a forward stepwise multiple regression, start with performing a simple regression using the independent variable which is best correlated with the dependent variable. Then add another independent variable, and make sure that this second independent variable should have the higher partial correlation with the dependent while the influence of the first independent variable is removed. Continue this procedure to see if the addition of a third independent variable will be helpful. In a standard multiple regression, all the independent variables are used in the regression model. By analysing the result of the regression, you could figure out if some independent variables do not significantly contribute to the regression. If there are any, remove them from the model and redo the regression with only the significant independent variables.\n",
    "\n",
    "b) Present in each case the $R^2$ values and the regression equations.\n",
    "\n",
    "c) In the forward stepwise method present also your F-test results (use $\\alpha$ = 5%)\n",
    "\n",
    "d) What are your conclusions?"
   ]
  },
  {
   "cell_type": "code",
   "execution_count": 64,
   "metadata": {
    "collapsed": false
   },
   "outputs": [],
   "source": [
    "multi = pd.read_table('multidata.txt') #reading in the data\n",
    "#defining the dataframe\n",
    "df = pd.DataFrame(multi)\n",
    "df.head()\n",
    "\n",
    "# First, find the correlation between Y and each of the X variables and determine which X has the greatest \n",
    "# correlation with Y. Use that X as the first model.\n",
    "\n",
    "\n",
    "# Then create three fitted models \n",
    "ols1 = smf.ols(formula='Y ~ X1', data=multi).fit()\n",
    "ols2 = smf.ols(formula='Y ~ X1 + X2', data=multi).fit()\n",
    "ols3 = smf.ols(formula='Y ~ X1 + X2 + X3', data=multi).fit()\n",
    "\n",
    "# Compare the R^2 value for the three models.\n",
    "#print(ols1.summary())\n",
    "\n",
    "# Read the F-statistic off the summary table, and perform the F test (alpha = 0.05)."
   ]
  }
 ],
 "metadata": {
  "kernelspec": {
   "display_name": "Python 2",
   "language": "python",
   "name": "python2"
  },
  "language_info": {
   "codemirror_mode": {
    "name": "ipython",
    "version": 2
   },
   "file_extension": ".py",
   "mimetype": "text/x-python",
   "name": "python",
   "nbconvert_exporter": "python",
   "pygments_lexer": "ipython2",
   "version": "2.7.10"
  }
 },
 "nbformat": 4,
 "nbformat_minor": 0
}
