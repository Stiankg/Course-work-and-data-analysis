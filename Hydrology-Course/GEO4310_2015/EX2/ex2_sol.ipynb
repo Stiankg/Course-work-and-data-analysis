{
 "cells": [
  {
   "cell_type": "markdown",
   "metadata": {},
   "source": [
    "#Solution to exercise 2: Probability distributions\n",
    "\n",
    "##### August 2015"
   ]
  },
  {
   "cell_type": "code",
   "execution_count": 1,
   "metadata": {
    "collapsed": false
   },
   "outputs": [
    {
     "data": {
      "text/html": [
       "<style>\n",
       "table {float:left}\n",
       "</style>"
      ],
      "text/plain": [
       "<IPython.core.display.HTML object>"
      ]
     },
     "metadata": {},
     "output_type": "display_data"
    }
   ],
   "source": [
    "%%html\n",
    "<style>\n",
    "table {float:left}\n",
    "</style>"
   ]
  },
  {
   "cell_type": "markdown",
   "metadata": {},
   "source": [
    "####Question No 1.\n",
    "\n",
    "The number of rainy days in July and August at a meteorological station is given in the table below.\n",
    "\n",
    "\n",
    "Year|1|2|3|4|5|6|7|8|9|10|\n",
    "---|---|---|---|---|---|---|---|---|---|---|\n",
    "July| 10 |15|17 |8||9|19|14|20|4\n",
    "August|4|9|8|3|0|10|12|2|8|6 "
   ]
  },
  {
   "cell_type": "markdown",
   "metadata": {},
   "source": [
    "##### (1) Use the Hypergeometric, Binomial and Poisson distributions to calculate:\n",
    "\n",
    "a) What is the probability of 10 rainy days in each of the months of July and August?"
   ]
  },
  {
   "cell_type": "markdown",
   "metadata": {},
   "source": [
    "##Hypergeometric distributions"
   ]
  },
  {
   "cell_type": "code",
   "execution_count": 32,
   "metadata": {
    "collapsed": false
   },
   "outputs": [
    {
     "name": "stdout",
     "output_type": "stream",
     "text": [
      "Hypergeo_June = 0.0704 And Hypergeo_Aug = 0.0385\n"
     ]
    }
   ],
   "source": [
    "import scipy.stats\n",
    "import math\n",
    "from scipy.stats import hypergeom\n",
    "k = 133 # number of \"successes\" in the population for July\n",
    "k1= 62  # number of \"successes\" in the population for August\n",
    "x = 10  # number of \"successes\" in the sample\n",
    "N = 310 # size of the population\n",
    "n = 31  # number sampled\n",
    "hyper_July = hypergeom.pmf(x, N, n, k) \n",
    "hyper_Aug = hypergeom.pmf(x, N, n, k1) \n",
    "print 'Hypergeo_June = %.4f And Hypergeo_Aug = %.4f' % (hyper_July, hyper_Aug)\n"
   ]
  },
  {
   "cell_type": "markdown",
   "metadata": {},
   "source": [
    "###Binomial distribution "
   ]
  },
  {
   "cell_type": "code",
   "execution_count": 33,
   "metadata": {
    "collapsed": false
   },
   "outputs": [
    {
     "name": "stdout",
     "output_type": "stream",
     "text": [
      "Binomila_June = 0.0716 And Binomial_Aug = 0.0419\n"
     ]
    }
   ],
   "source": [
    "from scipy.stats import binom\n",
    "mean_july = 13.3  #total numbers of rainy days/total number of years\n",
    "mean_aug  = 6.2\n",
    "p_july    =  0.43 #probability of obtaining exactly x successes in august i.e mean/n\n",
    "p_aug     =  0.2  \n",
    "binom_july = binom.pmf(x,n,p_july)\n",
    "binom_aug = binom.pmf(x,n,p_aug)\n",
    "print 'Binomila_June = %.4f And Binomial_Aug = %.4f' % (binom_july, binom_aug)\n"
   ]
  },
  {
   "cell_type": "markdown",
   "metadata": {},
   "source": [
    "##Poisson Distribution"
   ]
  },
  {
   "cell_type": "code",
   "execution_count": 34,
   "metadata": {
    "collapsed": false
   },
   "outputs": [
    {
     "name": "stdout",
     "output_type": "stream",
     "text": [
      "Poisson_June = 0.0799 And Poisson_Aug = 0.0469\n"
     ]
    }
   ],
   "source": [
    "from scipy.stats import poisson\n",
    "#poisson.pmf(x, λ)\n",
    "lambda_july = 13.3   # lambda = p*n which is equivalents to mean\n",
    "lambda_aug  = 6.2\n",
    "poisson_july = poisson.pmf(x, lambda_july)\n",
    "poisson_aug = poisson.pmf(x, lambda_aug)\n",
    "print 'Poisson_June = %.4f And Poisson_Aug = %.4f' % (poisson_july, poisson_aug)"
   ]
  },
  {
   "cell_type": "markdown",
   "metadata": {},
   "source": [
    "##### b) What is the probability of 20 rainy days in the 2-month period? "
   ]
  },
  {
   "cell_type": "code",
   "execution_count": 35,
   "metadata": {
    "collapsed": false
   },
   "outputs": [
    {
     "name": "stdout",
     "output_type": "stream",
     "text": [
      "Poisson Distribution = 0.0883 Hypergeometric Distribution = 0.1126 Binomial Distribution = 0.1054\n"
     ]
    }
   ],
   "source": [
    "k_for_2_month = 195\n",
    "x_for_2_month = 20\n",
    "n_for_2_month = 62\n",
    "p_for_2_month = 0.31\n",
    "N_for_2_month = 620\n",
    "lambda_for_2_month = 19.5\n",
    "hyp_dist = hypergeom.pmf(x_for_2_month, N_for_2_month, n_for_2_month, k_for_2_month) \n",
    "bin_dist = binom.pmf(x_for_2_month,n_for_2_month,p_for_2_month)\n",
    "poi_dist = poisson.pmf(x_for_2_month, lambda_for_2_month)\n",
    "print 'Poisson Distribution = %.4f Hypergeometric Distribution = %.4f Binomial Distribution = %.4f'  % (poi_dist, hyp_dist, bin_dist)"
   ]
  },
  {
   "cell_type": "markdown",
   "metadata": {},
   "source": [
    "##### (2) Which assumptions in each method are likely violated by this problem?\n",
    "The Hypergeometric distribution represents the given situation best. It is a discrete probability distribution, which describes the number of successes in a sequence of n draws from a population without replacement. That means, that the probability p of a success is dependent on the result of the previous trial. It can easily be explained\n",
    "when thinking of an urn with black and red marbles in it. Drawing a red one will be defined as success whereas drawing a black one will be defined as failure. After drawing one marble, one does not replace them into the urn. That means, that the probability for getting a red marbel will change from trial to trial, because the whole number of marbles changes all the time. Comparing that with the given task, that means, that the probability of rain for one day depends on the weather from all days before.\n",
    "\n",
    "In contrast to that the Binomial distribution, which is also a discrete probability distribution, assumes, that the probability of success p is independent from trial to trial. But that also means, that if one increases the data set by one year, the probability changes. By looking on the urn experiment, that means, that after drawing a marble\n",
    "one replaces it before drawing the next one. So the Binomial distribution can just be seen as an approximation of the Hypergeometric distribution.\n",
    "\n",
    "When the Hypergeometric distribution can be approximated by a Binomial distribution, the Binomial distribution can be approximated by a Poisson distribution. This is also a discrete probability distribution, which can be used, to describe the probability of a number of events occurring in a fixed time, when they occur with a known average rate. They also have to be independent from time since the last event. Comparing thePoisson distribution with the Binomial distribution, the Poisson variable λ is equal to n ∗ p as mentioned above. But the approximation will be bad, if λ is big, while the sample size n is relatively small.\n",
    "\n",
    "\n",
    "##### (3) What is the probability that the sixth rainy day of August occurs on 30 August?\n",
    "\n",
    "The probability that the sixth rainy day of August occurs on the 30th August is found by using the Negative Binomial distribution and defined as:\n",
    "\n",
    "$f_{x}(x; k,p) = \\binom{x-1}{k-1} p^{k} q^{x-k} $\n",
    "\n",
    "\n",
    "Here, Given:\n",
    "probability of success in the population (p) = $\\frac{62}{310}$ = 0.2\n",
    " where 62 is the sum of rainy days in August. The event of no success in the population is 1-0.2 = 0.8. \n",
    " \n",
    " Now the equation becomes: \n",
    " \n",
    " $f_{x}(x; k,p) = \\binom{30-1}{6-1} .02^{6} 0.8^{30-6} $\n",
    " \n",
    " \n",
    "To solve this equation from python:\n"
   ]
  },
  {
   "cell_type": "code",
   "execution_count": 36,
   "metadata": {
    "collapsed": false
   },
   "outputs": [
    {
     "data": {
      "text/plain": [
       "0.0359"
      ]
     },
     "execution_count": 36,
     "metadata": {},
     "output_type": "execute_result"
    }
   ],
   "source": [
    "round(math.factorial(29)/(math.factorial(24)*math.factorial(5))*(0.2**6)*(0.8**24),4)\n"
   ]
  },
  {
   "cell_type": "markdown",
   "metadata": {},
   "source": [
    "That means, that the probability of having the 6th rainy days on August 30 is 0.0359"
   ]
  },
  {
   "cell_type": "markdown",
   "metadata": {},
   "source": [
    "##### II. Some politician (who obviously did not go a statistic course) tells the public that the town will be  well prepared to tackle the problems associated with a 10-year flood and that there is nothing to worry about for the next 9 years. In 10th year, when the flood will occur as he says, the local flood protection authority will have prepared everything. Compute the probability that the politician actually is right and that the 10-year flood occurs in tenth year for the first time.\n",
    "\n",
    "##### Solution\n",
    "\n",
    "Sience it is a 10-year flood, the time interval T is equal to 10. That means, that the probability  p = $\\frac{1}{10}$ = 0.1. For the calculation one has to use the geometric distribution, because it is said, that the first success shall occur on the tenth trial.\n",
    "\n",
    "$f_{x}(x; p)$ = p*q(x-1)\n",
    "\n",
    "$f_{x}(10; 0.1)$ = 0.1(1 − 0.1)¹⁰⁻¹\n",
    "\n",
    "= 0.0387\n",
    "\n",
    "\n",
    "##### Alternatively this problem can be solved directly by using the python function which is given below:"
   ]
  },
  {
   "cell_type": "code",
   "execution_count": 37,
   "metadata": {
    "collapsed": false
   },
   "outputs": [
    {
     "data": {
      "text/plain": [
       "0.0387"
      ]
     },
     "execution_count": 37,
     "metadata": {},
     "output_type": "execute_result"
    }
   ],
   "source": [
    "from scipy.stats import geom\n",
    "from __future__ import division\n",
    "T = 10\n",
    "P = 0.1\n",
    "round(geom.pmf(T, P),4)"
   ]
  },
  {
   "cell_type": "markdown",
   "metadata": {},
   "source": [
    "That means, that the probability for the first flood occuring in the tenth year is 0.0387"
   ]
  },
  {
   "cell_type": "markdown",
   "metadata": {},
   "source": [
    "##### III. Assume that the annual maxima discharges in a river station are normally distributed with a mean of 75 m³ /s and a standard deviation     of 10 m³ /s. What is the probability for any given year to have a maximum flow that is \n",
    "\n",
    "a) less than 70 m³/s? \n",
    "\n",
    "b) larger than 95 m³/s? \n",
    "\n",
    "c) between 60 and 80 m³/s? \n",
    "\n",
    "d) What is the flow with 90 % chance to not exceed? \n",
    "\n",
    "e) What is the flow with 80 % chance to exceed? \n",
    "\n",
    "f) In which interval (centred on the mean) would 50 % of the flows fall?\n"
   ]
  },
  {
   "cell_type": "markdown",
   "metadata": {},
   "source": [
    "\n",
    "It is assumed that the annual maximum discharges at a river station are normally distributed with a mean of 75 m³/s and standard deviation of 10 m³/s, N(75,10)\n",
    "\n",
    "To find the probabilities the normal distributed observed data is standardized, and the Z value is found in the normal distribution table:\n",
    "\n",
    "\n",
    "Z = $\\frac{x-\\mu }{\\sigma }$, N(0,1)²\n",
    "\n",
    "\n",
    "#####a) less than 70 m³/s?\n",
    "\n",
    "Given,\n",
    "\n",
    "$\\mu$ = 75 m³/s\n",
    "\n",
    "$\\sigma$ = 10 m³/s\n",
    "\n",
    "P(Z<70) =  P(Z < $\\frac{70-75 }{10 }$) = P(Z<-0.5)\n",
    "\n",
    "From the python for standard normal distribution\n",
    "\n",
    "scipy.stats.norm.cdf(0.5) = 0.691\n",
    "\n",
    "for P(Z<0.5)\n",
    "\n"
   ]
  },
  {
   "cell_type": "code",
   "execution_count": 38,
   "metadata": {
    "collapsed": false
   },
   "outputs": [
    {
     "data": {
      "text/plain": [
       "0.691"
      ]
     },
     "execution_count": 38,
     "metadata": {},
     "output_type": "execute_result"
    }
   ],
   "source": [
    "round(scipy.stats.norm.cdf(0.5),3)"
   ]
  },
  {
   "cell_type": "markdown",
   "metadata": {},
   "source": [
    "So,\n",
    "\n",
    "P(X<70) = 1- 0.691\n",
    "\n",
    "= 0.308\n",
    "\n",
    "That means, that the probability for getting a maximum flow in any given year is 0.309 or 30.9%\n"
   ]
  },
  {
   "cell_type": "markdown",
   "metadata": {},
   "source": [
    "##### Alternatively this problem can be solved directly by using the python function which is given below:"
   ]
  },
  {
   "cell_type": "code",
   "execution_count": 39,
   "metadata": {
    "collapsed": false
   },
   "outputs": [
    {
     "name": "stdout",
     "output_type": "stream",
     "text": [
      "Probability for getting flow less then 70 m³/s is    : 0.308\n"
     ]
    }
   ],
   "source": [
    "a = round(scipy.stats.norm(75, 10).cdf(70),4)\n",
    "print ('Probability for getting flow less then 70 m³/s is    : %.3f' % a)"
   ]
  },
  {
   "cell_type": "markdown",
   "metadata": {},
   "source": [
    "##### b) larger than 95 m³/s?"
   ]
  },
  {
   "cell_type": "markdown",
   "metadata": {},
   "source": [
    "Transforming it in to standard normal distribution and calculating the probability, one obtains\n",
    "\n",
    "Z = $\\frac{95 - 75 }{10}$ = 2\n",
    "\n",
    "P(X>95) = P(Z>2)\n",
    "       \n",
    "   = 1-P(Z $\\leq$ 2)\n",
    "   \n",
    "   = 1-P(Z<2)"
   ]
  },
  {
   "cell_type": "code",
   "execution_count": 40,
   "metadata": {
    "collapsed": false
   },
   "outputs": [
    {
     "data": {
      "text/plain": [
       "0.9772"
      ]
     },
     "execution_count": 40,
     "metadata": {},
     "output_type": "execute_result"
    }
   ],
   "source": [
    "round(scipy.stats.norm.cdf(2),4)\n",
    "# You can also use the standard normal distribution table from the link:\n",
    "# https://en.wikipedia.org/wiki/Standard_normal_table#Cumulative"
   ]
  },
  {
   "cell_type": "markdown",
   "metadata": {
    "collapsed": true
   },
   "source": [
    " = 1 − 0.9772\n",
    " \n",
    " P(X>95) = 0.0228\n",
    " \n",
    " So the proability for getting a maximum flow in any given year is 0.0288 or 2,88%."
   ]
  },
  {
   "cell_type": "markdown",
   "metadata": {
    "collapsed": true
   },
   "source": [
    "##### c) is between 60 and 80 m 3 /s?\n",
    "\n",
    "P(60 <X< 80)\n",
    "\n",
    "P (60 < X < 80) = P (X < 80) − P (X < 60)\n",
    "\n",
    "$ Z_{60} $ = $\\frac{60 - 75 }{10}$ = -1.5\n",
    "\n",
    "$ Z_{80} $ = $\\frac{80 - 75 }{10}$ = 0.5\n",
    "\n",
    "P (X < 80) − P (X < 60) = P (Z < 0.5) − P (Z < −1.5)\n",
    "\n"
   ]
  },
  {
   "cell_type": "code",
   "execution_count": 41,
   "metadata": {
    "collapsed": false
   },
   "outputs": [
    {
     "data": {
      "text/plain": [
       "0.6247"
      ]
     },
     "execution_count": 41,
     "metadata": {},
     "output_type": "execute_result"
    }
   ],
   "source": [
    "round(scipy.stats.norm.cdf(0.5) - scipy.stats.norm.cdf(-1.5),4)"
   ]
  },
  {
   "cell_type": "markdown",
   "metadata": {},
   "source": [
    "So the proability for getting a maximum flow in between 60 and 80 m³/s is 0.6247 or 62.47%"
   ]
  },
  {
   "cell_type": "markdown",
   "metadata": {},
   "source": [
    "##### d) What is the flow with 90 % chance to not exceed?\n",
    "\n",
    "Now the question is exactly the other way round. That means, the probability is given and one has to find out the flow. Therefore one first has to look in the table for the standard normal distribution where it becomes 0.9. One gets:\n",
    "\n",
    "$Z_{1.28}$ = 0.8997\n",
    "\n",
    "$Z_{1.29}$ = 0.9015\n",
    "\n",
    "So there is no exact value for Z at the point 0.9. Therefore one has to use linear regression to get the value for Z = 0.9:\n",
    "\n",
    "$\\frac{1.29 - 1.28 }{0.9015 − 0.8997}$ = $\\frac{Z − 1.28}{0.9 − 0.8997}$\n",
    "\n",
    "Z = $\\frac{0.01 ∗ 0.0003}{0.0018} + 1.28$\n",
    "\n",
    "Z = 1.2817\n",
    "\n",
    "Now one has to retransform the standard normal distribution into just a normal distribution:\n",
    "\n",
    "Z = $\\frac{x-\\mu }{\\sigma }$\n",
    "\n",
    "X = Z ∗ σ + μ\n",
    "\n",
    "X = (1.2817 ∗ 10 + 75) m³/s\n",
    "\n",
    "X = 87.82 m³/s\n",
    "\n",
    "##### Alternatively this problem can be solved directly by using the python function which is given below:\n"
   ]
  },
  {
   "cell_type": "code",
   "execution_count": 42,
   "metadata": {
    "collapsed": false
   },
   "outputs": [
    {
     "name": "stdout",
     "output_type": "stream",
     "text": [
      "The flow with 90 pct chance not to exceed is : 87.82\n"
     ]
    }
   ],
   "source": [
    "d = scipy.stats.norm(75, 10).ppf(0.9)\n",
    "print ('The flow with 90 pct chance not to exceed is : %.2f' % d)"
   ]
  },
  {
   "cell_type": "markdown",
   "metadata": {
    "collapsed": true
   },
   "source": [
    "That means, that the flow with 90% chance not to exceed is 87.82 m³/s."
   ]
  },
  {
   "cell_type": "markdown",
   "metadata": {
    "collapsed": true
   },
   "source": [
    "##### e) Flow with 80% chance to exceed"
   ]
  },
  {
   "cell_type": "markdown",
   "metadata": {},
   "source": [
    "The way to calculate is nearly the same as in the task above:\n",
    "\n",
    "P(X>x) = 0.8 \n",
    "\n",
    "$Z_{0.84}$ = 0.7995\n",
    "\n",
    "$Z_{0.85}$ = 0.8023\n",
    "\n",
    "$\\frac{0.85 − 0.84 }{0.8023 − 0.7995}$ = $\\frac{Z − 0.84}{0 .8 − 0.7995}$\n",
    "\n",
    "Z = 0.8418\n",
    "\n",
    "To get really the probability one is looking for, one takes Z = −0, 8418, because P (Z < −z) = 1 − P (Z < z) (whereas z is a positiv number).\n",
    "\n",
    "X = (−0.8418 ∗ 10 + 75) m³/s\n",
    "\n",
    "X = 66.58 m³/s\n",
    "\n",
    "##### Alternatively this problem can be solved directly by using the python function which is given below:\n"
   ]
  },
  {
   "cell_type": "code",
   "execution_count": 43,
   "metadata": {
    "collapsed": false
   },
   "outputs": [
    {
     "name": "stdout",
     "output_type": "stream",
     "text": [
      "The flow with 80 pct chance to exceed is     : 66.58\n"
     ]
    }
   ],
   "source": [
    "e = scipy.stats.norm(75, 10).ppf(1-0.8)\n",
    "print ('The flow with 80 pct chance to exceed is     : %.2f' % e)"
   ]
  },
  {
   "cell_type": "markdown",
   "metadata": {},
   "source": [
    "The flow with 80% chance to exceed is 66.58 m³/s."
   ]
  },
  {
   "cell_type": "markdown",
   "metadata": {
    "collapsed": false
   },
   "source": [
    "##### f) In which interval (centred on the mean) would 50 % of the flows fall"
   ]
  },
  {
   "cell_type": "markdown",
   "metadata": {},
   "source": [
    "P (X < x < Y ) = 0.5 \n",
    "P (Y < x) − P (X < x) = 0.5 \n",
    "P (X < x) = 0.75\n",
    "\n",
    "$Z_{0.67}$ = 0.7486\n",
    "\n",
    "$Z_{0.68}$ = 0.7517\n",
    "\n",
    "$\\frac{0.68 − 0.67 }{0.7517 − 0.7486}$ = $\\frac{Z − 0.67}{0.75 − 0.7486}$\n",
    "\n",
    "$Z_{upper}$= 0.6745\n",
    "\n",
    "$Z_{lower}$= −1 ∗ Z upper = −0.6745\n",
    "\n",
    "X = (−0.6745 ∗ 10 + 75) m 3 /s = 68.26 m³ /s\n",
    "\n",
    "Y = (0.6745 ∗ 10 + 75) m 3 /s = 81.74 m³/s\n",
    "\n",
    "##### Alternatively this problem can be solved directly by using the python function which is given below:"
   ]
  },
  {
   "cell_type": "code",
   "execution_count": 44,
   "metadata": {
    "collapsed": false
   },
   "outputs": [
    {
     "name": "stdout",
     "output_type": "stream",
     "text": [
      "Lower  = 68.26 And Upper = 81.74\n"
     ]
    }
   ],
   "source": [
    "l = scipy.stats.norm(75, 10).ppf(0.25) \n",
    "u = scipy.stats.norm(75, 10).ppf(0.75)\n",
    "print 'Lower  = %.2f And Upper = %.2f' % (l, u)"
   ]
  },
  {
   "cell_type": "markdown",
   "metadata": {},
   "source": [
    "The interval for 50% of the flow centred on the mean is [68.26 m³ /s; 81.74 m³/s]."
   ]
  },
  {
   "cell_type": "markdown",
   "metadata": {},
   "source": [
    "##### IV. Plot the individual terms of the Poisson distribution for λ  = 3. Approximate the Poisson by the normal and plot the normal approximations on the same graph. Optional: Do the same but with λ = 8.\n",
    "\n",
    "lambda (λ ) = 3"
   ]
  },
  {
   "cell_type": "code",
   "execution_count": 45,
   "metadata": {
    "collapsed": false
   },
   "outputs": [
    {
     "data": {
      "image/png": "[encoded data removed]",
      "text/plain": [
       "<matplotlib.figure.Figure at 0x7fb6b8e1cbd0>"
      ]
     },
     "metadata": {},
     "output_type": "display_data"
    }
   ],
   "source": [
    "%matplotlib inline\n",
    "import pandas as pd\n",
    "import scipy.stats\n",
    "from scipy.stats import poisson\n",
    "import matplotlib.pyplot as plt\n",
    "import math\n",
    "from pandas import *\n",
    "Normal= Series(scipy.stats.norm(3, math.sqrt(3)).pdf(range(11))) # Normal distribution\n",
    "Poisson = Series(poisson.pmf(range(11), 3))                      # Poisson distribution\n",
    "all_3 = pd.concat([Normal, Poisson], axis = 1)\n",
    "plt.plot((all_3),linestyle = \"solid\", marker=\"o\")\n",
    "plt.legend(['Normal', 'Poisson'], loc='upper right') \n",
    "plt.xlabel('X') \n",
    "plt.ylabel('f(x)') \n",
    "plt.title('Graph of Poisson and Normal Distribution with lambda = 3') \n",
    "plt.show()"
   ]
  },
  {
   "cell_type": "markdown",
   "metadata": {},
   "source": [
    "lambda (λ ) = 8"
   ]
  },
  {
   "cell_type": "code",
   "execution_count": 46,
   "metadata": {
    "collapsed": false
   },
   "outputs": [
    {
     "data": {
      "image/png": "[encoded data removed]",
      "text/plain": [
       "<matplotlib.figure.Figure at 0x7fb6b8c4b2d0>"
      ]
     },
     "metadata": {},
     "output_type": "display_data"
    }
   ],
   "source": [
    "Normal= Series(scipy.stats.norm(8, math.sqrt(8)).pdf(range(11))) # Normal distribution\n",
    "Poisson = Series(poisson.pmf(range(11), 8))                      # Poisson distribution\n",
    "all_8 = pd.concat([Normal, Poisson], axis = 1)\n",
    "plt.plot((all_8),linestyle = \"solid\", marker=\"o\")\n",
    "plt.legend(['Normal', 'Poisson'], loc='upper left') \n",
    "plt.xlabel('X') \n",
    "plt.ylabel('f(x)') \n",
    "plt.title('Graph of Poisson and Normal Distribution with lambda = 8') \n",
    "plt.show()"
   ]
  }
 ],
 "metadata": {
  "kernelspec": {
   "display_name": "Python 2",
   "language": "python",
   "name": "python2"
  },
  "language_info": {
   "codemirror_mode": {
    "name": "ipython",
    "version": 2
   },
   "file_extension": ".py",
   "mimetype": "text/x-python",
   "name": "python",
   "nbconvert_exporter": "python",
   "pygments_lexer": "ipython2",
   "version": "2.7.10"
  }
 },
 "nbformat": 4,
 "nbformat_minor": 0
}
