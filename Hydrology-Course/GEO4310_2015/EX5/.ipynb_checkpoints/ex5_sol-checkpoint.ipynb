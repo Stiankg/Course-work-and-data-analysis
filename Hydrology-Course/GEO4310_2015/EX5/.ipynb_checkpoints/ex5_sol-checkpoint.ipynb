{
 "cells": [
  {
   "cell_type": "code",
   "execution_count": 1,
   "metadata": {
    "collapsed": false
   },
   "outputs": [
    {
     "data": {
      "text/html": [
       "<style>\n",
       "table {float:left}\n",
       "</style>"
      ],
      "text/plain": [
       "<IPython.core.display.HTML object>"
      ]
     },
     "metadata": {},
     "output_type": "display_data"
    }
   ],
   "source": [
    "%%html\n",
    "<style>\n",
    "table {float:left}\n",
    "</style>\n"
   ]
  },
  {
   "cell_type": "markdown",
   "metadata": {},
   "source": [
    "# Exercise 5: Frequency Analysis\n",
    "\n",
    "\n",
    "This exercise is due October, 05 2015. Please save this notebook as a .pdf and .ipynb file and upload both files to the folder \"GEO4310/Resources/Exercises/Hand-in of exercises\" in Fronter. The report should answer all questions given in the exercise text and contain the relevant plots and output. For each python command given in this notebook, write a comment (a line starting with #) to demonstrate that you understand what it does.\n",
    "\n",
    "\n",
    "\n",
    "**Name: Bikas Chandra Bhattarai**\n",
    "\n",
    "**Date: 2015/10/05**"
   ]
  },
  {
   "cell_type": "markdown",
   "metadata": {},
   "source": [
    "#### Question 1:\n",
    "\n",
    "**Vägverket (the Swedish Road Administration) plans to build a new bridge and they ask you to provide some information about the frequency and magnitude of the discharges in the river. Of course, you are a very careful consultant, so you are going to apply different statistical methods. Yearly peak flows can be found in the file Qyearly.dat.**\n",
    "\n",
    "#### 1) Calculate the magnitude of a 100-year flood by using \n",
    "**A) Graphic method:**\n",
    "\n",
    "(i) Compute the empirical probability for a certain flow to be exceeded, P(X>=xm), using the Weibull equation\n",
    "\n",
    "$P(X>=xm) = \\frac{m}{n+1}$...................(1) \n",
    "\n",
    "where m is the rank number and n is the number of years.\n",
    "\n",
    "(ii) plot $P(X>x_m) \\text{ against } Q_{max}$ on the normal probability paper and fit a linear line by hand.\n",
    "\n",
    "(iii) read $Q_{T = 100}$ from the plot\n",
    "\n",
    "\n",
    "**B) Analytical methods assuming the yearly peak flow follows the**\n",
    "\n",
    "i) Normal distribution\n",
    "\n",
    "ii) Log-normal distribution : - Do this by two methods:\n",
    "        \n",
    "        1) transform the data into lognormal and find mean and standard deviation\n",
    "        2) apply the formula on page62. in the compendium (2013).\n",
    "iii) Extreme-value type I distribution (Gumble)\n",
    "\n",
    "iv) Pearson III distribution\n",
    "\n",
    "v) Log-Pearson III distribution\n",
    "\n",
    "Use\n",
    "\n",
    "$Q_T = \\bar{Q} + K_T . S_Q$.........................(2)\n",
    "\n",
    "$ K_T$ (for normal distribution and Pearson distribution) can be obtained from tables, for Extreme value type I (Gumbel) distribution the equation is\n",
    "\n",
    "$ K_T = K_{T} = \\frac{\\sqrt{6}}{\\pi } \\left \\{ 0.5772 + \\text{ln}\\left [ \\text{ln}\\left ( \\frac{T}{T-1} \\right ) \\right ] \\right \\}$.................(3)"
   ]
  },
  {
   "cell_type": "markdown",
   "metadata": {},
   "source": [
    "#### Solution:"
   ]
  },
  {
   "cell_type": "code",
   "execution_count": 2,
   "metadata": {
    "collapsed": false
   },
   "outputs": [
    {
     "data": {
      "text/html": [
       "<div style=\"max-height:1000px;max-width:1500px;overflow:auto;\">\n",
       "<table border=\"1\" class=\"dataframe\">\n",
       "  <thead>\n",
       "    <tr style=\"text-align: right;\">\n",
       "      <th></th>\n",
       "      <th>Year</th>\n",
       "      <th>Q(m3/s)</th>\n",
       "      <th>sorted</th>\n",
       "      <th>Rank</th>\n",
       "      <th>Weibull_prob</th>\n",
       "    </tr>\n",
       "  </thead>\n",
       "  <tbody>\n",
       "    <tr>\n",
       "      <th>0</th>\n",
       "      <td> 1924</td>\n",
       "      <td> 99.1</td>\n",
       "      <td> 20.6</td>\n",
       "      <td> 1</td>\n",
       "      <td> 0.03</td>\n",
       "    </tr>\n",
       "    <tr>\n",
       "      <th>1</th>\n",
       "      <td> 1925</td>\n",
       "      <td> 79.2</td>\n",
       "      <td> 28.4</td>\n",
       "      <td> 2</td>\n",
       "      <td> 0.05</td>\n",
       "    </tr>\n",
       "    <tr>\n",
       "      <th>2</th>\n",
       "      <td> 1926</td>\n",
       "      <td> 62.6</td>\n",
       "      <td> 32.3</td>\n",
       "      <td> 3</td>\n",
       "      <td> 0.08</td>\n",
       "    </tr>\n",
       "  </tbody>\n",
       "</table>\n",
       "</div>"
      ],
      "text/plain": [
       "   Year  Q(m3/s)  sorted  Rank  Weibull_prob\n",
       "0  1924     99.1    20.6     1          0.03\n",
       "1  1925     79.2    28.4     2          0.05\n",
       "2  1926     62.6    32.3     3          0.08"
      ]
     },
     "execution_count": 2,
     "metadata": {},
     "output_type": "execute_result"
    }
   ],
   "source": [
    "%matplotlib inline \n",
    "import scipy\n",
    "import numpy as np\n",
    "import pandas as pd\n",
    "from scipy import stats\n",
    "from scipy.stats import pearson3\n",
    "from __future__ import division\n",
    "\n",
    "ams = pd.read_table('Qyearly.dat') # ams = annual maximum series: annual maximum discharge each year\n",
    "N = len(ams)                       # len is the number of rows in ams, that is, 37 years of ams data\n",
    "ams['sorted'] = sorted(ams['Q(m3/s)']) \n",
    "#ams ['Rank'] = range(1,(N+1),1)\n",
    "\n",
    "ams ['Rank'] = range(1,N+1,1)\n",
    "\n",
    "ams ['Weibull_prob'] = (ams['Rank']/(N+1)).round(2)\n",
    "ams.head(3)"
   ]
  },
  {
   "cell_type": "code",
   "execution_count": 3,
   "metadata": {
    "collapsed": true
   },
   "outputs": [],
   "source": [
    "# Plot P(X>= xm) against Qmax on normal probability paper and fit a linear line.\n",
    "from scipy import stats\n",
    "import matplotlib.pyplot as plt\n",
    "Qmax = ams['sorted']\n",
    "prob = ams['Weibull_prob']"
   ]
  },
  {
   "cell_type": "markdown",
   "metadata": {},
   "source": [
    "**Note: Graph is plotted manually and is provided in saperate sheet.**"
   ]
  },
  {
   "cell_type": "markdown",
   "metadata": {
    "collapsed": true
   },
   "source": [
    "##### 1B: Solution:"
   ]
  },
  {
   "cell_type": "markdown",
   "metadata": {},
   "source": [
    "We will calculate the magnitude of a flood with a 100 year return period (T = 100 by using the normal distribution. The mean discharge for the data period ( is 66. 3 m³/s with a standard deviation (s) of 21.3 m³ /s."
   ]
  },
  {
   "cell_type": "markdown",
   "metadata": {},
   "source": [
    "### Calculating in normal distribution"
   ]
  },
  {
   "cell_type": "code",
   "execution_count": 4,
   "metadata": {
    "collapsed": false
   },
   "outputs": [
    {
     "name": "stdout",
     "output_type": "stream",
     "text": [
      "Mean               :66.25\n",
      "Standard deviation :21.00\n"
     ]
    }
   ],
   "source": [
    "# Calculating the mean and standard deviation\n",
    "\n",
    "mean = (np.mean(ams['Q(m3/s)']))\n",
    "print 'Mean               :%.2f' % mean\n",
    "\n",
    "std = (np.std(ams['Q(m3/s)']))\n",
    "\n",
    "print 'Standard deviation :%.2f' % std"
   ]
  },
  {
   "cell_type": "markdown",
   "metadata": {},
   "source": [
    "So,\n",
    "\n",
    "$\\bar{Q} = 66.3 m³/s$\n",
    "\n",
    "$ S_Q = 21 m³/s$\n",
    "\n",
    "A hundred year flood has the probability of exceedance: \n",
    "\n",
    "$P(Q>Q_T) = \\frac{1}{100} = 0.01$\n",
    "\n",
    "$P(Q<Q_T) = (1 -P(Q>Q_T)) = 0.99$\n",
    "\n",
    "$z = K_T $= **scipy.stats.norm.ppf(0.99)**\n",
    "\n",
    "Rrarranging the equation (2)\n",
    "\n",
    "$ Q_{T=100} =  \\bar{Q}+K_T S_Q$\n",
    "\n",
    "so calculating the above equation:\n"
   ]
  },
  {
   "cell_type": "code",
   "execution_count": 5,
   "metadata": {
    "collapsed": false
   },
   "outputs": [
    {
     "name": "stdout",
     "output_type": "stream",
     "text": [
      "100 year flood in normal distribution = 115.10\n"
     ]
    }
   ],
   "source": [
    "Qt = mean + (scipy.stats.norm.ppf(0.99)*std)\n",
    "print '100 year flood in normal distribution = %.2f' % Qt"
   ]
  },
  {
   "cell_type": "markdown",
   "metadata": {},
   "source": [
    "**So the 100 year flood in normal distribution is 115.1 m³/s.**"
   ]
  },
  {
   "cell_type": "markdown",
   "metadata": {},
   "source": [
    "### Calculation in log-normal distribution\n"
   ]
  },
  {
   "cell_type": "code",
   "execution_count": 6,
   "metadata": {
    "collapsed": false
   },
   "outputs": [
    {
     "data": {
      "text/html": [
       "<div style=\"max-height:1000px;max-width:1500px;overflow:auto;\">\n",
       "<table border=\"1\" class=\"dataframe\">\n",
       "  <thead>\n",
       "    <tr style=\"text-align: right;\">\n",
       "      <th></th>\n",
       "      <th>Year</th>\n",
       "      <th>Q(m3/s)</th>\n",
       "      <th>sorted</th>\n",
       "      <th>lognorm</th>\n",
       "      <th>Rank</th>\n",
       "      <th>Weibull_prob</th>\n",
       "    </tr>\n",
       "  </thead>\n",
       "  <tbody>\n",
       "    <tr>\n",
       "      <th>0</th>\n",
       "      <td> 1924</td>\n",
       "      <td> 99.1</td>\n",
       "      <td> 20.6</td>\n",
       "      <td> 3.025291</td>\n",
       "      <td> 1</td>\n",
       "      <td> 0.026316</td>\n",
       "    </tr>\n",
       "    <tr>\n",
       "      <th>1</th>\n",
       "      <td> 1925</td>\n",
       "      <td> 79.2</td>\n",
       "      <td> 28.4</td>\n",
       "      <td> 3.346389</td>\n",
       "      <td> 2</td>\n",
       "      <td> 0.052632</td>\n",
       "    </tr>\n",
       "    <tr>\n",
       "      <th>2</th>\n",
       "      <td> 1926</td>\n",
       "      <td> 62.6</td>\n",
       "      <td> 32.3</td>\n",
       "      <td> 3.475067</td>\n",
       "      <td> 3</td>\n",
       "      <td> 0.078947</td>\n",
       "    </tr>\n",
       "  </tbody>\n",
       "</table>\n",
       "</div>"
      ],
      "text/plain": [
       "   Year  Q(m3/s)  sorted   lognorm  Rank  Weibull_prob\n",
       "0  1924     99.1    20.6  3.025291     1      0.026316\n",
       "1  1925     79.2    28.4  3.346389     2      0.052632\n",
       "2  1926     62.6    32.3  3.475067     3      0.078947"
      ]
     },
     "execution_count": 6,
     "metadata": {},
     "output_type": "execute_result"
    }
   ],
   "source": [
    "ams_lognorm = pd.read_table('Qyearly.dat') # ams = annual maximum series: annual maximum discharge each year\n",
    "N = len(ams_lognorm)                       # len is the number of rows in ams, that is, 37 years of ams data\n",
    "ams_lognorm['sorted'] = sorted(ams_lognorm['Q(m3/s)']) \n",
    "#ams ['Rank'] = range(1,(N+1),1)\n",
    "\n",
    "ams_lognorm['lognorm'] = np.log(ams_lognorm['sorted'])\n",
    "ams_lognorm ['Rank'] = range(1,N+1,1)\n",
    "\n",
    "ams_lognorm ['Weibull_prob'] = (ams_lognorm['Rank']/(N+1))     # don't round until the final answer: .round(2)                                 \n",
    "ams_lognorm.head(3)"
   ]
  },
  {
   "cell_type": "code",
   "execution_count": 7,
   "metadata": {
    "collapsed": false
   },
   "outputs": [
    {
     "name": "stdout",
     "output_type": "stream",
     "text": [
      "Mean_lognorm               : 4.13\n",
      "Standard deviation_lognorm : 0.37\n"
     ]
    }
   ],
   "source": [
    "# Calculating the mean and standard deviation\n",
    "\n",
    "mean_lognorm = (np.mean(ams_lognorm['lognorm']))\n",
    "print 'Mean_lognorm               : %.2f' % mean_lognorm\n",
    "\n",
    "std_lognorm = (np.std(ams_lognorm['lognorm']))\n",
    "\n",
    "print 'Standard deviation_lognorm : %.2f' %std_lognorm"
   ]
  },
  {
   "cell_type": "code",
   "execution_count": 8,
   "metadata": {
    "collapsed": false
   },
   "outputs": [
    {
     "name": "stdout",
     "output_type": "stream",
     "text": [
      "100 year flood in lognormal distribution : 4.99\n"
     ]
    }
   ],
   "source": [
    "Qt = mean_lognorm + (scipy.stats.norm.ppf(0.99)*std_lognorm)\n",
    "print '100 year flood in lognormal distribution : %.2f' % Qt"
   ]
  },
  {
   "cell_type": "code",
   "execution_count": 9,
   "metadata": {
    "collapsed": false
   },
   "outputs": [
    {
     "data": {
      "text/plain": [
       "148.41"
      ]
     },
     "execution_count": 9,
     "metadata": {},
     "output_type": "execute_result"
    }
   ],
   "source": [
    "(np.exp(5)).round(2)"
   ]
  },
  {
   "cell_type": "markdown",
   "metadata": {},
   "source": [
    "**Conclusion:**\n",
    "So the probability for 100 years flood in lognormal distribution is 148.41 m³/sec. "
   ]
  },
  {
   "cell_type": "markdown",
   "metadata": {},
   "source": [
    "### Extreme-value type I distribution (Gumbel)"
   ]
  },
  {
   "cell_type": "markdown",
   "metadata": {},
   "source": [
    "for Extreme-Value  distribution:\n",
    "    \n",
    "   $ K_T = -\\frac{\\sqrt{6}}{\\pi }\\left \\{ 0.5772+ln\\left [ ln\\left ( \\frac{T}{T-1} \\right ) \\right ] \\right \\}$\n",
    "    \n",
    "    Here, T = 100 then\n",
    "    \n",
    "    using the python cell as  calculator:"
   ]
  },
  {
   "cell_type": "code",
   "execution_count": 10,
   "metadata": {
    "collapsed": false
   },
   "outputs": [
    {
     "name": "stdout",
     "output_type": "stream",
     "text": [
      "K_T = 3.137\n",
      "std = 20.9990427275\n",
      "mean= 66.2513513514\n"
     ]
    }
   ],
   "source": [
    "from __future__ import division\n",
    "K_T = ((-np.sqrt(6)/(np.pi))*(0.5772 + np.log(np.log(100/(100-1))))).round(3)\n",
    "\n",
    "print 'K_T =', K_T\n",
    "print 'std =', std\n",
    "print 'mean=', mean"
   ]
  },
  {
   "cell_type": "code",
   "execution_count": 11,
   "metadata": {
    "collapsed": false
   },
   "outputs": [
    {
     "name": "stdout",
     "output_type": "stream",
     "text": [
      "132.1\n"
     ]
    }
   ],
   "source": [
    "#So, \n",
    "Q_T = (mean +std *K_T).round(1)\n",
    "print Q_T"
   ]
  },
  {
   "cell_type": "markdown",
   "metadata": {},
   "source": [
    "**Conclusion**: So the probability for 100 years flood in Gumble distribution is 132.2 m³/sec."
   ]
  },
  {
   "cell_type": "markdown",
   "metadata": {},
   "source": [
    "\n",
    "### Pearson III distribution \n",
    "\n",
    "The Pearson type III distribution is a three parameter gama distribution. The three parameters are $\\beta$ , $\\lambda$ and  $\\varepsilon$ \n",
    "\n",
    "here, mean = $\\lambda$\n",
    "\n",
    "standard deviation = $\\beta$\n",
    "\n",
    "coefficient of skewness = $\\varepsilon$ \n",
    "\n",
    "then $K_T = K_T = z+(z^2 -1)k + \\frac{1}{3}(z^3 - 6z)k^2 - (z^2-1)k^3+zk^4 +\\frac{1}{3}k^5$\n",
    "\n",
    "where, $k = \\frac{\\varepsilon}{6}$\n",
    "\n",
    "$z = w- \\frac{2.516+0.8029w+0.01033w^2}{1+1.4328w+0.1893w^2 +0.00131w^3}$\n",
    "\n",
    "$w = \\left [ ln\\left ( \\frac{1}{p^2} \\right ) \\right ]^{1/2}$\n",
    "\n",
    "$P = \\frac{1}{T} = 0.01$"
   ]
  },
  {
   "cell_type": "code",
   "execution_count": 12,
   "metadata": {
    "collapsed": false
   },
   "outputs": [
    {
     "name": "stdout",
     "output_type": "stream",
     "text": [
      "112.64\n"
     ]
    }
   ],
   "source": [
    "skewness = scipy.stats.skew(ams['sorted'])\n",
    "k = skewness/6\n",
    "w = (np.log(1/((0.01)**2))**0.5 )\n",
    "z = w-((2.516+0.8029*w+0.01033*w**2)/(1+1.4328*w+0.1893*w**2 +0.00131*w**3))\n",
    "K_T = z+(z**2-1)*k + (1/3)*(z**3 - 6*z)*k**2 - (z**2-1)*k**3 +z*k**4 +(1/3)*k**5\n",
    "\n",
    "Q_T = (mean + std *K_T).round(2)\n",
    "print Q_T"
   ]
  },
  {
   "cell_type": "markdown",
   "metadata": {},
   "source": [
    "**Conclusion:** So the probability for 100 years flood in Pearson III distribution is 112.64 m³/sec."
   ]
  },
  {
   "cell_type": "markdown",
   "metadata": {},
   "source": [
    "### Log-Pearson III distribution"
   ]
  },
  {
   "cell_type": "code",
   "execution_count": 13,
   "metadata": {
    "collapsed": false
   },
   "outputs": [
    {
     "name": "stdout",
     "output_type": "stream",
     "text": [
      "Mean_lognorm               : 4.13\n",
      "Standard deviation_lognorm : 0.37\n"
     ]
    }
   ],
   "source": [
    "# Calculating the mean and standard deviation in lognormal scale\n",
    "\n",
    "mean_lognorm = (np.mean(ams_lognorm['lognorm']))\n",
    "print 'Mean_lognorm               : %.2f' % mean_lognorm\n",
    "\n",
    "std_lognorm = (np.std(ams_lognorm['lognorm']))\n",
    "\n",
    "print 'Standard deviation_lognorm : %.2f' % std_lognorm"
   ]
  },
  {
   "cell_type": "code",
   "execution_count": 14,
   "metadata": {
    "collapsed": false
   },
   "outputs": [
    {
     "name": "stdout",
     "output_type": "stream",
     "text": [
      "4.73\n"
     ]
    }
   ],
   "source": [
    "skewness = scipy.stats.skew(ams_lognorm['lognorm'])\n",
    "k = skewness/6\n",
    "w = (np.log(1/((0.01)**2))**0.5 )\n",
    "z = w-((2.516+0.8029*w+0.01033*w**2)/(1+1.4328*w+0.1893*w**2 +0.00131*w**3))\n",
    "K_T = z+(z**2-1)*k + (1/3)*(z**3 - 6*z)*k**2 - (z**2-1)*k**3 +z*k**4 +(1/3)*k**5\n",
    "\n",
    "Q_T = (mean_lognorm + std_lognorm *K_T).round(2)\n",
    "print Q_T"
   ]
  },
  {
   "cell_type": "code",
   "execution_count": 15,
   "metadata": {
    "collapsed": false
   },
   "outputs": [
    {
     "data": {
      "text/plain": [
       "113.3"
      ]
     },
     "execution_count": 15,
     "metadata": {},
     "output_type": "execute_result"
    }
   ],
   "source": [
    "(np.exp(4.73)).round(2)"
   ]
  },
  {
   "cell_type": "markdown",
   "metadata": {},
   "source": [
    "**Conclusion:** So the probability for 100 years flood in Log-Pearson III distribution is 113.3 m³/sec."
   ]
  },
  {
   "cell_type": "markdown",
   "metadata": {},
   "source": [
    "**In summary:** From the table below it is clear that the probability for 100 year flood is higher in Lognormal distribution while the Lower in Pearsom III distibution.\n",
    "\n",
    "Distribution|discharge(m³/s)|\n",
    "--- |---   \n",
    "Normal| 115.10 \n",
    "Log-Normal|148.41\n",
    "Gumbel| 132.1  \n",
    "Pearson III distribution| 112.69  \n",
    "Log-Pearson III distribution|113.3 "
   ]
  },
  {
   "cell_type": "markdown",
   "metadata": {},
   "source": [
    "#### 2) Calculate the probability that the annual peak flood is larger than 80 m³/s for any given year (assume normal distribution)\n",
    "\n",
    "A hundred year flood has the probability of exceedance $(Q>Q_T) = 0.01$ and $P(Q<Q_T)= 0.99$\n",
    "\n",
    "from the normal distribution table: $ K_T = \\frac{X_T -\\bar{X}}{std}$\n",
    "\n",
    "$P(Q>80 m³/s) = PQ> \\frac{80-66.25}{20.99}$\n",
    "\n",
    "From the normal distribution table probability we got the probability of \n",
    "\n",
    "From the normal distribution table probability we got the probability of $P(Z> 0.655) = 0.7437$\n",
    "\n",
    "so the exceedance probability =  **(1-0.7437) = 0.26** or 26%\n",
    "\n",
    "Hence, the probability that the annual peak flood is larger than 80 m³/s  for any given year is 26%."
   ]
  },
  {
   "cell_type": "markdown",
   "metadata": {},
   "source": [
    "#### 3) In order to be 90% sure that a design flood is not exceeded in a 50 year period (design life), what shall be the design return period?\n",
    "\n",
    "The exceedence probability for a certain return period (T) with n value is given by the following equation:\n",
    "\n",
    "$P_e = 1-\\left [ 1-\\left ( \\frac{1}{T} \\right ) \\right ]^{n}$...............(4)\n",
    "\n",
    "The equation is rearranged to find T:\n",
    "\n",
    "$T = -\\frac{1}{\\left ( 1-P_e \\right )^{\\frac{1}{n}}-1}$\n",
    "\n",
    "In this situation the $P_e$ is 0.1, i.e the probability of exceedence is 1-P (no exceedence) = 1-0.9 = 0.1. The $n$ is 50 years.\n",
    "\n",
    "$ T = -\\frac{1}{\\left ( 1-0.1 \\right )^{\\frac{1}{50}}-1}$\n",
    "\n",
    "solving the above problem by using the python cell below:"
   ]
  },
  {
   "cell_type": "code",
   "execution_count": 16,
   "metadata": {
    "collapsed": false
   },
   "outputs": [
    {
     "name": "stdout",
     "output_type": "stream",
     "text": [
      "T         : 475.06\n"
     ]
    }
   ],
   "source": [
    "T= (-1/((1-0.1)**(1/50)-1))\n",
    "print ('T         : %.2f' % T)"
   ]
  },
  {
   "cell_type": "markdown",
   "metadata": {},
   "source": [
    "**Conclusion:**The design return period should be 475 years"
   ]
  },
  {
   "cell_type": "markdown",
   "metadata": {},
   "source": [
    "#### 4) Calculate the magnitude of the flow that with a probability of 0.9 is not exceeded in 5 years. (assume normal distribution)\n",
    "\n",
    "Using the equation 4 from the problem 3:\n",
    "T can be calculated as shown below:"
   ]
  },
  {
   "cell_type": "code",
   "execution_count": 17,
   "metadata": {
    "collapsed": false
   },
   "outputs": [
    {
     "name": "stdout",
     "output_type": "stream",
     "text": [
      "T         : 48.0\n"
     ]
    }
   ],
   "source": [
    "T= (-1/((1-0.1)**(1/5)-1))\n",
    "print ('T         : %.1f' % T)"
   ]
  },
  {
   "cell_type": "markdown",
   "metadata": {},
   "source": [
    "The return period (T) is 48 year. The probability is given by $ P = \\frac{1}{T} = \\frac{1}{48} = 0.0208$\n",
    "\n",
    "Since our distribution is normal so the value of $z = K_T$"
   ]
  },
  {
   "cell_type": "code",
   "execution_count": 18,
   "metadata": {
    "collapsed": false
   },
   "outputs": [
    {
     "name": "stdout",
     "output_type": "stream",
     "text": [
      "109.04\n"
     ]
    }
   ],
   "source": [
    "z = np.abs(scipy.stats.norm.ppf(0.0208))\n",
    "# QT can be calculated by using the equation : \n",
    "# mean+Kt*standard deviation which is given in equation 2\n",
    "\n",
    "QT = (mean + z*std).round(2)\n",
    "print QT"
   ]
  },
  {
   "cell_type": "markdown",
   "metadata": {},
   "source": [
    "**Conclusion:** The magnitude of the flow that with a probability of 0.9 is not exceeded in 5 years is calculated to be 109. 04 m³/s"
   ]
  },
  {
   "cell_type": "markdown",
   "metadata": {},
   "source": [
    "#### 5)\n",
    "**a) Define and explain the return period.**\n"
   ]
  },
  {
   "cell_type": "markdown",
   "metadata": {},
   "source": [
    "A return period, also known as a recurrence interval is an estimate of the likelihood of an event to occur.  It is a statistical measurement typically based on historic data denoting the average recurrence interval over an extended period of time. The return period wil be expressed in the same units as the sampling interval. For example, if we are analyzing the annual peak floods then the return period will be in years. Some of the plotting position formulae which are commonly used in hydrology are given below. In all these formula $P[X\\leqslant x_m]$\n",
    "\n",
    "**California formula:**\n",
    "\n",
    "Exceedence probability =$1-P(x_m) = \\frac{n}{m}$\n",
    "\n",
    "Return period = $ T = \\frac{m}{n}$\n",
    "\n",
    "**Hazen's formula,**\n",
    "\n",
    "$1-P(x_m) = \\frac{m-0.5}{n} = \\frac{2m-1}{2n}$\n",
    "\n",
    "Return period = $ T = \\frac{2n}{2m}-1$\n",
    "\n",
    "**Weibull's formula**\n",
    "\n",
    "$1-P(x_m) = \\frac{m}{n+1}$\n",
    "\n",
    "Return period = $ T = \\frac{n+1}{m}$\n",
    "\n",
    "Where, m = rank, n = number of observation"
   ]
  },
  {
   "cell_type": "markdown",
   "metadata": {},
   "source": [
    "##### b) In a small brook, we have estimated that the discharge 5 m³/s corresponds to the flow that is exceeded with a return period of 10 years. What is the probability that this value is not exceeded five years in a row?"
   ]
  },
  {
   "cell_type": "markdown",
   "metadata": {},
   "source": [
    "Solution:\n",
    "\n",
    "$P(Q>q) = \\frac{1}{10} = 0.1 $\n",
    "\n",
    "$ P(Q<q)= (1-0.1) = 0.99$\n",
    "\n",
    "so, $Q(Q<q)^5 = [0.99]^5 = 0.95$\n",
    "\n",
    "Hence the probability that the discharge is not exceeded in five years in that small broke is o.95."
   ]
  },
  {
   "cell_type": "markdown",
   "metadata": {},
   "source": [
    "##### c) For a different river, the relationship between the duration of periods without precipitation, t (days) and the lowest low-flow is given by this equation,  $Q_t = 25.0 \\text{ exp}(-t/20)$ [m$^3$/s],  (the recession of the flow) t is a stochastic variable that can be described with a Gumbel $F(t) = \\text{exp}(-\\text{exp}(-a(t-u)))$with the parameters $u$ = 18 and $a$ = 0.150. What is the probability that $Q_t$ reaches a lower value than 10 m$^3$/s?"
   ]
  },
  {
   "cell_type": "markdown",
   "metadata": {},
   "source": [
    "Here,  $Q_t = 25 \\text{ exp}(-t/20)$\n",
    "\n",
    "Replace $Q_t$ with 10\n",
    "\n",
    "$10 = 25 \\text{ exp}(-t/20)$\n",
    "\n",
    "Switch right and left side\n",
    "\n",
    "$\\text{exp}\\frac{-t}{20} = 10/25 $\n",
    "\n",
    "Take the logarithm\n",
    "\n",
    "$\\frac{t}{-20} = \\text{log}(10/25)$\n",
    "\n",
    "Solve for t\n",
    "\n",
    "$t = -20 \\cdot \\text{log}\\frac{10}{25}$\n",
    "\n",
    "t = 18.3\n",
    "\n",
    "$F(t) = \\text{exp}(-\\text{exp}(-a(t-u))) $\n",
    "\n",
    "$F(t) = \\text{exp}(-\\text{exp}(-0.15(18.3-18.0))) $\n",
    "\n",
    "$F(t)= \\text{exp}(-\\text{exp} (-0.045)) = 0.384$"
   ]
  },
  {
   "cell_type": "markdown",
   "metadata": {
    "collapsed": false
   },
   "source": [
    "**Conclusion:** Hence the probability that the $Q_t$ reaches a lower value than 10 m³/s is 0.385.\n"
   ]
  },
  {
   "cell_type": "code",
   "execution_count": null,
   "metadata": {
    "collapsed": true
   },
   "outputs": [],
   "source": []
  }
 ],
 "metadata": {
  "kernelspec": {
   "display_name": "Python 2",
   "language": "python",
   "name": "python2"
  },
  "language_info": {
   "codemirror_mode": {
    "name": "ipython",
    "version": 2
   },
   "file_extension": ".py",
   "mimetype": "text/x-python",
   "name": "python",
   "nbconvert_exporter": "python",
   "pygments_lexer": "ipython2",
   "version": "2.7.10"
  }
 },
 "nbformat": 4,
 "nbformat_minor": 0
}
