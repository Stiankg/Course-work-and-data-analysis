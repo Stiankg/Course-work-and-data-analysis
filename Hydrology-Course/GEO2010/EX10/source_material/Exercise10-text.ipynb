{
 "cells": [
  {
   "cell_type": "markdown",
   "metadata": {},
   "source": [
    "# Exercise 10 GEO2010 - Linear-Reservoir Model and Unit Hydrograph"
   ]
  },
  {
   "cell_type": "markdown",
   "metadata": {},
   "source": [
    "## Exercise 10.1: The Linear-Reservoir Model"
   ]
  },
  {
   "cell_type": "markdown",
   "metadata": {},
   "source": [
    "**<font color='blue'>\n",
    "Reference material: Dingman 3rd ed., p.471-77\n",
    "</font>**"
   ]
  },
  {
   "cell_type": "markdown",
   "metadata": {},
   "source": [
    "**Preliminary question:** What is the Linear-Reservoir Model and what is it used for? "
   ]
  },
  {
   "cell_type": "markdown",
   "metadata": {},
   "source": [
    "**Theory**\n",
    "\n",
    "The discharge $q^*$ at time $t$ is defined as follows\n",
    "\n",
    "$$q^*(t) =\n",
    "\\begin{cases}\n",
    "p^* \\cdot (1- \\exp(-t/T^*)), & \\quad t \\leq T_{p}\\\\\n",
    "q_{pk}^* \\cdot \\exp(-(t-T_{p})/T^*), & \\quad t \\geq T_{p}\\\\\n",
    "\\end{cases}$$\n",
    "\n",
    "where\n",
    "\n",
    " $q^*$ discharge \t[L T<sup>-3</sup>] or [L T<sup>-1</sup>] <br />\n",
    " $q_{pk}^*$ peak discharge \t[L T<sup>-3</sup>] or [L T<sup>-1</sup>] <br />\n",
    " $p^*$ efficient precipitation rate\t [L T<sup>-3</sup>] or [L T<sup>-1</sup>] <br />\n",
    " $t$ time <br />\n",
    " $T_{p}$ input duration <br />\n",
    " $T^*$ response time <br />\n",
    "   \n",
    "**<font color='blue'>\n",
    "See also Dingman 3rd ed., p.472, Box 10.3; p.505, equation 10.52\n",
    "</font>**"
   ]
  },
  {
   "cell_type": "markdown",
   "metadata": {},
   "source": [
    "a) Use the Linear-Reservoir Model to calculate the discharge in response to these inputs: $p^*$, $T^*$. \n",
    "Plot the first 20 hours of discharge at half-hour resolution with the following values:\n",
    "\n",
    " _i)_\t$p^*$ = 1 unit/hour, $T^*$ = 1 hour, $T_{p}$ = 5 hours <br />\n",
    " _ii)_\t$p^*$ = 1 unit/hour, $T^*$ = 2 hours, $T_{p}$ = 5 hours\n",
    "\n",
    "Is 20 hours enough to describe the whole event? How can one interpret $T^*$?"
   ]
  },
  {
   "cell_type": "markdown",
   "metadata": {},
   "source": [
    "<font color='green'>\n",
    "\n",
    "**_A few hints to implement the Linear-Reservoir Model_** <br />\n",
    "<br />\n",
    "What we know: <br />\n",
    "<br />\n",
    " $dt$ = 0.5 hours model timestep <br />\n",
    " $T$ = 20 hours length at which the model is to be run <br />\n",
    "<br />\n",
    "What we need to calculate: <br />\n",
    " $N = T/dt + 1$ total number of timesteps at which the model is to be run <br />\n",
    "<br />\n",
    "Steps: <br />\n",
    "- Definition of a time vector $t$ of dimension $N$ <br />\n",
    "- Loop on time vector <br />\n",
    "- Conditional loops on time vector to calculate discharge $q^*(t)$\n",
    "\n",
    "</font>"
   ]
  },
  {
   "cell_type": "markdown",
   "metadata": {},
   "source": [
    "b) Now do the same exercise with different values for $q_{pk}^*$, to see how the discharge in the Linear-Reservoir Model responds to different parameters. Choose three values of $q_{pk}^*$ (justify the choice) and show three figures with two curves each ($T^*$ = 1 and $T^*$ = 2). Comment your findings."
   ]
  },
  {
   "cell_type": "markdown",
   "metadata": {},
   "source": [
    "c) Determine the time when discharge as a response to the input ends in setting _i)_ $T^*$ = 1."
   ]
  },
  {
   "cell_type": "markdown",
   "metadata": {},
   "source": [
    "## Exercise 10.2: The Unit Hydrograph"
   ]
  },
  {
   "cell_type": "markdown",
   "metadata": {},
   "source": [
    "**<font color='blue'>\n",
    "Reference material: Dingman 3rd ed., p.521-29\n",
    "</font>**"
   ]
  },
  {
   "cell_type": "markdown",
   "metadata": {},
   "source": [
    "**Preliminary question:** What is the Linear-Reservoir Model and what is it used for? "
   ]
  },
  {
   "cell_type": "markdown",
   "metadata": {},
   "source": [
    "Note: Abbreviation UH stands for Unity Hydrograph.\n",
    "\n",
    "In this exercise we have two Excel files, *UH.xlsx* and *Baseflow.xlsx*. *UH.xlsx* contains the time [hr] in the UH in column (A2:A12) and the UH [m<sup>3</sup> s<sup>-1</sup>] in column (B2:B12). *Baseflow.xlsx* contains the time [hr] in the baseflow in column (A2:A17) and the baseflow [m<sup>3</sup> s<sup>-1</sup>] in column (B2:B17). "
   ]
  },
  {
   "cell_type": "markdown",
   "metadata": {},
   "source": [
    "a) Read the data from the Excel files into list and give them meaningful names. Then convert the lists to numpy arrays for numerical manipulations."
   ]
  },
  {
   "cell_type": "code",
   "execution_count": 2,
   "metadata": {
    "collapsed": true
   },
   "outputs": [],
   "source": [
    "#These import statements is all you need to solve the exercise.\n",
    "from openpyxl import *\n",
    "import numpy as np\n",
    "%matplotlib inline\n",
    "import matplotlib\n",
    "import matplotlib.pyplot as plt\n",
    "\n",
    "matplotlib.rcParams['figure.figsize'] = (10.0, 8.0) #Set size of inline plot\n",
    "\n",
    "#a) "
   ]
  },
  {
   "cell_type": "markdown",
   "metadata": {},
   "source": [
    "b) Rainfall amounts are provided for three periods of 3 hours each. Assume 20mm rain infiltrates the ground in each of these periods. Calculate the effective input for each period. Then calculate the discharge every 3 hours up to 42 hours after the start of the following rainfall periods \n",
    "\n",
    " Period 1: 30mm rainfall between 0600-0900  <br />\n",
    " Period 2: 45mm rainfall between 0900-1200  <br />\n",
    " Period 3: 50mm rainfall between 1800-2100  <br />\n",
    "\n",
    "Let our time series be represented by the baseflow series and treat each rainfall period individually using the UH."
   ]
  },
  {
   "cell_type": "code",
   "execution_count": 3,
   "metadata": {
    "collapsed": true
   },
   "outputs": [],
   "source": [
    "#b)"
   ]
  },
  {
   "cell_type": "markdown",
   "metadata": {},
   "source": [
    "c) Find the indices $s_1, s_2$ and $s_3$ corresponding to the starting time of each rainfall period in the time vector.\n",
    "Use the indices to synchronize the discharge vector of each period with the baseflow values. Compute both the event flow and the total flow (i.e. total discharge). <br />\n",
    "<br />\n",
    "<font color='green'>\n",
    "Note that each hydrograph vector has size(UH,1) entries, i.e. [size(UH,1)-1] 3 hour periods. \n",
    "</font>"
   ]
  },
  {
   "cell_type": "code",
   "execution_count": 4,
   "metadata": {
    "collapsed": true
   },
   "outputs": [],
   "source": [
    "#c)"
   ]
  },
  {
   "cell_type": "markdown",
   "metadata": {},
   "source": [
    "d) Finally plot the results, with the discharge from the 10mm, 25mm and 30mm, hydrographs the baseflow, the event flow and the total discharge. Try to make the plot intelligible in the sense that you include axis labels, title and legends."
   ]
  },
  {
   "cell_type": "code",
   "execution_count": null,
   "metadata": {
    "collapsed": true
   },
   "outputs": [],
   "source": [
    "#d) "
   ]
  }
 ],
 "metadata": {
  "anaconda-cloud": {},
  "kernelspec": {
   "display_name": "Python [conda root]",
   "language": "python",
   "name": "conda-root-py"
  },
  "language_info": {
   "codemirror_mode": {
    "name": "ipython",
    "version": 2
   },
   "file_extension": ".py",
   "mimetype": "text/x-python",
   "name": "python",
   "nbconvert_exporter": "python",
   "pygments_lexer": "ipython2",
   "version": "2.7.12"
  }
 },
 "nbformat": 4,
 "nbformat_minor": 0
}
