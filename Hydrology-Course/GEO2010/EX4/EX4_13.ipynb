{
 "cells": [
  {
   "cell_type": "markdown",
   "metadata": {},
   "source": [
    "<h1 align=\"center\">Surface Hydrology</h1>\n",
    "<h2 align=\"center\">GEO2010 Spring 2017</h2>\n",
    "<h3 align = \"center\" > Exercise 4 </h3>\n",
    "\n",
    "#### Date: 2017/02/22\n",
    "\n",
    "Bikas C. Bhattarai, UiO\n"
   ]
  },
  {
   "cell_type": "markdown",
   "metadata": {},
   "source": [
    "**Ojectives:**\n",
    "\n",
    "    To introduce different methods to estimate missing rainfall over a station.\n",
    "    To calculate evaporation by different methods.\n",
    "    "
   ]
  },
  {
   "cell_type": "markdown",
   "metadata": {},
   "source": [
    "### Background\n",
    "\n",
    "Some precipitation stations may have short breaks in the records because of absence of the observer or because of instrumental failures. It is often necessary to estimate this missing record. The missing precipitation of a station is estimated from the observations of precipitation at some other stations as close to and as evenly spaced around the station with the missing record as possible. The station whose data is missing is called interpolation station and gauging stations whose data are used to calculate the missing station data are called index stations.\n",
    "\n",
    "**There are two methods for estimation of missing data.**\n",
    "\n",
    "Arithmetic Mean Method\n",
    "\n",
    "Normal Ratio Method"
   ]
  },
  {
   "cell_type": "markdown",
   "metadata": {},
   "source": [
    "**Normal ratio method: **\n",
    "\n",
    "### $R_A = \\frac{1}{3}\\left [ \\frac{M_A}{M_X}R_X + \\frac{M_A}{M_Y}R_Y+\\frac{M_A}{M_Z}R_Z \\right ]$\n",
    "\n",
    "where,  $R_X , R_Y,  R_Z,$ are the annual rainfall of station X,Y, Z during the time of missing rainfall at station 'A'.  $M_A, M_X, M_Y and M_Z$ are the annual average rainfall at respective station A, X, Y and Z.\n",
    "\n",
    "\n",
    "**Station average method (Arithmetic average method):**\n",
    "\n",
    "$R_A = \\frac{1}{n}\\sum_{i=1}^{n}R_i$\n",
    "\n",
    "\n",
    "Spatial interpolation of rainfall can be done by Inverse distance weighting (IDW) method. Detail equation is given in your text book(equation 4.20, Dingman, page 167).\n",
    "\n",
    "\n",
    "**Inverse-distance weighting method (IDW)**\n",
    "\n",
    "$R_A = \\frac{\\sum W_i R_i}{\\sum W_i}$\n",
    "\n",
    "where i = { X, Y, Z...}\n",
    "\n",
    "$W = \\frac{1}{d^2}$\n",
    "\n",
    "where d is the distance between the station with known and unknown precipitation.\n"
   ]
  },
  {
   "cell_type": "code",
   "execution_count": null,
   "metadata": {
    "collapsed": true
   },
   "outputs": [],
   "source": []
  },
  {
   "cell_type": "markdown",
   "metadata": {},
   "source": [
    "**Training exercise: 4.1**\n",
    "\n",
    "Estimate  the missing rainfall by station average method and Normal-ratio method at the station A from the data given in table below:\n",
    "\n",
    "|Station|A|X|Y|Z|\n",
    "|---|---|----|---|----|\n",
    "|Annual rainfall in 2000 (mm)|?|126|162|155|\n",
    "|Annual average rainfall (mm)|1550|1690|1420|1477|"
   ]
  },
  {
   "cell_type": "code",
   "execution_count": null,
   "metadata": {
    "collapsed": false
   },
   "outputs": [],
   "source": []
  },
  {
   "cell_type": "markdown",
   "metadata": {},
   "source": [
    "**Training exercise: 4.2**\n",
    "\n",
    "\n",
    "The annual average rainfall of four stations X, Y, Z and T in a drainage basin is 1523, 1425, 1362, 1722 mm respectively. In a particular year, station T does not function and the rainfall figure of X, Y, Z was 1630, 1421 and 1200 mm respectively. If the distance from station T to X, Y and Z are 10, 20, 17 km respectively then compute the missing rainfall at station T by station average, Normal ratio method and Inverse-distance weighting method. Give some general comments on your finding."
   ]
  },
  {
   "cell_type": "code",
   "execution_count": null,
   "metadata": {
    "collapsed": true
   },
   "outputs": [],
   "source": []
  },
  {
   "cell_type": "markdown",
   "metadata": {
    "collapsed": true
   },
   "source": [
    "**4.3 With reference to question 4.2, interpolate rainfall at station T by IDW method.**"
   ]
  },
  {
   "cell_type": "code",
   "execution_count": null,
   "metadata": {
    "collapsed": true
   },
   "outputs": [],
   "source": []
  },
  {
   "cell_type": "markdown",
   "metadata": {},
   "source": [
    "**4.3 Linacre (1977) has derived a simple formula for estimating evaporation rates in various climates using mean monthly temperature in celsius (T), site elevation in meter (h), latitude in degree (L) and mean dew point temp in celsius (Td).**\n",
    "\n",
    "## $E = \\frac{\\frac{700 (T +0.006 \\times h)}{100 -L} + 15 (T-Td)}{(80-T)}$\n",
    "\n",
    "Calculate the monthly evaporation rate for the station A by using the provided data.[Latitude = 28.20 degree, Elevation = 806 m asl]"
   ]
  },
  {
   "cell_type": "code",
   "execution_count": null,
   "metadata": {
    "collapsed": true
   },
   "outputs": [],
   "source": []
  },
  {
   "cell_type": "markdown",
   "metadata": {},
   "source": [
    "## Obligatory exercise 4\n",
    "\n",
    "\n",
    "Use equation 1.21, pp22 in Dingman $(μ_{ET}= μ_P- μ_Q)$ and  estimated the evapotranspiration for the following stations. Make a single Plot (bar plot) for calculated evaporation, precipitation and discharge. [Dats is given in file 'elvdata.xlsx']\n",
    "\n",
    "*[Hint: Start by calculating the specific discharge (mm/year), by dividing by the catchment area. The specific discharge has the unit mm/year in stead of m3/year, and is useful when we want to compare the discharge from catchments with different areas.]*"
   ]
  },
  {
   "cell_type": "markdown",
   "metadata": {},
   "source": [
    "|Station|connecticut River, USA| Yukon River, Canada| Eupharates River, Iraq|Sæternbekken, Bærum, Norway\n",
    "|--|-------------------------------|-------|------|---|\n",
    "|catchment Area (km2) |20370|932400|261100|6.23|\n",
    "|Precipitation (mm/year) |1100|570|300|900|\n",
    "|Discharge (m3/s)|386|5100|911|0.11|"
   ]
  },
  {
   "cell_type": "code",
   "execution_count": null,
   "metadata": {
    "collapsed": true
   },
   "outputs": [],
   "source": []
  }
 ],
 "metadata": {
  "anaconda-cloud": {},
  "kernelspec": {
   "display_name": "Python 3",
   "language": "python",
   "name": "python3"
  },
  "language_info": {
   "codemirror_mode": {
    "name": "ipython",
    "version": 3
   },
   "file_extension": ".py",
   "mimetype": "text/x-python",
   "name": "python",
   "nbconvert_exporter": "python",
   "pygments_lexer": "ipython3",
   "version": "3.5.2"
  }
 },
 "nbformat": 4,
 "nbformat_minor": 0
}
