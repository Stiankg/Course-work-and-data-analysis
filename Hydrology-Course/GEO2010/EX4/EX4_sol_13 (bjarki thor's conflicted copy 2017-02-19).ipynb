{
 "cells": [
  {
   "cell_type": "markdown",
   "metadata": {},
   "source": [
    "<h1 align=\"center\">Surface Hydrology</h1>\n",
    "<h2 align=\"center\">GEO2010 Spring 2017</h2>\n",
    "<h3 align = \"center\" > Exercise 4 </h3>\n",
    "\n",
    "#### Date: 2017/02/22\n",
    "Author: Bikas Chandra Bhattarai, University of Oslo"
   ]
  },
  {
   "cell_type": "markdown",
   "metadata": {},
   "source": [
    "**Ojectives:**\n",
    "\n",
    "    To introduce different methods to estimate missing rainfall over a station.\n",
    "    To calculate evaporation by different methods."
   ]
  },
  {
   "cell_type": "markdown",
   "metadata": {},
   "source": [
    "### Background\n",
    "\n",
    "Some precipitation stations may have short breaks in the records because of absence of the observer or because of instrumental failures. It is often necessary to estimate this missing record. The missing precipitation of a station is estimated from the observations of precipitation at some other stations as close to and as evenly spaced around the station with the missing record as possible. The station whose data is missing is called interpolation station and gauging stations whose data are used to calculate the missing station data are called index stations.\n",
    "\n",
    "**There are two methods for estimation of missing data.**\n",
    "\n",
    "Arithmetic Mean Method\n",
    "\n",
    "Normal Ratio Method"
   ]
  },
  {
   "cell_type": "markdown",
   "metadata": {},
   "source": [
    "**Normal ratio method: **\n",
    "\n",
    "### $R_A = \\frac{1}{3}\\left [ \\frac{M_A}{M_X}R_X + \\frac{M_A}{M_Y}R_Y+\\frac{M_A}{M_Z}R_Z \\right ]$\n",
    "\n",
    "where,  $R_X , R_Y,  R_Z,$ are the annual rainfall of station X,Y, Z during the time of missing rainfall at station 'A'.  $M_A, M_X, M_Y and M_Z$ are the annual average rainfall at respective station A, X, Y and Z.\n",
    "\n",
    "\n",
    "**Station average method (Arithmetic average method):**\n",
    "\n",
    "$R_A = \\frac{1}{n}\\sum_{i=1}^{n}R_i$\n",
    "\n",
    "\n",
    "Spatial interpolation of rainfall can be done by Inverse distance weighting (IDW) method. Detail equation is given in your text book(equation 4.20, Dingman, page 167).\n",
    "\n",
    "\n",
    "**Inverse-distance weighting method**\n",
    "\n",
    "$R_A = \\frac{\\sum W_i R_i}{\\sum W_i}$\n",
    "\n",
    "where i = { X, Y, Z...}\n",
    "\n",
    "$W = \\frac{1}{d^2}$\n",
    "\n",
    "where d is the distance between the station with known and unknown precipitation.\n"
   ]
  },
  {
   "cell_type": "markdown",
   "metadata": {
    "collapsed": false
   },
   "source": [
    "**Training exercise: 1**\n",
    "\n",
    "Estimate  the missing rainfall by station average method and Normal-ratio method at the station A from the data given in table below:\n",
    "\n",
    "|Station|A|X|Y|Z|\n",
    "|---|---|----|---|----|\n",
    "|Annual rainfall in 2000 (mm)|?|126|162|155|\n",
    "|Annual average rainfall (mm)|1550|1690|1420|1477|"
   ]
  },
  {
   "cell_type": "code",
   "execution_count": 1,
   "metadata": {
    "collapsed": true
   },
   "outputs": [],
   "source": [
    "% matplotlib inline\n",
    "from openpyxl import load_workbook\n",
    "import matplotlib\n",
    "import matplotlib.pyplot as plt\n",
    "import numpy as np\n",
    "import pandas as pd"
   ]
  },
  {
   "cell_type": "code",
   "execution_count": 2,
   "metadata": {
    "collapsed": false
   },
   "outputs": [],
   "source": [
    "# Annual rainfall in 2000 [mm]\n",
    "R_X = 126.\n",
    "R_Y = 162.\n",
    "R_Z = 155.\n",
    "\n",
    "n = 3  # Number of stations\n",
    "\n",
    "# Annual avarage rainfall [mm]\n",
    "M_A = 1550\n",
    "M_X = 1690\n",
    "M_Y = 1420\n",
    "M_Z = 1477"
   ]
  },
  {
   "cell_type": "code",
   "execution_count": 3,
   "metadata": {
    "collapsed": false
   },
   "outputs": [
    {
     "data": {
      "text/plain": [
       "148"
      ]
     },
     "execution_count": 3,
     "metadata": {},
     "output_type": "execute_result"
    }
   ],
   "source": [
    "# Station average method:\n",
    "R_A1 = round((R_X+R_Y+R_Z)/n)\n",
    "R_A1"
   ]
  },
  {
   "cell_type": "code",
   "execution_count": 4,
   "metadata": {
    "collapsed": false
   },
   "outputs": [
    {
     "data": {
      "text/plain": [
       "152"
      ]
     },
     "execution_count": 4,
     "metadata": {},
     "output_type": "execute_result"
    }
   ],
   "source": [
    "# Normal-ratio method:\n",
    "R_A2 = round((M_A/n)*(R_X/M_X + R_Y/M_Y + R_Z/M_Z))\n",
    "R_A2"
   ]
  },
  {
   "cell_type": "markdown",
   "metadata": {},
   "source": [
    "**Training exercise: 4.2**\n",
    "\n",
    "The annual average rainfall of four stations X, Y, Z and T in a drainage basin is 1523, 1425, 1362, 1722 mm respectively. In a particular year, station T does not function and the rainfall figure of X, Y, Z was 1630, 1421 and 1200 mm respectively. If the distance from station T to X, Y and Z are 10, 20, 17 km respectively then compute the missing rainfall at station T by station average and  Normal ratio method. Give some general comments on your finding."
   ]
  },
  {
   "cell_type": "code",
   "execution_count": 5,
   "metadata": {
    "collapsed": true
   },
   "outputs": [],
   "source": [
    "# Annual avarage rainfall [mm]:\n",
    "M_X = 1523.\n",
    "M_Y = 1425.\n",
    "M_Z = 1362.\n",
    "M_T = 1722.\n",
    "\n",
    "n = 3  # Number of stations\n",
    "\n",
    "# Annual rainfall a particualar year [mm]:\n",
    "R_X = 1630.\n",
    "R_Y = 1421.\n",
    "R_Z = 1200.\n",
    "\n",
    "# Distance from station T [km]:\n",
    "X = 10.\n",
    "Y = 20.\n",
    "Z = 17."
   ]
  },
  {
   "cell_type": "code",
   "execution_count": 6,
   "metadata": {
    "collapsed": false
   },
   "outputs": [
    {
     "data": {
      "text/plain": [
       "1417.0"
      ]
     },
     "execution_count": 6,
     "metadata": {},
     "output_type": "execute_result"
    }
   ],
   "source": [
    "# Average method:\n",
    "R_T = (R_X + R_Y + R_Z)/n\n",
    "R_T"
   ]
  },
  {
   "cell_type": "code",
   "execution_count": 7,
   "metadata": {
    "collapsed": false
   },
   "outputs": [
    {
     "data": {
      "text/plain": [
       "1692"
      ]
     },
     "execution_count": 7,
     "metadata": {},
     "output_type": "execute_result"
    }
   ],
   "source": [
    "# Normal-ratio method:\n",
    "R_T = round((M_T/n)*(R_X/M_X + R_Y/M_Y + R_Z/M_Z))\n",
    "R_T"
   ]
  },
  {
   "cell_type": "markdown",
   "metadata": {},
   "source": [
    "**4.3 With reference to question 4.2, interpolate rainfall at station T by IDW method.**"
   ]
  },
  {
   "cell_type": "code",
   "execution_count": 8,
   "metadata": {
    "collapsed": false
   },
   "outputs": [
    {
     "data": {
      "text/plain": [
       "1504"
      ]
     },
     "execution_count": 8,
     "metadata": {},
     "output_type": "execute_result"
    }
   ],
   "source": [
    "# Inverse-distance weighting method:\n",
    "W_X = 1/(X**2)\n",
    "W_Y = 1/(Y**2)\n",
    "W_Z = 1/(Z**2)\n",
    "\n",
    "R_T = round((W_X*R_X + W_Y*R_Y + W_Z*R_Z)/(W_X + W_Y + W_Z))\n",
    "R_T"
   ]
  },
  {
   "cell_type": "markdown",
   "metadata": {},
   "source": [
    "The rainfall at station T could be 1417, 1504 or 1692 mm depending on what method we use."
   ]
  },
  {
   "cell_type": "code",
   "execution_count": null,
   "metadata": {
    "collapsed": true
   },
   "outputs": [],
   "source": []
  },
  {
   "cell_type": "markdown",
   "metadata": {
    "collapsed": true
   },
   "source": [
    "**4.4 Linacre (1977) has derived a simple formula for estimating evaporation rates in various climates using mean monthly temperature in celsius (T), site elevation in meter (h), latitude in degree (L) and mean dew point temp in celsius (Td).**\n",
    "\n",
    "## $E = \\frac{\\frac{700 (T +0.006 \\times h)}{100 -L} + 15 (T-Td)}{(80-T)}$\n",
    "\n",
    "Calculate the monthly evaporation rate for the station A by using the provided data.[Latitude = 28.20 degree, Elevation = 806 m asl]"
   ]
  },
  {
   "cell_type": "code",
   "execution_count": 9,
   "metadata": {
    "collapsed": true
   },
   "outputs": [],
   "source": [
    "data = pd.read_table('station_A.csv',sep = ',',index_col= 0,  parse_dates=True)"
   ]
  },
  {
   "cell_type": "code",
   "execution_count": 10,
   "metadata": {
    "collapsed": false
   },
   "outputs": [],
   "source": [
    "mon_data = data.resample('m').mean()\n",
    "Td = mon_data['d2m'] - 273.15\n",
    "T = mon_data['t2m'] - 273.15\n",
    "L = 28.20\n",
    "h = 806"
   ]
  },
  {
   "cell_type": "code",
   "execution_count": 11,
   "metadata": {
    "collapsed": false
   },
   "outputs": [
    {
     "data": {
      "image/png": "[encoded data removed]",
      "text/plain": [
       "<matplotlib.figure.Figure at 0x7f250f8241d0>"
      ]
     },
     "metadata": {},
     "output_type": "display_data"
    }
   ],
   "source": [
    "Ev_mon = ((700*(T+0.006*h)/(100-28.20))+15*(T-Td))/(80+T)\n",
    "Ev_mon.plot()\n",
    "plt.ylabel('Monthly evaporation rate mm/month')\n",
    "plt.xlabel('Year')\n",
    "plt.title('Monthly Evaporation rate by using Linacre (1997)')\n",
    "plt.show()"
   ]
  },
  {
   "cell_type": "markdown",
   "metadata": {},
   "source": [
    "## Obligatory exercise 4\n",
    "\n",
    "\n",
    "Use equation 1.21, pp22 in Dingman $(μ_{ET}= μ_P- μ_Q)$ and  estimated the evapotranspiration for the following stations. Make a single Plot (bar plot) for calculated evaporation, precipitation and discharge. [Dats is given in file 'elvdata.xlsx']\n",
    "\n",
    "*[Hint: Start by calculating the specific discharge (mm/year), by dividing by the catchment area. The specific discharge has the unit mm/year in stead of m3/year, and is useful when we want to compare the discharge from catchments with different areas.]*"
   ]
  },
  {
   "cell_type": "markdown",
   "metadata": {},
   "source": [
    "|Station|connecticut River, USA| Yukon River, Canada| Eupharates River, Iraq|Sæternbekken, Bærum, Norway\n",
    "|--|-------------------------------|-------|------|---|\n",
    "|catchment Area (km2) |20370|932400|261100|6.23|\n",
    "|Precipitation (mm/year) |1100|570|300|900|\n",
    "|Discharge (m3/s)|386|5100|911|0.11|"
   ]
  },
  {
   "cell_type": "code",
   "execution_count": 12,
   "metadata": {
    "collapsed": false
   },
   "outputs": [
    {
     "name": "stderr",
     "output_type": "stream",
     "text": [
      "/usr/local/lib/python3.5/dist-packages/openpyxl/worksheet/worksheet.py:495: UserWarning: Using a range string is deprecated. Use ws[range_string]\n",
      "  warn(\"Using a range string is deprecated. Use ws[range_string]\")\n"
     ]
    }
   ],
   "source": [
    "\n",
    "# Importing data from the excel file\n",
    "wb = load_workbook(filename = 'elvdata.xlsx')\n",
    "sheet_names = wb.get_sheet_names()\n",
    "ws = wb.get_sheet_by_name(sheet_names[0])\n",
    "# Converting the data into lists\n",
    "rivers = [cell.value for row in ws.iter_rows('B1:E1') for cell in row]\n",
    "A = [float(cell.value) for row in ws.iter_rows('B2:E2') for cell in row]\n",
    "# [km2]\n",
    "p = [float(cell.value) for row in ws.iter_rows('B3:E3') for cell in row]\n",
    "# [mm/year]\n",
    "Q = [float(cell.value) for row in ws.iter_rows('B4:E4') for cell in row]\n",
    "#[m3/s]"
   ]
  },
  {
   "cell_type": "code",
   "execution_count": 13,
   "metadata": {
    "collapsed": true
   },
   "outputs": [],
   "source": [
    "# Converting list into numerical data\n",
    "A = np.array(A)\n",
    "p = np.array(p)\n",
    "Q = np.array(Q)"
   ]
  },
  {
   "cell_type": "code",
   "execution_count": 17,
   "metadata": {
    "collapsed": false
   },
   "outputs": [],
   "source": [
    "# Converting the units\n",
    "A = A*1e6\n",
    "q = Q/A\n",
    "q = q*1e3*60*60*24*365\n",
    "# [m2]\n",
    "# [m/s]\n",
    "# [mm/year]\n",
    "ET = p-q\n",
    "# evapotranspiration [mm/year]\n",
    "ET = np.around(np.divide(ET,100))*100"
   ]
  },
  {
   "cell_type": "code",
   "execution_count": 15,
   "metadata": {
    "collapsed": false
   },
   "outputs": [
    {
     "data": {
      "image/png": "[encoded data removed]",
      "text/plain": [
       "<matplotlib.figure.Figure at 0x7f25092cc128>"
      ]
     },
     "metadata": {},
     "output_type": "display_data"
    }
   ],
   "source": [
    "## Making plot\n",
    "\n",
    "# Fixing the figure size\n",
    "matplotlib.rcParams['figure.figsize'] = (8.0,6.6)\n",
    "n_groups = 4\n",
    "# Rounding the numbers\n",
    "q = np.around(q)\n",
    "p = np.around(p)\n",
    "ET = np.around(ET)\n",
    "fig, ax = plt.subplots()\n",
    "# making a plot with subplots\n",
    "index = np.arange(n_groups)\n",
    "bar_width = 0.3\n",
    "# setting the width\n",
    "# Plotting the different subplots\n",
    "rects1 = plt.bar(index, q, bar_width, alpha = 0.8, color = 'b', label = 'Runoff, q')\n",
    "rects2 = plt.bar(index+bar_width, p, bar_width, alpha = 0.8, color = 'r',label = 'Precipitation, p')\n",
    "rects3 = plt.bar(index+2*bar_width, ET, bar_width, alpha = 0.8, color ='g', label = 'Evapotranspiration, ET')\n",
    "# Giving names and size to title, legends and axis\n",
    "plt.ylabel('[mm/year]',fontsize = 12)\n",
    "# y axis\n",
    "plt.title('Water Balance Calculations',fontsize = 16)\n",
    "# title\n",
    "plt.xticks(index+1.5*bar_width, (rivers[0],rivers[1],rivers[2],rivers[3]))\n",
    "# x axis\n",
    "plt.legend()\n",
    "# legends\n",
    "plt.tight_layout()\n",
    "plt.show()"
   ]
  },
  {
   "cell_type": "code",
   "execution_count": null,
   "metadata": {
    "collapsed": true
   },
   "outputs": [],
   "source": []
  }
 ],
 "metadata": {
  "kernelspec": {
   "display_name": "Python 3",
   "language": "python",
   "name": "python3"
  },
  "language_info": {
   "codemirror_mode": {
    "name": "ipython",
    "version": 3
   },
   "file_extension": ".py",
   "mimetype": "text/x-python",
   "name": "python",
   "nbconvert_exporter": "python",
   "pygments_lexer": "ipython3",
   "version": "3.5.2"
  }
 },
 "nbformat": 4,
 "nbformat_minor": 0
}
