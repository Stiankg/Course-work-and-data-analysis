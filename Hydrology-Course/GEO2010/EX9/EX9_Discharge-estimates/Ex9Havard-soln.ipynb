{
 "cells": [
  {
   "cell_type": "markdown",
   "metadata": {},
   "source": [
    "# Exercise 9 GEO2010 - Discharge Estimates and Flow Duration Curve"
   ]
  },
  {
   "cell_type": "markdown",
   "metadata": {},
   "source": [
    "## Exercise 9.1: Rating curve measured at Bergheim in 2010 and 2011"
   ]
  },
  {
   "cell_type": "markdown",
   "metadata": {},
   "source": [
    "**<font color='blue'>\n",
    "Reference material: Dingman 3rd ed., p.589-94, Appendix E.6\n",
    "</font>**"
   ]
  },
  {
   "cell_type": "markdown",
   "metadata": {},
   "source": [
    "**Theory**\n",
    "\n",
    "A rating curve describes the relationship between discharge and water stage. When the water stage is high, the discharge is high. When the water stage is 0, the discharge is 0. Therefore, the rating curve starts at the point (0,0). \n",
    "\n",
    "The rating curve is made by measuring water flow and water stages at the same point in time. This happens maybe once a year, so it takes a long time to accumulate many points to the curve. When the curve has some points (more than 3, and preferably more than 10) a curve fitted to the points is made. \n",
    "\n",
    "This curve is given by the formula\n",
    "\n",
    "$$Q = a \\cdot H^b$$\n",
    "\n",
    "where \n",
    "\n",
    " $Q$discharge [m<sup>3</sup> s<sup>-1</sup>] (plotted on the ordinate) <br />\n",
    " $H$ water stage [m] (plotted on the abscissa) <br />\n",
    " $a,b$ constants\n",
    "\n",
    "**<font color='blue'>\n",
    "See also Dingman 3rd ed., p.592, equation E.17\n",
    "</font>**\n",
    "\n",
    "You will have to plot the rating curve by using the H-values and calculate the corresponding Q-values. Then you will have to plot the discharge and water stages that were measured. Finally, you will need to check whether the data fits the curve.\n",
    "\n",
    "Next problem is the water stage, which can be expressed in absolute height (i.e. in terms of altitude [m]). However, we are interested in local water stages. To find this you must subtract the leveling point from the water stages. You have to subtract this number from all the measurements of local water stages before plotting. \n"
   ]
  },
  {
   "cell_type": "markdown",
   "metadata": {},
   "source": [
    "**Exercise**\n",
    "\n",
    "NVE performs annual controls at their discharge gauging stations. The control consists of three parts: leveling, discharge measurement and flushing the cistern between the river and the stilling well. A technician made discharge measurements at Bergheim, and provided the following results: \n",
    "\n",
    " The measured discharge was 189.3 m<sup>3</sup> s<sup>-1</sup> in 2010 and 56 m<sup>3</sup> s<sup>-1</sup> in 2011. <br />\n",
    " The measured stage (water level) was 152.47 meters a.s.l. in 2010 and 151.64 meters a.s.l. in 2011."
   ]
  },
  {
   "cell_type": "markdown",
   "metadata": {},
   "source": [
    "a) Describe and justify the location requirements of the measurement site for discharge measurements.\n",
    "\n",
    " **Answers (see page 590 in Dingman):**\n",
    "\n",
    "<span style=\"color:green\"> \n",
    "**Stage $Z$ should be measured where it is sensitive to discharge variation, i.e. where $ dZ_S/dQ$ is relatively large, and where $Z$ can be measured accurately, usually to within 3 mm. These conditions are usually found where the water is relatively quiet, i.e. without a lot of waves. $ dZ_s/dQ$  should be large in order to produce a good resolution of the discharge measurement. IF $ dZ_S/dQ$  is small, it will be difficult to read off changes in discharge from the staff gauge (the ruler-like object used to measure $Z_s$).<span> \n",
    "\n"
   ]
  },
  {
   "cell_type": "markdown",
   "metadata": {},
   "source": [
    "b) Discuss sources of uncertainty when determining extremely small and extremely large discharges.\n",
    "\n",
    "\n",
    "<span style=\"color:green\"> The stage-discharge curve is based on observations made from medium-.heigh flows, because at very low or very high flows, it may be difficult to perform representative measurements. At very low measurements, the stage may be on the same order of magnitude as the resolution of the staff gauge, and at very high outflows, it could be difficult to get to the gauging station, or the water might flow over or around the weir plate. \n",
    "\n",
    "<span style=\"color:green\"> \n",
    "The uncertainty increases when one extrapolates from the range of outflow rates on which the rating curve is based.\n",
    "<span>\n"
   ]
  },
  {
   "cell_type": "markdown",
   "metadata": {},
   "source": [
    "c) Plot the rating curve of Bergheim. Then, plot the data we measured: stage (water level) [m] against the discharge [m<sup>3</sup> s<sup>-1</sup>]. Does the measurement fit the rating curve?\n",
    "\n",
    "At Bergheim, the values of the rating curve parameters are \n",
    "\n",
    " a = 30.7223 <br />\n",
    " b = 2.386 <br />\n",
    " H (local height) = water level [m] (absolute height) - 150.3 m a.s.l. (levelling point)"
   ]
  },
  {
   "cell_type": "code",
   "execution_count": 1,
   "metadata": {
    "collapsed": false
   },
   "outputs": [
    {
     "data": {
      "image/png": "[encoded data removed]",
      "text/plain": [
       "<matplotlib.figure.Figure at 0x7f7fe524a0d0>"
      ]
     },
     "metadata": {},
     "output_type": "display_data"
    }
   ],
   "source": [
    "import numpy as np\n",
    "import matplotlib.pyplot as plt\n",
    "import pylab \n",
    "# Declare constants:\n",
    "a = 30.7223\n",
    "b = 2.386\n",
    "MASL = 150.3\n",
    "\n",
    "# Create an array of stages with length equal to nH:\n",
    "Hmax = 3 # meters\n",
    "Hmin = 0  # meters\n",
    "nH = 50\n",
    "H = np.linspace(Hmin,Hmax,nH)\n",
    "\n",
    "\n",
    "\n",
    "Q2010 = 189.3    #m^3s^-1\n",
    "H2010 = 152.47-MASL    #m\n",
    "\n",
    "Q2011 = 56    #m^3s^-1\n",
    "H2011 = 151.64-MASL    #m\n",
    "\n",
    "Q = a*H**b\n",
    "\n",
    "plt.plot(H,Q,label = 'Calculated rating curve')\n",
    "plt.scatter(H2010,Q2010,c='r',label='Measured in 2010')\n",
    "plt.scatter(H2011,Q2011,c='b',label='Measured in 2011')\n",
    "plt.xlim(0,Hmax)\n",
    "plt.ylim(0,500)\n",
    "plt.xlabel('Stage height, $Z_s, [m]$')\n",
    "plt.ylabel('Discharge, Q [$m^3s^{-1}$]')\n",
    "plt.title('Rating curve for Bergheim')\n",
    "plt.legend(loc='upper left', scatterpoints = 1)\n",
    "plt.show()\n"
   ]
  },
  {
   "cell_type": "markdown",
   "metadata": {},
   "source": [
    "<span style=\"color:green\"> We see that the measurements fit the curve well.<span>\n",
    "\n",
    "\n",
    "\n"
   ]
  },
  {
   "cell_type": "markdown",
   "metadata": {},
   "source": [
    "## Exercise 9.2: Flow calculation with the salt dilution method"
   ]
  },
  {
   "cell_type": "markdown",
   "metadata": {},
   "source": [
    "**<font color='blue'>\n",
    "Reference material: <br />\n",
    " Dingman 3rd ed., p.585-86, Appendix E.4 <br />\n",
    " *Teori_saltmåling.pdf* <br />\n",
    " *salt_dilution_streamline_vol7_no4_art5.pdf* <br />\n",
    "</font>**"
   ]
  },
  {
   "cell_type": "markdown",
   "metadata": {},
   "source": [
    "The exercise text this week is given as an excursion guide to a discharge measurement using the salt dilution method. We are going to make a corresponding measurement on excursion in May. The data in *DataGaustadbekken.xls* is from a measurement performed in Gaustadbekken in Spring 2008.\n",
    "\n",
    "The aim is to estimate the discharge in a small, turbulent stream by measuring the concentration of salt about 100 meters downstream, before and after we added a saline solution. The concentration of salt can be found by measuring the electrical conductivity of water with an electrolyte. The conductivity is proportional to the salt concentration, so the concentration is calculated from the conductivity data.\n",
    "\n",
    "First, we measured the background conductivity in Gaustadbekken, cond<sub>b</sub> = 74 μS cm<sup>-1</sup>. Then we added 2.8 kg of salt to 25 liters of water, so the water got a conductivity cond<sub>T</sub> = 84 000 μS cm<sup>-1</sup>. We ignored the increase in water volume as a result of the added salt. The water temperature was 4.2°C.\n",
    "\n",
    "All the salt was added at the same time into the river (gulp injection), and two students measured the conductivity 100 meters downstream (see Excel sheet). The first 11 measurements were taken every 5 seconds, then every 10 seconds until the conductivity was back to its background value.\n"
   ]
  },
  {
   "cell_type": "markdown",
   "metadata": {},
   "source": [
    "The discharge was then calculated using the formula\n",
    "\n",
    "$$Q = \\frac{(cond_T-cond_b) \\cdot V_T}{\\sum_{0}^{\\infty} \\Delta \\cdot t'}\n",
    "$$\n",
    "\n",
    "where \n",
    "\n",
    "- $Q$ is the discharge [l s<sup>-1</sup>] <br />\n",
    "- $V_T$ is the volume of injected tracer solution [l] <br />\n",
    "- $cond_T$ is the conductivity of the tracer solution [μS cm<sup>-1</sup>] <br />\n",
    "- $cond_b$ is the natural background conductivity of the tracer (i.e. salt) in the solution [μS cm<sup>-1</sup>] <br />\n",
    "- $\\Delta$ is the change in conductivity between conductivity measured at the downstream site at time $t_i$ and background conductivity $cond_b$ [μS cm<sup>-1</sup>] <br />\n",
    "- $t'$ is the  time interval between two succeeding measurements (i.e. $t’$ = $t_i$-$t_{i-1}$)\n",
    "\n",
    "**<font color='blue'>\n",
    "See also Dingman 3rd ed., p.586, equation E.14\n",
    "</font>**"
   ]
  },
  {
   "cell_type": "markdown",
   "metadata": {},
   "source": [
    "a) What is the discharge in l s<sup>-1</sup> ?"
   ]
  },
  {
   "cell_type": "markdown",
   "metadata": {},
   "source": [
    "<span style=\"color:red\">\n",
    "**NB! NB! This is just a sugested solution. The following calculations have not been quality assured. If you get a different result, you may or may not be right.**\n",
    "<span>\n"
   ]
  },
  {
   "cell_type": "code",
   "execution_count": 3,
   "metadata": {
    "collapsed": false
   },
   "outputs": [
    {
     "data": {
      "image/png": "[encoded data removed]",
      "text/plain": [
       "<matplotlib.figure.Figure at 0x7f7fd1711450>"
      ]
     },
     "metadata": {},
     "output_type": "display_data"
    },
    {
     "name": "stdout",
     "output_type": "stream",
     "text": [
      "The discharge is: 526.5 l/s\n"
     ]
    }
   ],
   "source": [
    "import xlrd\n",
    "from openpyxl import *\n",
    "import pandas as pd\n",
    "import numpy as np\n",
    "import matplotlib.pyplot as plt\n",
    "\n",
    "\n",
    "# Read the file:\n",
    "data = xlrd.open_workbook('DataGaustadbekken.xls') \n",
    "# Read the first sheet:\n",
    "ws = data.sheet_by_index(0)\n",
    "\n",
    "tracerCond = ws.cell(4,2).value    \n",
    "tracerVolume = ws.cell(5,2).value\n",
    "\n",
    "# Write a function that reads data from a range of cells \n",
    "#(either I am stupid, or there is no such function in the ordinary libraries):\n",
    "def read_xls_colRange(worksheet, rowStart, rowEnd, col):\n",
    "    \"\"\"\n",
    "    This function reads a range of cells in a column in worksheet.\n",
    "    \"\"\"    \n",
    "    ws = worksheet\n",
    "    #Declare an empty range that we will fill and then return:\n",
    "    cellVal = np.zeros(rowEnd-rowStart+1)\n",
    "    #Set the row range, add 1 to rowEnd because of the configuration\n",
    "    #of the RANGE function\n",
    "    rowRange = range(rowStart,rowEnd+1)\n",
    "    #Read the data:\n",
    "    for row in rowRange:\n",
    "            cellVal[row-rowStart]=ws.cell(row,col).value\n",
    "    return cellVal\n",
    "\n",
    "#Read the data:\n",
    "time = read_xls_colRange(ws,10,25,2)\n",
    "cond = read_xls_colRange(ws,10,25,4)\n",
    "\n",
    "#set the background conductivity:\n",
    "backgroundCond = cond[0]\n",
    "\n",
    "#Plot the conductivity as a function of time:\n",
    "plt.plot(time,cond, label = \"Observed\")\n",
    "#Ad a line with the background:\n",
    "plt.axhline(y=backgroundCond, linestyle ='dashed', \n",
    "            color ='red',label='Background')\n",
    "\n",
    "plt.legend(loc='upper right')\n",
    "plt.title('Observed conductivity during experiment')\n",
    "plt.xlabel('time [s]')\n",
    "plt.ylabel(\"conductivity [${\\mu}S/cm$] \")\n",
    "plt.ylim(0,300)\n",
    "plt.show()\n",
    "\n",
    "#calculate the time steps:\n",
    "delta_time = time[1:]-time[0:-1]\n",
    "#Calculate the difference between the conductivity and the background conductivity:\n",
    "delta_cond = cond-backgroundCond\n",
    "\n",
    "#Integrate the difference in time:\n",
    "cond_integrated = sum(delta_cond[1:]*delta_time)\n",
    "\n",
    "#Calculate the discharge:\n",
    "Q = (tracerCond-backgroundCond)*tracerVolume/cond_integrated\n",
    "print(\"The discharge is: \" + str(np.round(Q,1)) + \" l/s\")"
   ]
  },
  {
   "cell_type": "code",
   "execution_count": null,
   "metadata": {
    "collapsed": true
   },
   "outputs": [],
   "source": []
  }
 ],
 "metadata": {
  "anaconda-cloud": {},
  "kernelspec": {
   "display_name": "Python [conda root]",
   "language": "python",
   "name": "conda-root-py"
  },
  "language_info": {
   "codemirror_mode": {
    "name": "ipython",
    "version": 3
   },
   "file_extension": ".py",
   "mimetype": "text/x-python",
   "name": "python",
   "nbconvert_exporter": "python",
   "pygments_lexer": "ipython3",
   "version": "3.5.2"
  }
 },
 "nbformat": 4,
 "nbformat_minor": 1
}
