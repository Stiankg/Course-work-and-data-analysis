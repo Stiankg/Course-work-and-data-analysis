{
 "cells": [
  {
   "cell_type": "markdown",
   "metadata": {},
   "source": [
    "# Exercise 9 GEO2010 - Discharge Estimates and Flow Duration Curve"
   ]
  },
  {
   "cell_type": "markdown",
   "metadata": {},
   "source": [
    "## Exercise 9.1: Rating curve measured at Bergheim in 2010 and 2011"
   ]
  },
  {
   "cell_type": "markdown",
   "metadata": {},
   "source": [
    "**<font color='blue'>\n",
    "Reference material: Dingman 3rd ed., p.589-94, Appendix E.6\n",
    "</font>**"
   ]
  },
  {
   "cell_type": "markdown",
   "metadata": {},
   "source": [
    "**Theory**\n",
    "\n",
    "A rating curve describes the relationship between discharge and water stage. When the water stage is high, the discharge is high. When the water stage is 0, the discharge is 0. Therefore, the rating curve starts at the point (0,0). \n",
    "\n",
    "The rating curve is made by measuring water flow and water stages at the same point in time. This happens maybe once a year, so it takes a long time to accumulate many points to the curve. When the curve has some points (more than 3, and preferably more than 10) a curve fitted to the points is made. \n",
    "\n",
    "This curve is given by the formula\n",
    "\n",
    "$$Q = a \\cdot H^b$$\n",
    "\n",
    "where \n",
    "\n",
    " $Q$ discharge [m<sup>3</sup> s<sup>-1</sup>] (plotted on the ordinate) <br />\n",
    " $H$ water stage [m] (plotted on the abscissa) <br />\n",
    " $a,b$ constants\n",
    "\n",
    "**<font color='blue'>\n",
    "See also Dingman 3rd ed., p.592, equation E.17\n",
    "</font>**\n",
    "\n",
    "You will have to plot the rating curve by using the H-values and calculate the corresponding Q-values. Then you will have to plot the discharge and water stages that were measured. Finally, you will need to check whether the data fits the curve.\n",
    "\n",
    "Next problem is the water stage, which can be expressed in absolute height (i.e. in terms of altitude [m]). However, we are interested in local water stages. To find this you must subtract the leveling point from the water stages. You have to subtract this number from all the measurements of local water stages before plotting. \n"
   ]
  },
  {
   "cell_type": "markdown",
   "metadata": {},
   "source": [
    "**Exercise**\n",
    "\n",
    "NVE performs annual controls at their discharge gauging stations. The control consists of three parts: leveling, discharge measurement and flushing the cistern between the river and the stilling well. A technician made discharge measurements at Bergheim, and provided the following results: \n",
    "\n",
    " The measured discharge was 189.3 m<sup>3</sup> s<sup>-1</sup> in 2010 and 56 m<sup>3</sup> s<sup>-1</sup> in 2011. <br />\n",
    " The measured stage (water level) was 152.47 meters a.s.l. in 2010 and 151.64 meters a.s.l. in 2011."
   ]
  },
  {
   "cell_type": "markdown",
   "metadata": {},
   "source": [
    "a) Describe and justify the location requirements of the measurement site for discharge measurements."
   ]
  },
  {
   "cell_type": "markdown",
   "metadata": {},
   "source": [
    "b) Discuss sources of uncertainty when determining extremely small and extremely large discharges."
   ]
  },
  {
   "cell_type": "markdown",
   "metadata": {},
   "source": [
    "c) Plot the rating curve of Bergheim. Then, plot the data we measured: stage (water level) [m] against the discharge [m<sup>3</sup> s<sup>-1</sup>]. Does the measurement fit the rating curve?\n",
    "\n",
    "At Bergheim, the values of the rating curve parameters are \n",
    "\n",
    " a = 30.7223 <br />\n",
    " b = 2.386 <br />\n",
    " H (local height) = water level [m] (absolute height) - 150.3 m a.s.l. (levelling point)"
   ]
  },
  {
   "cell_type": "code",
   "execution_count": null,
   "metadata": {
    "collapsed": true
   },
   "outputs": [],
   "source": []
  },
  {
   "cell_type": "markdown",
   "metadata": {},
   "source": [
    "## Exercise 9.2: Flow calculation with the salt dilution method"
   ]
  },
  {
   "cell_type": "markdown",
   "metadata": {},
   "source": [
    "**<font color='blue'>\n",
    "Reference material: <br />\n",
    " Dingman 3rd ed., p.585-86, Appendix E.4 <br />\n",
    " *Teori_saltmåling.pdf* <br />\n",
    " *salt_dilution_streamline_vol7_no4_art5.pdf* <br />\n",
    "</font>**"
   ]
  },
  {
   "cell_type": "markdown",
   "metadata": {},
   "source": [
    "The exercise text this week is given as an excursion guide to a discharge measurement using the salt dilution method. We are going to make a corresponding measurement on excursion in May. The data in *DataGaustadbekken.xls* is from a measurement performed in Gaustadbekken in Spring 2008.\n",
    "\n",
    "The aim is to estimate the discharge in a small, turbulent stream by measuring the concentration of salt about 100 meters downstream, before and after we added a saline solution. The concentration of salt can be found by measuring the electrical conductivity of water with an electrolyte. The conductivity is proportional to the salt concentration, so the concentration is calculated from the conductivity data.\n",
    "\n",
    "First, we measured the background conductivity in Gaustadbekken, cond<sub>b</sub> = 74 μS cm<sup>-1</sup>. Then we added 2.8 kg of salt to 25 liters of water, so the water got a conductivity cond<sub>T</sub> = 84 000 μS cm<sup>-1</sup>. We ignored the increase in water volume as a result of the added salt. The water temperature was 4.2°C.\n",
    "\n",
    "All the salt was added at the same time into the river (gulp injection), and two students measured the conductivity 100 meters downstream (see Excel sheet). The first 11 measurements were taken every 5 seconds, then every 10 seconds until the conductivity was back to its background value.\n"
   ]
  },
  {
   "cell_type": "markdown",
   "metadata": {},
   "source": [
    "The discharge was then calculated using the formula\n",
    "\n",
    "$$Q = \\frac{(cond_T-cond_b) \\cdot V_T}{\\sum_{0}^{\\infty} \\Delta \\cdot t'}\n",
    "$$\n",
    "\n",
    "where \n",
    "\n",
    " $Q$ discharge [l s<sup>-1</sup>] <br />\n",
    " $V_T$ volume of injected tracer solution [l] <br />\n",
    " $cond_T$ conductivity of the tracer solution [μS cm<sup>-1</sup>] <br />\n",
    " $cond_b$ natural background conductivity of the tracer (i.e. salt) in the solution [μS cm<sup>-1</sup>] <br />\n",
    " $\\Delta$ change in conductivity between conductivity measured at the downstream site at time $t_i$ and background conductivity $cond_b$ [μS cm<sup>-1</sup>] <br />\n",
    " $t'$ time interval between two succeeding measurements (i.e. $t’$ = $t_i$-$t_i-1$)\n",
    "\n",
    "**<font color='blue'>\n",
    "See also Dingman 3rd ed., p.586, equation E.14\n",
    "</font>**"
   ]
  },
  {
   "cell_type": "markdown",
   "metadata": {},
   "source": [
    "a) What is the discharge in l s<sup>-1</sup> ?"
   ]
  },
  {
   "cell_type": "code",
   "execution_count": null,
   "metadata": {
    "collapsed": true
   },
   "outputs": [],
   "source": []
  }
 ],
 "metadata": {
  "anaconda-cloud": {},
  "kernelspec": {
   "display_name": "Python [default]",
   "language": "python",
   "name": "python2"
  },
  "language_info": {
   "codemirror_mode": {
    "name": "ipython",
    "version": 2
   },
   "file_extension": ".py",
   "mimetype": "text/x-python",
   "name": "python",
   "nbconvert_exporter": "python",
   "pygments_lexer": "ipython2",
   "version": "2.7.12"
  }
 },
 "nbformat": 4,
 "nbformat_minor": 1
}
