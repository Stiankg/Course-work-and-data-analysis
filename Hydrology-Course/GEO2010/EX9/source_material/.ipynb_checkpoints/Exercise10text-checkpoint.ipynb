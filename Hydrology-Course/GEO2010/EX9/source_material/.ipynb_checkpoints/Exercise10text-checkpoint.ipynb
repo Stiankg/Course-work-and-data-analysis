{
 "cells": [
  {
   "cell_type": "markdown",
   "metadata": {},
   "source": [
    "### Exercise 10: Linear reservoir model."
   ]
  },
  {
   "cell_type": "markdown",
   "metadata": {
    "collapsed": true
   },
   "source": [
    "Let $q(t)$ be defined as follows\n",
    "$$\n",
    "q(t) = \\left\\{\n",
    "        \\begin{array}{ll}\n",
    "            W(1-exp(-t/T_*)) & \\quad  t < t_{pk} \\\\\n",
    "            q_{pk}(1-exp(-(t-t_{pk})/T_*)) & \\quad \\text{otherwise} \\\\\n",
    "        \\end{array}\n",
    "    \\right.\n",
    "$$\n",
    "where $q_{pk} = q(t_{pk})$"
   ]
  },
  {
   "cell_type": "markdown",
   "metadata": {
    "collapsed": true
   },
   "source": [
    "a) Plot the first 20 hours with a half hours resolution with the following parameters: \n",
    "\n",
    "1. $\\Delta t = 0.5$ stepsize\n",
    "2. T = 20 hours to solve for\n",
    "3. N = $\\frac{T}{\\Delta t} + 1$ number of points in the solution\n",
    "4. W = 1 [$\\frac{unit}{hour}$]\n",
    "5. $T_*$ = 1 hour response time\n",
    "6. $t_{pk}$ After 5 hours the precipitation stops, this is the peak time.\n",
    "\n",
    "\n",
    "Is 20 hours enough to describe the entire event?\n"
   ]
  },
  {
   "cell_type": "code",
   "execution_count": 5,
   "metadata": {
    "collapsed": true
   },
   "outputs": [],
   "source": [
    "#a)\n"
   ]
  },
  {
   "cell_type": "markdown",
   "metadata": {},
   "source": [
    "b) Repeat exercise a) with $T_*= 2$ hours."
   ]
  },
  {
   "cell_type": "code",
   "execution_count": 6,
   "metadata": {
    "collapsed": true
   },
   "outputs": [],
   "source": [
    "#b)\n"
   ]
  },
  {
   "cell_type": "markdown",
   "metadata": {},
   "source": [
    "c) Plot the solutions together in the same plot. Try to make youre plot look nice adding axis names, legends and plot title."
   ]
  },
  {
   "cell_type": "code",
   "execution_count": 7,
   "metadata": {
    "collapsed": true
   },
   "outputs": [],
   "source": [
    "#c)\n"
   ]
  },
  {
   "cell_type": "markdown",
   "metadata": {},
   "source": [
    "d) Repeat exercise a) and b) with $W=2$ and $W=0.5$ with the same period of precipitation. Finally make one plot with all the results in one plot."
   ]
  },
  {
   "cell_type": "code",
   "execution_count": 9,
   "metadata": {
    "collapsed": true
   },
   "outputs": [],
   "source": [
    "#d)\n"
   ]
  }
 ],
 "metadata": {
  "anaconda-cloud": {},
  "kernelspec": {
   "display_name": "Python [default]",
   "language": "python",
   "name": "python2"
  },
  "language_info": {
   "codemirror_mode": {
    "name": "ipython",
    "version": 2
   },
   "file_extension": ".py",
   "mimetype": "text/x-python",
   "name": "python",
   "nbconvert_exporter": "python",
   "pygments_lexer": "ipython2",
   "version": "2.7.12"
  }
 },
 "nbformat": 4,
 "nbformat_minor": 0
}
