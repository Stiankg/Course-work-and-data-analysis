{
 "cells": [
  {
   "cell_type": "markdown",
   "metadata": {},
   "source": [
    "# <h3 align=\"center\">  GEO 2010 Surface Hydrology\n",
    "<h3 align=\"center\"> Spring 2017\n",
    "\n",
    "### Exercise 1\n",
    "### Date: 2017-01-16\n",
    "\n",
    "#### Name: xxxx"
   ]
  },
  {
   "cell_type": "markdown",
   "metadata": {
    "collapsed": true
   },
   "source": [
    "The main objectives of this exercise are:\n",
    "    1. Read the data from different file format ( e.g .txt, .csv,.xlsx,.dat ect)\n",
    "    2. data presentation and visualization\n",
    "    3. handling of large datasets\n",
    "    "
   ]
  },
  {
   "cell_type": "markdown",
   "metadata": {
    "collapsed": true
   },
   "source": [
    "#### Software liberary that we are going to use:\n",
    "\n",
    "For data manipulating and analysis: \n",
    "1. Pandas\n",
    "2. Numpy\n",
    "\n",
    "for data visualization:\n",
    "1. matplotlib  (plotting library)"
   ]
  },
  {
   "cell_type": "markdown",
   "metadata": {},
   "source": [
    "## Training exercise"
   ]
  },
  {
   "cell_type": "code",
   "execution_count": 3,
   "metadata": {
    "collapsed": true
   },
   "outputs": [],
   "source": [
    "# Import liberary/ modules\n",
    "%matplotlib inline\n",
    "import pandas as pd\n",
    "import numpy as np\n",
    "import matplotlib.pyplot as plt"
   ]
  },
  {
   "cell_type": "markdown",
   "metadata": {
    "collapsed": true
   },
   "source": [
    "Plot given data (line plot for temperature and discharge, bar plot for precipitation and pi chart for global \n",
    "water distribution)\n",
    "\n",
    "1. precipitation data is given in .txt file\n",
    "2. discharge data with monthly average precipitation is given in .xlsx file\n",
    "3. temperature data is given in .csv file\n",
    "4. global water distribution is given in .csv file"
   ]
  },
  {
   "cell_type": "code",
   "execution_count": 51,
   "metadata": {
    "collapsed": false
   },
   "outputs": [],
   "source": [
    "# plot for temperature\n",
    "# use panda to read data from .csv file\n",
    "temp = pd.read_table('temp.csv',sep = ',')\n"
   ]
  },
  {
   "cell_type": "code",
   "execution_count": null,
   "metadata": {
    "collapsed": true
   },
   "outputs": [],
   "source": [
    "#temp['Date'] = pd.to_datetime(temp['Date'])\n",
    "#plt.plot(temp['Date'],temp['Daily Mean Temperature (oC)'])\n",
    "#plt.xlabel('Years')\n",
    "#plt.ylabel('Daily average temp (0c)')\n",
    "#plt.title('Average daily temperature at Station A')\n",
    "#plt.show()"
   ]
  },
  {
   "cell_type": "code",
   "execution_count": 3,
   "metadata": {
    "collapsed": false
   },
   "outputs": [],
   "source": [
    "#plot for precipitation data\n",
    "data = pd.read_table('filename.csv',sep = ',')"
   ]
  },
  {
   "cell_type": "code",
   "execution_count": 4,
   "metadata": {
    "collapsed": false
   },
   "outputs": [],
   "source": [
    "# discharge plot\n",
    "discharge = pd.ExcelFile('discharge.xlsx')\n",
    "discharge.sheet_names # to show sheet\n",
    "df_dis = discharge.parse(\"sheet name\") # select sheet"
   ]
  },
  {
   "cell_type": "code",
   "execution_count": 5,
   "metadata": {
    "collapsed": false,
    "scrolled": false
   },
   "outputs": [],
   "source": [
    "# plot bar graph for monthly precipitation\n",
    "plt.bar(len(data, data))"
   ]
  },
  {
   "cell_type": "code",
   "execution_count": null,
   "metadata": {
    "collapsed": true
   },
   "outputs": [],
   "source": []
  },
  {
   "cell_type": "markdown",
   "metadata": {
    "collapsed": true
   },
   "source": [
    "# Obligatory exercise -1"
   ]
  },
  {
   "cell_type": "markdown",
   "metadata": {},
   "source": [
    "** Question No. 1: Calculate and plot the monthly average temperature and discharge from the given data and comment \n",
    "on your result.**"
   ]
  },
  {
   "cell_type": "markdown",
   "metadata": {},
   "source": [
    "**Question:2 find out the wetest and warmest month from the given data**"
   ]
  },
  {
   "cell_type": "code",
   "execution_count": null,
   "metadata": {
    "collapsed": true
   },
   "outputs": [],
   "source": []
  }
 ],
 "metadata": {
  "anaconda-cloud": {},
  "kernelspec": {
   "display_name": "Python [Root]",
   "language": "python",
   "name": "Python [Root]"
  },
  "language_info": {
   "codemirror_mode": {
    "name": "ipython",
    "version": 3
   },
   "file_extension": ".py",
   "mimetype": "text/x-python",
   "name": "python",
   "nbconvert_exporter": "python",
   "pygments_lexer": "ipython3",
   "version": "3.5.2"
  }
 },
 "nbformat": 4,
 "nbformat_minor": 0
}
