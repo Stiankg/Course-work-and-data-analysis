{
 "cells": [
  {
   "cell_type": "markdown",
   "metadata": {
    "deletable": true,
    "editable": true
   },
   "source": [
    "<h1 align=\"center\">Surface Hydrology</h1>\n",
    "<h2 align=\"center\">GEO2010 Spring 2017</h2>\n",
    "<h3 align = \"center\" > Exercise 5 </h3>\n",
    "\n",
    "#### Date: 2017/02/20\n",
    "Bikas C. Bhattarai, UiO"
   ]
  },
  {
   "cell_type": "markdown",
   "metadata": {
    "deletable": true,
    "editable": true
   },
   "source": [
    "OBJECTIVES: \n",
    "\n",
    "    (a) to estimate average depth of precipitation using isohyetal and Thiessen polygons methods and to compare the values estimated using different methods\n",
    "    \n",
    "    (b) to calculate optimum number of rain guage station\n",
    " \n",
    "    (c) to become familiar with presentation of precipitation data\n",
    "    \n",
    "    (d) to become familiar with some basic statistical concepts"
   ]
  },
  {
   "cell_type": "markdown",
   "metadata": {
    "deletable": true,
    "editable": true
   },
   "source": [
    "**BACKGROUND:** Precipitation is usually measured at a point, but there are many problems requiring information about the amount of precipitation falling over an area, such as a drainage basin. The averaging problem is complicated by two factors: First, the measurement points (weather stations) are never spaced evenly apart- they are located wherever the observers happen to be. Second, drainage basins have irregular shapes, thus we need a method that can be applied to areas of any size and shape. \n",
    "\n",
    "Numerous spatial-averaging techniques have been developed over the years. The simplest and quickest way to estimate the average precipitation is to simply take the arithmetic average of all the measurements within an area. This method is straightforward, but it assumes, in effect, that each station contributes equally to the average. Another way is to find a weighted average, formed by weighting the values at each station by some proportion of the total area. Two of these methods are described below."
   ]
  },
  {
   "cell_type": "markdown",
   "metadata": {
    "deletable": true,
    "editable": true
   },
   "source": [
    "### Steps to estimate average depth of rainfall over the drainage basin from isohyetal method.\n",
    "\n",
    "1: Draw the isohyets and calculate the area between each ishohyet.\n",
    "\n",
    "2: Estimate the average depth of rainfall between two successive isohyets as $\\frac{p_i+p_{i+1}}{2}$\n",
    "\n",
    "3: Estimate the weighted average depth of rainfall as weight being area $A_i $ represented between the isohyets.\n",
    "\n",
    "If $ A_1, A_2,.....A_n,$ were successive areas controlled by isohyets, $ p_1 , p_2, p_3......p_n$  and  $p_{n+1}$ the average over the total area R is:\n",
    "\n",
    "## $ R = \\frac{\\sum_{i = 1}^{n} A_i \\frac{p_i + p_{i+1}}{2}}{\\sum_{i = 1}^{n} A_i}$"
   ]
  },
  {
   "cell_type": "markdown",
   "metadata": {
    "deletable": true,
    "editable": true
   },
   "source": [
    "### Steps to estimate the average depth of rainfall over the drainage basin by Thiessen polygon method.\n",
    "\n",
    "1. locate the rain gauges in a drainage basin map and draw a straight line between stations.\n",
    "2. construct the perpendicular bisectors on these connecting lines in such a way that the bisectors enclosed area referred to as Thiessen polygon.\n",
    "3. Multiply the area of each Thiessen polygon with the rain guage value o fthe station enclosed.\n",
    "4. find the total area A of drainage basin\n",
    "5. Determine the average precipitation over the drainage basin by using the following equation.\n",
    "\n",
    "### $R = \\frac{A_1 P_1 + A_2 P_2 + .......+ A_n P_n}{A_1 + A_2 +....+A_n}$"
   ]
  },
  {
   "cell_type": "markdown",
   "metadata": {
    "deletable": true,
    "editable": true
   },
   "source": [
    "### Steps to calculate optimum number of rainguage\n",
    "The decrease in percentage error in rainfall estimation needs increase of rainfall guage stations. The optimum number of rainguage stations, essentially required to guage average rainfall within a resonable limit of error, are determine as under:\n",
    "\n",
    "1. Collect the average annual rainfall data from the stations, say $P_1, P_2,....P_n.$\n",
    "\n",
    "2. Compute the mean rainfall depth $P_{mean}$ fo rthe area or basin as $P_{mean} = \\frac{P_1+P_2+......+P_n}{n}$\n",
    "\n",
    "3. Compute square of standard deviation as: $\\frac{(P_1 -P_{mean})^2 +(P_2 -P_{mean})^2 .......+(P_n -P_{mean})^2}{n}$\n",
    "\n",
    "4. Calculate the coefficient of variation $ (C_v)$ as: $C_v = \\frac{100\\sqrt{S^2}}{P_{mean}}$\n",
    "\n",
    "5. Determine the optimum number of rain guage required $O_N $ so as to limit the percentage error of $P_R$\n",
    "### $ O_N = \\left ( \\frac{C_v}{P_R} \\right )^2 $\n"
   ]
  },
  {
   "cell_type": "markdown",
   "metadata": {
    "deletable": true,
    "editable": true
   },
   "source": [
    "**Training exercise:** 5.1 Draw the Thissen polygon and Isohyetal lines on the given map."
   ]
  },
  {
   "cell_type": "code",
   "execution_count": null,
   "metadata": {
    "collapsed": true,
    "deletable": true,
    "editable": true
   },
   "outputs": [],
   "source": []
  },
  {
   "cell_type": "markdown",
   "metadata": {
    "deletable": true,
    "editable": true
   },
   "source": [
    "**Training exercise: 5.2**\n",
    "Estimate the average depth of rainfall from isohyetal map. [Given: A1 = 60km2, A2 = 50km2, A3 = 25km2, A4 =15km2, A5 = 6km2]"
   ]
  },
  {
   "cell_type": "markdown",
   "metadata": {
    "collapsed": false,
    "deletable": true,
    "editable": true
   },
   "source": [
    "<img src=\"iso.jpg\" width=\"400\" height=\"400\" />"
   ]
  },
  {
   "cell_type": "code",
   "execution_count": 1,
   "metadata": {
    "collapsed": true,
    "deletable": true,
    "editable": true
   },
   "outputs": [],
   "source": [
    "%matplotlib inline\n",
    "import matplotlib.pyplot as plt\n",
    "from openpyxl import load_workbook\n",
    "import pandas as pd\n",
    "import numpy as np\n",
    "import scipy.stats as ss"
   ]
  },
  {
   "cell_type": "code",
   "execution_count": 17,
   "metadata": {
    "collapsed": false
   },
   "outputs": [
    {
     "name": "stdout",
     "output_type": "stream",
     "text": [
      "Average depth of rainfall over this basin by Isohyetal method is  25.83 mm\n"
     ]
    }
   ],
   "source": [
    "# Solution Training exercise: 5.2\n",
    "# Area in KM2\n",
    "A1 = 60\n",
    "A2 = 50\n",
    "A3 = 25\n",
    "A4 = 15\n",
    "A5 = 6\n",
    "P_A1 = (10+20)/2\n",
    "P_A2 = (20+30)/2\n",
    "P_A3 = (30+40)/2\n",
    "P_A4 = (40+50)/2\n",
    "P_A5 = (50+60)/2\n",
    "Avg_pre = round((A1*P_A1 + A2*P_A2 +A3*P_A3+A4*P_A4+A5*P_A5)/(A1+A2+A3+A4+A5),2)\n",
    "print ('Average depth of rainfall over this basin by Isohyetal method is  '+str(Avg_pre) + ' mm')"
   ]
  },
  {
   "cell_type": "markdown",
   "metadata": {
    "deletable": true,
    "editable": true
   },
   "source": [
    "**Training exercise: 5.3** If polygon areas in figure are $ A_1, A_2, A_3, A_4, A_5, A_6 $ are 10, 15, 19,50, 40,30 $km^2$ and rainfall $P_1, P_2, P_3, P_4, P_5, P_6$ are 250, 500, 600, 850, 700, 400 mm respectively, estimate average depth of rainfall from Thiessen polygon method. What is the limitation of this method?\n",
    "\n",
    "<img src=\"this.jpg\" width=\"300\" height=\"200\" />"
   ]
  },
  {
   "cell_type": "code",
   "execution_count": 20,
   "metadata": {
    "collapsed": false,
    "deletable": true,
    "editable": true
   },
   "outputs": [
    {
     "name": "stdout",
     "output_type": "stream",
     "text": [
      "Average depth of rainfall over this basin by Thiessen Polygon method is  633.54 mm\n"
     ]
    }
   ],
   "source": [
    "# Training exercise 5.3 Solution\n",
    "# Area of polygon\n",
    "A1 = 10;A2 = 15; A3 = 19 ; A4 = 50; A5 = 40; A6 = 30\n",
    "#precipitation recorded at each station\n",
    "P1 = 250; P2 = 500 ; P3 = 600; P4 = 850; P5 = 700; P6 = 400\n",
    "# Average depth using Thissen Polygon Method\n",
    "Avg_depth = round((A1*P1 +A2*P2+A3*P3+A4*P4+A5*P5+A6*P6)/(A1+A2+A3+A4+A5+A6),2)\n",
    "print ('Average depth of rainfall over this basin by Thiessen Polygon method is  '+str(Avg_depth) + ' mm')"
   ]
  },
  {
   "cell_type": "markdown",
   "metadata": {
    "deletable": true,
    "editable": true
   },
   "source": [
    "**Training exercise 5.4**\n",
    "\n",
    "Point precipitation data recorded at every 5 minutes during an event with duration of 150 minutes is provided in the first sheets of file rain_int.xlsx.\n",
    "\n",
    "a) Plot the precipitation hyetograph for the given data in a bar graph. \n",
    "*[A hyetograph is the distribution of precipitation (y-axis) as a function of time (x-axis).]*\n",
    "\n",
    "b) Calculate and plot the cumulative precipitation hyetograph. \n",
    "\n",
    "*[To find the cumulative hyetograph, sum up all the numbers up to and including the time you are interested in. For the 5th min (first time interval) the cumulative hyetograph is unchanged (still 0.1 mm). For the second time interval (10 min) the cumulative hyetograph is (0.1 + 1.7 mm). Next interval is (0.1 + 1.7 + 0.5) etc. What does this hyetograph represent?]*\n",
    "\n",
    "c) Calculate the maximum precipitation amount during 5, 10, 30, 60 and 120 minutes. "
   ]
  },
  {
   "cell_type": "code",
   "execution_count": 26,
   "metadata": {
    "collapsed": false,
    "deletable": true,
    "editable": true
   },
   "outputs": [
    {
     "data": {
      "image/png": "[encoded data removed]",
      "text/plain": [
       "<matplotlib.figure.Figure at 0x7f0862cbafd0>"
      ]
     },
     "metadata": {},
     "output_type": "display_data"
    }
   ],
   "source": [
    "# Solution: Training exercise 5.4 (a)\n",
    "wb1 = load_workbook(filename ='rain_int.xlsx')\n",
    "sheet_names = wb1.get_sheet_names()\n",
    "ws1 = wb1.active\n",
    "ppt = [float(cell.value) for row in ws1.iter_rows('B4:B33') for cell in row]\n",
    "time = [cell.value for row in ws1.iter_rows('C4:C33') for cell in row]\n",
    "ppt = np.array(ppt)\n",
    "plt.figure(figsize=(12,4))\n",
    "plt.bar(time,ppt)\n",
    "plt.xticks(time, fontsize = 8)\n",
    "plt.yticks(fontsize = 16)\n",
    "plt.show()"
   ]
  },
  {
   "cell_type": "code",
   "execution_count": 25,
   "metadata": {
    "collapsed": false
   },
   "outputs": [
    {
     "data": {
      "image/png": "[encoded data removed]",
      "text/plain": [
       "<matplotlib.figure.Figure at 0x7f0862dd5208>"
      ]
     },
     "metadata": {},
     "output_type": "display_data"
    }
   ],
   "source": [
    "# Solution: Training exercise 5.4 (b)\n",
    "cum_ppt = np.cumsum(ppt)\n",
    "plt.figure(figsize=(12,4))\n",
    "plt.bar(time,cum_ppt)\n",
    "plt.xticks(time, fontsize = 9)\n",
    "plt.show()"
   ]
  },
  {
   "cell_type": "code",
   "execution_count": 27,
   "metadata": {
    "collapsed": false
   },
   "outputs": [
    {
     "name": "stdout",
     "output_type": "stream",
     "text": [
      "3.8\n"
     ]
    }
   ],
   "source": [
    "# Solution: Training exercise 5.4 (c)\n",
    "# 5 min max precipitation \n",
    "max_5 = round(np.max(ppt),2)\n",
    "print (max_5)"
   ]
  },
  {
   "cell_type": "code",
   "execution_count": 32,
   "metadata": {
    "collapsed": false
   },
   "outputs": [
    {
     "data": {
      "text/plain": [
       "0    6.5\n",
       "dtype: float64"
      ]
     },
     "execution_count": 32,
     "metadata": {},
     "output_type": "execute_result"
    }
   ],
   "source": [
    "ppt= pd.DataFrame(ppt) # Since np array does not have rolling mean \n",
    "time = np.array(time)\n",
    "max_10 = ppt.rolling(center = False, window = 2).sum() \n",
    "max_10.max()"
   ]
  },
  {
   "cell_type": "code",
   "execution_count": 33,
   "metadata": {
    "collapsed": false
   },
   "outputs": [
    {
     "name": "stdout",
     "output_type": "stream",
     "text": [
      "0    15.4\n",
      "dtype: float64\n"
     ]
    }
   ],
   "source": [
    "max_30 = ppt.rolling(center = False, window = 6).sum()\n",
    "print (max_30.max())"
   ]
  },
  {
   "cell_type": "code",
   "execution_count": 34,
   "metadata": {
    "collapsed": false
   },
   "outputs": [
    {
     "name": "stdout",
     "output_type": "stream",
     "text": [
      "0    27.8\n",
      "dtype: float64\n"
     ]
    }
   ],
   "source": [
    "max_60 = ppt.rolling(center = False, window = 12).sum()\n",
    "print (max_60.max())"
   ]
  },
  {
   "cell_type": "markdown",
   "metadata": {
    "deletable": true,
    "editable": true
   },
   "source": [
    "**Training exercise 5.5**\n",
    "\n",
    "Create a histogram for point precipitation data found in rain_int.xls\n",
    "The data looks like this:\n",
    "\n",
    "<img src=\"files/table_1.png\", width=400, height=400 >"
   ]
  },
  {
   "cell_type": "code",
   "execution_count": 42,
   "metadata": {
    "collapsed": false,
    "deletable": true,
    "editable": true
   },
   "outputs": [
    {
     "data": {
      "image/png": "[encoded data removed]",
      "text/plain": [
       "<matplotlib.figure.Figure at 0x7f0862ce1a90>"
      ]
     },
     "metadata": {},
     "output_type": "display_data"
    }
   ],
   "source": [
    "hist = plt.hist(ppt, bins=[0, 1, 2, 3,4])\n",
    "plt.xlabel ('Classes')\n",
    "plt.ylabel('Frequency')\n",
    "plt.title('Histogram for point precipitation data')\n",
    "plt.show()"
   ]
  },
  {
   "cell_type": "markdown",
   "metadata": {
    "deletable": true,
    "editable": true
   },
   "source": [
    "**Training exercise 5.6**\n",
    "\n",
    "Monthly precipitation (mm) data of Blindern for the period (1971-1990) is given in the file Nedb-Blindern-mnd.xlsx, sheets T1.\n",
    "\n",
    "a) Calculate the average precipitation for each month of the year based on data from the entire period (calculate averages for each column). Create a bar graph with months on the x-axis.\n",
    "\n",
    "b) Calculate the standard deviation for each month of the year based on data from the entire period. and comment on your results.\n",
    "\n",
    "c) Calculate the coefficient of variation, CV, for each month. CV = average / standard deviation.\n",
    "\n",
    "d) Calculate the annual precipitation from the given data. Create a line plot (with year on the x-axis) and add a linear trend line. Show equation of the plot.\n",
    "\n",
    "\n",
    "e) Calculate the standard deviation of all the monthly values, and the standard deviation of all the yearly monthly averages. Comment on the difference."
   ]
  },
  {
   "cell_type": "code",
   "execution_count": 54,
   "metadata": {
    "collapsed": false
   },
   "outputs": [
    {
     "data": {
      "image/png": "[encoded data removed]",
      "text/plain": [
       "<matplotlib.figure.Figure at 0x7f0862bfd2b0>"
      ]
     },
     "metadata": {},
     "output_type": "display_data"
    }
   ],
   "source": [
    "# A & B\n",
    "df = pd.ExcelFile('Nedb-Blindern-mnd.xlsx')\n",
    "data = df.parse(header=1,index_col = 0)\n",
    "mean_prec = (data.mean(axis =0))  #Setting axis=0 we take the mean over the columns of data.\n",
    "mon_stds = (data.std(axis =0))\n",
    "\n",
    "month = np.arange(12)\n",
    "plt.bar(month,mean_prec)\n",
    "mon_stds.plot(color = 'r')\n",
    "plt.show()"
   ]
  },
  {
   "cell_type": "code",
   "execution_count": 55,
   "metadata": {
    "collapsed": false
   },
   "outputs": [
    {
     "name": "stdout",
     "output_type": "stream",
     "text": [
      "[ 0.67892575  0.58932144  0.57581133  0.65360622  0.45904672  0.51551827\n",
      "  0.43941068  0.61827162  0.48005688  0.57219723  0.52094343  0.47693587]\n"
     ]
    }
   ],
   "source": [
    "# C\n",
    "## calculating coefficient of variation\n",
    "CV=ss.variation(data, axis=0)\n",
    "print (CV)"
   ]
  },
  {
   "cell_type": "code",
   "execution_count": 56,
   "metadata": {
    "collapsed": false,
    "scrolled": true
   },
   "outputs": [
    {
     "name": "stdout",
     "output_type": "stream",
     "text": [
      "y = 12.82x + -24638.101\n"
     ]
    },
    {
     "data": {
      "image/png": "[encoded data removed]",
      "text/plain": [
       "<matplotlib.figure.Figure at 0x7f0862e78dd8>"
      ]
     },
     "metadata": {},
     "output_type": "display_data"
    }
   ],
   "source": [
    "# D\n",
    "annual_precipitation = data.sum(axis = 1)\n",
    "#creating linear fit for non trended data series\n",
    "Year = data.index\n",
    "fit = np.polyfit(Year, annual_precipitation, deg=1)\n",
    "plt.plot(Year, fit[0] * Year + fit[1], color='red')\n",
    "plt.plot(Year, annual_precipitation)\n",
    "#priting the linear equation of fit\n",
    "print ('y = %.2fx + %.3f'%(fit[0],fit[1]))"
   ]
  },
  {
   "cell_type": "code",
   "execution_count": 71,
   "metadata": {
    "collapsed": false
   },
   "outputs": [
    {
     "name": "stdout",
     "output_type": "stream",
     "text": [
      "Annual and Monthly standard deviation are 126.84 and  17.98 mm respectively\n"
     ]
    }
   ],
   "source": [
    "# E \n",
    "ann_std = round(annual_precipitation.std(),2)\n",
    "monthly_data = data.mean(axis = 0)\n",
    "monthly_std = round(monthly_data.std(),2)\n",
    "print ('Annual and Monthly standard deviation are ' +str(ann_std)+ ' and ',str(monthly_std) + ' mm respectively')"
   ]
  },
  {
   "cell_type": "markdown",
   "metadata": {
    "deletable": true,
    "editable": true
   },
   "source": [
    "**Training Exercise: 5.7**\n",
    "\n",
    "Calculate the optimal number of rain guages in a drainage basin so as to limit the percentage error of rainfall estimation within 8%. The details of station rainfall are:\n",
    "\n",
    "Number of rainguage ststions, n = 8\n",
    "\n",
    "Average rainfall at the stations in mm: 1420, 1230, 985, 852, 785, 600, 550, 534."
   ]
  },
  {
   "cell_type": "code",
   "execution_count": 124,
   "metadata": {
    "collapsed": false,
    "deletable": true,
    "editable": true
   },
   "outputs": [
    {
     "name": "stdout",
     "output_type": "stream",
     "text": [
      "Additional number of rain guage that required is  11.1 or 12\n"
     ]
    }
   ],
   "source": [
    "# Solution 5.7 \n",
    "rain_data = np.array([1420,1230,985,852,785,600,550,534])\n",
    "std_rain_data = rain_data.std()**2\n",
    "cv = (100*np.sqrt(std_rain_data))/rain_data.mean()\n",
    "optimum_rainguage = (cv/8)**2\n",
    "addtitional_required = round((optimum_rainguage - len(rain_data)),1)\n",
    "print ('Additional number of rain guage that required is  ' + str(addtitional_required) + ' or 12')"
   ]
  },
  {
   "cell_type": "markdown",
   "metadata": {
    "deletable": true,
    "editable": true
   },
   "source": [
    "** Training Exercise 5.8**\n",
    "\n",
    "If the standard deviation of annual mean rainfall of the 5 stations was 218 mm in a basin 'A' and mean rainfall over the basin is 1000 mm, how much percent error could be expected during the rainfall estimation?\n"
   ]
  },
  {
   "cell_type": "code",
   "execution_count": 138,
   "metadata": {
    "collapsed": false,
    "deletable": true,
    "editable": true
   },
   "outputs": [
    {
     "name": "stdout",
     "output_type": "stream",
     "text": [
      "Excepted error is equals to 9.7492563819\n"
     ]
    }
   ],
   "source": [
    "# Solution 5.8\n",
    "n = 5\n",
    "p_std = 218**2\n",
    "mean_rainfall = 1000\n",
    "# precentage error ?? \n",
    "Cv =(100*np.sqrt(p_std))/mean_rainfall\n",
    "error = Cv/np.sqrt(n)\n",
    "print ( 'Excepted error is equals to ' + str(error))"
   ]
  },
  {
   "cell_type": "markdown",
   "metadata": {
    "deletable": true,
    "editable": true
   },
   "source": [
    "### Obligatory exercise 5 - Task 4.5 in the textbook (Dingman, 2002)\n",
    "\n",
    "Annual precipitation measured at six stations in the field is given in the Excel sheet (hypo). The catchment area is 269 km2 and the elevation ranges from 311 -1600 m.\n",
    "\n",
    "\n",
    "a) Calculate the total volume of annual precipitation (in volume $(m^3)$) for the whole catchment using the hypsometric method (explanation is given below).\n",
    "\n",
    "\n",
    "b) Calculate the annual precipitation (in volume $(m^3)$) from the basin by arithmetic average method and compare the values."
   ]
  },
  {
   "cell_type": "code",
   "execution_count": null,
   "metadata": {
    "collapsed": true,
    "deletable": true,
    "editable": true
   },
   "outputs": [],
   "source": []
  },
  {
   "cell_type": "markdown",
   "metadata": {
    "deletable": true,
    "editable": true
   },
   "source": [
    "The hypsometric method estimates the areal precipitation by taking into account the catchment elevations. This is important in areas with orographic reinforced precipitation, because the precipitation increases with height. In this exercise we use that precipitation increases linearly with height:\n",
    "\n",
    "p (z) = a + bz, (Equation 1)\n",
    "\n",
    "where p (z) is precipitation at height z.  a and b are regression coefficients, intercept and slope, respectively.\n",
    "In addition to knowing how precipitation increases with altitude we need to know what proportion of the area contained over a given height.\n",
    "\n",
    "A plot of the height z against the area of the catchment above the height A (z) is called a hypsometric curve. \n",
    "\n",
    "\n",
    "**Procedure:**\n",
    "\n",
    "1) Select a height interval Δz and separate the total height difference in the catchment area into H intervals of Δz.\n",
    "\n",
    "2) Determine the percentage of the total area that lies within each height interval, name them ah, where h = 1, 2, …, H\n",
    "\n",
    "3) Find the middle height in each interval, zh and use Equation 1 to estimate $\\hat{p}(z_h) $   precipitation at each height zh.\n",
    "\n",
    "\n",
    "4) Calculate the average precipitation by using the formula given below:\n",
    "\n",
    "\n",
    "### $\\hat{P} = \\sum_{h =1}^{H}\\hat{p}(z_h).a_h$\n"
   ]
  },
  {
   "cell_type": "code",
   "execution_count": 143,
   "metadata": {
    "collapsed": false,
    "deletable": true,
    "editable": true
   },
   "outputs": [],
   "source": [
    "wb = load_workbook(filename ='Nedb-Blindern-mnd.xlsx')\n",
    "sheet_names = wb.get_sheet_names()\n",
    "ws2 = wb.get_sheet_by_name(sheet_names[2])\n",
    "min_alt = [float(cell.value) for row in ws2.iter_rows ('A2:A8') for cell in row]\n",
    "min_alt = np.array(min_alt)\n",
    "max_alt = [float(cell.value) for row in ws2.iter_rows ('B2:B8') for cell in row]\n",
    "max_alt = np.array(max_alt)\n",
    "area_percentage = [float(cell.value) for row in ws2.iter_rows ('C2:C8') for cell in row]\n",
    "area_percentage = np.array(area_percentage)*100"
   ]
  },
  {
   "cell_type": "code",
   "execution_count": 144,
   "metadata": {
    "collapsed": false,
    "deletable": true,
    "editable": true
   },
   "outputs": [],
   "source": [
    "# calculating mean altitude\n",
    "mean_alt = (min_alt+max_alt)/2"
   ]
  },
  {
   "cell_type": "code",
   "execution_count": 145,
   "metadata": {
    "collapsed": true
   },
   "outputs": [],
   "source": [
    "#calculating area in Km2\"\n",
    "area = area_percentage*269/100\n",
    "#area = area*1e6  # area in m 2"
   ]
  },
  {
   "cell_type": "code",
   "execution_count": 146,
   "metadata": {
    "collapsed": true
   },
   "outputs": [],
   "source": [
    "station_altitude = [float(cell.value) for row in ws2.iter_rows ('B11:B16') for cell in row]\n",
    "station_altitude = np.array(station_altitude)\n",
    "station_prec = [float(cell.value) for row in ws2.iter_rows ('C11:C16') for cell in row]\n",
    "station_prec = np.array(station_prec)"
   ]
  },
  {
   "cell_type": "code",
   "execution_count": 147,
   "metadata": {
    "collapsed": false
   },
   "outputs": [
    {
     "name": "stdout",
     "output_type": "stream",
     "text": [
      "y = 0.84x + 936.550\n"
     ]
    },
    {
     "data": {
      "image/png": "[encoded data removed]",
      "text/plain": [
       "<matplotlib.figure.Figure at 0x7f0862c1d358>"
      ]
     },
     "metadata": {},
     "output_type": "display_data"
    }
   ],
   "source": [
    "# calculating regression coefficient for linear equation\n",
    "fit = np.polyfit(station_altitude, station_prec, deg=1)\n",
    "plt.plot(station_altitude, fit[0] * station_altitude + fit[1], color='red')\n",
    "print ('y = %.2fx + %.3f'%(fit[0],fit[1]))"
   ]
  },
  {
   "cell_type": "code",
   "execution_count": 148,
   "metadata": {
    "collapsed": true
   },
   "outputs": [],
   "source": [
    "estimated_prec = 0.84 * mean_alt+936.550  # in mm\n",
    "# convert it in to KM\n",
    "estimated_prec_km = estimated_prec/(10*100*1000)"
   ]
  },
  {
   "cell_type": "code",
   "execution_count": 156,
   "metadata": {
    "collapsed": false
   },
   "outputs": [
    {
     "name": "stdout",
     "output_type": "stream",
     "text": [
      "total volume of annual precipitation (in m3) for the wholecatchment using the hypsometric method = 0.43377416384\n"
     ]
    }
   ],
   "source": [
    "zonal_prec_km3 = estimated_prec_km * area\n",
    "total_volume = sum(zonal_prec_km3 )\n",
    "print ('total volume of annual precipitation (in m3) for the whole' + \n",
    "       'catchment using the hypsometric method = '+ str(total_volume))"
   ]
  },
  {
   "cell_type": "code",
   "execution_count": 150,
   "metadata": {
    "collapsed": false
   },
   "outputs": [
    {
     "data": {
      "text/plain": [
       "0.41694999999999999"
      ]
     },
     "execution_count": 150,
     "metadata": {},
     "output_type": "execute_result"
    }
   ],
   "source": [
    "## calculation by arithmetic average method\n",
    "(np.mean(station_prec)/(10*100*1000))*269"
   ]
  },
  {
   "cell_type": "code",
   "execution_count": null,
   "metadata": {
    "collapsed": true
   },
   "outputs": [],
   "source": []
  }
 ],
 "metadata": {
  "anaconda-cloud": {},
  "kernelspec": {
   "display_name": "Python [Root]",
   "language": "python",
   "name": "Python [Root]"
  },
  "language_info": {
   "codemirror_mode": {
    "name": "ipython",
    "version": 3
   },
   "file_extension": ".py",
   "mimetype": "text/x-python",
   "name": "python",
   "nbconvert_exporter": "python",
   "pygments_lexer": "ipython3",
   "version": "3.5.2"
  }
 },
 "nbformat": 4,
 "nbformat_minor": 0
}
