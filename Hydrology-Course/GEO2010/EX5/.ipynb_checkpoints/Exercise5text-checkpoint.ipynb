{
 "cells": [
  {
   "cell_type": "markdown",
   "metadata": {},
   "source": [
    "### Exercise 5 Geo2010"
   ]
  },
  {
   "cell_type": "markdown",
   "metadata": {},
   "source": [
    "In this exercise we have a file ('Nedb-Blindern-mnd.xlsx') containing the average precipitation for every month at Nedre Blindern from 1971 to 1990. We want to compute the average and standard deviation for every month through the years.  "
   ]
  },
  {
   "cell_type": "markdown",
   "metadata": {},
   "source": [
    "a) Read the data (excluding the years) into a 2-dimensional numpy array using openpyxl. Note that we have 20 rows of data and 12 columns (cell B4:M23). The value in row 5 and column 3, can be obtained in the following way, \n",
    "\n",
    "- val = float((ws.cell(row = 5, column = 3)).value)\n",
    "\n",
    "Keep in mind that when you create an empty 2-dimensional array it indexes from zero, but that the data is in row=4:23 and column=B:M (or 2:13). You must take this into account when you store the data in the array."
   ]
  },
  {
   "cell_type": "markdown",
   "metadata": {},
   "source": [
    "b) Compute the mean and standard deviation of the dataset. Note that you want to take the mean and standard deviation of each column separately, since every column corresponds to a month, i.e column 1 is the data for January.\n",
    "\n",
    "You may want to use:\n",
    "\n",
    "http://docs.scipy.org/doc/numpy-1.10.0/reference/generated/numpy.mean.html\n",
    "http://docs.scipy.org/doc/numpy-1.10.0/reference/generated/numpy.std.html"
   ]
  },
  {
   "cell_type": "code",
   "execution_count": null,
   "metadata": {
    "collapsed": true
   },
   "outputs": [],
   "source": []
  }
 ],
 "metadata": {
  "kernelspec": {
   "display_name": "Python [Root]",
   "language": "python",
   "name": "Python [Root]"
  },
  "language_info": {
   "codemirror_mode": {
    "name": "ipython",
    "version": 3
   },
   "file_extension": ".py",
   "mimetype": "text/x-python",
   "name": "python",
   "nbconvert_exporter": "python",
   "pygments_lexer": "ipython3",
   "version": "3.5.2"
  }
 },
 "nbformat": 4,
 "nbformat_minor": 0
}
