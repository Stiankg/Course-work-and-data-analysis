{
 "cells": [
  {
   "cell_type": "markdown",
   "metadata": {
    "deletable": true,
    "editable": true
   },
   "source": [
    "<h1 align=\"center\">Surface Hydrology</h1>\n",
    "<h2 align=\"center\">GEO2010 Spring 2017</h2>\n",
    "<h3 align = \"center\" > Exercise 5 </h3>\n",
    "\n",
    "#### Date: 2017/02/20\n",
    "Bikas C. Bhattarai, UiO"
   ]
  },
  {
   "cell_type": "markdown",
   "metadata": {
    "deletable": true,
    "editable": true
   },
   "source": [
    "OBJECTIVES: \n",
    "\n",
    "    (a) to estimate average depth of precipitation using isohyetal and Thiessen polygons methods and to compare the values estimated using different methods\n",
    "    \n",
    "    (b) to calculate optimum number of rain guage station\n",
    " \n",
    "    (c) to become familiar with presentation of precipitation data\n",
    "    \n",
    "    (d) to become familiar with some basic statistical concepts"
   ]
  },
  {
   "cell_type": "markdown",
   "metadata": {
    "deletable": true,
    "editable": true
   },
   "source": [
    "**BACKGROUND:** Precipitation is usually measured at a point, but there are many problems requiring information about the amount of precipitation falling over an area, such as a drainage basin. The averaging problem is complicated by two factors: First, the measurement points (weather stations) are never spaced evenly apart- they are located wherever the observers happen to be. Second, drainage basins have irregular shapes, thus we need a method that can be applied to areas of any size and shape. \n",
    "\n",
    "Numerous spatial-averaging techniques have been developed over the years. The simplest and quickest way to estimate the average precipitation is to simply take the arithmetic average of all the measurements within an area. This method is straightforward, but it assumes, in effect, that each station contributes equally to the average. Another way is to find a weighted average, formed by weighting the values at each station by some proportion of the total area. Two of these methods are described below."
   ]
  },
  {
   "cell_type": "markdown",
   "metadata": {
    "deletable": true,
    "editable": true
   },
   "source": [
    "### Steps to estimate average depth of rainfall over the drainage basin from isohyetal method.\n",
    "\n",
    "1: Draw the isohyets and calculate the area between each ishohyet.\n",
    "\n",
    "2: Estimate the average depth of rainfall between two successive isohyets as $\\frac{p_i+p_{i+1}}{2}$\n",
    "\n",
    "3: Estimate the weighted average depth of rainfall as weight being area $A_i $ represented between the isohyets.\n",
    "\n",
    "If $ A_1, A_2,.....A_n,$ were successive areas controlled by isohyets, $ p_1 , p_2, p_3......p_n$  and  $p_{n+1}$ the average over the total area R is:\n",
    "\n",
    "## $ R = \\frac{\\sum_{i = 1}^{n} A_i \\frac{p_i + p_{i+1}}{2}}{\\sum_{i = 1}^{n} A_i}$"
   ]
  },
  {
   "cell_type": "markdown",
   "metadata": {
    "deletable": true,
    "editable": true
   },
   "source": [
    "### Steps to estimate the average depth of rainfall over the drainage basin by Thiessen polygon method.\n",
    "\n",
    "1. locate the rain gauges in a drainage basin map and draw a straight line between stations.\n",
    "2. construct the perpendicular bisectors on these connecting lines in such a way that the bisectors enclosed area referred to as Thiessen polygon.\n",
    "3. Multiply the area of each Thiessen polygon with the rain guage value o fthe station enclosed.\n",
    "4. find the total area A of drainage basin\n",
    "5. Determine the average precipitation over the drainage basin by using the following equation.\n",
    "\n",
    "### $R = \\frac{A_1 P_1 + A_2 P_2 + .......+ A_n P_n}{A_1 + A_2 +....+A_n}$"
   ]
  },
  {
   "cell_type": "markdown",
   "metadata": {
    "deletable": true,
    "editable": true
   },
   "source": [
    "### Steps to calculate optimum number of rainguage\n",
    "The decrease in percentage error in rainfall estimation needs increase of rainfall guage stations. The optimum number of rainguage stations, essentially required to guage average rainfall within a resonable limit of error, are determine as under:\n",
    "\n",
    "1. Collect the average annual rainfall data from the stations, say $P_1, P_2,....P_n.$\n",
    "\n",
    "2. Compute the mean rainfall depth $P_{mean}$ fo rthe area or basin as $P_{mean} = \\frac{P_1+P_2+......+P_n}{n}$\n",
    "\n",
    "3. Compute square of standard deviation as: $\\frac{(P_1 -P_{mean})^2 +(P_2 -P_{mean})^2 .......+(P_n -P_{mean})^2}{n}$\n",
    "\n",
    "4. Calculate the coefficient of variation $ (C_v)$ as: $C_v = \\frac{100\\sqrt{S^2}}{P_{mean}}$\n",
    "\n",
    "5. Determine the optimum number of rain guage required $O_N $ so as to limit the percentage error of $P_R$\n",
    "### $ O_N = \\left ( \\frac{C_v}{P_R} \\right )^2 $\n"
   ]
  },
  {
   "cell_type": "markdown",
   "metadata": {
    "deletable": true,
    "editable": true
   },
   "source": [
    "**Training exercise:** 5.1 Draw the Thissen polygon and Isohyetal lines on the given map."
   ]
  },
  {
   "cell_type": "code",
   "execution_count": null,
   "metadata": {
    "collapsed": true,
    "deletable": true,
    "editable": true
   },
   "outputs": [],
   "source": []
  },
  {
   "cell_type": "markdown",
   "metadata": {
    "deletable": true,
    "editable": true
   },
   "source": [
    "**Training exercise: 5.2**\n",
    "Estimate the average depth of rainfall from isohyetal map. [Given: A1 = 60km2, A2 = 50km2, A3 = 25km2, A4 =15km2, A5 = 6km2]"
   ]
  },
  {
   "cell_type": "markdown",
   "metadata": {
    "collapsed": false,
    "deletable": true,
    "editable": true
   },
   "source": [
    "<img src=\"iso.jpg\" width=\"400\" height=\"400\" />"
   ]
  },
  {
   "cell_type": "code",
   "execution_count": null,
   "metadata": {
    "collapsed": true,
    "deletable": true,
    "editable": true
   },
   "outputs": [],
   "source": []
  },
  {
   "cell_type": "markdown",
   "metadata": {
    "deletable": true,
    "editable": true
   },
   "source": [
    "**Training exercise: 5.3** If polygon areas in figure are $ A_1, A_2, A_3, A_4, A_5, A_6 $ are 10, 15, 19,50, 40,30 $km^2$ and rainfall $P_1, P_2, P_3, P_4, P_5, P_6$ are 250, 500, 600, 850, 700, 400 mm respectively, estimate average depth of rainfall from Thiessen polygon method. What is the limitation of this method?\n",
    "\n",
    "<img src=\"this.jpg\" width=\"300\" height=\"200\" />"
   ]
  },
  {
   "cell_type": "code",
   "execution_count": null,
   "metadata": {
    "collapsed": true,
    "deletable": true,
    "editable": true
   },
   "outputs": [],
   "source": []
  },
  {
   "cell_type": "markdown",
   "metadata": {
    "deletable": true,
    "editable": true
   },
   "source": [
    "**Training exercise 5.4**\n",
    "\n",
    "Point precipitation data recorded at every 5 minutes during an event with duration of 150 minutes is provided in the first sheets of file rain_int.xlsx.\n",
    "\n",
    "a) Plot the precipitation hyetograph for the given data in a bar graph. \n",
    "*[A hyetograph is the distribution of precipitation (y-axis) as a function of time (x-axis).]*\n",
    "\n",
    "b) Calculate and plot the cumulative precipitation hyetograph. \n",
    "\n",
    "*[To find the cumulative hyetograph, sum up all the numbers up to and including the time you are interested in. For the 5th min (first time interval) the cumulative hyetograph is unchanged (still 0.1 mm). For the second time interval (10 min) the cumulative hyetograph is (0.1 + 1.7 mm). Next interval is (0.1 + 1.7 + 0.5) etc. What does this hyetograph represent?]*\n",
    "\n",
    "c) Calculate the maximum precipitation amount during 5, 10, 30, 60 and 120 minutes. "
   ]
  },
  {
   "cell_type": "code",
   "execution_count": null,
   "metadata": {
    "collapsed": true,
    "deletable": true,
    "editable": true
   },
   "outputs": [],
   "source": []
  },
  {
   "cell_type": "markdown",
   "metadata": {
    "deletable": true,
    "editable": true
   },
   "source": [
    "**Training exercise 5.5**\n",
    "\n",
    "Create a histogram for point precipitation data found in rain_int.xls\n",
    "The data looks like this:\n",
    "\n",
    "<img src=\"files/table_1.png\", width=400, height=400 >"
   ]
  },
  {
   "cell_type": "code",
   "execution_count": null,
   "metadata": {
    "collapsed": true,
    "deletable": true,
    "editable": true
   },
   "outputs": [],
   "source": []
  },
  {
   "cell_type": "markdown",
   "metadata": {
    "deletable": true,
    "editable": true
   },
   "source": [
    "**Training exercise 5.6**\n",
    "\n",
    "Monthly precipitation (mm) data of Blindern for the period (1971-1990) is given in the file Nedb-Blindern-mnd.xlsx, sheets T1.\n",
    "\n",
    "a) Calculate the average precipitation for each month of the year based on data from the entire period (calculate averages for each column). Create a bar graph with months on the x-axis.\n",
    "\n",
    "b) Calculate the standard deviation for each month of the year based on data from the entire period. and comment on your results.\n",
    "\n",
    "c) Calculate the coefficient of variation, CV, for each month. CV = average / standard deviation.\n",
    "\n",
    "d) Calculate the annual precipitation from the given data. Create a line plot (with year on the x-axis) and add a linear trend line. Show equation of the plot.\n",
    "\n",
    "\n",
    "e) Calculate the standard deviation of all the monthly values, and the standard deviation of all the yearly monthly averages. Comment on the difference."
   ]
  },
  {
   "cell_type": "code",
   "execution_count": null,
   "metadata": {
    "collapsed": true,
    "deletable": true,
    "editable": true
   },
   "outputs": [],
   "source": []
  },
  {
   "cell_type": "markdown",
   "metadata": {
    "deletable": true,
    "editable": true
   },
   "source": [
    "**Training Exercise: 5.7**\n",
    "\n",
    "Calculate the optimal number of rain guages in a drainage basin so as to limit the percentage error of rainfall estimation within 8%. The details of station rainfall are:\n",
    "\n",
    "Number of rainguage ststions, n = 8\n",
    "\n",
    "Average rainfall at the stations in mm: 120, 1230, 985, 852, 785, 600, 550, 534."
   ]
  },
  {
   "cell_type": "code",
   "execution_count": null,
   "metadata": {
    "collapsed": true,
    "deletable": true,
    "editable": true
   },
   "outputs": [],
   "source": []
  },
  {
   "cell_type": "markdown",
   "metadata": {
    "deletable": true,
    "editable": true
   },
   "source": [
    "** Training Exercise 5.8**\n",
    "\n",
    "If the standard deviation of annual mean rainfall of the 5 stations was 218 mm in a basin 'A' and mean rainfall over the basin is 1000 mm, how much percent error could be expected during the rainfall estimation?\n"
   ]
  },
  {
   "cell_type": "code",
   "execution_count": null,
   "metadata": {
    "collapsed": true,
    "deletable": true,
    "editable": true
   },
   "outputs": [],
   "source": []
  },
  {
   "cell_type": "markdown",
   "metadata": {
    "deletable": true,
    "editable": true
   },
   "source": [
    "### Obligatory exercise 5 - Task 4.5 in the textbook (Dingman, 2002)\n",
    "\n",
    "Annual precipitation measured at six stations in the field is given in the Excel sheet (hypo). The catchment area is 269 km2 and the elevation ranges from 311 -1600 m.\n",
    "\n",
    "\n",
    "a) Calculate the total volume of annual precipitation (in volume $(m^3)$) for the whole catchment using the hypsometric method (explanation is given below).\n",
    "\n",
    "\n",
    "b) Calculate the annual precipitation (in volume $(m^3)$) from the basin by arithmetic average method and compare the values."
   ]
  },
  {
   "cell_type": "code",
   "execution_count": null,
   "metadata": {
    "collapsed": true,
    "deletable": true,
    "editable": true
   },
   "outputs": [],
   "source": []
  },
  {
   "cell_type": "markdown",
   "metadata": {
    "deletable": true,
    "editable": true
   },
   "source": [
    "The hypsometric method estimates the areal precipitation by taking into account the catchment elevations. This is important in areas with orographic reinforced precipitation, because the precipitation increases with height. In this exercise we use that precipitation increases linearly with height:\n",
    "\n",
    "p (z) = a + bz, (Equation 1)\n",
    "\n",
    "where p (z) is precipitation at height z.  a and b are regression coefficients, intercept and slope, respectively.\n",
    "In addition to knowing how precipitation increases with altitude we need to know what proportion of the area contained over a given height.\n",
    "\n",
    "A plot of the height z against the area of the catchment above the height A (z) is called a hypsometric curve. \n",
    "\n",
    "\n",
    "**Procedure:**\n",
    "\n",
    "1) Select a height interval Δz and separate the total height difference in the catchment area into H intervals of Δz.\n",
    "\n",
    "2) Determine the percentage of the total area that lies within each height interval, name them ah, where h = 1, 2, …, H\n",
    "\n",
    "3) Find the middle height in each interval, zh and use Equation 1 to estimate $\\hat{p}(z_h) $   precipitation at each height zh.\n",
    "\n",
    "\n",
    "4) Calculate the average precipitation by using the formula given below:\n",
    "\n",
    "\n",
    "### $\\hat{P} = \\sum_{h =1}^{H}\\hat{p}(z_h).a_h$\n"
   ]
  },
  {
   "cell_type": "code",
   "execution_count": null,
   "metadata": {
    "collapsed": true,
    "deletable": true,
    "editable": true
   },
   "outputs": [],
   "source": []
  },
  {
   "cell_type": "code",
   "execution_count": null,
   "metadata": {
    "collapsed": true,
    "deletable": true,
    "editable": true
   },
   "outputs": [],
   "source": []
  }
 ],
 "metadata": {
  "anaconda-cloud": {},
  "kernelspec": {
   "display_name": "Python [Root]",
   "language": "python",
   "name": "Python [Root]"
  },
  "language_info": {
   "codemirror_mode": {
    "name": "ipython",
    "version": 3
   },
   "file_extension": ".py",
   "mimetype": "text/x-python",
   "name": "python",
   "nbconvert_exporter": "python",
   "pygments_lexer": "ipython3",
   "version": "3.5.2"
  }
 },
 "nbformat": 4,
 "nbformat_minor": 0
}
