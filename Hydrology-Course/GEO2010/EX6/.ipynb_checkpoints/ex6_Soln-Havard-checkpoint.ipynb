{
 "cells": [
  {
   "cell_type": "markdown",
   "metadata": {},
   "source": [
    "## GEO2010, Spring 2017\n",
    "## Obligatory Exercise 6\n",
    "##### Date: 2016/03/02"
   ]
  },
  {
   "cell_type": "code",
   "execution_count": 1,
   "metadata": {
    "collapsed": true
   },
   "outputs": [],
   "source": [
    "from openpyxl import *                                                                                          \n",
    "import numpy as np"
   ]
  },
  {
   "cell_type": "markdown",
   "metadata": {},
   "source": [
    "### Obligatory Exercise 6.1\n",
    "\n",
    "\n",
    "Snow surveyors using a snow tube and thermomter recorded the following data from a snow course on two different dates (temperature was taken at the mid-point of the snow depth to represent the average snowpack temperature):\n",
    "    \n",
    "|2 March 2013|Station 1|Station 2|Station 3|Station 4|Station 5|\n",
    "|--|--|---|---|----|---|\n",
    "|Depth (cm)|92|94|105|93|96|\n",
    "|Water equivalent (cm)|29|30|33|29|32|\n",
    "|Temperature (0C)|-6|-5|-6|-6|-6|\n",
    "\n",
    "\n",
    "|7 March 2013|Station 1| Station 2| Station 3|Station 4| Station 5|\n",
    "|--|---|---|---|---|---|\n",
    "|Depth (cm)|88|89|102|88|91|\n",
    "|Water equivalent (cm)|35|36|40|35|37|\n",
    "|Temperature (0C)|-2|-2|-3|-2|-3|\n",
    "\n",
    "\n",
    "a) Compute the snow density and cold content for both dates.\n",
    "\n",
    "b) How much energy needs to be added to the snowpack before water output begins?\n",
    "\n"
   ]
  },
  {
   "cell_type": "code",
   "execution_count": 43,
   "metadata": {
    "collapsed": false
   },
   "outputs": [],
   "source": [
    "# Read the file:\n",
    "wb = load_workbook(filename ='ex6.xlsx') \n",
    "# Read the work sheet names:\n",
    "sheet_names = wb.get_sheet_names()  \n",
    "# Select the first work sheet\n",
    "ws = wb.get_sheet_by_name(sheet_names[0])"
   ]
  },
  {
   "cell_type": "code",
   "execution_count": 44,
   "metadata": {
    "collapsed": false
   },
   "outputs": [],
   "source": [
    "March_2_Station_names = [cell.value for row in ws.iter_rows('C6:G6') for cell in row] # Read the station names\n",
    "Depth_2March = [float(cell.value) for row in ws.iter_rows('C7:G7') for cell in row]    # Read the snow depth\n",
    "WE_2March = [float(cell.value) for row in ws.iter_rows('C8:G8') for cell in row]    # Read the water equivalent\n",
    "T_2March = [float(cell.value) for row in ws.iter_rows('C9:G9') for cell in row]    # Read the temperature\n",
    "\n",
    "# convert the data into numpy arrays:\n",
    "Depth_2March = np.array(Depth_2March)    #[cm]\n",
    "WE_2March = np.array(WE_2March)    #[cm]\n",
    "T_2March = np.array(T_2March)    #[C]"
   ]
  },
  {
   "cell_type": "code",
   "execution_count": 45,
   "metadata": {
    "collapsed": true
   },
   "outputs": [],
   "source": [
    "# Do the same for the data from March 7:\n",
    "March_7_Station = [cell.value for row in ws.iter_rows('C13:G13') for cell in row]\n",
    "Depth_7March = [float(cell.value) for row in ws.iter_rows('C14:G14') for cell in row]\n",
    "WE_7March = [float(cell.value) for row in ws.iter_rows('C15:G15') for cell in row]\n",
    "T_7march = [float(cell.value) for row in ws.iter_rows('C16:G16') for cell in row]\n",
    "\n",
    "# convert it in to numpy array\n",
    "Depth_7March = np.array(Depth_7March)    #[cm]\n",
    "WE_7March = np.array(WE_7March)    #[cm]\n",
    "T_7March = np.array(T_7march)    #[C]"
   ]
  },
  {
   "cell_type": "markdown",
   "metadata": {},
   "source": [
    "To derive a formula for the snow density, we use the principle of mass conservation, i.e. that the mass of\n",
    "water, $m_w$, equals the mass of snow, $m_s$:\n",
    "\n",
    "$$m_w =m_s$$\n",
    "\n",
    "Then we insert $m = \\rho V$, where $\\rho$ is the density and $V$ is the volume:\n",
    "\n",
    "$$\\rho_w V_w = \\rho_s V_s$$\n",
    "\n",
    "Then we replace the volume with $V=hA$, where $h$ is the height and $A$ is the area:\n",
    "\n",
    "$$\\rho_w h_w A = \\rho_s h_s A$$\n",
    "\n",
    "A is the same for both snow and water, so it cancels out. We can now solve for the density of snow:\n",
    "$$\\rho_s = \\frac{h_w}{h_s} \\rho_w$$"
   ]
  },
  {
   "cell_type": "code",
   "execution_count": 46,
   "metadata": {
    "collapsed": false
   },
   "outputs": [],
   "source": [
    "# Calculate snow density, which equals the snow water equivalent divided \n",
    "# by the snow depth times the density of water (1000 kg/m3)\n",
    "\n",
    "rho_w = 1000  # [Kg/m3] density of water\n",
    "\n",
    "#Density on 2nd march at all stations:\n",
    "Density_2March = WE_2March/Depth_2March*rho_w # [kg/m3] \n",
    "\n",
    "#Density on 7th march at all stations:\n",
    "Density_7March = WE_7March/Depth_7March*rho_w # [kg/m3] "
   ]
  },
  {
   "cell_type": "markdown",
   "metadata": {},
   "source": [
    "The cold content, $Q_{CC}$, is defined as the amount of heat required to raise the temperature of the snow covering one unit of area to the melting point:\n",
    "\n",
    "$$ Q_{CC}=c_i \\frac{m_s}{A}(T-T_{melt}) =c_i \\frac{\\rho_w h_w A}{A}(T-T_{melt})= c_i \\rho_w h_w(T-T_{melt})$$ \n",
    "\n",
    "$c_i = 2102$ J/(kg <sup>o</sup>C) is the specific heat capacity of ice, $T$ is the temperature of the snow and $T=0$ <sup>o</sup>C is the melting point of snow."
   ]
  },
  {
   "cell_type": "code",
   "execution_count": 47,
   "metadata": {
    "collapsed": false
   },
   "outputs": [
    {
     "data": {
      "text/plain": [
       "array([ 3.65748,  3.153  ,  4.16196,  3.65748,  4.03584])"
      ]
     },
     "execution_count": 47,
     "metadata": {},
     "output_type": "execute_result"
    }
   ],
   "source": [
    "# The cold content is defined as the amount of heat required raise the temperature of the snow to the melting point.\n",
    "\n",
    "\n",
    "heatCap_ice = 2102    # [J/(Kg C)] Specific heat capacity of ice\n",
    "T_melt = 0    # [C] Melting point\n",
    "\n",
    "# Calculating for 2nd March. NB: We divide the water equivalent by 100 to convert from cm to m\n",
    "ColdContent_2March = -heatCap_ice * rho_w * (WE_2March/100) * (T_2March- T_melt)#    [J/Kg ]\n",
    "ColdContent_2March = ColdContent_2March/1e6 # [MJ/Kg]\n",
    "ColdContent_2March"
   ]
  },
  {
   "cell_type": "code",
   "execution_count": 48,
   "metadata": {
    "collapsed": false
   },
   "outputs": [
    {
     "data": {
      "text/plain": [
       "array([ 1.4714 ,  1.51344,  2.5224 ,  1.4714 ,  2.33322])"
      ]
     },
     "execution_count": 48,
     "metadata": {},
     "output_type": "execute_result"
    }
   ],
   "source": [
    "# Calculating for 7th March\n",
    "ColdContent_7March = -heatCap_ice*rho_w * (WE_7March/100) * (T_7March- T_melt) # this is in J/Kg \n",
    "ColdContent_7March = ColdContent_7March/1e6 # in MJ/Kg\n",
    "ColdContent_7March"
   ]
  },
  {
   "cell_type": "markdown",
   "metadata": {},
   "source": [
    "## Calculate the energy that needs to be added to the snowpack before water output begins"
   ]
  },
  {
   "cell_type": "markdown",
   "metadata": {},
   "source": [
    "$U_r  = h_{wret} \\cdot \\rho_w \\cdot \\lambda_f $\n",
    "\n",
    "where, \n",
    "\n",
    "$h_{wret} =  \\theta_{ret} \\cdot h_s $  is the liquid water holding capacity of the snow (Eq. 5,23, page. 225 in Dingman), \n",
    "\n",
    "$h_s$ is the  snow depth, \n",
    "\n",
    "$\\theta_{ret} = {3}\\cdot10^{-10}\\cdot \\rho_s^{3.23}  $ is the  maximum volumetric water content (Eq. 5,25, page. 225 in Dingman), \n",
    "\n",
    "$\\rho_s$ is the snow density in kg/m<sup>3</sup> and $\\rho_w$ is the water density in kg/m<sup>3</sup>.\n",
    "\n",
    "$\\lambda_f = 3.34\\cdot10^5 $ J/kg  is the heat of fusion of water, i.e. the heat required to melt one kg of ice.\n",
    "\n",
    "Combining these equations gives:\n",
    "\n",
    "\n",
    "$$ U_r = {3}\\cdot10^{-10}\\cdot \\rho_s^{3.23} \\cdot h_s  \\cdot \\rho_w \\cdot \\lambda_f $$\n"
   ]
  },
  {
   "cell_type": "code",
   "execution_count": 49,
   "metadata": {
    "collapsed": false
   },
   "outputs": [
    {
     "data": {
      "text/plain": [
       "array([ 10843423.,  11531725.,  12257887.,  10585132.,  13553058.])"
      ]
     },
     "execution_count": 49,
     "metadata": {},
     "output_type": "execute_result"
    }
   ],
   "source": [
    "# calculating for 2 march\n",
    "lambda_f = 3.34e5 # latent heat of freezing\n",
    "\n",
    "density = Density_2March\n",
    "depth = Depth_2March\n",
    "# Calculate the heat. NB: convert the snow height to m.:\n",
    "U_r = 3e-10*density**3.23*depth/100*rho_w*lambda_f # - * m * kg/m3* J/kg = J/m^2\n",
    "# Round to the nearest whole digit:\n",
    "U_r = np.round(U_r,0)\n",
    "U_r_2March = U_r\n",
    "U_r_2March"
   ]
  },
  {
   "cell_type": "code",
   "execution_count": 50,
   "metadata": {
    "collapsed": false,
    "scrolled": true
   },
   "outputs": [
    {
     "data": {
      "text/plain": [
       "array([ 21979163.,  23473891.,  24341263.,  21979163.,  24406021.])"
      ]
     },
     "execution_count": 50,
     "metadata": {},
     "output_type": "execute_result"
    }
   ],
   "source": [
    "# first convert snow density in to Kg/m3\n",
    "# calculation for 7th march\n",
    "\n",
    "density = Density_7March\n",
    "depth = Depth_7March\n",
    "# Calculate the heat. NB: convert the snow height to m.:\n",
    "U_r = 3e-10*Density_7March**3.23*Depth_7March/100*rho_w*lambda_f # - * m * kg/m3* J/kg = J/m^2\n",
    "# Round to the nearest whole digit:\n",
    "U_r = np.round(U_r,0)\n",
    "U_r_7March = U_r\n",
    "U_r_7March"
   ]
  },
  {
   "cell_type": "markdown",
   "metadata": {},
   "source": [
    "### Obligatory Exercise 6.2\n",
    "\n",
    "The following snow-tube and temperature data were collected at five stations spaced 30 m apart on the University of New Hampshire baseball field:\n",
    "\n",
    "|31 Janurary| Station 1|Station 2| Station 3|Station 4| Station 5|\n",
    "|---|----|----|----|---|---|\n",
    "|Depth (cm)|20.1|18.3|18.2|16.4|24.5|\n",
    "|Water equivalent (cm)|4.0|2.0|3.0|3.5|4.5|\n",
    "|Temperature (<sup>o</sup>C)| 0.0|0.0|0.0|0.0|-1.0|\n",
    "\n",
    "\n",
    "\n",
    "\n",
    "At station 3, an undisturbed sample of snow measuring 33 cm wide by 50 cm long by 18.2 cm deep was collected in a plastic container with an empty weight of 1284 g. The weight of the container with snow was 6246g.\n",
    "\n",
    "a) Calculate the average depth, density and water equivalent of the snowpack.\n",
    "\n",
    "b) Compare the average density calculation from the snow tube with that calculated from the bulk sample."
   ]
  },
  {
   "cell_type": "code",
   "execution_count": 36,
   "metadata": {
    "collapsed": false
   },
   "outputs": [],
   "source": [
    "##a)\n",
    "# read the data from second sheet\n",
    "ws1 = wb.get_sheet_by_name(sheet_names[1])\n",
    "\n",
    "# Read the value\n",
    "Station = [cell.value for row in ws1.iter_rows('C2:G2') for cell in row]\n",
    "Depth = [float(cell.value) for row in ws1.iter_rows('C3:G3') for cell in row]\n",
    "WE = [float(cell.value) for row in ws1.iter_rows('C4:G4') for cell in row]\n",
    "T = [float(cell.value) for row in ws1.iter_rows('C5:G5') for cell in row]\n",
    "\n",
    "# Convert it in to numpy array\n",
    "Depth = np.array(Depth)    #[cm]\n",
    "WE = np.array(WE)    #[cm]\n",
    "T = np.array(T)    #[C]"
   ]
  },
  {
   "cell_type": "code",
   "execution_count": 37,
   "metadata": {
    "collapsed": false
   },
   "outputs": [
    {
     "name": "stdout",
     "output_type": "stream",
     "text": [
      "Average depth: 19.5 cm\n",
      "Average density: 174.0 kg/m3\n",
      "Average water equivalent: 3.4 cm\n"
     ]
    }
   ],
   "source": [
    "# Calculate the average depth:\n",
    "averageDepth = np.mean(Depth)    #cm\n",
    "# Calculate the snow densities:\n",
    "density = WE/Depth*rho_w\n",
    "# Calculate average density:\n",
    "averageDensity = np.mean(density)\n",
    "# Calculate the average water equivalent\n",
    "averageWE = np.mean(WE)\n",
    "print('Average depth: ' + str(round(averageDepth,1)) + ' cm')\n",
    "print('Average density: ' + str(round(averageDensity,1))+' kg/m3')\n",
    "print('Average water equivalent: ' + str(round(averageWE,1))+' cm')"
   ]
  },
  {
   "cell_type": "code",
   "execution_count": 42,
   "metadata": {
    "collapsed": false
   },
   "outputs": [
    {
     "name": "stdout",
     "output_type": "stream",
     "text": [
      "The density of the bulk sample is 165.2 kg/m3\n"
     ]
    }
   ],
   "source": [
    "##b)\n",
    "# First, calculate the density of the bulk sample:\n",
    "mass = (6246-1284)/1000    #kg\n",
    "volume = 33/100*50/100*18.2/100    #m3\n",
    "bulkDensity = mass/volume    #kg/m3\n",
    "print('The density of the bulk sample is ' + str(round(bulkDensity,1)) + ' kg/m3')"
   ]
  },
  {
   "cell_type": "code",
   "execution_count": null,
   "metadata": {
    "collapsed": true
   },
   "outputs": [],
   "source": []
  }
 ],
 "metadata": {
  "anaconda-cloud": {},
  "kernelspec": {
   "display_name": "Python 3",
   "language": "python",
   "name": "python3"
  },
  "language_info": {
   "codemirror_mode": {
    "name": "ipython",
    "version": 3
   },
   "file_extension": ".py",
   "mimetype": "text/x-python",
   "name": "python",
   "nbconvert_exporter": "python",
   "pygments_lexer": "ipython3",
   "version": "3.5.2"
  }
 },
 "nbformat": 4,
 "nbformat_minor": 0
}
