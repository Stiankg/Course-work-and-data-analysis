{
 "cells": [
  {
   "cell_type": "markdown",
   "metadata": {},
   "source": [
    "## GEO2010- Surface hydrology\n",
    "### Exercise-6\n",
    "#### Date: 2017/03/20\n",
    "\n",
    "** The obligatory exercise must be submitted by 20th March, 2017. You should make the assignment in ipython notebook.**\n"
   ]
  },
  {
   "cell_type": "markdown",
   "metadata": {},
   "source": [
    "Name: \n",
    "\n",
    "Submission date: "
   ]
  },
  {
   "cell_type": "markdown",
   "metadata": {},
   "source": [
    "### Obligatory Exercise 6.1 (Exercise 1 on page 251 in Dingman)\n",
    "\n",
    "\n",
    "Snow surveyors using a snow tube and thermomter recorded the following data from a snow course on two different dates (temperature was taken at the mid-point of the snow depth to represent the average snowpack temperature):\n",
    "    \n",
    "|2 March 2013|Station 1|Station 2|Station 3|Station 4|Station 5|\n",
    "|--|--|---|---|----|---|\n",
    "|Depth (cm)|92|94|105|93|96|\n",
    "|Water equivalent (cm)|29|30|33|29|32|\n",
    "|Temperature (0C)|-6|-5|-6|-6|-6|\n",
    "\n",
    "\n",
    "|7 March 2013|Station 1| Station 2| Station 3|Station 4| Station 5|\n",
    "|--|---|---|---|---|---|\n",
    "|Depth (cm)|88|89|102|88|91|\n",
    "|Water equivalent (cm)|35|36|40|35|37|\n",
    "|Temperature (0C)|-2|-2|-3|-2|-3|\n",
    "\n",
    "a) Compute the snow density and cold content for both dates. \n",
    "\n",
    "#### Tip1: \n",
    "Try to derive a function for the snow density from the principle of mass conservation, i.e. that the mass of snow and its melt water are the same.\n",
    "\n",
    "#### Tip2: \n",
    "The cold content, $Q_{CC}$, is defined as the amount of heat required to raise the temperature of the snow covering one unit of area to the melting point:\n",
    "\n",
    "$$ Q_{CC}=c_i \\frac{m_s}{A}(T-T_{melt}) =c_i \\frac{\\rho_w h_w A}{A}(T-T_{melt})= c_i \\rho_w h_w(T-T_{melt})$$ \n",
    "\n",
    "$c_i = 2102$ J/(kg <sup>o</sup>C) is the specific heat capacity of ice, $T$ is the temperature of the snow and $T=0$ <sup>o</sup>C is the melting point of snow.\n",
    "\n",
    "b) How much energy needs to be added to the snowpack before water output begins?\n",
    "#### Tip:\n",
    "See page 225 in Dingman\n",
    "\n"
   ]
  },
  {
   "cell_type": "markdown",
   "metadata": {},
   "source": [
    "### Python help :\n",
    "The  data in the above table is storred in the file ex6.xlsx. The following commands will help you get the data for 2 March into individual arrays for each variable. You will have to copy and modify it to get the data for 7 March."
   ]
  },
  {
   "cell_type": "code",
   "execution_count": 1,
   "metadata": {
    "collapsed": false
   },
   "outputs": [],
   "source": [
    "from openpyxl import *                                                                                          \n",
    "import numpy as np\n",
    "# Read the file:\n",
    "wb = load_workbook(filename ='ex6.xlsx') \n",
    "# Read the work sheet names:\n",
    "sheet_names = wb.get_sheet_names()  \n",
    "# Select the first work sheet\n",
    "ws = wb.get_sheet_by_name(sheet_names[0])\n",
    "\n",
    "# Read the data into individual variables:\n",
    "March_2_Station_names = [cell.value for row in ws.iter_rows('C6:G6') for cell in row] # Read the station names\n",
    "Depth_2March = [float(cell.value) for row in ws.iter_rows('C7:G7') for cell in row]    # Read the snow depth\n",
    "WE_2March = [float(cell.value) for row in ws.iter_rows('C8:G8') for cell in row]    # Read the water equivalent\n",
    "T_2March = [float(cell.value) for row in ws.iter_rows('C9:G9') for cell in row]    # Read the temperature\n",
    "\n",
    "# convert the data into numpy arrays:\n",
    "Depth_2March = np.array(Depth_2March)    #[cm]\n",
    "WE_2March = np.array(WE_2March)    #[cm]\n",
    "T_2March = np.array(T_2March)    #[C]\n",
    "\n",
    "## Now you do the same for the data from 7th March! \n",
    "# Tip: Open ex6.xlsx and find out in which cells the data can be found"
   ]
  },
  {
   "cell_type": "markdown",
   "metadata": {},
   "source": [
    "### Obligatory Exercise 6.2 (Exercise 2 on page 251 in Dingman)\n",
    "\n",
    "The following snow-tube and temperature data were collected at five stations spaced 30 m apart on the University of New Hampshire baseball field:\n",
    "\n",
    "|31 January| Station 1|Station 2| Station 3|Station 4| Station 5|\n",
    "|---|----|----|----|---|---|\n",
    "|Depth (cm)|20.1|18.3|18.2|16.4|24.5|\n",
    "|Water equivalent (cm)|4.0|2.0|3.0|3.5|4.5|\n",
    "|Temperature (<sup>o</sup>C)| 0.0|0.0|0.0|0.0|-1.0|\n",
    "\n",
    "\n",
    "\n",
    "\n",
    "At station 3, an undisturbed sample of snow measuring 33 cm wide by 50 cm long by 18.2 cm deep was collected in a plastic container with an empty weight of 1284 g. The weight of the container with snow was 6246g.\n",
    "\n",
    "a) Calculate the average depth, density and water equivalent of the snowpack.\n",
    "\n",
    "b) Compare the average density calculation from the snow tube with that calculated from the bulk sample.\n"
   ]
  },
  {
   "cell_type": "markdown",
   "metadata": {},
   "source": [
    "### Python help:\n",
    "The data is storred in the second work sheet of ex6.xlsx. You can read it by using the command\n",
    "ws = wb.get_sheet_by_name(sheet_names[1])"
   ]
  }
 ],
 "metadata": {
  "anaconda-cloud": {},
  "kernelspec": {
   "display_name": "Python 3",
   "language": "python",
   "name": "python3"
  },
  "language_info": {
   "codemirror_mode": {
    "name": "ipython",
    "version": 3
   },
   "file_extension": ".py",
   "mimetype": "text/x-python",
   "name": "python",
   "nbconvert_exporter": "python",
   "pygments_lexer": "ipython3",
   "version": "3.5.2"
  }
 },
 "nbformat": 4,
 "nbformat_minor": 0
}
