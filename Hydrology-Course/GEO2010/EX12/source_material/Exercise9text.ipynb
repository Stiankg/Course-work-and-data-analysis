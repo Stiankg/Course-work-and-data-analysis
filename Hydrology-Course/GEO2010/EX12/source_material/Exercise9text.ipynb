{
 "cells": [
  {
   "cell_type": "markdown",
   "metadata": {},
   "source": [
    "### Exercise9 Geo2010"
   ]
  },
  {
   "cell_type": "markdown",
   "metadata": {},
   "source": [
    "#### Introduction\n",
    "\n",
    "In this exercise we are given the file Sæternbekken.xlsx which contains the annual discharge[$\\frac{m^3}{s}$] from 1972-2007 for Sæternbekken. Note that for some of the years the value is not known and we will have to deal with this in the exercise."
   ]
  },
  {
   "cell_type": "markdown",
   "metadata": {},
   "source": [
    "a) Read the discharge data into a list and convert it to a numpy array.\n",
    "\n",
    "Note: You will first have to read the data as strings and you can use the following script to set NA values to nan (not a number)."
   ]
  },
  {
   "cell_type": "code",
   "execution_count": null,
   "metadata": {
    "collapsed": true
   },
   "outputs": [],
   "source": [
    "#a)\n",
    "from openpyxl import *\n",
    "import numpy as np\n",
    "%matplotlib inline\n",
    "import matplotlib\n",
    "import matplotlib.pyplot as plt\n",
    "from scipy import stats\n",
    "\n",
    "matplotlib.rcParams['figure.figsize'] = (8.0, 8.0) #Set size of inline plot\n",
    "\n",
    "#Read data\n",
    "\n",
    "#After you have read the data, use the following to set all NA's to nan.\n",
    "for i in range(0,len(Q)):\n",
    "    if Q[i] == 'NA':\n",
    "        Q[i] = float('nan')\n",
    "    else:\n",
    "        Q[i] = float(Q[i])\n",
    "Q = np.array(Q)"
   ]
  },
  {
   "cell_type": "markdown",
   "metadata": {},
   "source": [
    "b) Compute the mean, median, mode, standard deviation, variance and the coefficient of variance (std/mean) for the discharge.\n",
    "\n",
    "Note that your discharge contains nan values. Some of numpy statistics functions offers an option which ignores nan values, f. ex np.nanmean(arr1) computes the mean ignoring nan. In order to compute the mode you have to use scipy.mode(arr1). Another way to ignor nan values is the following np.mean(arr1[~np.isnan(arr1)]) and likewise for median and std. "
   ]
  },
  {
   "cell_type": "code",
   "execution_count": 1,
   "metadata": {
    "collapsed": true
   },
   "outputs": [],
   "source": [
    "#b)\n"
   ]
  },
  {
   "cell_type": "markdown",
   "metadata": {},
   "source": [
    "c) Set Q[0] = 0.049 (?). The following code compute a histogram of the discharge."
   ]
  },
  {
   "cell_type": "code",
   "execution_count": null,
   "metadata": {
    "collapsed": true
   },
   "outputs": [],
   "source": [
    "bins = np.linspace(0,0.23,24)\n",
    "Q[0] = 0.049 #Why???\n",
    "\n",
    "#The two next lines determines which how many non nan values there are in Q.\n",
    "F = np.isfinite(Q)\n",
    "nvals = sum(F)\n",
    "\n",
    "n, bins, patches = plt.hist(Q,bins) #Note here that n is a vector which contains the number of occurences in the bins\n",
    "plt.xlabel('Annual discharge, Q[$m^3$/s]')\n",
    "plt.ylabel('Frequency [-]')\n",
    "plt.show()"
   ]
  },
  {
   "cell_type": "markdown",
   "metadata": {
    "collapsed": true
   },
   "source": [
    "Compute the relative frequency $R_n = \\frac{n}{nvals+1}$ and make a bar graph with the relative frequency on the y-axis and the discharge on the x-axis. Use a bar width of 0.005 and let the number of bars be N=len(Rn).\n",
    "\n",
    "An example of how to make a bar graph can be found on the following webpage: http://matplotlib.org/examples/api/barchart_demo.html\n",
    "\n",
    "The above example will also be useful when doing exercise d)."
   ]
  },
  {
   "cell_type": "code",
   "execution_count": 2,
   "metadata": {
    "collapsed": true
   },
   "outputs": [],
   "source": [
    "#c) Make the bar graph here\n"
   ]
  },
  {
   "cell_type": "code",
   "execution_count": null,
   "metadata": {
    "collapsed": true
   },
   "outputs": [],
   "source": [
    "#d) We want to make a bar graph of the cumulative sum and the discharge we computed before. Before the following\n",
    "#is needed\n",
    "\n",
    "F = np.isfinite(Q) #isfinite=isnotnan\n",
    "Q = Q[F] #Redefine Q to only include these values.\n",
    "Q = np.sort(Q) #The sort function sorts a vector to be in ascending order.\n",
    "\n",
    "#Employ Weibull's formula. p=i/(N+1); Note the +1 accounts\n",
    "#for the fact that extreme values may not have occured in our series.\n",
    "\n",
    "N = len(Q)\n",
    "i = np.arange(1,N+1) #??? Why do we need it, cant see it...\n",
    "p = np.divide(i,float(N+1)) #???\n",
    "\n",
    "# To visualize this we need to bin the data.\n",
    "# And calculate the cumulative histogram.\n",
    "# (This the binned version of the Weibull formula so long as we remember\n",
    "# to take the cumulative sum and divide by N+1)."
   ]
  },
  {
   "cell_type": "code",
   "execution_count": 3,
   "metadata": {
    "collapsed": true
   },
   "outputs": [],
   "source": [
    "#Compute the cumulative sum and the relative frequency of the cumulative sum, you can use the n we used\n",
    "#in exercise c).\n",
    "\n",
    "\n",
    "#Finally, combine the results we had before with the cumulative sum into one bar graph.\n",
    "\n",
    "\n"
   ]
  },
  {
   "cell_type": "code",
   "execution_count": null,
   "metadata": {
    "collapsed": true
   },
   "outputs": [],
   "source": []
  }
 ],
 "metadata": {
  "anaconda-cloud": {},
  "kernelspec": {
   "display_name": "Python [conda root]",
   "language": "python",
   "name": "conda-root-py"
  },
  "language_info": {
   "codemirror_mode": {
    "name": "ipython",
    "version": 3
   },
   "file_extension": ".py",
   "mimetype": "text/x-python",
   "name": "python",
   "nbconvert_exporter": "python",
   "pygments_lexer": "ipython3",
   "version": "3.5.2"
  }
 },
 "nbformat": 4,
 "nbformat_minor": 0
}
