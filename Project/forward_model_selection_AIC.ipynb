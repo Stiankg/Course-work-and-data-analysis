{
 "cells": [
  {
   "cell_type": "code",
   "execution_count": 1,
   "metadata": {
    "collapsed": true
   },
   "outputs": [],
   "source": [
    "import itertools\n",
    "import statsmodels.formula.api as smf\n",
    "import numpy as np\n",
    "import pandas as pd"
   ]
  },
  {
   "cell_type": "code",
   "execution_count": null,
   "metadata": {
    "collapsed": true
   },
   "outputs": [],
   "source": [
    "\"\"\"This function is developed for the selection of best linear fit model on the\n",
    "basis of higher R2_adjusted and lowest AIC criteria\n",
    "\n",
    "here: lst are the number of independent variables seperated by space\n",
    "\n",
    "aero_dry is the dependent variable\n",
    "df : panda dataframe with all dependent and independent variables\n",
    "\n",
    "author : Bikas C. Bhattarai\n",
    "         university of Oslo\n",
    "\n",
    "\"\"\"\n",
    "\n",
    "function = np.array([])\n",
    "\n",
    "lst = \"RH SP t2m d2m tcwv wind_dir u10 v10 albedo slp wind_speed\"\n",
    "\n",
    "S = lst.split()\n",
    "for i in range(len(S)+1):\n",
    "    for c in itertools.combinations(S, i):\n",
    "        cc = ''.join(c)\n",
    "        if len(cc) <= 10000:\n",
    "            b = '+'.join(word for word in c)            \n",
    "            fun = 'aero_dry ~'+b  \n",
    "            #print (fun)\n",
    "            \n",
    "            function = np.append(function,fun)\n",
    "         \n",
    "funcg = function[1:]\n",
    "rsquare = np.array([])\n",
    "aic = np.array([])\n",
    "combination = np.array([])\n",
    "for i in funcg:\n",
    "    fg= smf.ols(formula= i, data=df).fit()\n",
    "    aic =np.append(aic,fg.aic)\n",
    "    combination = np.append(combination,i)\n",
    "    rsquare = (np.append(rsquare,fg.rsquared_adj)).round(5)\n",
    "    statistics = pd.DataFrame({'combination': combination,'r_sqrt_adj': rsquare, 'aic':aic})\n",
    "\n",
    "final = statistics.sort_values(by = ['aic'], ascending = False)\n",
    "final"
   ]
  }
 ],
 "metadata": {
  "kernelspec": {
   "display_name": "Python [Root]",
   "language": "python",
   "name": "Python [Root]"
  },
  "language_info": {
   "codemirror_mode": {
    "name": "ipython",
    "version": 3
   },
   "file_extension": ".py",
   "mimetype": "text/x-python",
   "name": "python",
   "nbconvert_exporter": "python",
   "pygments_lexer": "ipython3",
   "version": "3.5.2"
  }
 },
 "nbformat": 4,
 "nbformat_minor": 0
}
