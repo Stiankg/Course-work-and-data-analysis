{
 "cells": [
  {
   "cell_type": "code",
   "execution_count": null,
   "metadata": {
    "collapsed": true
   },
   "outputs": [],
   "source": [
    "from __future__ import unicode_literals\n",
    "import numpy as np\n",
    "import pandas as pd\n",
    "import glob\n",
    "import utm\n",
    "import csv"
   ]
  },
  {
   "cell_type": "code",
   "execution_count": null,
   "metadata": {
    "collapsed": true
   },
   "outputs": [],
   "source": [
    "# converting degree decimal to utm_45\n",
    "\n",
    "'''\n",
    " this code convert cordinates from degree decimal to \n",
    "utm (i.e in meter ). Here meta_info is the file contatining\n",
    "columns 'lat' and 'lon' with coordinates in degree decimal. Finally \n",
    "it adds new columns 'Lat' and 'Lon' in to same datafile and export \n",
    "it into new .csv format\n",
    "\n",
    "author. B.C. Bhattarai,\n",
    "\n",
    "'''\n",
    "\n",
    "meta_f = glob.glob('meta_info.csv')\n",
    "dfs = [pd.read_csv(fp) for fp in meta_f]\n",
    "meta_info = pd.concat(dfs)\n",
    "latitude = np.array([])\n",
    "longitude = np.array([])\n",
    "UZ = np.array([])\n",
    "lat = meta_info['lat']\n",
    "lon = meta_info['lon']\n",
    "\n",
    "for i in np.arange(0,len(lat)):   \n",
    "    Lat,Lon,utm_zone,A = utm.from_latlon(lat[i],lon[i])\n",
    "    \n",
    "    longitude = np.append(longitude,Lon)\n",
    "    latitude = np.append(latitude,Lat)\n",
    "    UZ = np.append(UZ, utm_zone)\n",
    "    \n",
    "        \n",
    "meta_info['Lat'] = latitude.round(2)\n",
    "meta_info['Lon'] = longitude.round(2)\n",
    "meta_info['utm_zone'] = UZ\n",
    "#meta_info.to_csv('utm_coord.csv', index = 1, header = 1)"
   ]
  }
 ],
 "metadata": {
  "anaconda-cloud": {},
  "kernelspec": {
   "display_name": "Python [Root]",
   "language": "python",
   "name": "Python [Root]"
  },
  "language_info": {
   "codemirror_mode": {
    "name": "ipython",
    "version": 3
   },
   "file_extension": ".py",
   "mimetype": "text/x-python",
   "name": "python",
   "nbconvert_exporter": "python",
   "pygments_lexer": "ipython3",
   "version": "3.5.2"
  }
 },
 "nbformat": 4,
 "nbformat_minor": 0
}
