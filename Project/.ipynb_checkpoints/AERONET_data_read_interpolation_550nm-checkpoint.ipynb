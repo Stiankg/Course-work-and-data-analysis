{
 "cells": [
  {
   "cell_type": "markdown",
   "metadata": {},
   "source": [
    "T"
   ]
  },
  {
   "cell_type": "code",
   "execution_count": null,
   "metadata": {
    "collapsed": true
   },
   "outputs": [],
   "source": [
    "file = glob.glob('/home/bikas/Desktop/AOD/AOD_India/AERONET/20*')\n",
    "file.sort()\n",
    "\n",
    "for j in np.arange(len(file)):\n",
    "    \n",
    "    \"\"\"This code can be used to read AERONET data from station and and calculate \n",
    "    AOD at 550nm by using angrosterm component\n",
    "    \n",
    "    output: latitude and longitude\n",
    "            station name\n",
    "            aod at 550 in pandas dataframe\n",
    "    \n",
    "    author: Bikas C. Bhattarai\n",
    "    \"\"\"\n",
    "    \n",
    "    \n",
    "    try:\n",
    "        column = pd.read_table(file[j],sep =  ',', skiprows = 6)\n",
    "    except:\n",
    "        pd.read_table(file[j],sep = '\\\\',skiprows = 6)\n",
    "    col = column.columns\n",
    "    data = pd.read_table(file[j], sep =  ',', skiprows = 7,header =None ,usecols = [*range(0, len(col))])\n",
    "    data = pd.read_table(file[j],sep =  ',', skiprows = 7 ,usecols = [*range(0, 258)],header =None, names =  col)\n",
    "    \n",
    "    date = pd.to_datetime(data['Date(dd-mm-yyyy)'],format = '%d:%m:%Y')\n",
    "    data = data.set_index(date, append= False).drop(['Date(dd-mm-yyyy)'], 1)\n",
    "    lat = data['Site_Latitude(Degrees)'][1]\n",
    "    lon = data['Site_Longitude(Degrees)'][1]\n",
    "    station = linecache.getline(file[j], 2).split()\n",
    "    tau_1 = data['AOD_440nm-Total']\n",
    "    tau_2 = data['AOD_870nm-Total']\n",
    "    lamb_1 = 440\n",
    "    lamb_2 = 870\n",
    "    ang = np.log(tau_1/tau_2)/np.log(lamb_2/lamb_1)\n",
    "    \n",
    "    aod_550 = pd.DataFrame(np.exp(np.log(data['AOD_500nm-Total']) - np.log(550/500)*ang))\n",
    "    aod_550.plot()\n",
    "\n",
    "    plt.title(station)"
   ]
  },
  {
   "cell_type": "code",
   "execution_count": null,
   "metadata": {
    "collapsed": true
   },
   "outputs": [],
   "source": []
  }
 ],
 "metadata": {
  "kernelspec": {
   "display_name": "Python [Root]",
   "language": "python",
   "name": "Python [Root]"
  },
  "language_info": {
   "codemirror_mode": {
    "name": "ipython",
    "version": 3
   },
   "file_extension": ".py",
   "mimetype": "text/x-python",
   "name": "python",
   "nbconvert_exporter": "python",
   "pygments_lexer": "ipython3",
   "version": "3.5.2"
  }
 },
 "nbformat": 4,
 "nbformat_minor": 0
}
