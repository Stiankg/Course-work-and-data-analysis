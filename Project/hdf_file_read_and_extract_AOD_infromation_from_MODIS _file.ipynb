{
 "cells": [
  {
   "cell_type": "code",
   "execution_count": null,
   "metadata": {
    "collapsed": true
   },
   "outputs": [],
   "source": [
    "%matplotlib inline  \n",
    "import pandas as pd\n",
    "import numpy as np\n",
    "import matplotlib as mpl\n",
    "import matplotlib.pyplot as plt\n",
    "import glob\n",
    "from pyhdf import SD\n",
    "import datetime\n",
    "import mpl_toolkits.basemap\n",
    "from mpl_toolkits.basemap import pyproj\n",
    "import shapefile\n",
    "import os,sys\n",
    "from netCDF4 import Dataset\n",
    "from numpy.random import uniform, seed\n",
    "from matplotlib.mlab import griddata"
   ]
  },
  {
   "cell_type": "code",
   "execution_count": null,
   "metadata": {
    "collapsed": true
   },
   "outputs": [],
   "source": [
    "shpFilePath = '/home/bikascb/bikascb/MODIS_hdf/CountryBoundary/Outlinedd.shp'  \n",
    "listx=[]\n",
    "listy=[]\n",
    "test = shapefile.Reader(shpFilePath)\n",
    "for sr in test.shapeRecords():\n",
    "    for xNew,yNew in sr.shape.points:\n",
    "        listx.append(xNew)\n",
    "        listy.append(yNew)\n",
    "        \n",
    "poly = mpl.path.Path(zip(listx,listy))"
   ]
  },
  {
   "cell_type": "markdown",
   "metadata": {},
   "source": [
    "## Reading MODIS .hdf file and clip aod information for shapefile"
   ]
  },
  {
   "cell_type": "code",
   "execution_count": null,
   "metadata": {
    "collapsed": true
   },
   "outputs": [],
   "source": [
    "daily = {}\n",
    "files = glob.glob('MOD04*')\n",
    "files.sort() \n",
    "for f in files:\n",
    "    #jdn = f[10:17]\n",
    "    year = f[10:14]\n",
    "    year = int(float(year))\n",
    "    jdn = f[14:17] # julian day number\n",
    "    jdn = int(float(jdn))\n",
    "    Date = (datetime.datetime(year, 1, 1) + datetime.timedelta(jdn)).strftime(\"%Y%m%d\")\n",
    "    \n",
    "    if daily.has_key(Date):\n",
    "        daily[Date].append(f)\n",
    "    else:\n",
    "        daily[Date] = []\n",
    "        daily[Date].append(f)\n",
    "\n",
    "\n",
    "daily_values = []\n",
    "for DATE in daily.keys():\n",
    "    files = daily[DATE]\n",
    "    \n",
    "    latitude = np.array([])\n",
    "    longitude= np.array([])\n",
    "    aod = np.array([])\n",
    "\n",
    "    \n",
    "    for n in files:\n",
    "        hdf=SD.SD(n)\n",
    "        lat = (hdf.select('Latitude'))[:]\n",
    "        lon = (hdf.select('Longitude'))[:]\n",
    "        sds=hdf.select('Deep_Blue_Aerosol_Optical_Depth_550_Land_Best_Estimate')\n",
    "        \n",
    "        attrs = sds.attributes(full=1)\n",
    "        scale_factor = attrs['scale_factor'][0]  \n",
    "        fv = attrs['_FillValue'][0]\n",
    "        \n",
    "        data=sds.get()\n",
    "        data=data.astype(float)\n",
    "        \n",
    "        data[data == fv] =np.nan\n",
    "        data = np.ma.masked_array(data, np.isnan(data))\n",
    "        data = data*scale_factor\n",
    "        \n",
    "        \n",
    "        longitude = np.append(longitude,lon)\n",
    "        latitude = np.append(latitude,lat)\n",
    "        aod = np.append(aod,data)\n",
    "        \n",
    "        \n",
    "        mask = poly.contains_points(zip(longitude,latitude))\n",
    "        aod_ma = aod [mask]\n",
    "        lat_ma = latitude [mask]\n",
    "        lon_ma = longitude [mask]\n",
    "        \n",
    "    daily_data = {DATE: {'data': aod_ma, 'lon': lon_ma,'lat': lat_ma}}       \n",
    "    for i in daily_data:\n",
    "        daily_values.append(daily_data)\n",
    "\n"
   ]
  },
  {
   "cell_type": "code",
   "execution_count": null,
   "metadata": {
    "collapsed": true
   },
   "outputs": [],
   "source": [
    "dic = {}\n",
    "for item in daily_values:\n",
    "    key = item.keys()\n",
    "    dic.update(item)"
   ]
  },
  {
   "cell_type": "markdown",
   "metadata": {},
   "source": [
    "## Creating netcdf file "
   ]
  },
  {
   "cell_type": "code",
   "execution_count": null,
   "metadata": {
    "collapsed": true
   },
   "outputs": [],
   "source": [
    "root_grp = Dataset('test.nc', 'w')\n",
    "root_grp.description = 'AOD data of 10 km resolution'\n",
    "dates = [] \n",
    "# dimensions\n",
    "root_grp.createDimension('time', None)\n",
    "root_grp.createDimension('lat', 50)\n",
    "root_grp.createDimension('lon', 90)\n",
    "\n",
    "# variables\n",
    "times = root_grp.createVariable('time', 'f8', ('time',))\n",
    "latitudes = root_grp.createVariable('latitude', 'f4', ('lat',))\n",
    "longitudes = root_grp.createVariable('longitude', 'f4', ('lon',))\n",
    "AOD = root_grp.createVariable('AOD', 'f4', ('time', 'lat', 'lon',))\n",
    "AOD.fillvalue = '-9999'\n",
    "AOD.offset = '0.00'\n",
    "AOD.scalefactor = '0.0010000000474974513'\n",
    "AOD.valid_range = '[0, 5000]'\n",
    "\n",
    "#times.unit = \n",
    "\n",
    "# data\n",
    "lats =  np.arange(26, 31, 0.1)\n",
    "lons =  np.arange(80, 89, 0.1)\n",
    "latitudes[:] = lats\n",
    "longitudes[:] = lons\n",
    "\n",
    "l = 0\n",
    "for k in dic.keys():\n",
    "    day = k\n",
    "    \n",
    "    times[l] = day\n",
    "    l = l+1\n",
    "#del x\n",
    "#del y\n",
    "#del z\n",
    "j = 0\n",
    "for i in dic.keys():  \n",
    "    z = dic[i]['data']\n",
    "    x = dic[i]['lon']\n",
    "    y = dic[i]['lat']\n",
    "    # define grid.\n",
    "    xi = lons \n",
    "    yi = lats \n",
    "    # grid the data.\n",
    "    zi = griddata(x, y, z, xi, yi, interp='linear')  \n",
    "    #aod = zi.ravel()\n",
    "    \n",
    "    AOD[j] = zi\n",
    "    j = j+1\n",
    "    \n",
    "root_grp.close()"
   ]
  }
 ],
 "metadata": {
  "anaconda-cloud": {},
  "kernelspec": {
   "display_name": "Python [Root]",
   "language": "python",
   "name": "Python [Root]"
  },
  "language_info": {
   "codemirror_mode": {
    "name": "ipython",
    "version": 3
   },
   "file_extension": ".py",
   "mimetype": "text/x-python",
   "name": "python",
   "nbconvert_exporter": "python",
   "pygments_lexer": "ipython3",
   "version": "3.5.2"
  }
 },
 "nbformat": 4,
 "nbformat_minor": 0
}
