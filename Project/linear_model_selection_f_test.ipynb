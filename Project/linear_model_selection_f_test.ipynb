{
 "cells": [
  {
   "cell_type": "code",
   "execution_count": null,
   "metadata": {
    "collapsed": true
   },
   "outputs": [],
   "source": [
    "import pandas as pd\n",
    "import numpy as np\n",
    "import statsmodels.formula.api as smf\n",
    "import scipy\n",
    "\n",
    "def model_selection(data,response):\n",
    "    \n",
    "    \"\"\"Model developed for setpwise linear model selection\n",
    "    here: \n",
    "        data:     pandas dataframe with dependent and independent variables\n",
    "        response: Column name of dependent variable in data\n",
    "    \n",
    "    selection criteria is based on f-test statistics\n",
    "    \n",
    "    Author : Bikas C. Bhattarai\n",
    "    \"\"\"\n",
    "    \n",
    "    corr = (np.sqrt(data.corr()**2)[response]).to_frame()\n",
    "    matrix = (corr.sort_values(by = response, ascending= False))\n",
    "    mat_ind = matrix.reset_index()\n",
    "    mat_ind['P1'] = [response] * len(matrix)\n",
    "    mat_ind_arr = (mat_ind[['P1','index',response]])[1:]\n",
    "\n",
    "    for i in np.arange(1,len(mat_ind_arr.columns)-1,1):\n",
    "        N = len(data)\n",
    "        conn = '+'\n",
    "        sig = '~'\n",
    "        formula = mat_ind_arr['P1'][1] + sig + mat_ind_arr['index'][i]\n",
    "        model = (smf.ols(formula = formula, data = data).fit())\n",
    "        n1 = model.df_model\n",
    "        r1 = model.rsquared\n",
    "\n",
    "        formula1 = formula +conn + mat_ind_arr['index'][i+1]\n",
    "        model1 = (smf.ols(formula = formula1, data = data).fit())\n",
    "        n2 = model1.df_model\n",
    "        r2 = model1.rsquared\n",
    "        f_test = scipy.stats.f.ppf(q=1-0.05, dfn=N-n2-1, dfd=N-n2-2)\n",
    "        f_crt = ((1-r1)*(N-n2-1))/((1-r2)*(N-n2-2))\n",
    "        if f_crt>f_test:\n",
    "            optimal = formula1\n",
    "    \n",
    "    return ((smf.ols(formula = optimal,data = data).fit()).summary())\n"
   ]
  }
 ],
 "metadata": {
  "kernelspec": {
   "display_name": "Python [Root]",
   "language": "python",
   "name": "Python [Root]"
  },
  "language_info": {
   "codemirror_mode": {
    "name": "ipython",
    "version": 3
   },
   "file_extension": ".py",
   "mimetype": "text/x-python",
   "name": "python",
   "nbconvert_exporter": "python",
   "pygments_lexer": "ipython3",
   "version": "3.5.2"
  }
 },
 "nbformat": 4,
 "nbformat_minor": 0
}
